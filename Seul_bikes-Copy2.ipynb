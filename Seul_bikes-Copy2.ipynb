{
 "cells": [
  {
   "cell_type": "markdown",
   "id": "8507393d",
   "metadata": {},
   "source": [
    "## The Problem Definition"
   ]
  },
  {
   "cell_type": "markdown",
   "id": "bf1911b2",
   "metadata": {},
   "source": [
    "The dataset contains count of public bicycles rented per hour in the Seoul Bike Sharing System, with corresponding weather data and holiday information\n",
    "\n",
    "#### Additional Information\n",
    "\n",
    "Currently Rental bikes are introduced in many urban cities for the enhancement of mobility comfort. It is important to make the rental bike available and accessible to the public at the right time as it lessens the waiting time. Eventually, providing the city with a stable supply of rental bikes becomes a major concern. The crucial part is the prediction of bike count required at each hour for the stable supply of rental bikes. \n",
    "The dataset contains weather information (Temperature, Humidity, Windspeed, Visibility, Dewpoint, Solar radiation, Snowfall, Rainfall), the number of bikes rented per hour and date information. \n",
    "\n",
    "https://archive.ics.uci.edu/dataset/560/seoul+bike+sharing+demand\n",
    "\n"
   ]
  },
  {
   "cell_type": "code",
   "execution_count": 13,
   "id": "3c4ebaa1",
   "metadata": {},
   "outputs": [],
   "source": [
    "# importing\n",
    "import pandas as pd\n",
    "import numpy as np\n",
    "import matplotlib.pyplot as plt \n",
    "import seaborn as sns\n",
    "import chardet\n",
    "import missingno as msno\n",
    "from sklearn.model_selection import train_test_split\n",
    "from sklearn.preprocessing import StandardScaler\n",
    "from sklearn.pipeline import Pipeline\n",
    "from powerbiclient import Report, models\n",
    "from math import log\n"
   ]
  },
  {
   "cell_type": "code",
   "execution_count": 2,
   "id": "2504b8f1",
   "metadata": {},
   "outputs": [
    {
     "name": "stdout",
     "output_type": "stream",
     "text": [
      "Requirement already satisfied: powerbiclient in c:\\users\\recal\\anaconda3\\lib\\site-packages (3.1.0)\n",
      "Requirement already satisfied: ipywidgets>=7.0.0 in c:\\users\\recal\\anaconda3\\lib\\site-packages (from powerbiclient) (7.6.3)\n",
      "Requirement already satisfied: jupyter-ui-poll>=0.1.2 in c:\\users\\recal\\anaconda3\\lib\\site-packages (from powerbiclient) (0.2.2)\n",
      "Requirement already satisfied: msal>=1.8.0 in c:\\users\\recal\\anaconda3\\lib\\site-packages (from powerbiclient) (1.23.0)\n",
      "Requirement already satisfied: requests>=2.25.1 in c:\\users\\recal\\anaconda3\\lib\\site-packages (from powerbiclient) (2.25.1)\n",
      "Requirement already satisfied: pandas in c:\\users\\recal\\anaconda3\\lib\\site-packages (from powerbiclient) (1.2.4)\n",
      "Requirement already satisfied: pyspark in c:\\users\\recal\\anaconda3\\lib\\site-packages (from powerbiclient) (3.4.1)\n",
      "Requirement already satisfied: ipykernel>=4.5.1 in c:\\users\\recal\\anaconda3\\lib\\site-packages (from ipywidgets>=7.0.0->powerbiclient) (5.3.4)\n",
      "Requirement already satisfied: traitlets>=4.3.1 in c:\\users\\recal\\anaconda3\\lib\\site-packages (from ipywidgets>=7.0.0->powerbiclient) (5.0.5)\n",
      "Requirement already satisfied: nbformat>=4.2.0 in c:\\users\\recal\\anaconda3\\lib\\site-packages (from ipywidgets>=7.0.0->powerbiclient) (5.1.3)\n",
      "Requirement already satisfied: widgetsnbextension~=3.5.0 in c:\\users\\recal\\anaconda3\\lib\\site-packages (from ipywidgets>=7.0.0->powerbiclient) (3.5.1)\n",
      "Requirement already satisfied: ipython>=4.0.0 in c:\\users\\recal\\anaconda3\\lib\\site-packages (from ipywidgets>=7.0.0->powerbiclient) (7.22.0)\n",
      "Requirement already satisfied: jupyterlab-widgets>=1.0.0 in c:\\users\\recal\\anaconda3\\lib\\site-packages (from ipywidgets>=7.0.0->powerbiclient) (1.0.0)\n",
      "Requirement already satisfied: PyJWT[crypto]<3,>=1.0.0 in c:\\users\\recal\\anaconda3\\lib\\site-packages (from msal>=1.8.0->powerbiclient) (1.7.1)\n",
      "Requirement already satisfied: cryptography<44,>=0.6 in c:\\users\\recal\\anaconda3\\lib\\site-packages (from msal>=1.8.0->powerbiclient) (3.4.7)\n",
      "Requirement already satisfied: chardet<5,>=3.0.2 in c:\\users\\recal\\anaconda3\\lib\\site-packages (from requests>=2.25.1->powerbiclient) (4.0.0)\n",
      "Requirement already satisfied: idna<3,>=2.5 in c:\\users\\recal\\anaconda3\\lib\\site-packages (from requests>=2.25.1->powerbiclient) (2.10)\n",
      "Requirement already satisfied: urllib3<1.27,>=1.21.1 in c:\\users\\recal\\anaconda3\\lib\\site-packages (from requests>=2.25.1->powerbiclient) (1.26.4)\n",
      "Requirement already satisfied: certifi>=2017.4.17 in c:\\users\\recal\\anaconda3\\lib\\site-packages (from requests>=2.25.1->powerbiclient) (2022.6.15)\n",
      "Requirement already satisfied: python-dateutil>=2.7.3 in c:\\users\\recal\\anaconda3\\lib\\site-packages (from pandas->powerbiclient) (2.8.1)\n",
      "Requirement already satisfied: pytz>=2017.3 in c:\\users\\recal\\anaconda3\\lib\\site-packages (from pandas->powerbiclient) (2021.1)\n",
      "Requirement already satisfied: numpy>=1.16.5 in c:\\users\\recal\\anaconda3\\lib\\site-packages (from pandas->powerbiclient) (1.21.5)\n",
      "Requirement already satisfied: py4j==0.10.9.7 in c:\\users\\recal\\anaconda3\\lib\\site-packages (from pyspark->powerbiclient) (0.10.9.7)\n",
      "Requirement already satisfied: cffi>=1.12 in c:\\users\\recal\\anaconda3\\lib\\site-packages (from cryptography<44,>=0.6->msal>=1.8.0->powerbiclient) (1.14.5)\n",
      "Requirement already satisfied: jupyter-client in c:\\users\\recal\\anaconda3\\lib\\site-packages (from ipykernel>=4.5.1->ipywidgets>=7.0.0->powerbiclient) (6.1.12)\n",
      "Requirement already satisfied: tornado>=4.2 in c:\\users\\recal\\anaconda3\\lib\\site-packages (from ipykernel>=4.5.1->ipywidgets>=7.0.0->powerbiclient) (6.1)\n",
      "Requirement already satisfied: setuptools>=18.5 in c:\\users\\recal\\anaconda3\\lib\\site-packages (from ipython>=4.0.0->ipywidgets>=7.0.0->powerbiclient) (52.0.0.post20210125)\n",
      "Requirement already satisfied: jedi>=0.16 in c:\\users\\recal\\anaconda3\\lib\\site-packages (from ipython>=4.0.0->ipywidgets>=7.0.0->powerbiclient) (0.17.2)\n",
      "Requirement already satisfied: decorator in c:\\users\\recal\\anaconda3\\lib\\site-packages (from ipython>=4.0.0->ipywidgets>=7.0.0->powerbiclient) (5.0.6)\n",
      "Requirement already satisfied: pickleshare in c:\\users\\recal\\anaconda3\\lib\\site-packages (from ipython>=4.0.0->ipywidgets>=7.0.0->powerbiclient) (0.7.5)\n",
      "Requirement already satisfied: prompt-toolkit!=3.0.0,!=3.0.1,<3.1.0,>=2.0.0 in c:\\users\\recal\\anaconda3\\lib\\site-packages (from ipython>=4.0.0->ipywidgets>=7.0.0->powerbiclient) (3.0.17)\n",
      "Requirement already satisfied: pygments in c:\\users\\recal\\anaconda3\\lib\\site-packages (from ipython>=4.0.0->ipywidgets>=7.0.0->powerbiclient) (2.8.1)\n",
      "Requirement already satisfied: backcall in c:\\users\\recal\\anaconda3\\lib\\site-packages (from ipython>=4.0.0->ipywidgets>=7.0.0->powerbiclient) (0.2.0)\n",
      "Requirement already satisfied: colorama in c:\\users\\recal\\anaconda3\\lib\\site-packages (from ipython>=4.0.0->ipywidgets>=7.0.0->powerbiclient) (0.4.4)\n",
      "Requirement already satisfied: ipython-genutils in c:\\users\\recal\\anaconda3\\lib\\site-packages (from nbformat>=4.2.0->ipywidgets>=7.0.0->powerbiclient) (0.2.0)\n",
      "Requirement already satisfied: jsonschema!=2.5.0,>=2.4 in c:\\users\\recal\\anaconda3\\lib\\site-packages (from nbformat>=4.2.0->ipywidgets>=7.0.0->powerbiclient) (3.2.0)\n",
      "Requirement already satisfied: jupyter-core in c:\\users\\recal\\anaconda3\\lib\\site-packages (from nbformat>=4.2.0->ipywidgets>=7.0.0->powerbiclient) (4.7.1)\n",
      "Requirement already satisfied: six>=1.5 in c:\\users\\recal\\anaconda3\\lib\\site-packages (from python-dateutil>=2.7.3->pandas->powerbiclient) (1.15.0)\n",
      "Requirement already satisfied: notebook>=4.4.1 in c:\\users\\recal\\anaconda3\\lib\\site-packages (from widgetsnbextension~=3.5.0->ipywidgets>=7.0.0->powerbiclient) (6.3.0)\n",
      "Requirement already satisfied: pycparser in c:\\users\\recal\\anaconda3\\lib\\site-packages (from cffi>=1.12->cryptography<44,>=0.6->msal>=1.8.0->powerbiclient) (2.20)\n",
      "Requirement already satisfied: parso<0.8.0,>=0.7.0 in c:\\users\\recal\\anaconda3\\lib\\site-packages (from jedi>=0.16->ipython>=4.0.0->ipywidgets>=7.0.0->powerbiclient) (0.7.0)\n",
      "Requirement already satisfied: attrs>=17.4.0 in c:\\users\\recal\\anaconda3\\lib\\site-packages (from jsonschema!=2.5.0,>=2.4->nbformat>=4.2.0->ipywidgets>=7.0.0->powerbiclient) (20.3.0)\n",
      "Requirement already satisfied: pyrsistent>=0.14.0 in c:\\users\\recal\\anaconda3\\lib\\site-packages (from jsonschema!=2.5.0,>=2.4->nbformat>=4.2.0->ipywidgets>=7.0.0->powerbiclient) (0.17.3)\n",
      "Requirement already satisfied: jinja2 in c:\\users\\recal\\anaconda3\\lib\\site-packages (from notebook>=4.4.1->widgetsnbextension~=3.5.0->ipywidgets>=7.0.0->powerbiclient) (2.11.3)\n",
      "Requirement already satisfied: pyzmq>=17 in c:\\users\\recal\\anaconda3\\lib\\site-packages (from notebook>=4.4.1->widgetsnbextension~=3.5.0->ipywidgets>=7.0.0->powerbiclient) (20.0.0)\n",
      "Requirement already satisfied: argon2-cffi in c:\\users\\recal\\anaconda3\\lib\\site-packages (from notebook>=4.4.1->widgetsnbextension~=3.5.0->ipywidgets>=7.0.0->powerbiclient) (20.1.0)\n",
      "Requirement already satisfied: nbconvert in c:\\users\\recal\\anaconda3\\lib\\site-packages (from notebook>=4.4.1->widgetsnbextension~=3.5.0->ipywidgets>=7.0.0->powerbiclient) (6.0.7)\n",
      "Requirement already satisfied: Send2Trash>=1.5.0 in c:\\users\\recal\\anaconda3\\lib\\site-packages (from notebook>=4.4.1->widgetsnbextension~=3.5.0->ipywidgets>=7.0.0->powerbiclient) (1.5.0)\n",
      "Requirement already satisfied: terminado>=0.8.3 in c:\\users\\recal\\anaconda3\\lib\\site-packages (from notebook>=4.4.1->widgetsnbextension~=3.5.0->ipywidgets>=7.0.0->powerbiclient) (0.9.4)\n",
      "Requirement already satisfied: prometheus-client in c:\\users\\recal\\anaconda3\\lib\\site-packages (from notebook>=4.4.1->widgetsnbextension~=3.5.0->ipywidgets>=7.0.0->powerbiclient) (0.10.1)\n",
      "Requirement already satisfied: pywin32>=1.0 in c:\\users\\recal\\anaconda3\\lib\\site-packages (from jupyter-core->nbformat>=4.2.0->ipywidgets>=7.0.0->powerbiclient) (227)\n",
      "Requirement already satisfied: wcwidth in c:\\users\\recal\\anaconda3\\lib\\site-packages (from prompt-toolkit!=3.0.0,!=3.0.1,<3.1.0,>=2.0.0->ipython>=4.0.0->ipywidgets>=7.0.0->powerbiclient) (0.2.5)\n",
      "Requirement already satisfied: pywinpty>=0.5 in c:\\users\\recal\\anaconda3\\lib\\site-packages (from terminado>=0.8.3->notebook>=4.4.1->widgetsnbextension~=3.5.0->ipywidgets>=7.0.0->powerbiclient) (0.5.7)\n",
      "Requirement already satisfied: MarkupSafe>=0.23 in c:\\users\\recal\\anaconda3\\lib\\site-packages (from jinja2->notebook>=4.4.1->widgetsnbextension~=3.5.0->ipywidgets>=7.0.0->powerbiclient) (1.1.1)\n",
      "Requirement already satisfied: mistune<2,>=0.8.1 in c:\\users\\recal\\anaconda3\\lib\\site-packages (from nbconvert->notebook>=4.4.1->widgetsnbextension~=3.5.0->ipywidgets>=7.0.0->powerbiclient) (0.8.4)\n",
      "Requirement already satisfied: jupyterlab-pygments in c:\\users\\recal\\anaconda3\\lib\\site-packages (from nbconvert->notebook>=4.4.1->widgetsnbextension~=3.5.0->ipywidgets>=7.0.0->powerbiclient) (0.1.2)\n",
      "Requirement already satisfied: entrypoints>=0.2.2 in c:\\users\\recal\\anaconda3\\lib\\site-packages (from nbconvert->notebook>=4.4.1->widgetsnbextension~=3.5.0->ipywidgets>=7.0.0->powerbiclient) (0.3)\n",
      "Requirement already satisfied: bleach in c:\\users\\recal\\anaconda3\\lib\\site-packages (from nbconvert->notebook>=4.4.1->widgetsnbextension~=3.5.0->ipywidgets>=7.0.0->powerbiclient) (3.3.0)\n",
      "Requirement already satisfied: pandocfilters>=1.4.1 in c:\\users\\recal\\anaconda3\\lib\\site-packages (from nbconvert->notebook>=4.4.1->widgetsnbextension~=3.5.0->ipywidgets>=7.0.0->powerbiclient) (1.4.3)\n",
      "Requirement already satisfied: testpath in c:\\users\\recal\\anaconda3\\lib\\site-packages (from nbconvert->notebook>=4.4.1->widgetsnbextension~=3.5.0->ipywidgets>=7.0.0->powerbiclient) (0.4.4)\n",
      "Requirement already satisfied: defusedxml in c:\\users\\recal\\anaconda3\\lib\\site-packages (from nbconvert->notebook>=4.4.1->widgetsnbextension~=3.5.0->ipywidgets>=7.0.0->powerbiclient) (0.7.1)\n",
      "Requirement already satisfied: nbclient<0.6.0,>=0.5.0 in c:\\users\\recal\\anaconda3\\lib\\site-packages (from nbconvert->notebook>=4.4.1->widgetsnbextension~=3.5.0->ipywidgets>=7.0.0->powerbiclient) (0.5.3)\n",
      "Requirement already satisfied: async-generator in c:\\users\\recal\\anaconda3\\lib\\site-packages (from nbclient<0.6.0,>=0.5.0->nbconvert->notebook>=4.4.1->widgetsnbextension~=3.5.0->ipywidgets>=7.0.0->powerbiclient) (1.10)\n",
      "Requirement already satisfied: nest-asyncio in c:\\users\\recal\\anaconda3\\lib\\site-packages (from nbclient<0.6.0,>=0.5.0->nbconvert->notebook>=4.4.1->widgetsnbextension~=3.5.0->ipywidgets>=7.0.0->powerbiclient) (1.5.1)\n",
      "Requirement already satisfied: packaging in c:\\users\\recal\\anaconda3\\lib\\site-packages (from bleach->nbconvert->notebook>=4.4.1->widgetsnbextension~=3.5.0->ipywidgets>=7.0.0->powerbiclient) (20.9)\n",
      "Requirement already satisfied: webencodings in c:\\users\\recal\\anaconda3\\lib\\site-packages (from bleach->nbconvert->notebook>=4.4.1->widgetsnbextension~=3.5.0->ipywidgets>=7.0.0->powerbiclient) (0.5.1)\n",
      "Requirement already satisfied: pyparsing>=2.0.2 in c:\\users\\recal\\anaconda3\\lib\\site-packages (from packaging->bleach->nbconvert->notebook>=4.4.1->widgetsnbextension~=3.5.0->ipywidgets>=7.0.0->powerbiclient) (2.4.7)\n",
      "Note: you may need to restart the kernel to use updated packages.\n"
     ]
    },
    {
     "name": "stderr",
     "output_type": "stream",
     "text": [
      "DEPRECATION: pyodbc 4.0.0-unsupported has a non-standard version number. pip 23.3 will enforce this behaviour change. A possible replacement is to upgrade to a newer version of pyodbc or contact the author to suggest that they release a version with a conforming version number. Discussion can be found at https://github.com/pypa/pip/issues/12063\n"
     ]
    }
   ],
   "source": [
    "pip install powerbiclient"
   ]
  },
  {
   "cell_type": "markdown",
   "id": "35190b61",
   "metadata": {},
   "source": [
    "###### Uploading the data"
   ]
  },
  {
   "cell_type": "code",
   "execution_count": 3,
   "id": "2d5be605",
   "metadata": {},
   "outputs": [],
   "source": [
    "# uploading data\n",
    "path = \"seoul_bike_sharing_demand\\SeoulBikeData.csv\""
   ]
  },
  {
   "cell_type": "code",
   "execution_count": 4,
   "id": "59cc8257",
   "metadata": {},
   "outputs": [],
   "source": [
    "df_seoulbike = pd.read_csv(path)"
   ]
  },
  {
   "cell_type": "code",
   "execution_count": 5,
   "id": "c3363da5",
   "metadata": {
    "scrolled": true
   },
   "outputs": [
    {
     "data": {
      "text/html": [
       "<div>\n",
       "<style scoped>\n",
       "    .dataframe tbody tr th:only-of-type {\n",
       "        vertical-align: middle;\n",
       "    }\n",
       "\n",
       "    .dataframe tbody tr th {\n",
       "        vertical-align: top;\n",
       "    }\n",
       "\n",
       "    .dataframe thead th {\n",
       "        text-align: right;\n",
       "    }\n",
       "</style>\n",
       "<table border=\"1\" class=\"dataframe\">\n",
       "  <thead>\n",
       "    <tr style=\"text-align: right;\">\n",
       "      <th></th>\n",
       "      <th>Date</th>\n",
       "      <th>Rented Bike Count</th>\n",
       "      <th>Hour</th>\n",
       "      <th>Temperature(�C)</th>\n",
       "      <th>Humidity(%)</th>\n",
       "      <th>Wind speed (m/s)</th>\n",
       "      <th>Visibility (10m)</th>\n",
       "      <th>Dew point temperature(�C)</th>\n",
       "      <th>Solar Radiation (MJ/m2)</th>\n",
       "      <th>Rainfall(mm)</th>\n",
       "      <th>Snowfall (cm)</th>\n",
       "      <th>Seasons</th>\n",
       "      <th>Holiday</th>\n",
       "      <th>Functioning Day</th>\n",
       "    </tr>\n",
       "  </thead>\n",
       "  <tbody>\n",
       "    <tr>\n",
       "      <th>0</th>\n",
       "      <td>01/12/2017</td>\n",
       "      <td>254</td>\n",
       "      <td>0</td>\n",
       "      <td>-5.2</td>\n",
       "      <td>37</td>\n",
       "      <td>2.2</td>\n",
       "      <td>2000</td>\n",
       "      <td>-17.6</td>\n",
       "      <td>0.0</td>\n",
       "      <td>0.0</td>\n",
       "      <td>0.0</td>\n",
       "      <td>Winter</td>\n",
       "      <td>No Holiday</td>\n",
       "      <td>Yes</td>\n",
       "    </tr>\n",
       "    <tr>\n",
       "      <th>1</th>\n",
       "      <td>01/12/2017</td>\n",
       "      <td>204</td>\n",
       "      <td>1</td>\n",
       "      <td>-5.5</td>\n",
       "      <td>38</td>\n",
       "      <td>0.8</td>\n",
       "      <td>2000</td>\n",
       "      <td>-17.6</td>\n",
       "      <td>0.0</td>\n",
       "      <td>0.0</td>\n",
       "      <td>0.0</td>\n",
       "      <td>Winter</td>\n",
       "      <td>No Holiday</td>\n",
       "      <td>Yes</td>\n",
       "    </tr>\n",
       "    <tr>\n",
       "      <th>2</th>\n",
       "      <td>01/12/2017</td>\n",
       "      <td>173</td>\n",
       "      <td>2</td>\n",
       "      <td>-6.0</td>\n",
       "      <td>39</td>\n",
       "      <td>1.0</td>\n",
       "      <td>2000</td>\n",
       "      <td>-17.7</td>\n",
       "      <td>0.0</td>\n",
       "      <td>0.0</td>\n",
       "      <td>0.0</td>\n",
       "      <td>Winter</td>\n",
       "      <td>No Holiday</td>\n",
       "      <td>Yes</td>\n",
       "    </tr>\n",
       "    <tr>\n",
       "      <th>3</th>\n",
       "      <td>01/12/2017</td>\n",
       "      <td>107</td>\n",
       "      <td>3</td>\n",
       "      <td>-6.2</td>\n",
       "      <td>40</td>\n",
       "      <td>0.9</td>\n",
       "      <td>2000</td>\n",
       "      <td>-17.6</td>\n",
       "      <td>0.0</td>\n",
       "      <td>0.0</td>\n",
       "      <td>0.0</td>\n",
       "      <td>Winter</td>\n",
       "      <td>No Holiday</td>\n",
       "      <td>Yes</td>\n",
       "    </tr>\n",
       "    <tr>\n",
       "      <th>4</th>\n",
       "      <td>01/12/2017</td>\n",
       "      <td>78</td>\n",
       "      <td>4</td>\n",
       "      <td>-6.0</td>\n",
       "      <td>36</td>\n",
       "      <td>2.3</td>\n",
       "      <td>2000</td>\n",
       "      <td>-18.6</td>\n",
       "      <td>0.0</td>\n",
       "      <td>0.0</td>\n",
       "      <td>0.0</td>\n",
       "      <td>Winter</td>\n",
       "      <td>No Holiday</td>\n",
       "      <td>Yes</td>\n",
       "    </tr>\n",
       "    <tr>\n",
       "      <th>...</th>\n",
       "      <td>...</td>\n",
       "      <td>...</td>\n",
       "      <td>...</td>\n",
       "      <td>...</td>\n",
       "      <td>...</td>\n",
       "      <td>...</td>\n",
       "      <td>...</td>\n",
       "      <td>...</td>\n",
       "      <td>...</td>\n",
       "      <td>...</td>\n",
       "      <td>...</td>\n",
       "      <td>...</td>\n",
       "      <td>...</td>\n",
       "      <td>...</td>\n",
       "    </tr>\n",
       "    <tr>\n",
       "      <th>8755</th>\n",
       "      <td>30/11/2018</td>\n",
       "      <td>1003</td>\n",
       "      <td>19</td>\n",
       "      <td>4.2</td>\n",
       "      <td>34</td>\n",
       "      <td>2.6</td>\n",
       "      <td>1894</td>\n",
       "      <td>-10.3</td>\n",
       "      <td>0.0</td>\n",
       "      <td>0.0</td>\n",
       "      <td>0.0</td>\n",
       "      <td>Autumn</td>\n",
       "      <td>No Holiday</td>\n",
       "      <td>Yes</td>\n",
       "    </tr>\n",
       "    <tr>\n",
       "      <th>8756</th>\n",
       "      <td>30/11/2018</td>\n",
       "      <td>764</td>\n",
       "      <td>20</td>\n",
       "      <td>3.4</td>\n",
       "      <td>37</td>\n",
       "      <td>2.3</td>\n",
       "      <td>2000</td>\n",
       "      <td>-9.9</td>\n",
       "      <td>0.0</td>\n",
       "      <td>0.0</td>\n",
       "      <td>0.0</td>\n",
       "      <td>Autumn</td>\n",
       "      <td>No Holiday</td>\n",
       "      <td>Yes</td>\n",
       "    </tr>\n",
       "    <tr>\n",
       "      <th>8757</th>\n",
       "      <td>30/11/2018</td>\n",
       "      <td>694</td>\n",
       "      <td>21</td>\n",
       "      <td>2.6</td>\n",
       "      <td>39</td>\n",
       "      <td>0.3</td>\n",
       "      <td>1968</td>\n",
       "      <td>-9.9</td>\n",
       "      <td>0.0</td>\n",
       "      <td>0.0</td>\n",
       "      <td>0.0</td>\n",
       "      <td>Autumn</td>\n",
       "      <td>No Holiday</td>\n",
       "      <td>Yes</td>\n",
       "    </tr>\n",
       "    <tr>\n",
       "      <th>8758</th>\n",
       "      <td>30/11/2018</td>\n",
       "      <td>712</td>\n",
       "      <td>22</td>\n",
       "      <td>2.1</td>\n",
       "      <td>41</td>\n",
       "      <td>1.0</td>\n",
       "      <td>1859</td>\n",
       "      <td>-9.8</td>\n",
       "      <td>0.0</td>\n",
       "      <td>0.0</td>\n",
       "      <td>0.0</td>\n",
       "      <td>Autumn</td>\n",
       "      <td>No Holiday</td>\n",
       "      <td>Yes</td>\n",
       "    </tr>\n",
       "    <tr>\n",
       "      <th>8759</th>\n",
       "      <td>30/11/2018</td>\n",
       "      <td>584</td>\n",
       "      <td>23</td>\n",
       "      <td>1.9</td>\n",
       "      <td>43</td>\n",
       "      <td>1.3</td>\n",
       "      <td>1909</td>\n",
       "      <td>-9.3</td>\n",
       "      <td>0.0</td>\n",
       "      <td>0.0</td>\n",
       "      <td>0.0</td>\n",
       "      <td>Autumn</td>\n",
       "      <td>No Holiday</td>\n",
       "      <td>Yes</td>\n",
       "    </tr>\n",
       "  </tbody>\n",
       "</table>\n",
       "<p>8760 rows × 14 columns</p>\n",
       "</div>"
      ],
      "text/plain": [
       "            Date  Rented Bike Count  Hour  Temperature(�C)  Humidity(%)  \\\n",
       "0     01/12/2017                254     0             -5.2           37   \n",
       "1     01/12/2017                204     1             -5.5           38   \n",
       "2     01/12/2017                173     2             -6.0           39   \n",
       "3     01/12/2017                107     3             -6.2           40   \n",
       "4     01/12/2017                 78     4             -6.0           36   \n",
       "...          ...                ...   ...              ...          ...   \n",
       "8755  30/11/2018               1003    19              4.2           34   \n",
       "8756  30/11/2018                764    20              3.4           37   \n",
       "8757  30/11/2018                694    21              2.6           39   \n",
       "8758  30/11/2018                712    22              2.1           41   \n",
       "8759  30/11/2018                584    23              1.9           43   \n",
       "\n",
       "      Wind speed (m/s)  Visibility (10m)  Dew point temperature(�C)  \\\n",
       "0                  2.2              2000                      -17.6   \n",
       "1                  0.8              2000                      -17.6   \n",
       "2                  1.0              2000                      -17.7   \n",
       "3                  0.9              2000                      -17.6   \n",
       "4                  2.3              2000                      -18.6   \n",
       "...                ...               ...                        ...   \n",
       "8755               2.6              1894                      -10.3   \n",
       "8756               2.3              2000                       -9.9   \n",
       "8757               0.3              1968                       -9.9   \n",
       "8758               1.0              1859                       -9.8   \n",
       "8759               1.3              1909                       -9.3   \n",
       "\n",
       "      Solar Radiation (MJ/m2)  Rainfall(mm)  Snowfall (cm) Seasons  \\\n",
       "0                         0.0           0.0            0.0  Winter   \n",
       "1                         0.0           0.0            0.0  Winter   \n",
       "2                         0.0           0.0            0.0  Winter   \n",
       "3                         0.0           0.0            0.0  Winter   \n",
       "4                         0.0           0.0            0.0  Winter   \n",
       "...                       ...           ...            ...     ...   \n",
       "8755                      0.0           0.0            0.0  Autumn   \n",
       "8756                      0.0           0.0            0.0  Autumn   \n",
       "8757                      0.0           0.0            0.0  Autumn   \n",
       "8758                      0.0           0.0            0.0  Autumn   \n",
       "8759                      0.0           0.0            0.0  Autumn   \n",
       "\n",
       "         Holiday Functioning Day  \n",
       "0     No Holiday             Yes  \n",
       "1     No Holiday             Yes  \n",
       "2     No Holiday             Yes  \n",
       "3     No Holiday             Yes  \n",
       "4     No Holiday             Yes  \n",
       "...          ...             ...  \n",
       "8755  No Holiday             Yes  \n",
       "8756  No Holiday             Yes  \n",
       "8757  No Holiday             Yes  \n",
       "8758  No Holiday             Yes  \n",
       "8759  No Holiday             Yes  \n",
       "\n",
       "[8760 rows x 14 columns]"
      ]
     },
     "execution_count": 5,
     "metadata": {},
     "output_type": "execute_result"
    }
   ],
   "source": [
    "df_seoulbike"
   ]
  },
  {
   "cell_type": "markdown",
   "id": "47a13377",
   "metadata": {},
   "source": [
    "# Preprocessing"
   ]
  },
  {
   "cell_type": "markdown",
   "id": "3b92ce0c",
   "metadata": {},
   "source": [
    "## __Finding out the enconding type__"
   ]
  },
  {
   "cell_type": "code",
   "execution_count": 6,
   "id": "7783a11e",
   "metadata": {},
   "outputs": [
    {
     "data": {
      "text/plain": [
       "['Date',\n",
       " 'Rented Bike Count',\n",
       " 'Hour',\n",
       " 'Temperature(�C)',\n",
       " 'Humidity(%)',\n",
       " 'Wind speed (m/s)',\n",
       " 'Visibility (10m)',\n",
       " 'Dew point temperature(�C)',\n",
       " 'Solar Radiation (MJ/m2)',\n",
       " 'Rainfall(mm)',\n",
       " 'Snowfall (cm)',\n",
       " 'Seasons',\n",
       " 'Holiday',\n",
       " 'Functioning Day']"
      ]
     },
     "execution_count": 6,
     "metadata": {},
     "output_type": "execute_result"
    }
   ],
   "source": [
    "#Let's clean the varible's names to work with it.\n",
    "df_seoulbike.columns.to_list()"
   ]
  },
  {
   "cell_type": "code",
   "execution_count": 7,
   "id": "06498a73",
   "metadata": {},
   "outputs": [
    {
     "data": {
      "text/plain": [
       "{'encoding': 'ISO-8859-9',\n",
       " 'confidence': 0.7396635956274547,\n",
       " 'language': 'Turkish'}"
      ]
     },
     "execution_count": 7,
     "metadata": {},
     "output_type": "execute_result"
    }
   ],
   "source": [
    "#Ok we have a little suprise here. The symbol �, I don't know o que that means. \n",
    "#So I had to findout what is this to work with pandas.\n",
    "#So I will use the chardet library to help me with this.\n",
    "with open(path, 'rb') as encoding:\n",
    "    r_encoding = chardet.detect(encoding.read(100000))\n",
    "r_encoding\n"
   ]
  },
  {
   "cell_type": "code",
   "execution_count": 8,
   "id": "478567ba",
   "metadata": {},
   "outputs": [],
   "source": [
    "# Good, now I will open the as a dataframe with the right encoding.\n",
    "with open (path,'r',encoding=r_encoding['encoding']) as df_seoulbike:\n",
    "    df_seoulbike= pd.read_csv(df_seoulbike)"
   ]
  },
  {
   "cell_type": "code",
   "execution_count": 9,
   "id": "996e0efe",
   "metadata": {},
   "outputs": [
    {
     "data": {
      "text/plain": [
       "['Date',\n",
       " 'Rented Bike Count',\n",
       " 'Hour',\n",
       " 'Temperature(°C)',\n",
       " 'Humidity(%)',\n",
       " 'Wind speed (m/s)',\n",
       " 'Visibility (10m)',\n",
       " 'Dew point temperature(°C)',\n",
       " 'Solar Radiation (MJ/m2)',\n",
       " 'Rainfall(mm)',\n",
       " 'Snowfall (cm)',\n",
       " 'Seasons',\n",
       " 'Holiday',\n",
       " 'Functioning Day']"
      ]
     },
     "execution_count": 9,
     "metadata": {},
     "output_type": "execute_result"
    }
   ],
   "source": [
    "df_seoulbike.columns.to_list()"
   ]
  },
  {
   "cell_type": "markdown",
   "id": "aea85b16",
   "metadata": {},
   "source": [
    "## __Cleaning the column's name__"
   ]
  },
  {
   "cell_type": "code",
   "execution_count": 10,
   "id": "bdf1be34",
   "metadata": {},
   "outputs": [
    {
     "data": {
      "text/plain": [
       "['date',\n",
       " 'rented_bike_count',\n",
       " 'hour',\n",
       " 'temperature(°c)',\n",
       " 'humidity(%)',\n",
       " 'wind_speed_(m/s)',\n",
       " 'visibility_(10m)',\n",
       " 'dew_point_temperature(°c)',\n",
       " 'solar_radiation_(mj/m2)',\n",
       " 'rainfall(mm)',\n",
       " 'snowfall_(cm)',\n",
       " 'seasons',\n",
       " 'holiday',\n",
       " 'functioning_day']"
      ]
     },
     "execution_count": 10,
     "metadata": {},
     "output_type": "execute_result"
    }
   ],
   "source": [
    "#Building a function to clean the columns name. Taking out the space and putting all in lower case:\n",
    "replacing1= {\" \":\"_\"}\n",
    "\n",
    "\n",
    "cols = [col.strip().lower().replace(\" \",\"_\")\n",
    "       for col in df_seoulbike.columns]\n",
    "\n",
    "df_seoulbike.columns = cols\n",
    "df_seoulbike.columns.to_list()"
   ]
  },
  {
   "cell_type": "markdown",
   "id": "79ddec68",
   "metadata": {},
   "source": [
    "## __Cheking the shape and looking for NAN values__"
   ]
  },
  {
   "cell_type": "code",
   "execution_count": 11,
   "id": "2843ab78",
   "metadata": {},
   "outputs": [
    {
     "data": {
      "text/plain": [
       "(8760, 14)"
      ]
     },
     "execution_count": 11,
     "metadata": {},
     "output_type": "execute_result"
    }
   ],
   "source": [
    "#Let's check the shape of the dataset\n",
    "initial_shape = df_seoulbike.shape\n",
    "initial_shape"
   ]
  },
  {
   "cell_type": "code",
   "execution_count": 12,
   "id": "09308453",
   "metadata": {},
   "outputs": [
    {
     "data": {
      "text/plain": [
       "date                         0\n",
       "rented_bike_count            0\n",
       "hour                         0\n",
       "temperature(°c)              0\n",
       "humidity(%)                  0\n",
       "wind_speed_(m/s)             0\n",
       "visibility_(10m)             0\n",
       "dew_point_temperature(°c)    0\n",
       "solar_radiation_(mj/m2)      0\n",
       "rainfall(mm)                 0\n",
       "snowfall_(cm)                0\n",
       "seasons                      0\n",
       "holiday                      0\n",
       "functioning_day              0\n",
       "dtype: int64"
      ]
     },
     "execution_count": 12,
     "metadata": {},
     "output_type": "execute_result"
    }
   ],
   "source": [
    "#Good, Now let's see if we have some missing values.\n",
    "# So I can do it with a isnan function\n",
    "df_seoulbike.isna().sum()"
   ]
  },
  {
   "cell_type": "code",
   "execution_count": null,
   "id": "d75241a9",
   "metadata": {},
   "outputs": [],
   "source": [
    "#I could also check it with a missingno library\n",
    "msno.matrix(df_seoulbike)"
   ]
  },
  {
   "cell_type": "markdown",
   "id": "4be158e1",
   "metadata": {},
   "source": [
    "## __Checking the data type and casting it if necessary__"
   ]
  },
  {
   "cell_type": "code",
   "execution_count": 14,
   "id": "c93665da",
   "metadata": {},
   "outputs": [
    {
     "name": "stdout",
     "output_type": "stream",
     "text": [
      "<class 'pandas.core.frame.DataFrame'>\n",
      "RangeIndex: 8760 entries, 0 to 8759\n",
      "Data columns (total 14 columns):\n",
      " #   Column                     Non-Null Count  Dtype  \n",
      "---  ------                     --------------  -----  \n",
      " 0   date                       8760 non-null   object \n",
      " 1   rented_bike_count          8760 non-null   int64  \n",
      " 2   hour                       8760 non-null   int64  \n",
      " 3   temperature(°c)            8760 non-null   float64\n",
      " 4   humidity(%)                8760 non-null   int64  \n",
      " 5   wind_speed_(m/s)           8760 non-null   float64\n",
      " 6   visibility_(10m)           8760 non-null   int64  \n",
      " 7   dew_point_temperature(°c)  8760 non-null   float64\n",
      " 8   solar_radiation_(mj/m2)    8760 non-null   float64\n",
      " 9   rainfall(mm)               8760 non-null   float64\n",
      " 10  snowfall_(cm)              8760 non-null   float64\n",
      " 11  seasons                    8760 non-null   object \n",
      " 12  holiday                    8760 non-null   object \n",
      " 13  functioning_day            8760 non-null   object \n",
      "dtypes: float64(6), int64(4), object(4)\n",
      "memory usage: 958.2+ KB\n"
     ]
    }
   ],
   "source": [
    "#Ok really no missing values\n",
    "#Let's ckeck the type of columns do we have\n",
    "df_seoulbike.info()\n"
   ]
  },
  {
   "cell_type": "code",
   "execution_count": null,
   "id": "360ec844",
   "metadata": {},
   "outputs": [],
   "source": []
  },
  {
   "cell_type": "code",
   "execution_count": 15,
   "id": "9c8a8395",
   "metadata": {},
   "outputs": [
    {
     "data": {
      "text/plain": [
       "date                          object\n",
       "rented_bike_count              int64\n",
       "hour                           int64\n",
       "temperature(°c)              float64\n",
       "humidity(%)                    int64\n",
       "wind_speed_(m/s)             float64\n",
       "visibility_(10m)               int64\n",
       "dew_point_temperature(°c)    float64\n",
       "solar_radiation_(mj/m2)      float64\n",
       "rainfall(mm)                 float64\n",
       "snowfall_(cm)                float64\n",
       "seasons                       object\n",
       "holiday                       object\n",
       "functioning_day               object\n",
       "dtype: object"
      ]
     },
     "execution_count": 15,
     "metadata": {},
     "output_type": "execute_result"
    }
   ],
   "source": [
    "df_seoulbike.dtypes"
   ]
  },
  {
   "cell_type": "code",
   "execution_count": 16,
   "id": "dc6122be",
   "metadata": {},
   "outputs": [
    {
     "name": "stdout",
     "output_type": "stream",
     "text": [
      "The int columns type: \n"
     ]
    },
    {
     "data": {
      "text/plain": [
       "['rented_bike_count', 'hour', 'humidity(%)', 'visibility_(10m)']"
      ]
     },
     "execution_count": 16,
     "metadata": {},
     "output_type": "execute_result"
    }
   ],
   "source": [
    "int_type = df_seoulbike.select_dtypes(include = \"integer\").columns.to_list()\n",
    "float_type = df_seoulbike.select_dtypes(include = \"float\").columns.to_list()\n",
    "object_type = df_seoulbike.select_dtypes(include = \"object\").columns.to_list()\n",
    "\n",
    "print(\"The int columns type: \")\n",
    "int_type\n",
    "\n"
   ]
  },
  {
   "cell_type": "code",
   "execution_count": 17,
   "id": "b37d0922",
   "metadata": {},
   "outputs": [
    {
     "data": {
      "text/html": [
       "<div>\n",
       "<style scoped>\n",
       "    .dataframe tbody tr th:only-of-type {\n",
       "        vertical-align: middle;\n",
       "    }\n",
       "\n",
       "    .dataframe tbody tr th {\n",
       "        vertical-align: top;\n",
       "    }\n",
       "\n",
       "    .dataframe thead th {\n",
       "        text-align: right;\n",
       "    }\n",
       "</style>\n",
       "<table border=\"1\" class=\"dataframe\">\n",
       "  <thead>\n",
       "    <tr style=\"text-align: right;\">\n",
       "      <th></th>\n",
       "      <th>rented_bike_count</th>\n",
       "      <th>hour</th>\n",
       "      <th>humidity(%)</th>\n",
       "      <th>visibility_(10m)</th>\n",
       "    </tr>\n",
       "  </thead>\n",
       "  <tbody>\n",
       "    <tr>\n",
       "      <th>0</th>\n",
       "      <td>254</td>\n",
       "      <td>0</td>\n",
       "      <td>37</td>\n",
       "      <td>2000</td>\n",
       "    </tr>\n",
       "    <tr>\n",
       "      <th>1</th>\n",
       "      <td>204</td>\n",
       "      <td>1</td>\n",
       "      <td>38</td>\n",
       "      <td>2000</td>\n",
       "    </tr>\n",
       "    <tr>\n",
       "      <th>2</th>\n",
       "      <td>173</td>\n",
       "      <td>2</td>\n",
       "      <td>39</td>\n",
       "      <td>2000</td>\n",
       "    </tr>\n",
       "    <tr>\n",
       "      <th>3</th>\n",
       "      <td>107</td>\n",
       "      <td>3</td>\n",
       "      <td>40</td>\n",
       "      <td>2000</td>\n",
       "    </tr>\n",
       "    <tr>\n",
       "      <th>4</th>\n",
       "      <td>78</td>\n",
       "      <td>4</td>\n",
       "      <td>36</td>\n",
       "      <td>2000</td>\n",
       "    </tr>\n",
       "    <tr>\n",
       "      <th>...</th>\n",
       "      <td>...</td>\n",
       "      <td>...</td>\n",
       "      <td>...</td>\n",
       "      <td>...</td>\n",
       "    </tr>\n",
       "    <tr>\n",
       "      <th>8755</th>\n",
       "      <td>1003</td>\n",
       "      <td>19</td>\n",
       "      <td>34</td>\n",
       "      <td>1894</td>\n",
       "    </tr>\n",
       "    <tr>\n",
       "      <th>8756</th>\n",
       "      <td>764</td>\n",
       "      <td>20</td>\n",
       "      <td>37</td>\n",
       "      <td>2000</td>\n",
       "    </tr>\n",
       "    <tr>\n",
       "      <th>8757</th>\n",
       "      <td>694</td>\n",
       "      <td>21</td>\n",
       "      <td>39</td>\n",
       "      <td>1968</td>\n",
       "    </tr>\n",
       "    <tr>\n",
       "      <th>8758</th>\n",
       "      <td>712</td>\n",
       "      <td>22</td>\n",
       "      <td>41</td>\n",
       "      <td>1859</td>\n",
       "    </tr>\n",
       "    <tr>\n",
       "      <th>8759</th>\n",
       "      <td>584</td>\n",
       "      <td>23</td>\n",
       "      <td>43</td>\n",
       "      <td>1909</td>\n",
       "    </tr>\n",
       "  </tbody>\n",
       "</table>\n",
       "<p>8760 rows × 4 columns</p>\n",
       "</div>"
      ],
      "text/plain": [
       "      rented_bike_count  hour  humidity(%)  visibility_(10m)\n",
       "0                   254     0           37              2000\n",
       "1                   204     1           38              2000\n",
       "2                   173     2           39              2000\n",
       "3                   107     3           40              2000\n",
       "4                    78     4           36              2000\n",
       "...                 ...   ...          ...               ...\n",
       "8755               1003    19           34              1894\n",
       "8756                764    20           37              2000\n",
       "8757                694    21           39              1968\n",
       "8758                712    22           41              1859\n",
       "8759                584    23           43              1909\n",
       "\n",
       "[8760 rows x 4 columns]"
      ]
     },
     "execution_count": 17,
     "metadata": {},
     "output_type": "execute_result"
    }
   ],
   "source": [
    "df_seoulbike.select_dtypes(include = \"integer\")"
   ]
  },
  {
   "cell_type": "code",
   "execution_count": 18,
   "id": "c9d5b567",
   "metadata": {},
   "outputs": [
    {
     "name": "stdout",
     "output_type": "stream",
     "text": [
      "The float columns type: \n"
     ]
    },
    {
     "data": {
      "text/plain": [
       "['temperature(°c)',\n",
       " 'wind_speed_(m/s)',\n",
       " 'dew_point_temperature(°c)',\n",
       " 'solar_radiation_(mj/m2)',\n",
       " 'rainfall(mm)',\n",
       " 'snowfall_(cm)']"
      ]
     },
     "execution_count": 18,
     "metadata": {},
     "output_type": "execute_result"
    }
   ],
   "source": [
    "print(\"The float columns type: \")\n",
    "float_type"
   ]
  },
  {
   "cell_type": "code",
   "execution_count": 19,
   "id": "b9247862",
   "metadata": {},
   "outputs": [
    {
     "data": {
      "text/html": [
       "<div>\n",
       "<style scoped>\n",
       "    .dataframe tbody tr th:only-of-type {\n",
       "        vertical-align: middle;\n",
       "    }\n",
       "\n",
       "    .dataframe tbody tr th {\n",
       "        vertical-align: top;\n",
       "    }\n",
       "\n",
       "    .dataframe thead th {\n",
       "        text-align: right;\n",
       "    }\n",
       "</style>\n",
       "<table border=\"1\" class=\"dataframe\">\n",
       "  <thead>\n",
       "    <tr style=\"text-align: right;\">\n",
       "      <th></th>\n",
       "      <th>temperature(°c)</th>\n",
       "      <th>wind_speed_(m/s)</th>\n",
       "      <th>dew_point_temperature(°c)</th>\n",
       "      <th>solar_radiation_(mj/m2)</th>\n",
       "      <th>rainfall(mm)</th>\n",
       "      <th>snowfall_(cm)</th>\n",
       "    </tr>\n",
       "  </thead>\n",
       "  <tbody>\n",
       "    <tr>\n",
       "      <th>0</th>\n",
       "      <td>-5.2</td>\n",
       "      <td>2.2</td>\n",
       "      <td>-17.6</td>\n",
       "      <td>0.0</td>\n",
       "      <td>0.0</td>\n",
       "      <td>0.0</td>\n",
       "    </tr>\n",
       "    <tr>\n",
       "      <th>1</th>\n",
       "      <td>-5.5</td>\n",
       "      <td>0.8</td>\n",
       "      <td>-17.6</td>\n",
       "      <td>0.0</td>\n",
       "      <td>0.0</td>\n",
       "      <td>0.0</td>\n",
       "    </tr>\n",
       "    <tr>\n",
       "      <th>2</th>\n",
       "      <td>-6.0</td>\n",
       "      <td>1.0</td>\n",
       "      <td>-17.7</td>\n",
       "      <td>0.0</td>\n",
       "      <td>0.0</td>\n",
       "      <td>0.0</td>\n",
       "    </tr>\n",
       "    <tr>\n",
       "      <th>3</th>\n",
       "      <td>-6.2</td>\n",
       "      <td>0.9</td>\n",
       "      <td>-17.6</td>\n",
       "      <td>0.0</td>\n",
       "      <td>0.0</td>\n",
       "      <td>0.0</td>\n",
       "    </tr>\n",
       "    <tr>\n",
       "      <th>4</th>\n",
       "      <td>-6.0</td>\n",
       "      <td>2.3</td>\n",
       "      <td>-18.6</td>\n",
       "      <td>0.0</td>\n",
       "      <td>0.0</td>\n",
       "      <td>0.0</td>\n",
       "    </tr>\n",
       "    <tr>\n",
       "      <th>...</th>\n",
       "      <td>...</td>\n",
       "      <td>...</td>\n",
       "      <td>...</td>\n",
       "      <td>...</td>\n",
       "      <td>...</td>\n",
       "      <td>...</td>\n",
       "    </tr>\n",
       "    <tr>\n",
       "      <th>8755</th>\n",
       "      <td>4.2</td>\n",
       "      <td>2.6</td>\n",
       "      <td>-10.3</td>\n",
       "      <td>0.0</td>\n",
       "      <td>0.0</td>\n",
       "      <td>0.0</td>\n",
       "    </tr>\n",
       "    <tr>\n",
       "      <th>8756</th>\n",
       "      <td>3.4</td>\n",
       "      <td>2.3</td>\n",
       "      <td>-9.9</td>\n",
       "      <td>0.0</td>\n",
       "      <td>0.0</td>\n",
       "      <td>0.0</td>\n",
       "    </tr>\n",
       "    <tr>\n",
       "      <th>8757</th>\n",
       "      <td>2.6</td>\n",
       "      <td>0.3</td>\n",
       "      <td>-9.9</td>\n",
       "      <td>0.0</td>\n",
       "      <td>0.0</td>\n",
       "      <td>0.0</td>\n",
       "    </tr>\n",
       "    <tr>\n",
       "      <th>8758</th>\n",
       "      <td>2.1</td>\n",
       "      <td>1.0</td>\n",
       "      <td>-9.8</td>\n",
       "      <td>0.0</td>\n",
       "      <td>0.0</td>\n",
       "      <td>0.0</td>\n",
       "    </tr>\n",
       "    <tr>\n",
       "      <th>8759</th>\n",
       "      <td>1.9</td>\n",
       "      <td>1.3</td>\n",
       "      <td>-9.3</td>\n",
       "      <td>0.0</td>\n",
       "      <td>0.0</td>\n",
       "      <td>0.0</td>\n",
       "    </tr>\n",
       "  </tbody>\n",
       "</table>\n",
       "<p>8760 rows × 6 columns</p>\n",
       "</div>"
      ],
      "text/plain": [
       "      temperature(°c)  wind_speed_(m/s)  dew_point_temperature(°c)  \\\n",
       "0                -5.2               2.2                      -17.6   \n",
       "1                -5.5               0.8                      -17.6   \n",
       "2                -6.0               1.0                      -17.7   \n",
       "3                -6.2               0.9                      -17.6   \n",
       "4                -6.0               2.3                      -18.6   \n",
       "...               ...               ...                        ...   \n",
       "8755              4.2               2.6                      -10.3   \n",
       "8756              3.4               2.3                       -9.9   \n",
       "8757              2.6               0.3                       -9.9   \n",
       "8758              2.1               1.0                       -9.8   \n",
       "8759              1.9               1.3                       -9.3   \n",
       "\n",
       "      solar_radiation_(mj/m2)  rainfall(mm)  snowfall_(cm)  \n",
       "0                         0.0           0.0            0.0  \n",
       "1                         0.0           0.0            0.0  \n",
       "2                         0.0           0.0            0.0  \n",
       "3                         0.0           0.0            0.0  \n",
       "4                         0.0           0.0            0.0  \n",
       "...                       ...           ...            ...  \n",
       "8755                      0.0           0.0            0.0  \n",
       "8756                      0.0           0.0            0.0  \n",
       "8757                      0.0           0.0            0.0  \n",
       "8758                      0.0           0.0            0.0  \n",
       "8759                      0.0           0.0            0.0  \n",
       "\n",
       "[8760 rows x 6 columns]"
      ]
     },
     "execution_count": 19,
     "metadata": {},
     "output_type": "execute_result"
    }
   ],
   "source": [
    "df_seoulbike.select_dtypes(include = \"float\")"
   ]
  },
  {
   "cell_type": "code",
   "execution_count": 20,
   "id": "7bf24763",
   "metadata": {},
   "outputs": [
    {
     "name": "stdout",
     "output_type": "stream",
     "text": [
      "The object columns type: \n"
     ]
    },
    {
     "data": {
      "text/plain": [
       "['date', 'seasons', 'holiday', 'functioning_day']"
      ]
     },
     "execution_count": 20,
     "metadata": {},
     "output_type": "execute_result"
    }
   ],
   "source": [
    "print(\"The object columns type: \")\n",
    "object_type"
   ]
  },
  {
   "cell_type": "code",
   "execution_count": 21,
   "id": "3783a963",
   "metadata": {},
   "outputs": [
    {
     "data": {
      "text/html": [
       "<div>\n",
       "<style scoped>\n",
       "    .dataframe tbody tr th:only-of-type {\n",
       "        vertical-align: middle;\n",
       "    }\n",
       "\n",
       "    .dataframe tbody tr th {\n",
       "        vertical-align: top;\n",
       "    }\n",
       "\n",
       "    .dataframe thead th {\n",
       "        text-align: right;\n",
       "    }\n",
       "</style>\n",
       "<table border=\"1\" class=\"dataframe\">\n",
       "  <thead>\n",
       "    <tr style=\"text-align: right;\">\n",
       "      <th></th>\n",
       "      <th>date</th>\n",
       "      <th>seasons</th>\n",
       "      <th>holiday</th>\n",
       "      <th>functioning_day</th>\n",
       "    </tr>\n",
       "  </thead>\n",
       "  <tbody>\n",
       "    <tr>\n",
       "      <th>0</th>\n",
       "      <td>01/12/2017</td>\n",
       "      <td>Winter</td>\n",
       "      <td>No Holiday</td>\n",
       "      <td>Yes</td>\n",
       "    </tr>\n",
       "    <tr>\n",
       "      <th>1</th>\n",
       "      <td>01/12/2017</td>\n",
       "      <td>Winter</td>\n",
       "      <td>No Holiday</td>\n",
       "      <td>Yes</td>\n",
       "    </tr>\n",
       "    <tr>\n",
       "      <th>2</th>\n",
       "      <td>01/12/2017</td>\n",
       "      <td>Winter</td>\n",
       "      <td>No Holiday</td>\n",
       "      <td>Yes</td>\n",
       "    </tr>\n",
       "    <tr>\n",
       "      <th>3</th>\n",
       "      <td>01/12/2017</td>\n",
       "      <td>Winter</td>\n",
       "      <td>No Holiday</td>\n",
       "      <td>Yes</td>\n",
       "    </tr>\n",
       "    <tr>\n",
       "      <th>4</th>\n",
       "      <td>01/12/2017</td>\n",
       "      <td>Winter</td>\n",
       "      <td>No Holiday</td>\n",
       "      <td>Yes</td>\n",
       "    </tr>\n",
       "    <tr>\n",
       "      <th>...</th>\n",
       "      <td>...</td>\n",
       "      <td>...</td>\n",
       "      <td>...</td>\n",
       "      <td>...</td>\n",
       "    </tr>\n",
       "    <tr>\n",
       "      <th>8755</th>\n",
       "      <td>30/11/2018</td>\n",
       "      <td>Autumn</td>\n",
       "      <td>No Holiday</td>\n",
       "      <td>Yes</td>\n",
       "    </tr>\n",
       "    <tr>\n",
       "      <th>8756</th>\n",
       "      <td>30/11/2018</td>\n",
       "      <td>Autumn</td>\n",
       "      <td>No Holiday</td>\n",
       "      <td>Yes</td>\n",
       "    </tr>\n",
       "    <tr>\n",
       "      <th>8757</th>\n",
       "      <td>30/11/2018</td>\n",
       "      <td>Autumn</td>\n",
       "      <td>No Holiday</td>\n",
       "      <td>Yes</td>\n",
       "    </tr>\n",
       "    <tr>\n",
       "      <th>8758</th>\n",
       "      <td>30/11/2018</td>\n",
       "      <td>Autumn</td>\n",
       "      <td>No Holiday</td>\n",
       "      <td>Yes</td>\n",
       "    </tr>\n",
       "    <tr>\n",
       "      <th>8759</th>\n",
       "      <td>30/11/2018</td>\n",
       "      <td>Autumn</td>\n",
       "      <td>No Holiday</td>\n",
       "      <td>Yes</td>\n",
       "    </tr>\n",
       "  </tbody>\n",
       "</table>\n",
       "<p>8760 rows × 4 columns</p>\n",
       "</div>"
      ],
      "text/plain": [
       "            date seasons     holiday functioning_day\n",
       "0     01/12/2017  Winter  No Holiday             Yes\n",
       "1     01/12/2017  Winter  No Holiday             Yes\n",
       "2     01/12/2017  Winter  No Holiday             Yes\n",
       "3     01/12/2017  Winter  No Holiday             Yes\n",
       "4     01/12/2017  Winter  No Holiday             Yes\n",
       "...          ...     ...         ...             ...\n",
       "8755  30/11/2018  Autumn  No Holiday             Yes\n",
       "8756  30/11/2018  Autumn  No Holiday             Yes\n",
       "8757  30/11/2018  Autumn  No Holiday             Yes\n",
       "8758  30/11/2018  Autumn  No Holiday             Yes\n",
       "8759  30/11/2018  Autumn  No Holiday             Yes\n",
       "\n",
       "[8760 rows x 4 columns]"
      ]
     },
     "execution_count": 21,
     "metadata": {},
     "output_type": "execute_result"
    }
   ],
   "source": [
    "df_seoulbike.select_dtypes(include = \"object\")"
   ]
  },
  {
   "cell_type": "code",
   "execution_count": 33,
   "id": "070bee90",
   "metadata": {},
   "outputs": [
    {
     "ename": "ValueError",
     "evalue": "Expected 2D array, got 1D array instead:\narray=[-5.2 -5.5 -6.  ...  2.6  2.1  1.9].\nReshape your data either using array.reshape(-1, 1) if your data has a single feature or array.reshape(1, -1) if it contains a single sample.",
     "output_type": "error",
     "traceback": [
      "\u001b[1;31m---------------------------------------------------------------------------\u001b[0m",
      "\u001b[1;31mValueError\u001b[0m                                Traceback (most recent call last)",
      "\u001b[1;32m<ipython-input-33-91955af189fa>\u001b[0m in \u001b[0;36m<module>\u001b[1;34m\u001b[0m\n\u001b[0;32m      2\u001b[0m \u001b[0mtemperatures\u001b[0m \u001b[1;33m=\u001b[0m\u001b[1;33m[\u001b[0m\u001b[1;34m'temperature(°c)'\u001b[0m\u001b[1;33m,\u001b[0m\u001b[1;34m'dew_point_temperature(°c)'\u001b[0m\u001b[1;33m]\u001b[0m\u001b[1;33m\u001b[0m\u001b[1;33m\u001b[0m\u001b[0m\n\u001b[0;32m      3\u001b[0m \u001b[0mtestlog\u001b[0m \u001b[1;33m=\u001b[0m \u001b[0mdf_seoulbike\u001b[0m\u001b[1;33m[\u001b[0m\u001b[0mtemperatures\u001b[0m\u001b[1;33m]\u001b[0m\u001b[1;33m\u001b[0m\u001b[1;33m\u001b[0m\u001b[0m\n\u001b[1;32m----> 4\u001b[1;33m \u001b[0mtestlog\u001b[0m\u001b[1;33m[\u001b[0m\u001b[1;34m'yeo_johnson'\u001b[0m\u001b[1;33m]\u001b[0m \u001b[1;33m=\u001b[0m \u001b[0mtestlog\u001b[0m\u001b[1;33m.\u001b[0m\u001b[0mapplymap\u001b[0m\u001b[1;33m(\u001b[0m\u001b[1;32mlambda\u001b[0m \u001b[0mx\u001b[0m\u001b[1;33m:\u001b[0m\u001b[0mpower_transform\u001b[0m\u001b[1;33m(\u001b[0m\u001b[0mtestlog\u001b[0m\u001b[1;33m[\u001b[0m\u001b[1;34m'temperature(°c)'\u001b[0m\u001b[1;33m]\u001b[0m\u001b[1;33m,\u001b[0m \u001b[0mmethod\u001b[0m\u001b[1;33m=\u001b[0m\u001b[1;34m'yeo-johnson'\u001b[0m\u001b[1;33m)\u001b[0m\u001b[1;33m)\u001b[0m\u001b[1;33m\u001b[0m\u001b[1;33m\u001b[0m\u001b[0m\n\u001b[0m",
      "\u001b[1;32m~\\anaconda3\\lib\\site-packages\\pandas\\core\\frame.py\u001b[0m in \u001b[0;36mapplymap\u001b[1;34m(self, func, na_action)\u001b[0m\n\u001b[0;32m   7842\u001b[0m             \u001b[1;32mreturn\u001b[0m \u001b[0mlib\u001b[0m\u001b[1;33m.\u001b[0m\u001b[0mmap_infer\u001b[0m\u001b[1;33m(\u001b[0m\u001b[0mx\u001b[0m\u001b[1;33m.\u001b[0m\u001b[0mastype\u001b[0m\u001b[1;33m(\u001b[0m\u001b[0mobject\u001b[0m\u001b[1;33m)\u001b[0m\u001b[1;33m.\u001b[0m\u001b[0m_values\u001b[0m\u001b[1;33m,\u001b[0m \u001b[0mfunc\u001b[0m\u001b[1;33m,\u001b[0m \u001b[0mignore_na\u001b[0m\u001b[1;33m=\u001b[0m\u001b[0mignore_na\u001b[0m\u001b[1;33m)\u001b[0m\u001b[1;33m\u001b[0m\u001b[1;33m\u001b[0m\u001b[0m\n\u001b[0;32m   7843\u001b[0m \u001b[1;33m\u001b[0m\u001b[0m\n\u001b[1;32m-> 7844\u001b[1;33m         \u001b[1;32mreturn\u001b[0m \u001b[0mself\u001b[0m\u001b[1;33m.\u001b[0m\u001b[0mapply\u001b[0m\u001b[1;33m(\u001b[0m\u001b[0minfer\u001b[0m\u001b[1;33m)\u001b[0m\u001b[1;33m.\u001b[0m\u001b[0m__finalize__\u001b[0m\u001b[1;33m(\u001b[0m\u001b[0mself\u001b[0m\u001b[1;33m,\u001b[0m \u001b[1;34m\"applymap\"\u001b[0m\u001b[1;33m)\u001b[0m\u001b[1;33m\u001b[0m\u001b[1;33m\u001b[0m\u001b[0m\n\u001b[0m\u001b[0;32m   7845\u001b[0m \u001b[1;33m\u001b[0m\u001b[0m\n\u001b[0;32m   7846\u001b[0m     \u001b[1;31m# ----------------------------------------------------------------------\u001b[0m\u001b[1;33m\u001b[0m\u001b[1;33m\u001b[0m\u001b[1;33m\u001b[0m\u001b[0m\n",
      "\u001b[1;32m~\\anaconda3\\lib\\site-packages\\pandas\\core\\frame.py\u001b[0m in \u001b[0;36mapply\u001b[1;34m(self, func, axis, raw, result_type, args, **kwds)\u001b[0m\n\u001b[0;32m   7766\u001b[0m             \u001b[0mkwds\u001b[0m\u001b[1;33m=\u001b[0m\u001b[0mkwds\u001b[0m\u001b[1;33m,\u001b[0m\u001b[1;33m\u001b[0m\u001b[1;33m\u001b[0m\u001b[0m\n\u001b[0;32m   7767\u001b[0m         )\n\u001b[1;32m-> 7768\u001b[1;33m         \u001b[1;32mreturn\u001b[0m \u001b[0mop\u001b[0m\u001b[1;33m.\u001b[0m\u001b[0mget_result\u001b[0m\u001b[1;33m(\u001b[0m\u001b[1;33m)\u001b[0m\u001b[1;33m\u001b[0m\u001b[1;33m\u001b[0m\u001b[0m\n\u001b[0m\u001b[0;32m   7769\u001b[0m \u001b[1;33m\u001b[0m\u001b[0m\n\u001b[0;32m   7770\u001b[0m     \u001b[1;32mdef\u001b[0m \u001b[0mapplymap\u001b[0m\u001b[1;33m(\u001b[0m\u001b[0mself\u001b[0m\u001b[1;33m,\u001b[0m \u001b[0mfunc\u001b[0m\u001b[1;33m,\u001b[0m \u001b[0mna_action\u001b[0m\u001b[1;33m:\u001b[0m \u001b[0mOptional\u001b[0m\u001b[1;33m[\u001b[0m\u001b[0mstr\u001b[0m\u001b[1;33m]\u001b[0m \u001b[1;33m=\u001b[0m \u001b[1;32mNone\u001b[0m\u001b[1;33m)\u001b[0m \u001b[1;33m->\u001b[0m \u001b[0mDataFrame\u001b[0m\u001b[1;33m:\u001b[0m\u001b[1;33m\u001b[0m\u001b[1;33m\u001b[0m\u001b[0m\n",
      "\u001b[1;32m~\\anaconda3\\lib\\site-packages\\pandas\\core\\apply.py\u001b[0m in \u001b[0;36mget_result\u001b[1;34m(self)\u001b[0m\n\u001b[0;32m    183\u001b[0m             \u001b[1;32mreturn\u001b[0m \u001b[0mself\u001b[0m\u001b[1;33m.\u001b[0m\u001b[0mapply_raw\u001b[0m\u001b[1;33m(\u001b[0m\u001b[1;33m)\u001b[0m\u001b[1;33m\u001b[0m\u001b[1;33m\u001b[0m\u001b[0m\n\u001b[0;32m    184\u001b[0m \u001b[1;33m\u001b[0m\u001b[0m\n\u001b[1;32m--> 185\u001b[1;33m         \u001b[1;32mreturn\u001b[0m \u001b[0mself\u001b[0m\u001b[1;33m.\u001b[0m\u001b[0mapply_standard\u001b[0m\u001b[1;33m(\u001b[0m\u001b[1;33m)\u001b[0m\u001b[1;33m\u001b[0m\u001b[1;33m\u001b[0m\u001b[0m\n\u001b[0m\u001b[0;32m    186\u001b[0m \u001b[1;33m\u001b[0m\u001b[0m\n\u001b[0;32m    187\u001b[0m     \u001b[1;32mdef\u001b[0m \u001b[0mapply_empty_result\u001b[0m\u001b[1;33m(\u001b[0m\u001b[0mself\u001b[0m\u001b[1;33m)\u001b[0m\u001b[1;33m:\u001b[0m\u001b[1;33m\u001b[0m\u001b[1;33m\u001b[0m\u001b[0m\n",
      "\u001b[1;32m~\\anaconda3\\lib\\site-packages\\pandas\\core\\apply.py\u001b[0m in \u001b[0;36mapply_standard\u001b[1;34m(self)\u001b[0m\n\u001b[0;32m    274\u001b[0m \u001b[1;33m\u001b[0m\u001b[0m\n\u001b[0;32m    275\u001b[0m     \u001b[1;32mdef\u001b[0m \u001b[0mapply_standard\u001b[0m\u001b[1;33m(\u001b[0m\u001b[0mself\u001b[0m\u001b[1;33m)\u001b[0m\u001b[1;33m:\u001b[0m\u001b[1;33m\u001b[0m\u001b[1;33m\u001b[0m\u001b[0m\n\u001b[1;32m--> 276\u001b[1;33m         \u001b[0mresults\u001b[0m\u001b[1;33m,\u001b[0m \u001b[0mres_index\u001b[0m \u001b[1;33m=\u001b[0m \u001b[0mself\u001b[0m\u001b[1;33m.\u001b[0m\u001b[0mapply_series_generator\u001b[0m\u001b[1;33m(\u001b[0m\u001b[1;33m)\u001b[0m\u001b[1;33m\u001b[0m\u001b[1;33m\u001b[0m\u001b[0m\n\u001b[0m\u001b[0;32m    277\u001b[0m \u001b[1;33m\u001b[0m\u001b[0m\n\u001b[0;32m    278\u001b[0m         \u001b[1;31m# wrap results\u001b[0m\u001b[1;33m\u001b[0m\u001b[1;33m\u001b[0m\u001b[1;33m\u001b[0m\u001b[0m\n",
      "\u001b[1;32m~\\anaconda3\\lib\\site-packages\\pandas\\core\\apply.py\u001b[0m in \u001b[0;36mapply_series_generator\u001b[1;34m(self)\u001b[0m\n\u001b[0;32m    288\u001b[0m             \u001b[1;32mfor\u001b[0m \u001b[0mi\u001b[0m\u001b[1;33m,\u001b[0m \u001b[0mv\u001b[0m \u001b[1;32min\u001b[0m \u001b[0menumerate\u001b[0m\u001b[1;33m(\u001b[0m\u001b[0mseries_gen\u001b[0m\u001b[1;33m)\u001b[0m\u001b[1;33m:\u001b[0m\u001b[1;33m\u001b[0m\u001b[1;33m\u001b[0m\u001b[0m\n\u001b[0;32m    289\u001b[0m                 \u001b[1;31m# ignore SettingWithCopy here in case the user mutates\u001b[0m\u001b[1;33m\u001b[0m\u001b[1;33m\u001b[0m\u001b[1;33m\u001b[0m\u001b[0m\n\u001b[1;32m--> 290\u001b[1;33m                 \u001b[0mresults\u001b[0m\u001b[1;33m[\u001b[0m\u001b[0mi\u001b[0m\u001b[1;33m]\u001b[0m \u001b[1;33m=\u001b[0m \u001b[0mself\u001b[0m\u001b[1;33m.\u001b[0m\u001b[0mf\u001b[0m\u001b[1;33m(\u001b[0m\u001b[0mv\u001b[0m\u001b[1;33m)\u001b[0m\u001b[1;33m\u001b[0m\u001b[1;33m\u001b[0m\u001b[0m\n\u001b[0m\u001b[0;32m    291\u001b[0m                 \u001b[1;32mif\u001b[0m \u001b[0misinstance\u001b[0m\u001b[1;33m(\u001b[0m\u001b[0mresults\u001b[0m\u001b[1;33m[\u001b[0m\u001b[0mi\u001b[0m\u001b[1;33m]\u001b[0m\u001b[1;33m,\u001b[0m \u001b[0mABCSeries\u001b[0m\u001b[1;33m)\u001b[0m\u001b[1;33m:\u001b[0m\u001b[1;33m\u001b[0m\u001b[1;33m\u001b[0m\u001b[0m\n\u001b[0;32m    292\u001b[0m                     \u001b[1;31m# If we have a view on v, we need to make a copy because\u001b[0m\u001b[1;33m\u001b[0m\u001b[1;33m\u001b[0m\u001b[1;33m\u001b[0m\u001b[0m\n",
      "\u001b[1;32m~\\anaconda3\\lib\\site-packages\\pandas\\core\\frame.py\u001b[0m in \u001b[0;36minfer\u001b[1;34m(x)\u001b[0m\n\u001b[0;32m   7840\u001b[0m             \u001b[1;32mif\u001b[0m \u001b[0mx\u001b[0m\u001b[1;33m.\u001b[0m\u001b[0mempty\u001b[0m\u001b[1;33m:\u001b[0m\u001b[1;33m\u001b[0m\u001b[1;33m\u001b[0m\u001b[0m\n\u001b[0;32m   7841\u001b[0m                 \u001b[1;32mreturn\u001b[0m \u001b[0mlib\u001b[0m\u001b[1;33m.\u001b[0m\u001b[0mmap_infer\u001b[0m\u001b[1;33m(\u001b[0m\u001b[0mx\u001b[0m\u001b[1;33m,\u001b[0m \u001b[0mfunc\u001b[0m\u001b[1;33m,\u001b[0m \u001b[0mignore_na\u001b[0m\u001b[1;33m=\u001b[0m\u001b[0mignore_na\u001b[0m\u001b[1;33m)\u001b[0m\u001b[1;33m\u001b[0m\u001b[1;33m\u001b[0m\u001b[0m\n\u001b[1;32m-> 7842\u001b[1;33m             \u001b[1;32mreturn\u001b[0m \u001b[0mlib\u001b[0m\u001b[1;33m.\u001b[0m\u001b[0mmap_infer\u001b[0m\u001b[1;33m(\u001b[0m\u001b[0mx\u001b[0m\u001b[1;33m.\u001b[0m\u001b[0mastype\u001b[0m\u001b[1;33m(\u001b[0m\u001b[0mobject\u001b[0m\u001b[1;33m)\u001b[0m\u001b[1;33m.\u001b[0m\u001b[0m_values\u001b[0m\u001b[1;33m,\u001b[0m \u001b[0mfunc\u001b[0m\u001b[1;33m,\u001b[0m \u001b[0mignore_na\u001b[0m\u001b[1;33m=\u001b[0m\u001b[0mignore_na\u001b[0m\u001b[1;33m)\u001b[0m\u001b[1;33m\u001b[0m\u001b[1;33m\u001b[0m\u001b[0m\n\u001b[0m\u001b[0;32m   7843\u001b[0m \u001b[1;33m\u001b[0m\u001b[0m\n\u001b[0;32m   7844\u001b[0m         \u001b[1;32mreturn\u001b[0m \u001b[0mself\u001b[0m\u001b[1;33m.\u001b[0m\u001b[0mapply\u001b[0m\u001b[1;33m(\u001b[0m\u001b[0minfer\u001b[0m\u001b[1;33m)\u001b[0m\u001b[1;33m.\u001b[0m\u001b[0m__finalize__\u001b[0m\u001b[1;33m(\u001b[0m\u001b[0mself\u001b[0m\u001b[1;33m,\u001b[0m \u001b[1;34m\"applymap\"\u001b[0m\u001b[1;33m)\u001b[0m\u001b[1;33m\u001b[0m\u001b[1;33m\u001b[0m\u001b[0m\n",
      "\u001b[1;32mpandas\\_libs\\lib.pyx\u001b[0m in \u001b[0;36mpandas._libs.lib.map_infer\u001b[1;34m()\u001b[0m\n",
      "\u001b[1;32m<ipython-input-33-91955af189fa>\u001b[0m in \u001b[0;36m<lambda>\u001b[1;34m(x)\u001b[0m\n\u001b[0;32m      2\u001b[0m \u001b[0mtemperatures\u001b[0m \u001b[1;33m=\u001b[0m\u001b[1;33m[\u001b[0m\u001b[1;34m'temperature(°c)'\u001b[0m\u001b[1;33m,\u001b[0m\u001b[1;34m'dew_point_temperature(°c)'\u001b[0m\u001b[1;33m]\u001b[0m\u001b[1;33m\u001b[0m\u001b[1;33m\u001b[0m\u001b[0m\n\u001b[0;32m      3\u001b[0m \u001b[0mtestlog\u001b[0m \u001b[1;33m=\u001b[0m \u001b[0mdf_seoulbike\u001b[0m\u001b[1;33m[\u001b[0m\u001b[0mtemperatures\u001b[0m\u001b[1;33m]\u001b[0m\u001b[1;33m\u001b[0m\u001b[1;33m\u001b[0m\u001b[0m\n\u001b[1;32m----> 4\u001b[1;33m \u001b[0mtestlog\u001b[0m\u001b[1;33m[\u001b[0m\u001b[1;34m'yeo_johnson'\u001b[0m\u001b[1;33m]\u001b[0m \u001b[1;33m=\u001b[0m \u001b[0mtestlog\u001b[0m\u001b[1;33m.\u001b[0m\u001b[0mapplymap\u001b[0m\u001b[1;33m(\u001b[0m\u001b[1;32mlambda\u001b[0m \u001b[0mx\u001b[0m\u001b[1;33m:\u001b[0m\u001b[0mpower_transform\u001b[0m\u001b[1;33m(\u001b[0m\u001b[0mtestlog\u001b[0m\u001b[1;33m[\u001b[0m\u001b[1;34m'temperature(°c)'\u001b[0m\u001b[1;33m]\u001b[0m\u001b[1;33m,\u001b[0m \u001b[0mmethod\u001b[0m\u001b[1;33m=\u001b[0m\u001b[1;34m'yeo-johnson'\u001b[0m\u001b[1;33m)\u001b[0m\u001b[1;33m)\u001b[0m\u001b[1;33m\u001b[0m\u001b[1;33m\u001b[0m\u001b[0m\n\u001b[0m",
      "\u001b[1;32m~\\anaconda3\\lib\\site-packages\\sklearn\\utils\\validation.py\u001b[0m in \u001b[0;36minner_f\u001b[1;34m(*args, **kwargs)\u001b[0m\n\u001b[0;32m     61\u001b[0m             \u001b[0mextra_args\u001b[0m \u001b[1;33m=\u001b[0m \u001b[0mlen\u001b[0m\u001b[1;33m(\u001b[0m\u001b[0margs\u001b[0m\u001b[1;33m)\u001b[0m \u001b[1;33m-\u001b[0m \u001b[0mlen\u001b[0m\u001b[1;33m(\u001b[0m\u001b[0mall_args\u001b[0m\u001b[1;33m)\u001b[0m\u001b[1;33m\u001b[0m\u001b[1;33m\u001b[0m\u001b[0m\n\u001b[0;32m     62\u001b[0m             \u001b[1;32mif\u001b[0m \u001b[0mextra_args\u001b[0m \u001b[1;33m<=\u001b[0m \u001b[1;36m0\u001b[0m\u001b[1;33m:\u001b[0m\u001b[1;33m\u001b[0m\u001b[1;33m\u001b[0m\u001b[0m\n\u001b[1;32m---> 63\u001b[1;33m                 \u001b[1;32mreturn\u001b[0m \u001b[0mf\u001b[0m\u001b[1;33m(\u001b[0m\u001b[1;33m*\u001b[0m\u001b[0margs\u001b[0m\u001b[1;33m,\u001b[0m \u001b[1;33m**\u001b[0m\u001b[0mkwargs\u001b[0m\u001b[1;33m)\u001b[0m\u001b[1;33m\u001b[0m\u001b[1;33m\u001b[0m\u001b[0m\n\u001b[0m\u001b[0;32m     64\u001b[0m \u001b[1;33m\u001b[0m\u001b[0m\n\u001b[0;32m     65\u001b[0m             \u001b[1;31m# extra_args > 0\u001b[0m\u001b[1;33m\u001b[0m\u001b[1;33m\u001b[0m\u001b[1;33m\u001b[0m\u001b[0m\n",
      "\u001b[1;32m~\\anaconda3\\lib\\site-packages\\sklearn\\preprocessing\\_data.py\u001b[0m in \u001b[0;36mpower_transform\u001b[1;34m(X, method, standardize, copy)\u001b[0m\n\u001b[0;32m   3396\u001b[0m     \"\"\"\n\u001b[0;32m   3397\u001b[0m     \u001b[0mpt\u001b[0m \u001b[1;33m=\u001b[0m \u001b[0mPowerTransformer\u001b[0m\u001b[1;33m(\u001b[0m\u001b[0mmethod\u001b[0m\u001b[1;33m=\u001b[0m\u001b[0mmethod\u001b[0m\u001b[1;33m,\u001b[0m \u001b[0mstandardize\u001b[0m\u001b[1;33m=\u001b[0m\u001b[0mstandardize\u001b[0m\u001b[1;33m,\u001b[0m \u001b[0mcopy\u001b[0m\u001b[1;33m=\u001b[0m\u001b[0mcopy\u001b[0m\u001b[1;33m)\u001b[0m\u001b[1;33m\u001b[0m\u001b[1;33m\u001b[0m\u001b[0m\n\u001b[1;32m-> 3398\u001b[1;33m     \u001b[1;32mreturn\u001b[0m \u001b[0mpt\u001b[0m\u001b[1;33m.\u001b[0m\u001b[0mfit_transform\u001b[0m\u001b[1;33m(\u001b[0m\u001b[0mX\u001b[0m\u001b[1;33m)\u001b[0m\u001b[1;33m\u001b[0m\u001b[1;33m\u001b[0m\u001b[0m\n\u001b[0m",
      "\u001b[1;32m~\\anaconda3\\lib\\site-packages\\sklearn\\preprocessing\\_data.py\u001b[0m in \u001b[0;36mfit_transform\u001b[1;34m(self, X, y)\u001b[0m\n\u001b[0;32m   3048\u001b[0m \u001b[1;33m\u001b[0m\u001b[0m\n\u001b[0;32m   3049\u001b[0m     \u001b[1;32mdef\u001b[0m \u001b[0mfit_transform\u001b[0m\u001b[1;33m(\u001b[0m\u001b[0mself\u001b[0m\u001b[1;33m,\u001b[0m \u001b[0mX\u001b[0m\u001b[1;33m,\u001b[0m \u001b[0my\u001b[0m\u001b[1;33m=\u001b[0m\u001b[1;32mNone\u001b[0m\u001b[1;33m)\u001b[0m\u001b[1;33m:\u001b[0m\u001b[1;33m\u001b[0m\u001b[1;33m\u001b[0m\u001b[0m\n\u001b[1;32m-> 3050\u001b[1;33m         \u001b[1;32mreturn\u001b[0m \u001b[0mself\u001b[0m\u001b[1;33m.\u001b[0m\u001b[0m_fit\u001b[0m\u001b[1;33m(\u001b[0m\u001b[0mX\u001b[0m\u001b[1;33m,\u001b[0m \u001b[0my\u001b[0m\u001b[1;33m,\u001b[0m \u001b[0mforce_transform\u001b[0m\u001b[1;33m=\u001b[0m\u001b[1;32mTrue\u001b[0m\u001b[1;33m)\u001b[0m\u001b[1;33m\u001b[0m\u001b[1;33m\u001b[0m\u001b[0m\n\u001b[0m\u001b[0;32m   3051\u001b[0m \u001b[1;33m\u001b[0m\u001b[0m\n\u001b[0;32m   3052\u001b[0m     \u001b[1;32mdef\u001b[0m \u001b[0m_fit\u001b[0m\u001b[1;33m(\u001b[0m\u001b[0mself\u001b[0m\u001b[1;33m,\u001b[0m \u001b[0mX\u001b[0m\u001b[1;33m,\u001b[0m \u001b[0my\u001b[0m\u001b[1;33m=\u001b[0m\u001b[1;32mNone\u001b[0m\u001b[1;33m,\u001b[0m \u001b[0mforce_transform\u001b[0m\u001b[1;33m=\u001b[0m\u001b[1;32mFalse\u001b[0m\u001b[1;33m)\u001b[0m\u001b[1;33m:\u001b[0m\u001b[1;33m\u001b[0m\u001b[1;33m\u001b[0m\u001b[0m\n",
      "\u001b[1;32m~\\anaconda3\\lib\\site-packages\\sklearn\\preprocessing\\_data.py\u001b[0m in \u001b[0;36m_fit\u001b[1;34m(self, X, y, force_transform)\u001b[0m\n\u001b[0;32m   3051\u001b[0m \u001b[1;33m\u001b[0m\u001b[0m\n\u001b[0;32m   3052\u001b[0m     \u001b[1;32mdef\u001b[0m \u001b[0m_fit\u001b[0m\u001b[1;33m(\u001b[0m\u001b[0mself\u001b[0m\u001b[1;33m,\u001b[0m \u001b[0mX\u001b[0m\u001b[1;33m,\u001b[0m \u001b[0my\u001b[0m\u001b[1;33m=\u001b[0m\u001b[1;32mNone\u001b[0m\u001b[1;33m,\u001b[0m \u001b[0mforce_transform\u001b[0m\u001b[1;33m=\u001b[0m\u001b[1;32mFalse\u001b[0m\u001b[1;33m)\u001b[0m\u001b[1;33m:\u001b[0m\u001b[1;33m\u001b[0m\u001b[1;33m\u001b[0m\u001b[0m\n\u001b[1;32m-> 3053\u001b[1;33m         X = self._check_input(X, in_fit=True, check_positive=True,\n\u001b[0m\u001b[0;32m   3054\u001b[0m                               check_method=True)\n\u001b[0;32m   3055\u001b[0m \u001b[1;33m\u001b[0m\u001b[0m\n",
      "\u001b[1;32m~\\anaconda3\\lib\\site-packages\\sklearn\\preprocessing\\_data.py\u001b[0m in \u001b[0;36m_check_input\u001b[1;34m(self, X, in_fit, check_positive, check_shape, check_method)\u001b[0m\n\u001b[0;32m   3268\u001b[0m             \u001b[0mIf\u001b[0m \u001b[1;32mTrue\u001b[0m\u001b[1;33m,\u001b[0m \u001b[0mcheck\u001b[0m \u001b[0mthat\u001b[0m \u001b[0mthe\u001b[0m \u001b[0mtransformation\u001b[0m \u001b[0mmethod\u001b[0m \u001b[1;32mis\u001b[0m \u001b[0mvalid\u001b[0m\u001b[1;33m.\u001b[0m\u001b[1;33m\u001b[0m\u001b[1;33m\u001b[0m\u001b[0m\n\u001b[0;32m   3269\u001b[0m         \"\"\"\n\u001b[1;32m-> 3270\u001b[1;33m         X = self._validate_data(X, ensure_2d=True, dtype=FLOAT_DTYPES,\n\u001b[0m\u001b[0;32m   3271\u001b[0m                                 \u001b[0mcopy\u001b[0m\u001b[1;33m=\u001b[0m\u001b[0mself\u001b[0m\u001b[1;33m.\u001b[0m\u001b[0mcopy\u001b[0m\u001b[1;33m,\u001b[0m \u001b[0mforce_all_finite\u001b[0m\u001b[1;33m=\u001b[0m\u001b[1;34m'allow-nan'\u001b[0m\u001b[1;33m,\u001b[0m\u001b[1;33m\u001b[0m\u001b[1;33m\u001b[0m\u001b[0m\n\u001b[0;32m   3272\u001b[0m                                 reset=in_fit)\n",
      "\u001b[1;32m~\\anaconda3\\lib\\site-packages\\sklearn\\base.py\u001b[0m in \u001b[0;36m_validate_data\u001b[1;34m(self, X, y, reset, validate_separately, **check_params)\u001b[0m\n\u001b[0;32m    419\u001b[0m             \u001b[0mout\u001b[0m \u001b[1;33m=\u001b[0m \u001b[0mX\u001b[0m\u001b[1;33m\u001b[0m\u001b[1;33m\u001b[0m\u001b[0m\n\u001b[0;32m    420\u001b[0m         \u001b[1;32melif\u001b[0m \u001b[0misinstance\u001b[0m\u001b[1;33m(\u001b[0m\u001b[0my\u001b[0m\u001b[1;33m,\u001b[0m \u001b[0mstr\u001b[0m\u001b[1;33m)\u001b[0m \u001b[1;32mand\u001b[0m \u001b[0my\u001b[0m \u001b[1;33m==\u001b[0m \u001b[1;34m'no_validation'\u001b[0m\u001b[1;33m:\u001b[0m\u001b[1;33m\u001b[0m\u001b[1;33m\u001b[0m\u001b[0m\n\u001b[1;32m--> 421\u001b[1;33m             \u001b[0mX\u001b[0m \u001b[1;33m=\u001b[0m \u001b[0mcheck_array\u001b[0m\u001b[1;33m(\u001b[0m\u001b[0mX\u001b[0m\u001b[1;33m,\u001b[0m \u001b[1;33m**\u001b[0m\u001b[0mcheck_params\u001b[0m\u001b[1;33m)\u001b[0m\u001b[1;33m\u001b[0m\u001b[1;33m\u001b[0m\u001b[0m\n\u001b[0m\u001b[0;32m    422\u001b[0m             \u001b[0mout\u001b[0m \u001b[1;33m=\u001b[0m \u001b[0mX\u001b[0m\u001b[1;33m\u001b[0m\u001b[1;33m\u001b[0m\u001b[0m\n\u001b[0;32m    423\u001b[0m         \u001b[1;32melse\u001b[0m\u001b[1;33m:\u001b[0m\u001b[1;33m\u001b[0m\u001b[1;33m\u001b[0m\u001b[0m\n",
      "\u001b[1;32m~\\anaconda3\\lib\\site-packages\\sklearn\\utils\\validation.py\u001b[0m in \u001b[0;36minner_f\u001b[1;34m(*args, **kwargs)\u001b[0m\n\u001b[0;32m     61\u001b[0m             \u001b[0mextra_args\u001b[0m \u001b[1;33m=\u001b[0m \u001b[0mlen\u001b[0m\u001b[1;33m(\u001b[0m\u001b[0margs\u001b[0m\u001b[1;33m)\u001b[0m \u001b[1;33m-\u001b[0m \u001b[0mlen\u001b[0m\u001b[1;33m(\u001b[0m\u001b[0mall_args\u001b[0m\u001b[1;33m)\u001b[0m\u001b[1;33m\u001b[0m\u001b[1;33m\u001b[0m\u001b[0m\n\u001b[0;32m     62\u001b[0m             \u001b[1;32mif\u001b[0m \u001b[0mextra_args\u001b[0m \u001b[1;33m<=\u001b[0m \u001b[1;36m0\u001b[0m\u001b[1;33m:\u001b[0m\u001b[1;33m\u001b[0m\u001b[1;33m\u001b[0m\u001b[0m\n\u001b[1;32m---> 63\u001b[1;33m                 \u001b[1;32mreturn\u001b[0m \u001b[0mf\u001b[0m\u001b[1;33m(\u001b[0m\u001b[1;33m*\u001b[0m\u001b[0margs\u001b[0m\u001b[1;33m,\u001b[0m \u001b[1;33m**\u001b[0m\u001b[0mkwargs\u001b[0m\u001b[1;33m)\u001b[0m\u001b[1;33m\u001b[0m\u001b[1;33m\u001b[0m\u001b[0m\n\u001b[0m\u001b[0;32m     64\u001b[0m \u001b[1;33m\u001b[0m\u001b[0m\n\u001b[0;32m     65\u001b[0m             \u001b[1;31m# extra_args > 0\u001b[0m\u001b[1;33m\u001b[0m\u001b[1;33m\u001b[0m\u001b[1;33m\u001b[0m\u001b[0m\n",
      "\u001b[1;32m~\\anaconda3\\lib\\site-packages\\sklearn\\utils\\validation.py\u001b[0m in \u001b[0;36mcheck_array\u001b[1;34m(array, accept_sparse, accept_large_sparse, dtype, order, copy, force_all_finite, ensure_2d, allow_nd, ensure_min_samples, ensure_min_features, estimator)\u001b[0m\n\u001b[0;32m    635\u001b[0m             \u001b[1;31m# If input is 1D raise error\u001b[0m\u001b[1;33m\u001b[0m\u001b[1;33m\u001b[0m\u001b[1;33m\u001b[0m\u001b[0m\n\u001b[0;32m    636\u001b[0m             \u001b[1;32mif\u001b[0m \u001b[0marray\u001b[0m\u001b[1;33m.\u001b[0m\u001b[0mndim\u001b[0m \u001b[1;33m==\u001b[0m \u001b[1;36m1\u001b[0m\u001b[1;33m:\u001b[0m\u001b[1;33m\u001b[0m\u001b[1;33m\u001b[0m\u001b[0m\n\u001b[1;32m--> 637\u001b[1;33m                 raise ValueError(\n\u001b[0m\u001b[0;32m    638\u001b[0m                     \u001b[1;34m\"Expected 2D array, got 1D array instead:\\narray={}.\\n\"\u001b[0m\u001b[1;33m\u001b[0m\u001b[1;33m\u001b[0m\u001b[0m\n\u001b[0;32m    639\u001b[0m                     \u001b[1;34m\"Reshape your data either using array.reshape(-1, 1) if \"\u001b[0m\u001b[1;33m\u001b[0m\u001b[1;33m\u001b[0m\u001b[0m\n",
      "\u001b[1;31mValueError\u001b[0m: Expected 2D array, got 1D array instead:\narray=[-5.2 -5.5 -6.  ...  2.6  2.1  1.9].\nReshape your data either using array.reshape(-1, 1) if your data has a single feature or array.reshape(1, -1) if it contains a single sample."
     ]
    }
   ],
   "source": [
    "from sklearn.preprocessing import power_transform\n",
    "temperatures =['temperature(°c)','dew_point_temperature(°c)']\n",
    "testlog = df_seoulbike[temperatures]\n",
    "testlog['yeo_johnson'] = testlog.applymap(lambda x:power_transform(testlog['temperature(°c)'], method='yeo-johnson'))\n",
    "#https://scikit-learn.org/stable/modules/generated/sklearn.preprocessing.power_transform.html\n",
    "#IMPorTANT"
   ]
  },
  {
   "cell_type": "code",
   "execution_count": 28,
   "id": "2e52578e",
   "metadata": {},
   "outputs": [
    {
     "data": {
      "text/plain": [
       "Index                           128\n",
       "date                         586920\n",
       "rented_bike_count             70080\n",
       "hour                          70080\n",
       "temperature(°c)               70080\n",
       "humidity(%)                   70080\n",
       "wind_speed_(m/s)              70080\n",
       "visibility_(10m)              70080\n",
       "dew_point_temperature(°c)     70080\n",
       "solar_radiation_(mj/m2)       70080\n",
       "rainfall(mm)                  70080\n",
       "snowfall_(cm)                 70080\n",
       "seasons                      551880\n",
       "holiday                      585624\n",
       "functioning_day              525305\n",
       "dtype: int64"
      ]
     },
     "execution_count": 28,
     "metadata": {},
     "output_type": "execute_result"
    }
   ],
   "source": [
    "#Hun I'm not sure we need use float64 in all float types. Maybe we can improve it.\n",
    "#Let's ckeck the usage of all memory.\n",
    "first_memory_usage = df_seoulbike.memory_usage(deep=True)\n",
    "first_memory_usage"
   ]
  },
  {
   "cell_type": "markdown",
   "id": "eef7ef8a",
   "metadata": {},
   "source": [
    "#### Ok now we know the type of columns we are working with. Let's casting some of then and create other ones.\n"
   ]
  },
  {
   "cell_type": "code",
   "execution_count": null,
   "id": "49dfd308",
   "metadata": {},
   "outputs": [],
   "source": [
    "\n",
    "\n",
    "class Treating_data:\n",
    "    '''\n",
    "    A class to cast the datetypes and to create new columns date type.. \n",
    "    Changing the data type, creating new date columns information and changing the new columns date type.\n",
    "    '''\n",
    "    \n",
    "    def __init__(self, df_bike):\n",
    "        '''\n",
    "        Creating the sequence of treating to data.\n",
    "        '''\n",
    "        self.df_bike = df_bike\n",
    "        self.changing_type(self.df_bike)\n",
    "        self.creating_date_info(self.df_bike)\n",
    "        self.changing_type_after_date_info(self.df_bike)\n",
    "        self.changing_to_binary_column(self.df_bike)\n",
    "\n",
    "\n",
    "    def changing_type(self,df_seoulbike):\n",
    "        '''\n",
    "        A functon to change the size of float type, \n",
    "        to create a column to datetime type and change object type to category type.\n",
    "        '''\n",
    "        for coluna in df_seoulbike.columns:\n",
    "            if \"temperature\" in coluna:\n",
    "                df_seoulbike[coluna] = df_seoulbike[coluna].astype(\"float16\")\n",
    "            elif \"date\" in coluna:\n",
    "                df_seoulbike[coluna] = pd.to_datetime(arg=df_seoulbike[coluna],format= \"%d/%m/%Y\")\n",
    "            elif coluna in ['seasons','holiday','functioning_day']:\n",
    "                df_seoulbike[coluna] = df_seoulbike[coluna].astype(\"category\")\n",
    "        return  df_seoulbike\n",
    "\n",
    "\n",
    "    def creating_date_info(self,df_seoulbike):\n",
    "        '''\n",
    "        A function to create date type columns.\n",
    "        '''\n",
    "        df_seoulbike['day_of_week'] =df_seoulbike['date'].dt.day_name() \n",
    "        df_seoulbike['year'] = df_seoulbike['date'].dt.year\n",
    "        df_seoulbike['month'] = df_seoulbike['date'].dt.month #I need this feature to stratify during the train and test moment\n",
    "        #df_seoulbike['day_of_year'] = df_seoulbike['date'].dt.dayofyear\n",
    "        df_seoulbike['week_of_year'] = df_seoulbike['date'].dt.isocalendar().week\n",
    "        #df_seoulbike['month_name'] = df_seoulbike['date'].dt.month_name()\n",
    "        #df_seoulbike['period_day'] = df_seoulbike['date'].dt.strftime('%a')\n",
    "        df_seoulbike['month_name'] = df_seoulbike['date'].dt.strftime('%b')\n",
    "        return  df_seoulbike\n",
    "    \n",
    "    #def loging_temperature(self,df_seoulbike):\n",
    "        '''\n",
    "        Applying the log function to temperature compresses the larger values and expands smaller values, \n",
    "        making the relationship closer to linear. \n",
    "        This allows linear models to better capture the underlying trend.\n",
    "        \n",
    "        '''\n",
    "        ##df_seoulbike['log(temperature)'] =math.log(df_seoulbike['temperature(°c)'])\n",
    "\n",
    "    def changing_type_after_date_info(self,df_seoulbike):\n",
    "        '''\n",
    "        A function to change as category the columns object types of date \n",
    "        '''\n",
    "        for coluna in df_seoulbike.columns:\n",
    "            if coluna in ['day_of_week','year','month','week_of_year', 'month_name','hour']:\n",
    "                df_seoulbike[coluna] = df_seoulbike[coluna].astype(\"category\")\n",
    "        return  df_seoulbike\n",
    "    \n",
    "    def changing_to_binary_column(self,df_seoulbike):\n",
    "        '''\n",
    "        A function to turne coluns as binary one\n",
    "        '''\n",
    "        df_seoulbike[\"holiday\"] = df_seoulbike[\"holiday\"].map({\"No Holiday\":0,\"Holiday\":1})\n",
    "        df_seoulbike[\"functioning_day\"] = df_seoulbike[\"functioning_day\"].map({\"No\" : 0, \"Yes\":1})\n"
   ]
  },
  {
   "cell_type": "code",
   "execution_count": null,
   "id": "a50b4b49",
   "metadata": {},
   "outputs": [],
   "source": [
    "df_seoulbike = Treating_data(df_seoulbike)"
   ]
  },
  {
   "cell_type": "code",
   "execution_count": null,
   "id": "3b86c133",
   "metadata": {},
   "outputs": [],
   "source": [
    "df_seoulbike.df_bike"
   ]
  },
  {
   "cell_type": "code",
   "execution_count": null,
   "id": "3a89acd3",
   "metadata": {},
   "outputs": [],
   "source": [
    "df_seoulbike_treated = df_seoulbike.df_bike"
   ]
  },
  {
   "cell_type": "code",
   "execution_count": null,
   "id": "ebaa285a",
   "metadata": {},
   "outputs": [],
   "source": [
    "df_seoulbike_treated.info()"
   ]
  },
  {
   "cell_type": "code",
   "execution_count": null,
   "id": "ba1ca77a",
   "metadata": {},
   "outputs": [],
   "source": [
    "df_seoulbike_treated.describe()"
   ]
  },
  {
   "cell_type": "code",
   "execution_count": null,
   "id": "aae5bc1c",
   "metadata": {},
   "outputs": [],
   "source": [
    "df_seoulbike_treated.shape"
   ]
  },
  {
   "cell_type": "code",
   "execution_count": null,
   "id": "b8cea26f",
   "metadata": {},
   "outputs": [],
   "source": [
    "df_categorical_columns = df_seoulbike_treated.select_dtypes(include = \"category\")\n",
    "df_categorical_columns "
   ]
  },
  {
   "cell_type": "code",
   "execution_count": null,
   "id": "a71b85c1",
   "metadata": {},
   "outputs": [],
   "source": [
    "categorical_columns = df_categorical_columns.columns"
   ]
  },
  {
   "cell_type": "code",
   "execution_count": null,
   "id": "af57f18e",
   "metadata": {},
   "outputs": [],
   "source": [
    "categorical_columns"
   ]
  },
  {
   "cell_type": "code",
   "execution_count": null,
   "id": "dc1f05bc",
   "metadata": {},
   "outputs": [],
   "source": [
    "df_seoulbike_treated"
   ]
  },
  {
   "cell_type": "code",
   "execution_count": null,
   "id": "b30c4fc6",
   "metadata": {},
   "outputs": [],
   "source": [
    "df_seoulbike_treated['year'].unique()"
   ]
  },
  {
   "cell_type": "code",
   "execution_count": null,
   "id": "0bedad81",
   "metadata": {},
   "outputs": [],
   "source": [
    "df_seoulbike_treated = df_seoulbike_treated.drop([\"date\"],axis=1, inplace=False)"
   ]
  },
  {
   "cell_type": "code",
   "execution_count": null,
   "id": "f97acf2a",
   "metadata": {},
   "outputs": [],
   "source": [
    "#Checking all the columns type\n",
    "df_seoulbike_treated.info()"
   ]
  },
  {
   "cell_type": "markdown",
   "id": "e20adee4",
   "metadata": {},
   "source": [
    "## __Exploring the Data__"
   ]
  },
  {
   "cell_type": "code",
   "execution_count": null,
   "id": "f09e4279",
   "metadata": {},
   "outputs": [],
   "source": [
    "df_seoulbike_treated.head(7)"
   ]
  },
  {
   "cell_type": "code",
   "execution_count": null,
   "id": "1380a43a",
   "metadata": {},
   "outputs": [],
   "source": [
    "df_seoulbike_treated.describe()"
   ]
  },
  {
   "cell_type": "code",
   "execution_count": null,
   "id": "a47b4f5f",
   "metadata": {},
   "outputs": [],
   "source": [
    "# Import the DeviceCodeLoginAuthentication class to authenticate against Power BI\n",
    "from powerbiclient.authentication import DeviceCodeLoginAuthentication\n",
    "\n",
    "# Initiate device authentication\n",
    "device_auth = DeviceCodeLoginAuthentication()"
   ]
  },
  {
   "cell_type": "code",
   "execution_count": null,
   "id": "cec4e678",
   "metadata": {},
   "outputs": [],
   "source": [
    "\n",
    "report_id = \"f1d65d72-5b7b-4f17-9913-b4b2593e4e0a\"\n"
   ]
  },
  {
   "cell_type": "code",
   "execution_count": null,
   "id": "4f65faa8",
   "metadata": {},
   "outputs": [],
   "source": [
    "report = Report(report_id=report_id, auth=device_auth)\n",
    "\n",
    "report"
   ]
  },
  {
   "cell_type": "code",
   "execution_count": null,
   "id": "9e794bdf",
   "metadata": {},
   "outputs": [],
   "source": [
    "df_seoulbike_treated['month_name'].unique()"
   ]
  },
  {
   "cell_type": "code",
   "execution_count": null,
   "id": "4301fd47",
   "metadata": {},
   "outputs": [],
   "source": [
    "fig,ax=plt.subplots(figsize=(15,8))\n",
    "sns.set_style('white')\n",
    "#Bar plot for seasonwise monthly distribution of counts\n",
    "sns.barplot(x='month_name',y='rented_bike_count',data=df_seoulbike_treated[['month_name','rented_bike_count','year']],hue='year',order=['Jan', 'Feb', 'Mar', 'Apr','May','Jun','Jul', 'Aug', 'Sep', 'Oct', 'Nov','Dec'],ax=ax)\n",
    "ax.set_title('Seasonwise monthly distribution of counts')\n",
    "plt.show()"
   ]
  },
  {
   "cell_type": "markdown",
   "id": "b6ce19ac",
   "metadata": {},
   "source": []
  },
  {
   "cell_type": "code",
   "execution_count": null,
   "id": "7569f778",
   "metadata": {},
   "outputs": [],
   "source": [
    "fig,ax=plt.subplots(figsize=(15,8))\n",
    "sns.set_style('white')\n",
    "#Bar plot for seasonwise monthly distribution of counts\n",
    "sns.barplot(x='month_name',y='rented_bike_count',data=df_seoulbike_treated[['month_name','rented_bike_count','seasons']],hue='seasons',order=['Jan', 'Feb', 'Mar', 'Apr','May','Jun','Jul', 'Aug', 'Sep', 'Oct', 'Nov','Dec'],ax=ax)\n",
    "ax.set_title('Seasonwise monthly distribution of counts')\n",
    "plt.show()"
   ]
  },
  {
   "cell_type": "code",
   "execution_count": null,
   "id": "5767f2c0",
   "metadata": {},
   "outputs": [],
   "source": [
    "\n",
    "\n",
    "fig,ax=plt.subplots(figsize=(15,8))\n",
    "sns.set_style('white')\n",
    "#Bar plot for seasonwise monthly distribution of counts\n",
    "sns.barplot(x='month_name',y='rainfall(mm)',data=df_seoulbike_treated[['month_name','rainfall(mm)','year']],hue='year',order=['Jan', 'Feb', 'Mar', 'Apr','May','Jun','Jul', 'Aug', 'Sep', 'Oct', 'Nov','Dec'],ax=ax)\n",
    "ax.set_title('Seasonwise monthly distribution of counts')\n",
    "plt.show()"
   ]
  },
  {
   "cell_type": "code",
   "execution_count": null,
   "id": "452a5ecd",
   "metadata": {},
   "outputs": [],
   "source": [
    "\n",
    "fig,ax=plt.subplots(figsize=(15,8))\n",
    "sns.set_style('white')\n",
    "#Bar plot for seasonwise monthly distribution of counts\n",
    "sns.barplot(x='month_name',y='snowfall_(cm)',data=df_seoulbike_treated[['month_name','snowfall_(cm)','year']],hue='year',order=['Jan', 'Feb', 'Mar', 'Apr','May','Jun','Jul', 'Aug', 'Sep', 'Oct', 'Nov','Dec'],ax=ax)\n",
    "ax.set_title('Seasonwise monthly distribution of counts')\n",
    "plt.show()"
   ]
  },
  {
   "cell_type": "markdown",
   "id": "bc76abaf",
   "metadata": {},
   "source": [
    "## Finding Outliers"
   ]
  },
  {
   "cell_type": "code",
   "execution_count": null,
   "id": "2d89b625",
   "metadata": {},
   "outputs": [],
   "source": [
    "celsius = []\n",
    "for mensure in float_type:\n",
    "    if '(°c)' in mensure:\n",
    "        celsius.append(mensure)\n",
    "fig,ax=plt.subplots(figsize=(15,8))\n",
    "#Box plot for xxx _outliers\n",
    "sns.boxplot(data=df_seoulbike_treated[celsius])\n",
    "ax.set_title('xx_outiers')\n",
    "plt.show()"
   ]
  },
  {
   "cell_type": "code",
   "execution_count": null,
   "id": "2011ded7",
   "metadata": {},
   "outputs": [],
   "source": [
    "\n",
    "fig,ax=plt.subplots(figsize=(15,8))\n",
    "#Box plot for xxx _outliers\n",
    "sns.boxplot(data=df_seoulbike_treated['humidity(%)'])\n",
    "ax.set_title('xx_outiers')\n",
    "plt.show()"
   ]
  },
  {
   "cell_type": "code",
   "execution_count": null,
   "id": "f8a6986e",
   "metadata": {},
   "outputs": [],
   "source": [
    "\n",
    "\n",
    "\n",
    "fig,ax=plt.subplots(figsize=(15,8))\n",
    "#Box plot for xxx _outliers\n",
    "sns.boxplot(data=df_seoulbike_treated['visibility_(10m)'])\n",
    "ax.set_title('xx_outiers')\n",
    "plt.show()"
   ]
  },
  {
   "cell_type": "code",
   "execution_count": null,
   "id": "af217763",
   "metadata": {},
   "outputs": [],
   "source": [
    "\n",
    "\n",
    "fig,ax=plt.subplots(figsize=(15,8))\n",
    "#Box plot for xxx _outliers\n",
    "sns.boxplot(data=df_seoulbike_treated['wind_speed_(m/s)'])\n",
    "ax.set_title('xx_outiers')\n",
    "plt.show()"
   ]
  },
  {
   "cell_type": "code",
   "execution_count": null,
   "id": "8655fff5",
   "metadata": {},
   "outputs": [],
   "source": [
    "df_seoulbike_treated['wind_speed_(m/s)'].describe()"
   ]
  },
  {
   "cell_type": "code",
   "execution_count": null,
   "id": "b066f677",
   "metadata": {},
   "outputs": [],
   "source": [
    "wind_speed_Q1 = df_seoulbike_treated['wind_speed_(m/s)'].quantile(0.25)\n",
    "wind_speed_Q3 = df_seoulbike_treated['wind_speed_(m/s)'].quantile(0.75)\n",
    "\n",
    "print(f\"The first Quantile of Wind_Speed is {wind_speed_Q1}\")\n",
    "print(f\"The Thrid Quantile of Wind_Speed is {wind_speed_Q3}\")"
   ]
  },
  {
   "cell_type": "code",
   "execution_count": null,
   "id": "e4679b87",
   "metadata": {},
   "outputs": [],
   "source": [
    "wind_speed_IQR = wind_speed_Q3-wind_speed_Q1\n",
    "wind_speed_IQR"
   ]
  },
  {
   "cell_type": "markdown",
   "id": "ba6b006e",
   "metadata": {},
   "source": [
    "### Calculating the Mild Outliers"
   ]
  },
  {
   "cell_type": "code",
   "execution_count": null,
   "id": "a20c317a",
   "metadata": {},
   "outputs": [],
   "source": [
    "#Calculating the Mild Outliers\n",
    "\n",
    "mild_lower_bound = wind_speed_Q1-(1.5 * wind_speed_IQR)\n",
    "mild_upper_bound = wind_speed_Q3+(1.5 * wind_speed_IQR)\n",
    "print(f\"The Mild Lower Bound is {mild_lower_bound}\")\n",
    "print(f\"The Mild Upper Bound is {mild_upper_bound}\")"
   ]
  },
  {
   "cell_type": "markdown",
   "id": "5d8fdcb3",
   "metadata": {},
   "source": [
    "### Calculating the Extreme Outlier\n"
   ]
  },
  {
   "cell_type": "code",
   "execution_count": null,
   "id": "0779d0a7",
   "metadata": {},
   "outputs": [],
   "source": [
    "extreme_lower_bound = wind_speed_Q1-(3 * wind_speed_IQR)\n",
    "extreme_upper_bound = wind_speed_Q3+(3 * wind_speed_IQR)\n",
    "print(f\"The Extreme Lower Bound is {extreme_lower_bound}\")\n",
    "print(f\"The Extreme Upper Bound is {extreme_upper_bound}\")"
   ]
  },
  {
   "cell_type": "code",
   "execution_count": null,
   "id": "269e9a67",
   "metadata": {},
   "outputs": [],
   "source": [
    "outliers_lied_upper = df_seoulbike_treated['wind_speed_(m/s)']>mild_upper_bound"
   ]
  },
  {
   "cell_type": "code",
   "execution_count": null,
   "id": "7ab780cd",
   "metadata": {},
   "outputs": [],
   "source": [
    "#Now let's determine the number of outlier thar are lie outside of the mild_upper_bound\n",
    "\n",
    "number_of_outliers_lied_upper=(df_seoulbike_treated['wind_speed_(m/s)']>mild_upper_bound).sum()\n",
    "number_of_outliers_lied_upper"
   ]
  },
  {
   "cell_type": "code",
   "execution_count": null,
   "id": "52f314a8",
   "metadata": {},
   "outputs": [],
   "source": [
    "#Calculating the percentage of wind_speed lied over the Mild Upper Bound\n",
    "(df_seoulbike_treated['wind_speed_(m/s)']>mild_upper_bound).mean()*100"
   ]
  },
  {
   "cell_type": "code",
   "execution_count": null,
   "id": "a51b6c2c",
   "metadata": {
    "scrolled": true
   },
   "outputs": [],
   "source": [
    "#So now we'll identify which ones they are.\n",
    "df_seoulbike_treated_wind_speed_lied_upper_outliers= df_seoulbike_treated[df_seoulbike_treated['wind_speed_(m/s)']>mild_upper_bound]\n",
    "df_seoulbike_treated_wind_speed_lied_upper_outliers"
   ]
  },
  {
   "cell_type": "code",
   "execution_count": null,
   "id": "87b4578d",
   "metadata": {},
   "outputs": [],
   "source": [
    "df_seoulbike_treated_wind_speed_lied_upper_outliers.describe()"
   ]
  },
  {
   "cell_type": "code",
   "execution_count": null,
   "id": "f6740f66",
   "metadata": {},
   "outputs": [],
   "source": [
    "#let's see in which season that happened\n",
    "\n",
    "fig,ax=plt.subplots(figsize=(15,8))\n",
    "sns.set_style('white')\n",
    "#Bar plot for seasonwise monthly distribution of counts\n",
    "sns.barplot(x='month_name',y='rented_bike_count',data=df_seoulbike_treated_wind_speed_lied_upper_outliers[['month_name','rented_bike_count','seasons']],hue='seasons',order=['Jan', 'Feb', 'Mar', 'Apr','May','Jun','Jul', 'Aug', 'Sep', 'Oct', 'Nov','Dec'],ax=ax)\n",
    "ax.set_title('Wind Speed Lied over Mild Upper Outliers')\n",
    "plt.show()"
   ]
  },
  {
   "cell_type": "markdown",
   "id": "c7ade2ff",
   "metadata": {},
   "source": [
    "Ok that happened during all the year\n",
    "OK I will replace the upper outliers with the mean valuers during each season"
   ]
  },
  {
   "cell_type": "code",
   "execution_count": null,
   "id": "ad4fb5ee",
   "metadata": {},
   "outputs": [],
   "source": [
    "media_wind_speed=df_seoulbike_treated_wind_speed_lied_upper_outliers['wind_speed_(m/s)']\n",
    "media_wind_speed = media_wind_speed.describe().values[1]\n",
    "media_wind_speed"
   ]
  },
  {
   "cell_type": "code",
   "execution_count": null,
   "id": "31f44dcc",
   "metadata": {},
   "outputs": [],
   "source": []
  },
  {
   "cell_type": "code",
   "execution_count": null,
   "id": "cda1ec7c",
   "metadata": {},
   "outputs": [],
   "source": [
    "df_seoulbike_treated_wind_speed_lied_upper_outliers_teste =df_seoulbike_treated_wind_speed_lied_upper_outliers.copy()"
   ]
  },
  {
   "cell_type": "code",
   "execution_count": null,
   "id": "e8914f76",
   "metadata": {},
   "outputs": [],
   "source": [
    "\n",
    "\n",
    "df_seoulbike_treated['wind_speed_(m/s)'] = np.where(df_seoulbike_treated['wind_speed_(m/s)']>mild_upper_bound,mild_upper_bound,df_seoulbike_treated['wind_speed_(m/s)'])"
   ]
  },
  {
   "cell_type": "code",
   "execution_count": null,
   "id": "dc2096d5",
   "metadata": {},
   "outputs": [],
   "source": [
    "df_seoulbike_treated_wind_speed_lied_upper_outliers_teste['wind_speed_(m/s)']"
   ]
  },
  {
   "cell_type": "code",
   "execution_count": null,
   "id": "e143f8b6",
   "metadata": {},
   "outputs": [],
   "source": [
    "df_seoulbike_treated.describe()"
   ]
  },
  {
   "cell_type": "code",
   "execution_count": null,
   "id": "3a3ff65d",
   "metadata": {},
   "outputs": [],
   "source": [
    "df_seoulbike_treated_wind_speed_lied_upper_outliers.iloc[82,4]"
   ]
  },
  {
   "cell_type": "code",
   "execution_count": null,
   "id": "05b466b8",
   "metadata": {},
   "outputs": [],
   "source": [
    "df_seoulbike_treated.iloc[82,4]"
   ]
  },
  {
   "cell_type": "code",
   "execution_count": null,
   "id": "79e8cf42",
   "metadata": {},
   "outputs": [],
   "source": [
    "\n",
    "\n",
    "fig,ax=plt.subplots(figsize=(15,8))\n",
    "#Box plot for xxx _outliers\n",
    "sns.boxplot(data=df_seoulbike_treated['solar_radiation_(mj/m2)'])\n",
    "ax.set_title('xx_outiers')\n",
    "plt.show()"
   ]
  },
  {
   "cell_type": "code",
   "execution_count": null,
   "id": "81119d93",
   "metadata": {},
   "outputs": [],
   "source": [
    "df_seoulbike_treated.info()"
   ]
  },
  {
   "cell_type": "markdown",
   "id": "d41c7f77",
   "metadata": {},
   "source": [
    "### df_seoulbike_treated"
   ]
  },
  {
   "cell_type": "code",
   "execution_count": null,
   "id": "c9fe4375",
   "metadata": {},
   "outputs": [],
   "source": [
    "solar_radiation_Q1 = df_seoulbike_treated['solar_radiation_(mj/m2)'].quantile(0.25)\n",
    "solar_radiation_Q3 = df_seoulbike_treated['solar_radiation_(mj/m2)'].quantile(0.75)\n",
    "\n",
    "print(f\"The first Quantile of solar_radiation_(mj/m2) is {solar_radiation_Q1}\")\n",
    "print(f\"The Thrid Quantile of solar_radiation_(mj/m2) is {solar_radiation_Q3}\")"
   ]
  },
  {
   "cell_type": "code",
   "execution_count": null,
   "id": "a2f2e5d8",
   "metadata": {},
   "outputs": [],
   "source": [
    "solar_radiation_IQR = solar_radiation_Q3-solar_radiation_Q1\n",
    "solar_radiation_IQR\n",
    "\n"
   ]
  },
  {
   "cell_type": "markdown",
   "id": "0ee1e7b5",
   "metadata": {},
   "source": [
    "### Calculating the Mild Outliers"
   ]
  },
  {
   "cell_type": "code",
   "execution_count": null,
   "id": "b667cf4e",
   "metadata": {},
   "outputs": [],
   "source": [
    "#Calculating the Mild Outliers\n",
    "\n",
    "solar_mild_lower_bound = solar_radiation_Q1-(1.5 * solar_radiation_IQR)\n",
    "solar_mild_upper_bound = solar_radiation_Q3+(1.5 * solar_radiation_IQR)\n",
    "print(f\"The Mild Lower Bound is {solar_mild_lower_bound}\")\n",
    "print(f\"The Mild Upper Bound is {solar_mild_upper_bound}\")"
   ]
  },
  {
   "cell_type": "markdown",
   "id": "59d7e6c6",
   "metadata": {},
   "source": [
    "### Calculating the Extreme Outlier\n"
   ]
  },
  {
   "cell_type": "code",
   "execution_count": null,
   "id": "146d91d5",
   "metadata": {},
   "outputs": [],
   "source": [
    "extreme_solar_lower_bound = solar_radiation_Q1-(3 * solar_radiation_IQR)\n",
    "extreme_solar_upper_bound = solar_radiation_Q1+(3 * solar_radiation_IQR)\n",
    "print(f\"The Extreme Lower Bound is {extreme_lower_bound}\")\n",
    "print(f\"The Extreme Upper Bound is {extreme_upper_bound}\")"
   ]
  },
  {
   "cell_type": "code",
   "execution_count": null,
   "id": "babca468",
   "metadata": {},
   "outputs": [],
   "source": [
    "solar_radiation_outliers_lied_upper = df_seoulbike_treated['solar_radiation_(mj/m2)']>solar_mild_upper_bound"
   ]
  },
  {
   "cell_type": "code",
   "execution_count": null,
   "id": "7dd91361",
   "metadata": {},
   "outputs": [],
   "source": [
    "#Now let's determine the number of outlier thar are lie outside of the mild_upper_bound\n",
    "\n",
    "number_of_solar_radiation_outliers_lied_upper=solar_radiation_outliers_lied_upper.sum()\n",
    "number_of_solar_radiation_outliers_lied_upper"
   ]
  },
  {
   "cell_type": "code",
   "execution_count": null,
   "id": "42e00d0e",
   "metadata": {},
   "outputs": [],
   "source": [
    "#Calculating the percentage of wind_speed lied over the Mild Upper Bound\n",
    "(df_seoulbike_treated['solar_radiation_(mj/m2)']>solar_mild_upper_bound).mean()*100"
   ]
  },
  {
   "cell_type": "markdown",
   "id": "13745074",
   "metadata": {},
   "source": [
    "Wow!!! It's a lot and represent 7% of the data..."
   ]
  },
  {
   "cell_type": "code",
   "execution_count": null,
   "id": "ef736c4b",
   "metadata": {
    "scrolled": false
   },
   "outputs": [],
   "source": [
    "#So now we'll identify which ones they are.\n",
    "df_seoulbike_treated_solar_radiation_lied_upper_outliers= df_seoulbike_treated[df_seoulbike_treated['solar_radiation_(mj/m2)']>solar_mild_upper_bound]\n",
    "df_seoulbike_treated_solar_radiation_lied_upper_outliers"
   ]
  },
  {
   "cell_type": "code",
   "execution_count": null,
   "id": "0031fd70",
   "metadata": {},
   "outputs": [],
   "source": [
    "#OK I will replace with the upper bound value\n",
    "\n",
    "df_seoulbike_treated['solar_radiation_(mj/m2)'] = np.where(df_seoulbike_treated['solar_radiation_(mj/m2)']>solar_mild_upper_bound,solar_mild_upper_bound,df_seoulbike_treated['solar_radiation_(mj/m2)'])"
   ]
  },
  {
   "cell_type": "code",
   "execution_count": null,
   "id": "22de709e",
   "metadata": {},
   "outputs": [],
   "source": [
    "df_seoulbike_treated['snowfall_(cm)'].describe()"
   ]
  },
  {
   "cell_type": "code",
   "execution_count": null,
   "id": "6100dc4c",
   "metadata": {},
   "outputs": [],
   "source": [
    "#Now I will apply the log function, because during my tests I identified that my models were bring negative numbers. And that can not be.\n",
    "#I can not have -500 bikes to rent.\n",
    "#Só lets do it.\n",
    "import math\n"
   ]
  },
  {
   "cell_type": "code",
   "execution_count": null,
   "id": "e938ed74",
   "metadata": {},
   "outputs": [],
   "source": [
    "df_seoulbike_treated['rented_bike_count']=df_seoulbike_treated['rented_bike_count'].apply(lambda x: math.log(x))"
   ]
  },
  {
   "cell_type": "markdown",
   "id": "32bf5234",
   "metadata": {},
   "source": [
    "math domain error\n",
    "O erro “math domain error” ocorre quando você tenta calcular o logaritmo natural de um número negativo ou zero. Isso pode acontecer se a coluna rented_bike_count do seu DataFrame contiver valores negativos ou zero.\n",
    "\n",
    "Para corrigir esse problema, você pode adicionar uma constante positiva à coluna rented_bike_count antes de aplicar a transformação logarítmica. Por exemplo, você pode adicionar 1 a cada valor na coluna rented_bike_count:\n",
    "Mas como pode ser isto?? na base já tinha números negativos??"
   ]
  },
  {
   "cell_type": "code",
   "execution_count": null,
   "id": "774a33a4",
   "metadata": {},
   "outputs": [],
   "source": [
    "df_seoulbike_treated [df_seoulbike_treated['rented_bike_count']<0]"
   ]
  },
  {
   "cell_type": "code",
   "execution_count": null,
   "id": "0417d36b",
   "metadata": {},
   "outputs": [],
   "source": [
    "#from sklearn.model_selection import train_test_split\n",
    "target_y = df_seoulbike_treated[\"rented_bike_count\"]\n",
    "features_x = df_seoulbike_treated.drop(\"rented_bike_count\",axis=1, inplace=False)\n",
    "train_x,test_x, train_y,test_y = train_test_split(features_x, target_y, test_size=0.2, stratify=features_x['month'].to_numpy(), shuffle = True)"
   ]
  },
  {
   "cell_type": "markdown",
   "id": "789f1ce0",
   "metadata": {},
   "source": [
    "#### The scikit-learn does not provide any support for variable selection using a forward selection approach.   We will write a custom class for that. page 108"
   ]
  },
  {
   "cell_type": "code",
   "execution_count": null,
   "id": "45b26006",
   "metadata": {},
   "outputs": [],
   "source": [
    "from sklearn.base import BaseEstimator\n",
    "from sklearn.linear_model import LinearRegression\n",
    "from sklearn.metrics import r2_score\n",
    "from scipy.sparse import csr_matrix\n",
    "from sklearn.compose import make_column_transformer\n",
    "from sklearn.preprocessing import OneHotEncoder\n",
    "\n",
    "###incluir CategoricalVaribleEncoder class from page 53 of pragmatic Machine Learning\n",
    "class CategoricalVaribleEncoder(BaseEstimator): #page 53\n",
    "    \n",
    "    def __init__(self,categorical_features):\n",
    "        self.categorical_features = categorical_features\n",
    "        self.preprocessing_transformer = make_column_transformer((OneHotEncoder(handle_unknown=\"ignore\"),\n",
    "                                                                 self.categorical_features))\n",
    "        \n",
    "    def fit(self, X, y=None):\n",
    "        self.preprocessing_transformer.fit(X)\n",
    "        return self\n",
    "        \n",
    "    def transform(self, X):\n",
    "        preprocessed_x = self.preprocessing_transformer.transform(X)\n",
    "        return csr_matrix(preprocessed_x).todense()\n",
    "\n",
    "\n",
    "\n",
    "\n",
    "\n",
    "class FowardSelectionLinearRegression(BaseEstimator): #page 108\n",
    "    \n",
    "    def __init__(self):\n",
    "        self.optimal_predictors = None\n",
    "        self.optimal_model = None\n",
    "        \n",
    "    def fit(self, X,y=None):\n",
    "        current_predictors = []\n",
    "        if not isinstance(X,pd.DataFrame):\n",
    "            X = pd.DataFrame(X)\n",
    "        remaining_predictors = list(X)\n",
    "        adjusted_r2_diff = 1\n",
    "        last_adjusted_r2 = 0\n",
    "        \n",
    "        while True:\n",
    "            best_predictor, adjusted_r2, r2 = self._get_next_best_predictor_(X=X, Y=y, current_predictors = current_predictors,\n",
    "                                                                           remaining_predictors = remaining_predictors)\n",
    "            adjusted_r2_diff = round(adjusted_r2 - last_adjusted_r2, 2)\n",
    "            if adjusted_r2_diff <= 0.00 or len(remaining_predictors) <= 0:\n",
    "                break\n",
    "                \n",
    "            current_predictors.append(best_predictor)\n",
    "            remaining_predictors.remove(best_predictor)\n",
    "            last_adjusted_r2 = adjusted_r2\n",
    "            \n",
    "        self.optimal_predictors_ = current_predictors\n",
    "        self.optimal_model_ = LinearRegression().fit(X[self.optimal_predictors_],y)\n",
    "        \n",
    "    def _adjusted_r2_score_(self, r2_val, n, k):\n",
    "        return (1-(((1-r2_val)*(n-1))/(n-k-1)))\n",
    "    \n",
    "    def _get_next_best_predictor_(self, X, Y, current_predictors=None, remaining_predictors=None):\n",
    "        max_adjusted_r2_val = 0\n",
    "        adjusted_r2_val = 0\n",
    "        best_r2_val = 0\n",
    "        r2Val = 0\n",
    "        best_predictor = None\n",
    "        n = len(X)\n",
    "        \n",
    "        for predictor in remaining_predictors:\n",
    "            lr = LinearRegression()\n",
    "            \n",
    "            predictors = []\n",
    "            predictors.extend(current_predictors)\n",
    "            predictors.append(predictor)\n",
    "            \n",
    "            lr.fit(X[predictors],Y)\n",
    "            predY = lr.predict(X[predictors])\n",
    "            r2Val = r2_score(Y,predY)\n",
    "            adjusted_r2_val = self._adjusted_r2_score_(r2Val, n,len(predictors))\n",
    "            if max_adjusted_r2_val < adjusted_r2_val:\n",
    "                best_predictor = predictor\n",
    "                max_adjusted_r2_val = adjusted_r2_val\n",
    "                best_r2_val = r2Val\n",
    "                \n",
    "        return best_predictor, max_adjusted_r2_val, best_r2_val\n",
    "    \n",
    "    def predict(self, X):\n",
    "        if not isinstance(X,pd.DataFrame):\n",
    "            X = pd.DataFrame(X)\n",
    "        X = X[self.optimal_predictors_]\n",
    "        return self.optimal_model_.predict(X)\n",
    "    "
   ]
  },
  {
   "cell_type": "markdown",
   "id": "298e8ae4",
   "metadata": {},
   "source": [
    "# Building the Model"
   ]
  },
  {
   "cell_type": "markdown",
   "id": "9c669a79",
   "metadata": {},
   "source": [
    "### Foward Selection Linear Regression"
   ]
  },
  {
   "cell_type": "code",
   "execution_count": null,
   "id": "b0c2d27b",
   "metadata": {},
   "outputs": [],
   "source": [
    "fs_lr = FowardSelectionLinearRegression()\n",
    "\n",
    "bike_seoul_pl = Pipeline(steps = [('one_hot_encoder', CategoricalVaribleEncoder(categorical_features = categorical_columns)),\n",
    "        ('scaler',StandardScaler()),\n",
    "        ('foward_selection_model',fs_lr)\n",
    "        \n",
    "    ]\n",
    ")\n",
    "    \n",
    "bike_seoul_pl.fit(train_x,train_y)\n",
    "        "
   ]
  },
  {
   "cell_type": "code",
   "execution_count": null,
   "id": "5c06b7b6",
   "metadata": {},
   "outputs": [],
   "source": [
    "## page 110 to see the best predictors\n",
    "list(df_seoulbike_treated.loc[fs_lr.optimal_predictors_])"
   ]
  },
  {
   "cell_type": "code",
   "execution_count": null,
   "id": "c69040aa",
   "metadata": {},
   "outputs": [],
   "source": [
    "len(list(df_seoulbike_treated.loc[fs_lr.optimal_predictors_]))"
   ]
  },
  {
   "cell_type": "code",
   "execution_count": null,
   "id": "502c5021",
   "metadata": {},
   "outputs": [],
   "source": [
    "df_seoulbike_treated.shape"
   ]
  },
  {
   "cell_type": "code",
   "execution_count": null,
   "id": "4b88c9b0",
   "metadata": {},
   "outputs": [],
   "source": [
    "test_bike_seoul_pl_y = bike_seoul_pl.predict(test_x)\n"
   ]
  },
  {
   "cell_type": "code",
   "execution_count": null,
   "id": "29149b11",
   "metadata": {},
   "outputs": [],
   "source": [
    "type(test_y)"
   ]
  },
  {
   "cell_type": "code",
   "execution_count": null,
   "id": "459ffc7a",
   "metadata": {},
   "outputs": [],
   "source": [
    "type(test_bike_seoul_pl_y)"
   ]
  },
  {
   "cell_type": "code",
   "execution_count": null,
   "id": "bb5154e8",
   "metadata": {},
   "outputs": [],
   "source": [
    "test_bike_seoul_pl_y_list = list(test_bike_seoul_pl_y)"
   ]
  },
  {
   "cell_type": "code",
   "execution_count": null,
   "id": "a6ebd234",
   "metadata": {},
   "outputs": [],
   "source": [
    "len(test_bike_seoul_pl_y_list)"
   ]
  },
  {
   "cell_type": "code",
   "execution_count": null,
   "id": "08f7658a",
   "metadata": {},
   "outputs": [],
   "source": [
    "len(list(test_y))"
   ]
  },
  {
   "cell_type": "code",
   "execution_count": null,
   "id": "97fb0bc5",
   "metadata": {},
   "outputs": [],
   "source": [
    "r_2_fs_lr = r2_score(list(test_y), test_bike_seoul_pl_y_list)"
   ]
  },
  {
   "cell_type": "code",
   "execution_count": null,
   "id": "7e416dbe",
   "metadata": {},
   "outputs": [],
   "source": [
    "r_2_fs_lr"
   ]
  },
  {
   "cell_type": "code",
   "execution_count": null,
   "id": "12efe944",
   "metadata": {},
   "outputs": [],
   "source": [
    "test_bike_seoul_pl_y.max(axis=0)"
   ]
  },
  {
   "cell_type": "code",
   "execution_count": null,
   "id": "aa076ff3",
   "metadata": {},
   "outputs": [],
   "source": [
    "test_bike_seoul_pl_y.min(axis=0)"
   ]
  },
  {
   "cell_type": "code",
   "execution_count": null,
   "id": "f8a4283c",
   "metadata": {},
   "outputs": [],
   "source": [
    "import matplotlib.pyplot as plt\n",
    "import numpy as np\n",
    "from sklearn import datasets, linear_model\n",
    "from sklearn.metrics import mean_squared_error, r2_score\n",
    "\n",
    "# The coefficients\n",
    "#print(\"Coefficients: \\n\", regr.coef_)\n",
    "# The mean squared error\n",
    "print(\"Mean squared error: %.2f\" % mean_squared_error(list(test_y), test_bike_seoul_pl_y_list))\n",
    "# The coefficient of determination: 1 is perfect prediction\n",
    "print(\"Coefficient of determination: %.2f\" % r2_score(list(test_y), test_bike_seoul_pl_y_list))"
   ]
  },
  {
   "cell_type": "code",
   "execution_count": null,
   "id": "0448ff8d",
   "metadata": {},
   "outputs": [],
   "source": [
    "houra_zero = (test_x['hour']==0).sum()"
   ]
  },
  {
   "cell_type": "code",
   "execution_count": null,
   "id": "d89f9bc1",
   "metadata": {},
   "outputs": [],
   "source": [
    "houra_zero"
   ]
  },
  {
   "cell_type": "code",
   "execution_count": null,
   "id": "0e1f484b",
   "metadata": {},
   "outputs": [],
   "source": [
    "test_x['year'].unique()"
   ]
  },
  {
   "cell_type": "code",
   "execution_count": null,
   "id": "d58e5a5a",
   "metadata": {},
   "outputs": [],
   "source": [
    "test_x.head(11)"
   ]
  },
  {
   "cell_type": "code",
   "execution_count": null,
   "id": "eb18026c",
   "metadata": {},
   "outputs": [],
   "source": [
    "season = test_x.seasons == 'Autumn'\n",
    "day_of_week = test_x.day_of_week == 'Tuesday'\n",
    "criterio = season | day_of_week\n",
    "test_x[criterio]"
   ]
  },
  {
   "cell_type": "code",
   "execution_count": null,
   "id": "7ffa4067",
   "metadata": {},
   "outputs": [],
   "source": [
    "index_list = test_x[criterio].index.to_list()\n",
    "index_list"
   ]
  },
  {
   "cell_type": "code",
   "execution_count": null,
   "id": "87e9347c",
   "metadata": {},
   "outputs": [],
   "source": [
    "test_y[index_list]"
   ]
  },
  {
   "cell_type": "code",
   "execution_count": null,
   "id": "1c05a691",
   "metadata": {},
   "outputs": [],
   "source": [
    "test_x[criterio]['hour']"
   ]
  },
  {
   "cell_type": "code",
   "execution_count": null,
   "id": "aa71a32b",
   "metadata": {},
   "outputs": [],
   "source": [
    "test_y[index_list]"
   ]
  },
  {
   "cell_type": "code",
   "execution_count": null,
   "id": "366cc5d4",
   "metadata": {},
   "outputs": [],
   "source": [
    "test_bike_seoul_pl_y.size"
   ]
  },
  {
   "cell_type": "code",
   "execution_count": null,
   "id": "7dddf353",
   "metadata": {},
   "outputs": [],
   "source": [
    "test_x['hour']"
   ]
  },
  {
   "cell_type": "code",
   "execution_count": null,
   "id": "180383fb",
   "metadata": {},
   "outputs": [],
   "source": [
    "indice = test_x['hour'].index.to_list()\n",
    "indice "
   ]
  },
  {
   "cell_type": "code",
   "execution_count": null,
   "id": "c1d78767",
   "metadata": {},
   "outputs": [],
   "source": [
    "len(indice)"
   ]
  },
  {
   "cell_type": "code",
   "execution_count": null,
   "id": "2f5fc236",
   "metadata": {},
   "outputs": [],
   "source": [
    "test_bike_seoul_pl_y"
   ]
  },
  {
   "cell_type": "code",
   "execution_count": null,
   "id": "25ed0899",
   "metadata": {},
   "outputs": [],
   "source": [
    "len(test_bike_seoul_pl_y)"
   ]
  },
  {
   "cell_type": "code",
   "execution_count": null,
   "id": "0464b3ff",
   "metadata": {},
   "outputs": [],
   "source": [
    "novo_dataframe_para_ver_resultado_filtrado = {\"indice_2\" : indice, \"quantidade\": test_bike_seoul_pl_y }"
   ]
  },
  {
   "cell_type": "code",
   "execution_count": null,
   "id": "7a89dac3",
   "metadata": {},
   "outputs": [],
   "source": [
    "valores_teste_com_indice = pd.DataFrame(novo_dataframe_para_ver_resultado_filtrado)"
   ]
  },
  {
   "cell_type": "code",
   "execution_count": null,
   "id": "2a26c726",
   "metadata": {},
   "outputs": [],
   "source": [
    "valores_teste_com_indice"
   ]
  },
  {
   "cell_type": "code",
   "execution_count": null,
   "id": "68240191",
   "metadata": {},
   "outputs": [],
   "source": [
    "valores_teste_com_indice = valores_teste_com_indice.set_index('indice_2')"
   ]
  },
  {
   "cell_type": "code",
   "execution_count": null,
   "id": "e2207627",
   "metadata": {},
   "outputs": [],
   "source": [
    "valores_teste_com_indice"
   ]
  },
  {
   "cell_type": "code",
   "execution_count": null,
   "id": "b32996fd",
   "metadata": {},
   "outputs": [],
   "source": [
    "valores_teste_com_indice.index.dtype\n"
   ]
  },
  {
   "cell_type": "code",
   "execution_count": null,
   "id": "a3705778",
   "metadata": {},
   "outputs": [],
   "source": [
    "valores_teste_com_indice.index"
   ]
  },
  {
   "cell_type": "code",
   "execution_count": null,
   "id": "6ea20c68",
   "metadata": {},
   "outputs": [],
   "source": [
    "valores_teste_com_indice.index.get_loc(7574)"
   ]
  },
  {
   "cell_type": "code",
   "execution_count": null,
   "id": "3c825878",
   "metadata": {},
   "outputs": [],
   "source": [
    "indices_presentes = valores_teste_com_indice.index.isin(index_list)"
   ]
  },
  {
   "cell_type": "code",
   "execution_count": null,
   "id": "94ad2398",
   "metadata": {},
   "outputs": [],
   "source": [
    "indices_presentes"
   ]
  },
  {
   "cell_type": "code",
   "execution_count": null,
   "id": "5d1eb027",
   "metadata": {},
   "outputs": [],
   "source": [
    "df_filtrado_pelo_criterio = valores_teste_com_indice.loc[indices_presentes]"
   ]
  },
  {
   "cell_type": "code",
   "execution_count": null,
   "id": "fea3660f",
   "metadata": {},
   "outputs": [],
   "source": []
  },
  {
   "cell_type": "code",
   "execution_count": null,
   "id": "2c3c936d",
   "metadata": {},
   "outputs": [],
   "source": [
    "#Tenho que rever isto deu quantidade negativa no indice 1 = -346.539470\n",
    "df_filtrado_pelo_criterio \n"
   ]
  },
  {
   "cell_type": "code",
   "execution_count": null,
   "id": "d8490b40",
   "metadata": {},
   "outputs": [],
   "source": [
    "valores_teste_com_indice[valores_teste_com_indice['quantidade']<0]"
   ]
  },
  {
   "cell_type": "code",
   "execution_count": null,
   "id": "1c745041",
   "metadata": {},
   "outputs": [],
   "source": []
  },
  {
   "cell_type": "code",
   "execution_count": null,
   "id": "cfafaffa",
   "metadata": {},
   "outputs": [],
   "source": [
    "test_y[index_list]"
   ]
  },
  {
   "cell_type": "code",
   "execution_count": null,
   "id": "d98acaa8",
   "metadata": {},
   "outputs": [],
   "source": [
    "# Plot outputs\n",
    "plt.scatter(test_x[criterio]['hour'].to_numpy(), test_y[index_list], color=\"black\")\n",
    "plt.plot(test_x[criterio]['hour'].to_numpy(), df_filtrado_pelo_criterio['quantidade'],color=\"blue\", linewidth=1)\n",
    "\n",
    "#plt.xticks(())\n",
    "#plt.yticks(())\n",
    "\n",
    "plt.show()"
   ]
  },
  {
   "cell_type": "code",
   "execution_count": null,
   "id": "7349e537",
   "metadata": {},
   "outputs": [],
   "source": [
    "# Plot outputs\n",
    "plt.scatter(test_x['hour'][1:10].to_numpy(), test_y[1:10], color=\"black\")\n",
    "plt.plot(test_x['hour'][1:10].to_numpy(), test_bike_seoul_pl_y[1:10],color=\"blue\", linewidth=1)\n",
    "\n",
    "#plt.xticks(())\n",
    "#plt.yticks(())\n",
    "\n",
    "plt.show()"
   ]
  },
  {
   "cell_type": "code",
   "execution_count": null,
   "id": "e287df12",
   "metadata": {},
   "outputs": [],
   "source": [
    "#Bora consertar estes números negativos... para isto vou aplicar a funão log de math\n",
    "\n",
    "df['bicicletas'].apply(lambda x: math.log(x))"
   ]
  },
  {
   "cell_type": "code",
   "execution_count": null,
   "id": "217bdaad",
   "metadata": {},
   "outputs": [],
   "source": [
    "import seaborn as sns\n",
    "residuals = test_bike_seoul_pl_y- test_y\n",
    "sns.scatterplot(data = residuals)\n",
    "plt.xlabel(\"Data Instance\")\n",
    "plt.ylabel(\"Residual\")\n",
    "plt.show()\n",
    "\n"
   ]
  },
  {
   "cell_type": "markdown",
   "id": "1751b2f5",
   "metadata": {},
   "source": [
    "### Polynomial Regression"
   ]
  },
  {
   "cell_type": "code",
   "execution_count": null,
   "id": "bbeaf01c",
   "metadata": {},
   "outputs": [],
   "source": [
    "class PolynomialRegression(BaseEstimator):\n",
    "    '''\n",
    "    '''\n",
    "    def __init__(self, degree=2):\n",
    "        self.degree = degree\n",
    "        self.poly_reg_model = LinearRegression()\n",
    "        \n",
    "    def _generate_polynomial_features_(self, X):\n",
    "        '''\n",
    "        '''\n",
    "        new_columns = []\n",
    "        columns = list(X)\n",
    "        for c in columns:\n",
    "            for d in range(2, (self.degree+1)):\n",
    "                new_c = str(c)+\"^\"+str(d)\n",
    "                X[new_c]=pow(X[c],d)\n",
    "        return X\n",
    "\n",
    "    def fit(self, X, y=None):\n",
    "        '''\n",
    "        '''\n",
    "        if not isinstance(X, pd.DataFrame):\n",
    "            X = pd.DataFrame(X)\n",
    "        X = self._generate_polynomial_features_(X)\n",
    "        self.poly_reg_model.fit(X,y)\n",
    "        \n",
    "    def predict(self, X):\n",
    "        '''\n",
    "        '''\n",
    "        if not isinstance(X, pd.DataFrame):\n",
    "            X = pd.DataFrame(X)\n",
    "        X = self._generate_polynomial_features_(X)\n",
    "        return self.poly_reg_model.predict(X)\n",
    "            "
   ]
  },
  {
   "cell_type": "code",
   "execution_count": null,
   "id": "4a65b059",
   "metadata": {},
   "outputs": [],
   "source": [
    "poly_reg = PolynomialRegression(degree=11)\n",
    "poly_lr_pl = Pipeline(steps = [('one_hot_encoder', CategoricalVaribleEncoder(categorical_features = categorical_columns)),\n",
    "        ('scaler',StandardScaler()),\n",
    "        ('poly_reg',poly_reg)\n",
    "        \n",
    "    ]\n",
    ")\n",
    "\n",
    "poly_lr_pl.fit(train_x,train_y)"
   ]
  },
  {
   "cell_type": "code",
   "execution_count": null,
   "id": "fabae887",
   "metadata": {},
   "outputs": [],
   "source": [
    "predited_poly_y = poly_lr_pl.predict(test_x)"
   ]
  },
  {
   "cell_type": "code",
   "execution_count": null,
   "id": "791204e5",
   "metadata": {},
   "outputs": [],
   "source": [
    "predited_poly_y"
   ]
  },
  {
   "cell_type": "code",
   "execution_count": null,
   "id": "b4ae44d3",
   "metadata": {},
   "outputs": [],
   "source": [
    "test_y.to_numpy()"
   ]
  },
  {
   "cell_type": "code",
   "execution_count": null,
   "id": "f3af3b64",
   "metadata": {},
   "outputs": [],
   "source": [
    "r2_score(test_y.to_numpy(),predited_poly_y)"
   ]
  },
  {
   "cell_type": "code",
   "execution_count": null,
   "id": "e2a798ec",
   "metadata": {},
   "outputs": [],
   "source": [
    "train_predited_poly_y = poly_lr_pl.predict(train_x)"
   ]
  },
  {
   "cell_type": "code",
   "execution_count": null,
   "id": "17674d76",
   "metadata": {},
   "outputs": [],
   "source": [
    "r2_score(train_y.to_numpy(),train_predited_poly_y)"
   ]
  },
  {
   "cell_type": "code",
   "execution_count": null,
   "id": "562a3bdf",
   "metadata": {},
   "outputs": [],
   "source": [
    "# Plot outputs\n",
    "plt.scatter((test_x['hour'][1:10]).to_numpy(), test_y[1:10], color=\"black\")\n",
    "plt.plot((test_x['hour'][1:10]).to_numpy(), test_bike_seoul_pl_y[1:10], color=\"blue\", linewidth=1)\n",
    "\n",
    "plt.xticks(())\n",
    "plt.yticks(())\n",
    "\n",
    "plt.show()"
   ]
  },
  {
   "cell_type": "code",
   "execution_count": null,
   "id": "a9029214",
   "metadata": {},
   "outputs": [],
   "source": [
    "#We have a problem of overfitting here as explained in page 118"
   ]
  },
  {
   "cell_type": "markdown",
   "id": "46443eee",
   "metadata": {},
   "source": [
    "## Lasso"
   ]
  },
  {
   "cell_type": "code",
   "execution_count": null,
   "id": "1fc348e7",
   "metadata": {},
   "outputs": [],
   "source": [
    "from sklearn.linear_model import Lasso\n",
    "\n",
    "lasso_model = Lasso()\n",
    "lasso_bike_model_pl = Pipeline(steps = [('one_hot_encoder', CategoricalVaribleEncoder(categorical_features = categorical_columns)),\n",
    "        ('scaler',StandardScaler()),\n",
    "        ('lr',lasso_model)\n",
    "        \n",
    "    ]\n",
    ")\n",
    "lasso_bike_model_pl.fit(train_x,train_y)\n"
   ]
  },
  {
   "cell_type": "code",
   "execution_count": null,
   "id": "d570d1d8",
   "metadata": {},
   "outputs": [],
   "source": [
    "test_lasso_bike_y = lasso_bike_model_pl.predict(test_x)\n"
   ]
  },
  {
   "cell_type": "code",
   "execution_count": null,
   "id": "0b4a3f41",
   "metadata": {},
   "outputs": [],
   "source": [
    "test_lasso_bike_y"
   ]
  },
  {
   "cell_type": "code",
   "execution_count": null,
   "id": "6af46886",
   "metadata": {},
   "outputs": [],
   "source": [
    "test_y"
   ]
  },
  {
   "cell_type": "code",
   "execution_count": null,
   "id": "4c037e1f",
   "metadata": {},
   "outputs": [],
   "source": [
    "r2_score(test_y.to_numpy(),test_lasso_bike_y)"
   ]
  },
  {
   "cell_type": "code",
   "execution_count": null,
   "id": "52658105",
   "metadata": {},
   "outputs": [],
   "source": [
    "# Plot outputs\n",
    "plt.scatter(list(test_x['hour'][1:10]), test_y[1:10], color=\"black\")\n",
    "plt.plot(list(test_x['hour'][1:10]), test_lasso_bike_y[1:10], color=\"blue\", linewidth=1)\n",
    "\n",
    "plt.xticks(())\n",
    "plt.yticks(())\n",
    "\n",
    "plt.show()"
   ]
  },
  {
   "cell_type": "markdown",
   "id": "b67d8971",
   "metadata": {},
   "source": [
    "## DecisionTreeRegressor"
   ]
  },
  {
   "cell_type": "code",
   "execution_count": null,
   "id": "b684a812",
   "metadata": {},
   "outputs": [],
   "source": [
    "from sklearn.tree import DecisionTreeRegressor\n",
    "\n",
    "dt_bike_reg = DecisionTreeRegressor()\n",
    "dt_bike_reg_pl = Pipeline(steps = [('one_hot_encoder', CategoricalVaribleEncoder(categorical_features = categorical_columns)),\n",
    "        ('scaler',StandardScaler()),\n",
    "        ('dt_reg',dt_bike_reg)\n",
    "        \n",
    "    ]\n",
    ")\n",
    "\n",
    "dt_bike_reg_pl.fit(train_x,train_y)"
   ]
  },
  {
   "cell_type": "code",
   "execution_count": null,
   "id": "2078a826",
   "metadata": {},
   "outputs": [],
   "source": [
    "predicted_bike_dt_reg_y =dt_bike_reg_pl.predict(test_x)\n",
    "r2_score(test_y,predicted_bike_dt_reg_y)"
   ]
  },
  {
   "cell_type": "code",
   "execution_count": null,
   "id": "cd5f0915",
   "metadata": {},
   "outputs": [],
   "source": [
    "# Plot outputs\n",
    "plt.scatter(list(test_x['hour'][1:10]), test_y[1:10], color=\"black\")\n",
    "plt.plot(list(test_x['hour'][1:10]), predicted_bike_dt_reg_y[1:10], color=\"blue\", linewidth=1)\n",
    "\n",
    "plt.xticks(())\n",
    "plt.yticks(())\n",
    "\n",
    "plt.show()"
   ]
  },
  {
   "cell_type": "markdown",
   "id": "ef2fa6e3",
   "metadata": {},
   "source": [
    "## SVM"
   ]
  },
  {
   "cell_type": "code",
   "execution_count": null,
   "id": "99ef967e",
   "metadata": {},
   "outputs": [],
   "source": [
    "\n",
    "\n",
    "from sklearn.svm import LinearSVR\n",
    "\n",
    "bike_svm_reg = LinearSVR(1.5)\n",
    "bike_svm_reg_pl = Pipeline(steps = [('one_hot_encoder', CategoricalVaribleEncoder(categorical_features = categorical_columns)),\n",
    "        ('scaler',StandardScaler()),\n",
    "        ('SVM_reg',bike_svm_reg)\n",
    "        \n",
    "    ]\n",
    ")\n",
    "\n",
    "bike_svm_reg_pl.fit(train_x,train_y)"
   ]
  },
  {
   "cell_type": "code",
   "execution_count": null,
   "id": "5d6e3b6a",
   "metadata": {},
   "outputs": [],
   "source": [
    "predicted_bike_dt_svm_y =bike_svm_reg_pl.predict(test_x)\n",
    "r2_score(test_y.to_numpy(),predicted_bike_dt_svm_y)"
   ]
  },
  {
   "cell_type": "code",
   "execution_count": null,
   "id": "2dbcba93",
   "metadata": {},
   "outputs": [],
   "source": [
    "test_y"
   ]
  },
  {
   "cell_type": "code",
   "execution_count": null,
   "id": "3764ba6a",
   "metadata": {},
   "outputs": [],
   "source": [
    "predicted_bike_dt_svm_y"
   ]
  },
  {
   "cell_type": "code",
   "execution_count": null,
   "id": "6d9ece10",
   "metadata": {},
   "outputs": [],
   "source": [
    "# Plot outputs\n",
    "plt.scatter(test_x['hour'][1:10].to_numpy(), test_y[1:10], color=\"black\")\n",
    "plt.plot(test_x['hour'][1:10].to_numpy(), predicted_bike_dt_svm_y[1:10], color=\"blue\", linewidth=1)\n",
    "\n",
    "plt.xticks(())\n",
    "plt.yticks(())\n",
    "\n",
    "plt.show()"
   ]
  },
  {
   "cell_type": "markdown",
   "id": "5483d22f",
   "metadata": {},
   "source": [
    "#### Support Vector Regression"
   ]
  },
  {
   "cell_type": "code",
   "execution_count": null,
   "id": "686a7b81",
   "metadata": {},
   "outputs": [],
   "source": [
    "from sklearn.svm import SVR\n",
    "\n",
    "bike_svm_reg_2 = SVR(kernel=\"poly\", degree=2, C=100, epsilon=0.1)\n",
    "bike_svm_reg_pl_2 = Pipeline(steps = [('one_hot_encoder', CategoricalVaribleEncoder(categorical_features = categorical_columns)),\n",
    "        ('scaler',StandardScaler()),\n",
    "        ('SVM_reg_2',bike_svm_reg_2)\n",
    "        \n",
    "    ]\n",
    ")\n",
    "\n",
    "bike_svm_reg_pl_2.fit(train_x,train_y)"
   ]
  },
  {
   "cell_type": "code",
   "execution_count": null,
   "id": "e44ffa66",
   "metadata": {},
   "outputs": [],
   "source": [
    "predicted_bike_dt_svm_y_2 =bike_svm_reg_pl_2.predict(test_x)\n",
    "r2_score(test_y.to_numpy(),predicted_bike_dt_svm_y_2)"
   ]
  },
  {
   "cell_type": "code",
   "execution_count": null,
   "id": "31e1a7fa",
   "metadata": {},
   "outputs": [],
   "source": [
    "# Plot outputs\n",
    "plt.scatter(test_x['hour'][1:10].to_numpy(), test_y[1:10], color=\"black\")\n",
    "plt.plot(test_x['hour'][1:10].to_numpy(), predicted_bike_dt_svm_y_2[1:10], color=\"blue\", linewidth=1)\n",
    "\n",
    "plt.xticks(())\n",
    "plt.yticks(())\n",
    "\n",
    "plt.show()"
   ]
  },
  {
   "cell_type": "markdown",
   "id": "969c3279",
   "metadata": {},
   "source": [
    "#### To do not affect the accuracy and also to not increase the complexity of our model unnecessary,we will chose the best features to work with.  \n",
    "#### Building the Adjusted R2\n",
    " but the model R2 does not improve that much. It indicates the fact that some features may be irrelevant and are not influencing the determination of target variable value. Those can be excluded while building the final model. Adjusted R2"
   ]
  },
  {
   "cell_type": "code",
   "execution_count": null,
   "id": "cf3fd2ca",
   "metadata": {},
   "outputs": [],
   "source": []
  }
 ],
 "metadata": {
  "kernelspec": {
   "display_name": "Python 3",
   "language": "python",
   "name": "python3"
  },
  "language_info": {
   "codemirror_mode": {
    "name": "ipython",
    "version": 3
   },
   "file_extension": ".py",
   "mimetype": "text/x-python",
   "name": "python",
   "nbconvert_exporter": "python",
   "pygments_lexer": "ipython3",
   "version": "3.8.8"
  }
 },
 "nbformat": 4,
 "nbformat_minor": 5
}
