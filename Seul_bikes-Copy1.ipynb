{
 "cells": [
  {
   "cell_type": "markdown",
   "id": "8507393d",
   "metadata": {},
   "source": [
    "## The Problem Definition"
   ]
  },
  {
   "cell_type": "code",
   "execution_count": 1,
   "id": "3c4ebaa1",
   "metadata": {},
   "outputs": [],
   "source": [
    "# importing\n",
    "import pandas as pd\n",
    "import numpy as np\n",
    "import matplotlib.pyplot as plt \n",
    "import seaborn as sns\n",
    "import chardet\n",
    "import missingno as msno\n",
    "from sklearn.model_selection import train_test_split\n",
    "from sklearn.preprocessing import StandardScaler\n",
    "from sklearn.pipeline import Pipeline"
   ]
  },
  {
   "cell_type": "code",
   "execution_count": 2,
   "id": "2d5be605",
   "metadata": {},
   "outputs": [],
   "source": [
    "# uploading data\n",
    "path = \"seoul_bike_sharing_demand\\SeoulBikeData.csv\""
   ]
  },
  {
   "cell_type": "code",
   "execution_count": 3,
   "id": "59cc8257",
   "metadata": {},
   "outputs": [],
   "source": [
    "df_seoulbike = pd.read_csv(path)"
   ]
  },
  {
   "cell_type": "code",
   "execution_count": 4,
   "id": "c3363da5",
   "metadata": {},
   "outputs": [
    {
     "data": {
      "text/html": [
       "<div>\n",
       "<style scoped>\n",
       "    .dataframe tbody tr th:only-of-type {\n",
       "        vertical-align: middle;\n",
       "    }\n",
       "\n",
       "    .dataframe tbody tr th {\n",
       "        vertical-align: top;\n",
       "    }\n",
       "\n",
       "    .dataframe thead th {\n",
       "        text-align: right;\n",
       "    }\n",
       "</style>\n",
       "<table border=\"1\" class=\"dataframe\">\n",
       "  <thead>\n",
       "    <tr style=\"text-align: right;\">\n",
       "      <th></th>\n",
       "      <th>Date</th>\n",
       "      <th>Rented Bike Count</th>\n",
       "      <th>Hour</th>\n",
       "      <th>Temperature(�C)</th>\n",
       "      <th>Humidity(%)</th>\n",
       "      <th>Wind speed (m/s)</th>\n",
       "      <th>Visibility (10m)</th>\n",
       "      <th>Dew point temperature(�C)</th>\n",
       "      <th>Solar Radiation (MJ/m2)</th>\n",
       "      <th>Rainfall(mm)</th>\n",
       "      <th>Snowfall (cm)</th>\n",
       "      <th>Seasons</th>\n",
       "      <th>Holiday</th>\n",
       "      <th>Functioning Day</th>\n",
       "    </tr>\n",
       "  </thead>\n",
       "  <tbody>\n",
       "    <tr>\n",
       "      <th>0</th>\n",
       "      <td>01/12/2017</td>\n",
       "      <td>254</td>\n",
       "      <td>0</td>\n",
       "      <td>-5.2</td>\n",
       "      <td>37</td>\n",
       "      <td>2.2</td>\n",
       "      <td>2000</td>\n",
       "      <td>-17.6</td>\n",
       "      <td>0.0</td>\n",
       "      <td>0.0</td>\n",
       "      <td>0.0</td>\n",
       "      <td>Winter</td>\n",
       "      <td>No Holiday</td>\n",
       "      <td>Yes</td>\n",
       "    </tr>\n",
       "    <tr>\n",
       "      <th>1</th>\n",
       "      <td>01/12/2017</td>\n",
       "      <td>204</td>\n",
       "      <td>1</td>\n",
       "      <td>-5.5</td>\n",
       "      <td>38</td>\n",
       "      <td>0.8</td>\n",
       "      <td>2000</td>\n",
       "      <td>-17.6</td>\n",
       "      <td>0.0</td>\n",
       "      <td>0.0</td>\n",
       "      <td>0.0</td>\n",
       "      <td>Winter</td>\n",
       "      <td>No Holiday</td>\n",
       "      <td>Yes</td>\n",
       "    </tr>\n",
       "    <tr>\n",
       "      <th>2</th>\n",
       "      <td>01/12/2017</td>\n",
       "      <td>173</td>\n",
       "      <td>2</td>\n",
       "      <td>-6.0</td>\n",
       "      <td>39</td>\n",
       "      <td>1.0</td>\n",
       "      <td>2000</td>\n",
       "      <td>-17.7</td>\n",
       "      <td>0.0</td>\n",
       "      <td>0.0</td>\n",
       "      <td>0.0</td>\n",
       "      <td>Winter</td>\n",
       "      <td>No Holiday</td>\n",
       "      <td>Yes</td>\n",
       "    </tr>\n",
       "    <tr>\n",
       "      <th>3</th>\n",
       "      <td>01/12/2017</td>\n",
       "      <td>107</td>\n",
       "      <td>3</td>\n",
       "      <td>-6.2</td>\n",
       "      <td>40</td>\n",
       "      <td>0.9</td>\n",
       "      <td>2000</td>\n",
       "      <td>-17.6</td>\n",
       "      <td>0.0</td>\n",
       "      <td>0.0</td>\n",
       "      <td>0.0</td>\n",
       "      <td>Winter</td>\n",
       "      <td>No Holiday</td>\n",
       "      <td>Yes</td>\n",
       "    </tr>\n",
       "    <tr>\n",
       "      <th>4</th>\n",
       "      <td>01/12/2017</td>\n",
       "      <td>78</td>\n",
       "      <td>4</td>\n",
       "      <td>-6.0</td>\n",
       "      <td>36</td>\n",
       "      <td>2.3</td>\n",
       "      <td>2000</td>\n",
       "      <td>-18.6</td>\n",
       "      <td>0.0</td>\n",
       "      <td>0.0</td>\n",
       "      <td>0.0</td>\n",
       "      <td>Winter</td>\n",
       "      <td>No Holiday</td>\n",
       "      <td>Yes</td>\n",
       "    </tr>\n",
       "    <tr>\n",
       "      <th>...</th>\n",
       "      <td>...</td>\n",
       "      <td>...</td>\n",
       "      <td>...</td>\n",
       "      <td>...</td>\n",
       "      <td>...</td>\n",
       "      <td>...</td>\n",
       "      <td>...</td>\n",
       "      <td>...</td>\n",
       "      <td>...</td>\n",
       "      <td>...</td>\n",
       "      <td>...</td>\n",
       "      <td>...</td>\n",
       "      <td>...</td>\n",
       "      <td>...</td>\n",
       "    </tr>\n",
       "    <tr>\n",
       "      <th>8755</th>\n",
       "      <td>30/11/2018</td>\n",
       "      <td>1003</td>\n",
       "      <td>19</td>\n",
       "      <td>4.2</td>\n",
       "      <td>34</td>\n",
       "      <td>2.6</td>\n",
       "      <td>1894</td>\n",
       "      <td>-10.3</td>\n",
       "      <td>0.0</td>\n",
       "      <td>0.0</td>\n",
       "      <td>0.0</td>\n",
       "      <td>Autumn</td>\n",
       "      <td>No Holiday</td>\n",
       "      <td>Yes</td>\n",
       "    </tr>\n",
       "    <tr>\n",
       "      <th>8756</th>\n",
       "      <td>30/11/2018</td>\n",
       "      <td>764</td>\n",
       "      <td>20</td>\n",
       "      <td>3.4</td>\n",
       "      <td>37</td>\n",
       "      <td>2.3</td>\n",
       "      <td>2000</td>\n",
       "      <td>-9.9</td>\n",
       "      <td>0.0</td>\n",
       "      <td>0.0</td>\n",
       "      <td>0.0</td>\n",
       "      <td>Autumn</td>\n",
       "      <td>No Holiday</td>\n",
       "      <td>Yes</td>\n",
       "    </tr>\n",
       "    <tr>\n",
       "      <th>8757</th>\n",
       "      <td>30/11/2018</td>\n",
       "      <td>694</td>\n",
       "      <td>21</td>\n",
       "      <td>2.6</td>\n",
       "      <td>39</td>\n",
       "      <td>0.3</td>\n",
       "      <td>1968</td>\n",
       "      <td>-9.9</td>\n",
       "      <td>0.0</td>\n",
       "      <td>0.0</td>\n",
       "      <td>0.0</td>\n",
       "      <td>Autumn</td>\n",
       "      <td>No Holiday</td>\n",
       "      <td>Yes</td>\n",
       "    </tr>\n",
       "    <tr>\n",
       "      <th>8758</th>\n",
       "      <td>30/11/2018</td>\n",
       "      <td>712</td>\n",
       "      <td>22</td>\n",
       "      <td>2.1</td>\n",
       "      <td>41</td>\n",
       "      <td>1.0</td>\n",
       "      <td>1859</td>\n",
       "      <td>-9.8</td>\n",
       "      <td>0.0</td>\n",
       "      <td>0.0</td>\n",
       "      <td>0.0</td>\n",
       "      <td>Autumn</td>\n",
       "      <td>No Holiday</td>\n",
       "      <td>Yes</td>\n",
       "    </tr>\n",
       "    <tr>\n",
       "      <th>8759</th>\n",
       "      <td>30/11/2018</td>\n",
       "      <td>584</td>\n",
       "      <td>23</td>\n",
       "      <td>1.9</td>\n",
       "      <td>43</td>\n",
       "      <td>1.3</td>\n",
       "      <td>1909</td>\n",
       "      <td>-9.3</td>\n",
       "      <td>0.0</td>\n",
       "      <td>0.0</td>\n",
       "      <td>0.0</td>\n",
       "      <td>Autumn</td>\n",
       "      <td>No Holiday</td>\n",
       "      <td>Yes</td>\n",
       "    </tr>\n",
       "  </tbody>\n",
       "</table>\n",
       "<p>8760 rows × 14 columns</p>\n",
       "</div>"
      ],
      "text/plain": [
       "            Date  Rented Bike Count  Hour  Temperature(�C)  Humidity(%)  \\\n",
       "0     01/12/2017                254     0             -5.2           37   \n",
       "1     01/12/2017                204     1             -5.5           38   \n",
       "2     01/12/2017                173     2             -6.0           39   \n",
       "3     01/12/2017                107     3             -6.2           40   \n",
       "4     01/12/2017                 78     4             -6.0           36   \n",
       "...          ...                ...   ...              ...          ...   \n",
       "8755  30/11/2018               1003    19              4.2           34   \n",
       "8756  30/11/2018                764    20              3.4           37   \n",
       "8757  30/11/2018                694    21              2.6           39   \n",
       "8758  30/11/2018                712    22              2.1           41   \n",
       "8759  30/11/2018                584    23              1.9           43   \n",
       "\n",
       "      Wind speed (m/s)  Visibility (10m)  Dew point temperature(�C)  \\\n",
       "0                  2.2              2000                      -17.6   \n",
       "1                  0.8              2000                      -17.6   \n",
       "2                  1.0              2000                      -17.7   \n",
       "3                  0.9              2000                      -17.6   \n",
       "4                  2.3              2000                      -18.6   \n",
       "...                ...               ...                        ...   \n",
       "8755               2.6              1894                      -10.3   \n",
       "8756               2.3              2000                       -9.9   \n",
       "8757               0.3              1968                       -9.9   \n",
       "8758               1.0              1859                       -9.8   \n",
       "8759               1.3              1909                       -9.3   \n",
       "\n",
       "      Solar Radiation (MJ/m2)  Rainfall(mm)  Snowfall (cm) Seasons  \\\n",
       "0                         0.0           0.0            0.0  Winter   \n",
       "1                         0.0           0.0            0.0  Winter   \n",
       "2                         0.0           0.0            0.0  Winter   \n",
       "3                         0.0           0.0            0.0  Winter   \n",
       "4                         0.0           0.0            0.0  Winter   \n",
       "...                       ...           ...            ...     ...   \n",
       "8755                      0.0           0.0            0.0  Autumn   \n",
       "8756                      0.0           0.0            0.0  Autumn   \n",
       "8757                      0.0           0.0            0.0  Autumn   \n",
       "8758                      0.0           0.0            0.0  Autumn   \n",
       "8759                      0.0           0.0            0.0  Autumn   \n",
       "\n",
       "         Holiday Functioning Day  \n",
       "0     No Holiday             Yes  \n",
       "1     No Holiday             Yes  \n",
       "2     No Holiday             Yes  \n",
       "3     No Holiday             Yes  \n",
       "4     No Holiday             Yes  \n",
       "...          ...             ...  \n",
       "8755  No Holiday             Yes  \n",
       "8756  No Holiday             Yes  \n",
       "8757  No Holiday             Yes  \n",
       "8758  No Holiday             Yes  \n",
       "8759  No Holiday             Yes  \n",
       "\n",
       "[8760 rows x 14 columns]"
      ]
     },
     "execution_count": 4,
     "metadata": {},
     "output_type": "execute_result"
    }
   ],
   "source": [
    "df_seoulbike"
   ]
  },
  {
   "cell_type": "markdown",
   "id": "3b92ce0c",
   "metadata": {},
   "source": [
    "## __Finding out the enconding type__"
   ]
  },
  {
   "cell_type": "code",
   "execution_count": 5,
   "id": "7783a11e",
   "metadata": {},
   "outputs": [
    {
     "data": {
      "text/plain": [
       "['Date',\n",
       " 'Rented Bike Count',\n",
       " 'Hour',\n",
       " 'Temperature(�C)',\n",
       " 'Humidity(%)',\n",
       " 'Wind speed (m/s)',\n",
       " 'Visibility (10m)',\n",
       " 'Dew point temperature(�C)',\n",
       " 'Solar Radiation (MJ/m2)',\n",
       " 'Rainfall(mm)',\n",
       " 'Snowfall (cm)',\n",
       " 'Seasons',\n",
       " 'Holiday',\n",
       " 'Functioning Day']"
      ]
     },
     "execution_count": 5,
     "metadata": {},
     "output_type": "execute_result"
    }
   ],
   "source": [
    "#Let's clean the varible's names to work with it.\n",
    "df_seoulbike.columns.to_list()"
   ]
  },
  {
   "cell_type": "code",
   "execution_count": 6,
   "id": "06498a73",
   "metadata": {},
   "outputs": [
    {
     "data": {
      "text/plain": [
       "{'encoding': 'ISO-8859-9',\n",
       " 'confidence': 0.7396635956274547,\n",
       " 'language': 'Turkish'}"
      ]
     },
     "execution_count": 6,
     "metadata": {},
     "output_type": "execute_result"
    }
   ],
   "source": [
    "#Ok we have a little suprise here. The symbol �, I don't know o que that means. \n",
    "#So I had to findout what is this to work with pandas.\n",
    "#So I will use the chardet library to help me with this.\n",
    "with open(path, 'rb') as encoding:\n",
    "    r_encoding = chardet.detect(encoding.read(100000))\n",
    "r_encoding\n"
   ]
  },
  {
   "cell_type": "code",
   "execution_count": 7,
   "id": "478567ba",
   "metadata": {},
   "outputs": [],
   "source": [
    "# Good, now I will open the as a dataframe with the right encoding.\n",
    "with open (path,'r',encoding=r_encoding['encoding']) as df_seoulbike:\n",
    "    df_seoulbike= pd.read_csv(df_seoulbike)"
   ]
  },
  {
   "cell_type": "code",
   "execution_count": 8,
   "id": "996e0efe",
   "metadata": {},
   "outputs": [
    {
     "data": {
      "text/plain": [
       "['Date',\n",
       " 'Rented Bike Count',\n",
       " 'Hour',\n",
       " 'Temperature(°C)',\n",
       " 'Humidity(%)',\n",
       " 'Wind speed (m/s)',\n",
       " 'Visibility (10m)',\n",
       " 'Dew point temperature(°C)',\n",
       " 'Solar Radiation (MJ/m2)',\n",
       " 'Rainfall(mm)',\n",
       " 'Snowfall (cm)',\n",
       " 'Seasons',\n",
       " 'Holiday',\n",
       " 'Functioning Day']"
      ]
     },
     "execution_count": 8,
     "metadata": {},
     "output_type": "execute_result"
    }
   ],
   "source": [
    "df_seoulbike.columns.to_list()"
   ]
  },
  {
   "cell_type": "markdown",
   "id": "aea85b16",
   "metadata": {},
   "source": [
    "## __Cleaning the column's name__"
   ]
  },
  {
   "cell_type": "code",
   "execution_count": 9,
   "id": "bdf1be34",
   "metadata": {},
   "outputs": [
    {
     "data": {
      "text/plain": [
       "['date',\n",
       " 'rented_bike_count',\n",
       " 'hour',\n",
       " 'temperature(°c)',\n",
       " 'humidity(%)',\n",
       " 'wind_speed_(m/s)',\n",
       " 'visibility_(10m)',\n",
       " 'dew_point_temperature(°c)',\n",
       " 'solar_radiation_(mj/m2)',\n",
       " 'rainfall(mm)',\n",
       " 'snowfall_(cm)',\n",
       " 'seasons',\n",
       " 'holiday',\n",
       " 'functioning_day']"
      ]
     },
     "execution_count": 9,
     "metadata": {},
     "output_type": "execute_result"
    }
   ],
   "source": [
    "#Building a function to clean the columns name. Taking out the space and putting all in lower case:\n",
    "replacing1= {\" \":\"_\"}\n",
    "\n",
    "\n",
    "cols = [col.strip().lower().replace(\" \",\"_\")\n",
    "       for col in df_seoulbike.columns]\n",
    "\n",
    "df_seoulbike.columns = cols\n",
    "df_seoulbike.columns.to_list()"
   ]
  },
  {
   "cell_type": "markdown",
   "id": "79ddec68",
   "metadata": {},
   "source": [
    "###  __Cheking the shape and looking for NAN values__"
   ]
  },
  {
   "cell_type": "code",
   "execution_count": 10,
   "id": "2843ab78",
   "metadata": {},
   "outputs": [
    {
     "data": {
      "text/plain": [
       "(8760, 14)"
      ]
     },
     "execution_count": 10,
     "metadata": {},
     "output_type": "execute_result"
    }
   ],
   "source": [
    "#Let's check the shape of the dataset\n",
    "initial_shape = df_seoulbike.shape\n",
    "initial_shape"
   ]
  },
  {
   "cell_type": "code",
   "execution_count": 11,
   "id": "09308453",
   "metadata": {},
   "outputs": [
    {
     "data": {
      "text/plain": [
       "date                         0\n",
       "rented_bike_count            0\n",
       "hour                         0\n",
       "temperature(°c)              0\n",
       "humidity(%)                  0\n",
       "wind_speed_(m/s)             0\n",
       "visibility_(10m)             0\n",
       "dew_point_temperature(°c)    0\n",
       "solar_radiation_(mj/m2)      0\n",
       "rainfall(mm)                 0\n",
       "snowfall_(cm)                0\n",
       "seasons                      0\n",
       "holiday                      0\n",
       "functioning_day              0\n",
       "dtype: int64"
      ]
     },
     "execution_count": 11,
     "metadata": {},
     "output_type": "execute_result"
    }
   ],
   "source": [
    "#Good, Now let's see if we have some missing values.\n",
    "# So I can do it with a isnan function\n",
    "df_seoulbike.isna().sum()"
   ]
  },
  {
   "cell_type": "code",
   "execution_count": 12,
   "id": "d75241a9",
   "metadata": {},
   "outputs": [
    {
     "data": {
      "text/plain": [
       "<AxesSubplot:>"
      ]
     },
     "execution_count": 12,
     "metadata": {},
     "output_type": "execute_result"
    },
    {
     "data": {
      "image/png": "[encoded data removed]",
      "text/plain": [
       "<Figure size 1800x720 with 2 Axes>"
      ]
     },
     "metadata": {
      "needs_background": "light"
     },
     "output_type": "display_data"
    }
   ],
   "source": [
    "#I could also check it with a missingno library\n",
    "msno.matrix(df_seoulbike)"
   ]
  },
  {
   "cell_type": "markdown",
   "id": "4be158e1",
   "metadata": {},
   "source": [
    "### __Checking the data type and casting it if necessary__"
   ]
  },
  {
   "cell_type": "code",
   "execution_count": 13,
   "id": "c93665da",
   "metadata": {},
   "outputs": [
    {
     "name": "stdout",
     "output_type": "stream",
     "text": [
      "<class 'pandas.core.frame.DataFrame'>\n",
      "RangeIndex: 8760 entries, 0 to 8759\n",
      "Data columns (total 14 columns):\n",
      " #   Column                     Non-Null Count  Dtype  \n",
      "---  ------                     --------------  -----  \n",
      " 0   date                       8760 non-null   object \n",
      " 1   rented_bike_count          8760 non-null   int64  \n",
      " 2   hour                       8760 non-null   int64  \n",
      " 3   temperature(°c)            8760 non-null   float64\n",
      " 4   humidity(%)                8760 non-null   int64  \n",
      " 5   wind_speed_(m/s)           8760 non-null   float64\n",
      " 6   visibility_(10m)           8760 non-null   int64  \n",
      " 7   dew_point_temperature(°c)  8760 non-null   float64\n",
      " 8   solar_radiation_(mj/m2)    8760 non-null   float64\n",
      " 9   rainfall(mm)               8760 non-null   float64\n",
      " 10  snowfall_(cm)              8760 non-null   float64\n",
      " 11  seasons                    8760 non-null   object \n",
      " 12  holiday                    8760 non-null   object \n",
      " 13  functioning_day            8760 non-null   object \n",
      "dtypes: float64(6), int64(4), object(4)\n",
      "memory usage: 958.2+ KB\n"
     ]
    }
   ],
   "source": [
    "#Ok really no missing values\n",
    "#Let's ckeck the type of columns do we have\n",
    "df_seoulbike.info()\n"
   ]
  },
  {
   "cell_type": "code",
   "execution_count": null,
   "id": "360ec844",
   "metadata": {},
   "outputs": [],
   "source": []
  },
  {
   "cell_type": "code",
   "execution_count": 14,
   "id": "9c8a8395",
   "metadata": {},
   "outputs": [
    {
     "data": {
      "text/plain": [
       "date                          object\n",
       "rented_bike_count              int64\n",
       "hour                           int64\n",
       "temperature(°c)              float64\n",
       "humidity(%)                    int64\n",
       "wind_speed_(m/s)             float64\n",
       "visibility_(10m)               int64\n",
       "dew_point_temperature(°c)    float64\n",
       "solar_radiation_(mj/m2)      float64\n",
       "rainfall(mm)                 float64\n",
       "snowfall_(cm)                float64\n",
       "seasons                       object\n",
       "holiday                       object\n",
       "functioning_day               object\n",
       "dtype: object"
      ]
     },
     "execution_count": 14,
     "metadata": {},
     "output_type": "execute_result"
    }
   ],
   "source": [
    "df_seoulbike.dtypes"
   ]
  },
  {
   "cell_type": "code",
   "execution_count": 15,
   "id": "dc6122be",
   "metadata": {},
   "outputs": [
    {
     "name": "stdout",
     "output_type": "stream",
     "text": [
      "The int columns type: \n"
     ]
    },
    {
     "data": {
      "text/plain": [
       "['rented_bike_count', 'hour', 'humidity(%)', 'visibility_(10m)']"
      ]
     },
     "execution_count": 15,
     "metadata": {},
     "output_type": "execute_result"
    }
   ],
   "source": [
    "int_type = df_seoulbike.select_dtypes(include = \"integer\").columns.to_list()\n",
    "float_type = df_seoulbike.select_dtypes(include = \"float\").columns.to_list()\n",
    "object_type = df_seoulbike.select_dtypes(include = \"object\").columns.to_list()\n",
    "\n",
    "print(\"The int columns type: \")\n",
    "int_type\n",
    "\n"
   ]
  },
  {
   "cell_type": "code",
   "execution_count": 16,
   "id": "b37d0922",
   "metadata": {},
   "outputs": [
    {
     "data": {
      "text/html": [
       "<div>\n",
       "<style scoped>\n",
       "    .dataframe tbody tr th:only-of-type {\n",
       "        vertical-align: middle;\n",
       "    }\n",
       "\n",
       "    .dataframe tbody tr th {\n",
       "        vertical-align: top;\n",
       "    }\n",
       "\n",
       "    .dataframe thead th {\n",
       "        text-align: right;\n",
       "    }\n",
       "</style>\n",
       "<table border=\"1\" class=\"dataframe\">\n",
       "  <thead>\n",
       "    <tr style=\"text-align: right;\">\n",
       "      <th></th>\n",
       "      <th>rented_bike_count</th>\n",
       "      <th>hour</th>\n",
       "      <th>humidity(%)</th>\n",
       "      <th>visibility_(10m)</th>\n",
       "    </tr>\n",
       "  </thead>\n",
       "  <tbody>\n",
       "    <tr>\n",
       "      <th>0</th>\n",
       "      <td>254</td>\n",
       "      <td>0</td>\n",
       "      <td>37</td>\n",
       "      <td>2000</td>\n",
       "    </tr>\n",
       "    <tr>\n",
       "      <th>1</th>\n",
       "      <td>204</td>\n",
       "      <td>1</td>\n",
       "      <td>38</td>\n",
       "      <td>2000</td>\n",
       "    </tr>\n",
       "    <tr>\n",
       "      <th>2</th>\n",
       "      <td>173</td>\n",
       "      <td>2</td>\n",
       "      <td>39</td>\n",
       "      <td>2000</td>\n",
       "    </tr>\n",
       "    <tr>\n",
       "      <th>3</th>\n",
       "      <td>107</td>\n",
       "      <td>3</td>\n",
       "      <td>40</td>\n",
       "      <td>2000</td>\n",
       "    </tr>\n",
       "    <tr>\n",
       "      <th>4</th>\n",
       "      <td>78</td>\n",
       "      <td>4</td>\n",
       "      <td>36</td>\n",
       "      <td>2000</td>\n",
       "    </tr>\n",
       "    <tr>\n",
       "      <th>...</th>\n",
       "      <td>...</td>\n",
       "      <td>...</td>\n",
       "      <td>...</td>\n",
       "      <td>...</td>\n",
       "    </tr>\n",
       "    <tr>\n",
       "      <th>8755</th>\n",
       "      <td>1003</td>\n",
       "      <td>19</td>\n",
       "      <td>34</td>\n",
       "      <td>1894</td>\n",
       "    </tr>\n",
       "    <tr>\n",
       "      <th>8756</th>\n",
       "      <td>764</td>\n",
       "      <td>20</td>\n",
       "      <td>37</td>\n",
       "      <td>2000</td>\n",
       "    </tr>\n",
       "    <tr>\n",
       "      <th>8757</th>\n",
       "      <td>694</td>\n",
       "      <td>21</td>\n",
       "      <td>39</td>\n",
       "      <td>1968</td>\n",
       "    </tr>\n",
       "    <tr>\n",
       "      <th>8758</th>\n",
       "      <td>712</td>\n",
       "      <td>22</td>\n",
       "      <td>41</td>\n",
       "      <td>1859</td>\n",
       "    </tr>\n",
       "    <tr>\n",
       "      <th>8759</th>\n",
       "      <td>584</td>\n",
       "      <td>23</td>\n",
       "      <td>43</td>\n",
       "      <td>1909</td>\n",
       "    </tr>\n",
       "  </tbody>\n",
       "</table>\n",
       "<p>8760 rows × 4 columns</p>\n",
       "</div>"
      ],
      "text/plain": [
       "      rented_bike_count  hour  humidity(%)  visibility_(10m)\n",
       "0                   254     0           37              2000\n",
       "1                   204     1           38              2000\n",
       "2                   173     2           39              2000\n",
       "3                   107     3           40              2000\n",
       "4                    78     4           36              2000\n",
       "...                 ...   ...          ...               ...\n",
       "8755               1003    19           34              1894\n",
       "8756                764    20           37              2000\n",
       "8757                694    21           39              1968\n",
       "8758                712    22           41              1859\n",
       "8759                584    23           43              1909\n",
       "\n",
       "[8760 rows x 4 columns]"
      ]
     },
     "execution_count": 16,
     "metadata": {},
     "output_type": "execute_result"
    }
   ],
   "source": [
    "df_seoulbike.select_dtypes(include = \"integer\")"
   ]
  },
  {
   "cell_type": "code",
   "execution_count": 17,
   "id": "c9d5b567",
   "metadata": {},
   "outputs": [
    {
     "name": "stdout",
     "output_type": "stream",
     "text": [
      "The float columns type: \n"
     ]
    },
    {
     "data": {
      "text/plain": [
       "['temperature(°c)',\n",
       " 'wind_speed_(m/s)',\n",
       " 'dew_point_temperature(°c)',\n",
       " 'solar_radiation_(mj/m2)',\n",
       " 'rainfall(mm)',\n",
       " 'snowfall_(cm)']"
      ]
     },
     "execution_count": 17,
     "metadata": {},
     "output_type": "execute_result"
    }
   ],
   "source": [
    "print(\"The float columns type: \")\n",
    "float_type"
   ]
  },
  {
   "cell_type": "code",
   "execution_count": 18,
   "id": "b9247862",
   "metadata": {},
   "outputs": [
    {
     "data": {
      "text/html": [
       "<div>\n",
       "<style scoped>\n",
       "    .dataframe tbody tr th:only-of-type {\n",
       "        vertical-align: middle;\n",
       "    }\n",
       "\n",
       "    .dataframe tbody tr th {\n",
       "        vertical-align: top;\n",
       "    }\n",
       "\n",
       "    .dataframe thead th {\n",
       "        text-align: right;\n",
       "    }\n",
       "</style>\n",
       "<table border=\"1\" class=\"dataframe\">\n",
       "  <thead>\n",
       "    <tr style=\"text-align: right;\">\n",
       "      <th></th>\n",
       "      <th>temperature(°c)</th>\n",
       "      <th>wind_speed_(m/s)</th>\n",
       "      <th>dew_point_temperature(°c)</th>\n",
       "      <th>solar_radiation_(mj/m2)</th>\n",
       "      <th>rainfall(mm)</th>\n",
       "      <th>snowfall_(cm)</th>\n",
       "    </tr>\n",
       "  </thead>\n",
       "  <tbody>\n",
       "    <tr>\n",
       "      <th>0</th>\n",
       "      <td>-5.2</td>\n",
       "      <td>2.2</td>\n",
       "      <td>-17.6</td>\n",
       "      <td>0.0</td>\n",
       "      <td>0.0</td>\n",
       "      <td>0.0</td>\n",
       "    </tr>\n",
       "    <tr>\n",
       "      <th>1</th>\n",
       "      <td>-5.5</td>\n",
       "      <td>0.8</td>\n",
       "      <td>-17.6</td>\n",
       "      <td>0.0</td>\n",
       "      <td>0.0</td>\n",
       "      <td>0.0</td>\n",
       "    </tr>\n",
       "    <tr>\n",
       "      <th>2</th>\n",
       "      <td>-6.0</td>\n",
       "      <td>1.0</td>\n",
       "      <td>-17.7</td>\n",
       "      <td>0.0</td>\n",
       "      <td>0.0</td>\n",
       "      <td>0.0</td>\n",
       "    </tr>\n",
       "    <tr>\n",
       "      <th>3</th>\n",
       "      <td>-6.2</td>\n",
       "      <td>0.9</td>\n",
       "      <td>-17.6</td>\n",
       "      <td>0.0</td>\n",
       "      <td>0.0</td>\n",
       "      <td>0.0</td>\n",
       "    </tr>\n",
       "    <tr>\n",
       "      <th>4</th>\n",
       "      <td>-6.0</td>\n",
       "      <td>2.3</td>\n",
       "      <td>-18.6</td>\n",
       "      <td>0.0</td>\n",
       "      <td>0.0</td>\n",
       "      <td>0.0</td>\n",
       "    </tr>\n",
       "    <tr>\n",
       "      <th>...</th>\n",
       "      <td>...</td>\n",
       "      <td>...</td>\n",
       "      <td>...</td>\n",
       "      <td>...</td>\n",
       "      <td>...</td>\n",
       "      <td>...</td>\n",
       "    </tr>\n",
       "    <tr>\n",
       "      <th>8755</th>\n",
       "      <td>4.2</td>\n",
       "      <td>2.6</td>\n",
       "      <td>-10.3</td>\n",
       "      <td>0.0</td>\n",
       "      <td>0.0</td>\n",
       "      <td>0.0</td>\n",
       "    </tr>\n",
       "    <tr>\n",
       "      <th>8756</th>\n",
       "      <td>3.4</td>\n",
       "      <td>2.3</td>\n",
       "      <td>-9.9</td>\n",
       "      <td>0.0</td>\n",
       "      <td>0.0</td>\n",
       "      <td>0.0</td>\n",
       "    </tr>\n",
       "    <tr>\n",
       "      <th>8757</th>\n",
       "      <td>2.6</td>\n",
       "      <td>0.3</td>\n",
       "      <td>-9.9</td>\n",
       "      <td>0.0</td>\n",
       "      <td>0.0</td>\n",
       "      <td>0.0</td>\n",
       "    </tr>\n",
       "    <tr>\n",
       "      <th>8758</th>\n",
       "      <td>2.1</td>\n",
       "      <td>1.0</td>\n",
       "      <td>-9.8</td>\n",
       "      <td>0.0</td>\n",
       "      <td>0.0</td>\n",
       "      <td>0.0</td>\n",
       "    </tr>\n",
       "    <tr>\n",
       "      <th>8759</th>\n",
       "      <td>1.9</td>\n",
       "      <td>1.3</td>\n",
       "      <td>-9.3</td>\n",
       "      <td>0.0</td>\n",
       "      <td>0.0</td>\n",
       "      <td>0.0</td>\n",
       "    </tr>\n",
       "  </tbody>\n",
       "</table>\n",
       "<p>8760 rows × 6 columns</p>\n",
       "</div>"
      ],
      "text/plain": [
       "      temperature(°c)  wind_speed_(m/s)  dew_point_temperature(°c)  \\\n",
       "0                -5.2               2.2                      -17.6   \n",
       "1                -5.5               0.8                      -17.6   \n",
       "2                -6.0               1.0                      -17.7   \n",
       "3                -6.2               0.9                      -17.6   \n",
       "4                -6.0               2.3                      -18.6   \n",
       "...               ...               ...                        ...   \n",
       "8755              4.2               2.6                      -10.3   \n",
       "8756              3.4               2.3                       -9.9   \n",
       "8757              2.6               0.3                       -9.9   \n",
       "8758              2.1               1.0                       -9.8   \n",
       "8759              1.9               1.3                       -9.3   \n",
       "\n",
       "      solar_radiation_(mj/m2)  rainfall(mm)  snowfall_(cm)  \n",
       "0                         0.0           0.0            0.0  \n",
       "1                         0.0           0.0            0.0  \n",
       "2                         0.0           0.0            0.0  \n",
       "3                         0.0           0.0            0.0  \n",
       "4                         0.0           0.0            0.0  \n",
       "...                       ...           ...            ...  \n",
       "8755                      0.0           0.0            0.0  \n",
       "8756                      0.0           0.0            0.0  \n",
       "8757                      0.0           0.0            0.0  \n",
       "8758                      0.0           0.0            0.0  \n",
       "8759                      0.0           0.0            0.0  \n",
       "\n",
       "[8760 rows x 6 columns]"
      ]
     },
     "execution_count": 18,
     "metadata": {},
     "output_type": "execute_result"
    }
   ],
   "source": [
    "df_seoulbike.select_dtypes(include = \"float\")"
   ]
  },
  {
   "cell_type": "code",
   "execution_count": 19,
   "id": "7bf24763",
   "metadata": {},
   "outputs": [
    {
     "name": "stdout",
     "output_type": "stream",
     "text": [
      "The object columns type: \n"
     ]
    },
    {
     "data": {
      "text/plain": [
       "['date', 'seasons', 'holiday', 'functioning_day']"
      ]
     },
     "execution_count": 19,
     "metadata": {},
     "output_type": "execute_result"
    }
   ],
   "source": [
    "print(\"The object columns type: \")\n",
    "object_type"
   ]
  },
  {
   "cell_type": "code",
   "execution_count": 20,
   "id": "3783a963",
   "metadata": {},
   "outputs": [
    {
     "data": {
      "text/html": [
       "<div>\n",
       "<style scoped>\n",
       "    .dataframe tbody tr th:only-of-type {\n",
       "        vertical-align: middle;\n",
       "    }\n",
       "\n",
       "    .dataframe tbody tr th {\n",
       "        vertical-align: top;\n",
       "    }\n",
       "\n",
       "    .dataframe thead th {\n",
       "        text-align: right;\n",
       "    }\n",
       "</style>\n",
       "<table border=\"1\" class=\"dataframe\">\n",
       "  <thead>\n",
       "    <tr style=\"text-align: right;\">\n",
       "      <th></th>\n",
       "      <th>date</th>\n",
       "      <th>seasons</th>\n",
       "      <th>holiday</th>\n",
       "      <th>functioning_day</th>\n",
       "    </tr>\n",
       "  </thead>\n",
       "  <tbody>\n",
       "    <tr>\n",
       "      <th>0</th>\n",
       "      <td>01/12/2017</td>\n",
       "      <td>Winter</td>\n",
       "      <td>No Holiday</td>\n",
       "      <td>Yes</td>\n",
       "    </tr>\n",
       "    <tr>\n",
       "      <th>1</th>\n",
       "      <td>01/12/2017</td>\n",
       "      <td>Winter</td>\n",
       "      <td>No Holiday</td>\n",
       "      <td>Yes</td>\n",
       "    </tr>\n",
       "    <tr>\n",
       "      <th>2</th>\n",
       "      <td>01/12/2017</td>\n",
       "      <td>Winter</td>\n",
       "      <td>No Holiday</td>\n",
       "      <td>Yes</td>\n",
       "    </tr>\n",
       "    <tr>\n",
       "      <th>3</th>\n",
       "      <td>01/12/2017</td>\n",
       "      <td>Winter</td>\n",
       "      <td>No Holiday</td>\n",
       "      <td>Yes</td>\n",
       "    </tr>\n",
       "    <tr>\n",
       "      <th>4</th>\n",
       "      <td>01/12/2017</td>\n",
       "      <td>Winter</td>\n",
       "      <td>No Holiday</td>\n",
       "      <td>Yes</td>\n",
       "    </tr>\n",
       "    <tr>\n",
       "      <th>...</th>\n",
       "      <td>...</td>\n",
       "      <td>...</td>\n",
       "      <td>...</td>\n",
       "      <td>...</td>\n",
       "    </tr>\n",
       "    <tr>\n",
       "      <th>8755</th>\n",
       "      <td>30/11/2018</td>\n",
       "      <td>Autumn</td>\n",
       "      <td>No Holiday</td>\n",
       "      <td>Yes</td>\n",
       "    </tr>\n",
       "    <tr>\n",
       "      <th>8756</th>\n",
       "      <td>30/11/2018</td>\n",
       "      <td>Autumn</td>\n",
       "      <td>No Holiday</td>\n",
       "      <td>Yes</td>\n",
       "    </tr>\n",
       "    <tr>\n",
       "      <th>8757</th>\n",
       "      <td>30/11/2018</td>\n",
       "      <td>Autumn</td>\n",
       "      <td>No Holiday</td>\n",
       "      <td>Yes</td>\n",
       "    </tr>\n",
       "    <tr>\n",
       "      <th>8758</th>\n",
       "      <td>30/11/2018</td>\n",
       "      <td>Autumn</td>\n",
       "      <td>No Holiday</td>\n",
       "      <td>Yes</td>\n",
       "    </tr>\n",
       "    <tr>\n",
       "      <th>8759</th>\n",
       "      <td>30/11/2018</td>\n",
       "      <td>Autumn</td>\n",
       "      <td>No Holiday</td>\n",
       "      <td>Yes</td>\n",
       "    </tr>\n",
       "  </tbody>\n",
       "</table>\n",
       "<p>8760 rows × 4 columns</p>\n",
       "</div>"
      ],
      "text/plain": [
       "            date seasons     holiday functioning_day\n",
       "0     01/12/2017  Winter  No Holiday             Yes\n",
       "1     01/12/2017  Winter  No Holiday             Yes\n",
       "2     01/12/2017  Winter  No Holiday             Yes\n",
       "3     01/12/2017  Winter  No Holiday             Yes\n",
       "4     01/12/2017  Winter  No Holiday             Yes\n",
       "...          ...     ...         ...             ...\n",
       "8755  30/11/2018  Autumn  No Holiday             Yes\n",
       "8756  30/11/2018  Autumn  No Holiday             Yes\n",
       "8757  30/11/2018  Autumn  No Holiday             Yes\n",
       "8758  30/11/2018  Autumn  No Holiday             Yes\n",
       "8759  30/11/2018  Autumn  No Holiday             Yes\n",
       "\n",
       "[8760 rows x 4 columns]"
      ]
     },
     "execution_count": 20,
     "metadata": {},
     "output_type": "execute_result"
    }
   ],
   "source": [
    "df_seoulbike.select_dtypes(include = \"object\")"
   ]
  },
  {
   "cell_type": "code",
   "execution_count": 21,
   "id": "2e52578e",
   "metadata": {},
   "outputs": [
    {
     "data": {
      "text/plain": [
       "Index                           128\n",
       "date                         586920\n",
       "rented_bike_count             70080\n",
       "hour                          70080\n",
       "temperature(°c)               70080\n",
       "humidity(%)                   70080\n",
       "wind_speed_(m/s)              70080\n",
       "visibility_(10m)              70080\n",
       "dew_point_temperature(°c)     70080\n",
       "solar_radiation_(mj/m2)       70080\n",
       "rainfall(mm)                  70080\n",
       "snowfall_(cm)                 70080\n",
       "seasons                      551880\n",
       "holiday                      585624\n",
       "functioning_day              525305\n",
       "dtype: int64"
      ]
     },
     "execution_count": 21,
     "metadata": {},
     "output_type": "execute_result"
    }
   ],
   "source": [
    "#Hun I'm not sure we need use float64 in all float types. Maybe we can improve it.\n",
    "#Let's ckeck the usage of all memory.\n",
    "first_memory_usage = df_seoulbike.memory_usage(deep=True)\n",
    "first_memory_usage"
   ]
  },
  {
   "cell_type": "markdown",
   "id": "db503960",
   "metadata": {},
   "source": [
    "## Data Preprocessing"
   ]
  },
  {
   "cell_type": "markdown",
   "id": "eef7ef8a",
   "metadata": {},
   "source": [
    "### Ok now we know the type of columns we are working with. Let's casting some of then and create other ones.\n"
   ]
  },
  {
   "cell_type": "code",
   "execution_count": 22,
   "id": "49dfd308",
   "metadata": {},
   "outputs": [],
   "source": [
    "\n",
    "\n",
    "class Treating_data:\n",
    "    '''\n",
    "    A class to cast the datetypes and to create new columns date type.. \n",
    "    Changing the data type, creating new date columns information and changing the new columns date type.\n",
    "    '''\n",
    "    \n",
    "    def __init__(self, df_bike):\n",
    "        '''\n",
    "        Creating the sequence of treating to data.\n",
    "        '''\n",
    "        self.df_bike = df_bike\n",
    "        self.changing_type(self.df_bike)\n",
    "        self.creating_date_info(self.df_bike)\n",
    "        self.changing_type_after_date_info(self.df_bike)\n",
    "        self.changing_to_binary_column(self.df_bike)\n",
    "\n",
    "\n",
    "    def changing_type(self,df_seoulbike):\n",
    "        '''\n",
    "        A functon to change the size of float type, \n",
    "        to create a column to datetime type and change object type to category type.\n",
    "        '''\n",
    "        for coluna in df_seoulbike.columns:\n",
    "            if \"temperature\" in coluna:\n",
    "                df_seoulbike[coluna] = df_seoulbike[coluna].astype(\"float16\")\n",
    "            elif \"date\" in coluna:\n",
    "                df_seoulbike[coluna] = pd.to_datetime(arg=df_seoulbike[coluna],format= \"%d/%m/%Y\")\n",
    "            elif coluna in ['seasons','holiday','functioning_day']:\n",
    "                df_seoulbike[coluna] = df_seoulbike[coluna].astype(\"category\")\n",
    "        return  df_seoulbike\n",
    "\n",
    "\n",
    "    def creating_date_info(self,df_seoulbike):\n",
    "        '''\n",
    "        A function to create date type columns.\n",
    "        '''\n",
    "        df_seoulbike['day_of_week'] =df_seoulbike['date'].dt.day_name() \n",
    "        df_seoulbike['year'] = df_seoulbike['date'].dt.year\n",
    "        df_seoulbike['month'] = df_seoulbike['date'].dt.month #I need this feature to stratify during the train and test moment\n",
    "        #df_seoulbike['day_of_year'] = df_seoulbike['date'].dt.dayofyear\n",
    "        df_seoulbike['week_of_year'] = df_seoulbike['date'].dt.isocalendar().week\n",
    "        #df_seoulbike['month_name'] = df_seoulbike['date'].dt.month_name()\n",
    "        #df_seoulbike['period_day'] = df_seoulbike['date'].dt.strftime('%a')\n",
    "        df_seoulbike['month_name'] = df_seoulbike['date'].dt.strftime('%b')\n",
    "        return  df_seoulbike\n",
    "\n",
    "    def changing_type_after_date_info(self,df_seoulbike):\n",
    "        '''\n",
    "        \n",
    "        '''\n",
    "        for coluna in df_seoulbike.columns:\n",
    "            if coluna in ['day_of_week','year','month','week_of_year', 'month_name','hour']:\n",
    "                df_seoulbike[coluna] = df_seoulbike[coluna].astype(\"category\")\n",
    "        return  df_seoulbike\n",
    "    \n",
    "    def changing_to_binary_column(self,df_seoulbike):\n",
    "        '''\n",
    "        \n",
    "        '''\n",
    "        df_seoulbike[\"holiday\"] = df_seoulbike[\"holiday\"].map({\"No Holiday\":0,\"Holiday\":1})\n",
    "        df_seoulbike[\"functioning_day\"] = df_seoulbike[\"functioning_day\"].map({\"No\" : 0, \"Yes\":1})\n"
   ]
  },
  {
   "cell_type": "code",
   "execution_count": 23,
   "id": "a50b4b49",
   "metadata": {},
   "outputs": [],
   "source": [
    "df_seoulbike = Treating_data(df_seoulbike)"
   ]
  },
  {
   "cell_type": "code",
   "execution_count": 24,
   "id": "3b86c133",
   "metadata": {},
   "outputs": [
    {
     "data": {
      "text/html": [
       "<div>\n",
       "<style scoped>\n",
       "    .dataframe tbody tr th:only-of-type {\n",
       "        vertical-align: middle;\n",
       "    }\n",
       "\n",
       "    .dataframe tbody tr th {\n",
       "        vertical-align: top;\n",
       "    }\n",
       "\n",
       "    .dataframe thead th {\n",
       "        text-align: right;\n",
       "    }\n",
       "</style>\n",
       "<table border=\"1\" class=\"dataframe\">\n",
       "  <thead>\n",
       "    <tr style=\"text-align: right;\">\n",
       "      <th></th>\n",
       "      <th>date</th>\n",
       "      <th>rented_bike_count</th>\n",
       "      <th>hour</th>\n",
       "      <th>temperature(°c)</th>\n",
       "      <th>humidity(%)</th>\n",
       "      <th>wind_speed_(m/s)</th>\n",
       "      <th>visibility_(10m)</th>\n",
       "      <th>dew_point_temperature(°c)</th>\n",
       "      <th>solar_radiation_(mj/m2)</th>\n",
       "      <th>rainfall(mm)</th>\n",
       "      <th>snowfall_(cm)</th>\n",
       "      <th>seasons</th>\n",
       "      <th>holiday</th>\n",
       "      <th>functioning_day</th>\n",
       "      <th>day_of_week</th>\n",
       "      <th>year</th>\n",
       "      <th>month</th>\n",
       "      <th>week_of_year</th>\n",
       "      <th>month_name</th>\n",
       "    </tr>\n",
       "  </thead>\n",
       "  <tbody>\n",
       "    <tr>\n",
       "      <th>0</th>\n",
       "      <td>2017-12-01</td>\n",
       "      <td>254</td>\n",
       "      <td>0</td>\n",
       "      <td>-5.199219</td>\n",
       "      <td>37</td>\n",
       "      <td>2.2</td>\n",
       "      <td>2000</td>\n",
       "      <td>-17.593750</td>\n",
       "      <td>0.0</td>\n",
       "      <td>0.0</td>\n",
       "      <td>0.0</td>\n",
       "      <td>Winter</td>\n",
       "      <td>0</td>\n",
       "      <td>1</td>\n",
       "      <td>Friday</td>\n",
       "      <td>2017</td>\n",
       "      <td>12</td>\n",
       "      <td>48</td>\n",
       "      <td>Dec</td>\n",
       "    </tr>\n",
       "    <tr>\n",
       "      <th>1</th>\n",
       "      <td>2017-12-01</td>\n",
       "      <td>204</td>\n",
       "      <td>1</td>\n",
       "      <td>-5.500000</td>\n",
       "      <td>38</td>\n",
       "      <td>0.8</td>\n",
       "      <td>2000</td>\n",
       "      <td>-17.593750</td>\n",
       "      <td>0.0</td>\n",
       "      <td>0.0</td>\n",
       "      <td>0.0</td>\n",
       "      <td>Winter</td>\n",
       "      <td>0</td>\n",
       "      <td>1</td>\n",
       "      <td>Friday</td>\n",
       "      <td>2017</td>\n",
       "      <td>12</td>\n",
       "      <td>48</td>\n",
       "      <td>Dec</td>\n",
       "    </tr>\n",
       "    <tr>\n",
       "      <th>2</th>\n",
       "      <td>2017-12-01</td>\n",
       "      <td>173</td>\n",
       "      <td>2</td>\n",
       "      <td>-6.000000</td>\n",
       "      <td>39</td>\n",
       "      <td>1.0</td>\n",
       "      <td>2000</td>\n",
       "      <td>-17.703125</td>\n",
       "      <td>0.0</td>\n",
       "      <td>0.0</td>\n",
       "      <td>0.0</td>\n",
       "      <td>Winter</td>\n",
       "      <td>0</td>\n",
       "      <td>1</td>\n",
       "      <td>Friday</td>\n",
       "      <td>2017</td>\n",
       "      <td>12</td>\n",
       "      <td>48</td>\n",
       "      <td>Dec</td>\n",
       "    </tr>\n",
       "    <tr>\n",
       "      <th>3</th>\n",
       "      <td>2017-12-01</td>\n",
       "      <td>107</td>\n",
       "      <td>3</td>\n",
       "      <td>-6.199219</td>\n",
       "      <td>40</td>\n",
       "      <td>0.9</td>\n",
       "      <td>2000</td>\n",
       "      <td>-17.593750</td>\n",
       "      <td>0.0</td>\n",
       "      <td>0.0</td>\n",
       "      <td>0.0</td>\n",
       "      <td>Winter</td>\n",
       "      <td>0</td>\n",
       "      <td>1</td>\n",
       "      <td>Friday</td>\n",
       "      <td>2017</td>\n",
       "      <td>12</td>\n",
       "      <td>48</td>\n",
       "      <td>Dec</td>\n",
       "    </tr>\n",
       "    <tr>\n",
       "      <th>4</th>\n",
       "      <td>2017-12-01</td>\n",
       "      <td>78</td>\n",
       "      <td>4</td>\n",
       "      <td>-6.000000</td>\n",
       "      <td>36</td>\n",
       "      <td>2.3</td>\n",
       "      <td>2000</td>\n",
       "      <td>-18.593750</td>\n",
       "      <td>0.0</td>\n",
       "      <td>0.0</td>\n",
       "      <td>0.0</td>\n",
       "      <td>Winter</td>\n",
       "      <td>0</td>\n",
       "      <td>1</td>\n",
       "      <td>Friday</td>\n",
       "      <td>2017</td>\n",
       "      <td>12</td>\n",
       "      <td>48</td>\n",
       "      <td>Dec</td>\n",
       "    </tr>\n",
       "    <tr>\n",
       "      <th>...</th>\n",
       "      <td>...</td>\n",
       "      <td>...</td>\n",
       "      <td>...</td>\n",
       "      <td>...</td>\n",
       "      <td>...</td>\n",
       "      <td>...</td>\n",
       "      <td>...</td>\n",
       "      <td>...</td>\n",
       "      <td>...</td>\n",
       "      <td>...</td>\n",
       "      <td>...</td>\n",
       "      <td>...</td>\n",
       "      <td>...</td>\n",
       "      <td>...</td>\n",
       "      <td>...</td>\n",
       "      <td>...</td>\n",
       "      <td>...</td>\n",
       "      <td>...</td>\n",
       "      <td>...</td>\n",
       "    </tr>\n",
       "    <tr>\n",
       "      <th>8755</th>\n",
       "      <td>2018-11-30</td>\n",
       "      <td>1003</td>\n",
       "      <td>19</td>\n",
       "      <td>4.199219</td>\n",
       "      <td>34</td>\n",
       "      <td>2.6</td>\n",
       "      <td>1894</td>\n",
       "      <td>-10.296875</td>\n",
       "      <td>0.0</td>\n",
       "      <td>0.0</td>\n",
       "      <td>0.0</td>\n",
       "      <td>Autumn</td>\n",
       "      <td>0</td>\n",
       "      <td>1</td>\n",
       "      <td>Friday</td>\n",
       "      <td>2018</td>\n",
       "      <td>11</td>\n",
       "      <td>48</td>\n",
       "      <td>Nov</td>\n",
       "    </tr>\n",
       "    <tr>\n",
       "      <th>8756</th>\n",
       "      <td>2018-11-30</td>\n",
       "      <td>764</td>\n",
       "      <td>20</td>\n",
       "      <td>3.400391</td>\n",
       "      <td>37</td>\n",
       "      <td>2.3</td>\n",
       "      <td>2000</td>\n",
       "      <td>-9.898438</td>\n",
       "      <td>0.0</td>\n",
       "      <td>0.0</td>\n",
       "      <td>0.0</td>\n",
       "      <td>Autumn</td>\n",
       "      <td>0</td>\n",
       "      <td>1</td>\n",
       "      <td>Friday</td>\n",
       "      <td>2018</td>\n",
       "      <td>11</td>\n",
       "      <td>48</td>\n",
       "      <td>Nov</td>\n",
       "    </tr>\n",
       "    <tr>\n",
       "      <th>8757</th>\n",
       "      <td>2018-11-30</td>\n",
       "      <td>694</td>\n",
       "      <td>21</td>\n",
       "      <td>2.599609</td>\n",
       "      <td>39</td>\n",
       "      <td>0.3</td>\n",
       "      <td>1968</td>\n",
       "      <td>-9.898438</td>\n",
       "      <td>0.0</td>\n",
       "      <td>0.0</td>\n",
       "      <td>0.0</td>\n",
       "      <td>Autumn</td>\n",
       "      <td>0</td>\n",
       "      <td>1</td>\n",
       "      <td>Friday</td>\n",
       "      <td>2018</td>\n",
       "      <td>11</td>\n",
       "      <td>48</td>\n",
       "      <td>Nov</td>\n",
       "    </tr>\n",
       "    <tr>\n",
       "      <th>8758</th>\n",
       "      <td>2018-11-30</td>\n",
       "      <td>712</td>\n",
       "      <td>22</td>\n",
       "      <td>2.099609</td>\n",
       "      <td>41</td>\n",
       "      <td>1.0</td>\n",
       "      <td>1859</td>\n",
       "      <td>-9.796875</td>\n",
       "      <td>0.0</td>\n",
       "      <td>0.0</td>\n",
       "      <td>0.0</td>\n",
       "      <td>Autumn</td>\n",
       "      <td>0</td>\n",
       "      <td>1</td>\n",
       "      <td>Friday</td>\n",
       "      <td>2018</td>\n",
       "      <td>11</td>\n",
       "      <td>48</td>\n",
       "      <td>Nov</td>\n",
       "    </tr>\n",
       "    <tr>\n",
       "      <th>8759</th>\n",
       "      <td>2018-11-30</td>\n",
       "      <td>584</td>\n",
       "      <td>23</td>\n",
       "      <td>1.900391</td>\n",
       "      <td>43</td>\n",
       "      <td>1.3</td>\n",
       "      <td>1909</td>\n",
       "      <td>-9.296875</td>\n",
       "      <td>0.0</td>\n",
       "      <td>0.0</td>\n",
       "      <td>0.0</td>\n",
       "      <td>Autumn</td>\n",
       "      <td>0</td>\n",
       "      <td>1</td>\n",
       "      <td>Friday</td>\n",
       "      <td>2018</td>\n",
       "      <td>11</td>\n",
       "      <td>48</td>\n",
       "      <td>Nov</td>\n",
       "    </tr>\n",
       "  </tbody>\n",
       "</table>\n",
       "<p>8760 rows × 19 columns</p>\n",
       "</div>"
      ],
      "text/plain": [
       "           date  rented_bike_count hour  temperature(°c)  humidity(%)  \\\n",
       "0    2017-12-01                254    0        -5.199219           37   \n",
       "1    2017-12-01                204    1        -5.500000           38   \n",
       "2    2017-12-01                173    2        -6.000000           39   \n",
       "3    2017-12-01                107    3        -6.199219           40   \n",
       "4    2017-12-01                 78    4        -6.000000           36   \n",
       "...         ...                ...  ...              ...          ...   \n",
       "8755 2018-11-30               1003   19         4.199219           34   \n",
       "8756 2018-11-30                764   20         3.400391           37   \n",
       "8757 2018-11-30                694   21         2.599609           39   \n",
       "8758 2018-11-30                712   22         2.099609           41   \n",
       "8759 2018-11-30                584   23         1.900391           43   \n",
       "\n",
       "      wind_speed_(m/s)  visibility_(10m)  dew_point_temperature(°c)  \\\n",
       "0                  2.2              2000                 -17.593750   \n",
       "1                  0.8              2000                 -17.593750   \n",
       "2                  1.0              2000                 -17.703125   \n",
       "3                  0.9              2000                 -17.593750   \n",
       "4                  2.3              2000                 -18.593750   \n",
       "...                ...               ...                        ...   \n",
       "8755               2.6              1894                 -10.296875   \n",
       "8756               2.3              2000                  -9.898438   \n",
       "8757               0.3              1968                  -9.898438   \n",
       "8758               1.0              1859                  -9.796875   \n",
       "8759               1.3              1909                  -9.296875   \n",
       "\n",
       "      solar_radiation_(mj/m2)  rainfall(mm)  snowfall_(cm) seasons holiday  \\\n",
       "0                         0.0           0.0            0.0  Winter       0   \n",
       "1                         0.0           0.0            0.0  Winter       0   \n",
       "2                         0.0           0.0            0.0  Winter       0   \n",
       "3                         0.0           0.0            0.0  Winter       0   \n",
       "4                         0.0           0.0            0.0  Winter       0   \n",
       "...                       ...           ...            ...     ...     ...   \n",
       "8755                      0.0           0.0            0.0  Autumn       0   \n",
       "8756                      0.0           0.0            0.0  Autumn       0   \n",
       "8757                      0.0           0.0            0.0  Autumn       0   \n",
       "8758                      0.0           0.0            0.0  Autumn       0   \n",
       "8759                      0.0           0.0            0.0  Autumn       0   \n",
       "\n",
       "     functioning_day day_of_week  year month week_of_year month_name  \n",
       "0                  1      Friday  2017    12           48        Dec  \n",
       "1                  1      Friday  2017    12           48        Dec  \n",
       "2                  1      Friday  2017    12           48        Dec  \n",
       "3                  1      Friday  2017    12           48        Dec  \n",
       "4                  1      Friday  2017    12           48        Dec  \n",
       "...              ...         ...   ...   ...          ...        ...  \n",
       "8755               1      Friday  2018    11           48        Nov  \n",
       "8756               1      Friday  2018    11           48        Nov  \n",
       "8757               1      Friday  2018    11           48        Nov  \n",
       "8758               1      Friday  2018    11           48        Nov  \n",
       "8759               1      Friday  2018    11           48        Nov  \n",
       "\n",
       "[8760 rows x 19 columns]"
      ]
     },
     "execution_count": 24,
     "metadata": {},
     "output_type": "execute_result"
    }
   ],
   "source": [
    "df_seoulbike.df_bike"
   ]
  },
  {
   "cell_type": "code",
   "execution_count": 25,
   "id": "3a89acd3",
   "metadata": {},
   "outputs": [],
   "source": [
    "df_seoulbike_treated = df_seoulbike.df_bike"
   ]
  },
  {
   "cell_type": "code",
   "execution_count": 26,
   "id": "ebaa285a",
   "metadata": {},
   "outputs": [
    {
     "name": "stdout",
     "output_type": "stream",
     "text": [
      "<class 'pandas.core.frame.DataFrame'>\n",
      "RangeIndex: 8760 entries, 0 to 8759\n",
      "Data columns (total 19 columns):\n",
      " #   Column                     Non-Null Count  Dtype         \n",
      "---  ------                     --------------  -----         \n",
      " 0   date                       8760 non-null   datetime64[ns]\n",
      " 1   rented_bike_count          8760 non-null   int64         \n",
      " 2   hour                       8760 non-null   category      \n",
      " 3   temperature(°c)            8760 non-null   float16       \n",
      " 4   humidity(%)                8760 non-null   int64         \n",
      " 5   wind_speed_(m/s)           8760 non-null   float64       \n",
      " 6   visibility_(10m)           8760 non-null   int64         \n",
      " 7   dew_point_temperature(°c)  8760 non-null   float16       \n",
      " 8   solar_radiation_(mj/m2)    8760 non-null   float64       \n",
      " 9   rainfall(mm)               8760 non-null   float64       \n",
      " 10  snowfall_(cm)              8760 non-null   float64       \n",
      " 11  seasons                    8760 non-null   category      \n",
      " 12  holiday                    8760 non-null   category      \n",
      " 13  functioning_day            8760 non-null   category      \n",
      " 14  day_of_week                8760 non-null   category      \n",
      " 15  year                       8760 non-null   category      \n",
      " 16  month                      8760 non-null   category      \n",
      " 17  week_of_year               8760 non-null   category      \n",
      " 18  month_name                 8760 non-null   category      \n",
      "dtypes: category(9), datetime64[ns](1), float16(2), float64(4), int64(3)\n",
      "memory usage: 663.7 KB\n"
     ]
    }
   ],
   "source": [
    "df_seoulbike_treated.info()"
   ]
  },
  {
   "cell_type": "code",
   "execution_count": 27,
   "id": "ba1ca77a",
   "metadata": {},
   "outputs": [
    {
     "data": {
      "text/html": [
       "<div>\n",
       "<style scoped>\n",
       "    .dataframe tbody tr th:only-of-type {\n",
       "        vertical-align: middle;\n",
       "    }\n",
       "\n",
       "    .dataframe tbody tr th {\n",
       "        vertical-align: top;\n",
       "    }\n",
       "\n",
       "    .dataframe thead th {\n",
       "        text-align: right;\n",
       "    }\n",
       "</style>\n",
       "<table border=\"1\" class=\"dataframe\">\n",
       "  <thead>\n",
       "    <tr style=\"text-align: right;\">\n",
       "      <th></th>\n",
       "      <th>rented_bike_count</th>\n",
       "      <th>temperature(°c)</th>\n",
       "      <th>humidity(%)</th>\n",
       "      <th>wind_speed_(m/s)</th>\n",
       "      <th>visibility_(10m)</th>\n",
       "      <th>dew_point_temperature(°c)</th>\n",
       "      <th>solar_radiation_(mj/m2)</th>\n",
       "      <th>rainfall(mm)</th>\n",
       "      <th>snowfall_(cm)</th>\n",
       "    </tr>\n",
       "  </thead>\n",
       "  <tbody>\n",
       "    <tr>\n",
       "      <th>count</th>\n",
       "      <td>8760.000000</td>\n",
       "      <td>8760.000000</td>\n",
       "      <td>8760.000000</td>\n",
       "      <td>8760.000000</td>\n",
       "      <td>8760.000000</td>\n",
       "      <td>8760.000000</td>\n",
       "      <td>8760.000000</td>\n",
       "      <td>8760.000000</td>\n",
       "      <td>8760.000000</td>\n",
       "    </tr>\n",
       "    <tr>\n",
       "      <th>mean</th>\n",
       "      <td>704.602055</td>\n",
       "      <td>inf</td>\n",
       "      <td>58.226256</td>\n",
       "      <td>1.724909</td>\n",
       "      <td>1436.825799</td>\n",
       "      <td>4.074219</td>\n",
       "      <td>0.569111</td>\n",
       "      <td>0.148687</td>\n",
       "      <td>0.075068</td>\n",
       "    </tr>\n",
       "    <tr>\n",
       "      <th>std</th>\n",
       "      <td>644.997468</td>\n",
       "      <td>11.945312</td>\n",
       "      <td>20.362413</td>\n",
       "      <td>1.036300</td>\n",
       "      <td>608.298712</td>\n",
       "      <td>13.054688</td>\n",
       "      <td>0.868746</td>\n",
       "      <td>1.128193</td>\n",
       "      <td>0.436746</td>\n",
       "    </tr>\n",
       "    <tr>\n",
       "      <th>min</th>\n",
       "      <td>0.000000</td>\n",
       "      <td>-17.796875</td>\n",
       "      <td>0.000000</td>\n",
       "      <td>0.000000</td>\n",
       "      <td>27.000000</td>\n",
       "      <td>-30.593750</td>\n",
       "      <td>0.000000</td>\n",
       "      <td>0.000000</td>\n",
       "      <td>0.000000</td>\n",
       "    </tr>\n",
       "    <tr>\n",
       "      <th>25%</th>\n",
       "      <td>191.000000</td>\n",
       "      <td>3.500000</td>\n",
       "      <td>42.000000</td>\n",
       "      <td>0.900000</td>\n",
       "      <td>940.000000</td>\n",
       "      <td>-4.699219</td>\n",
       "      <td>0.000000</td>\n",
       "      <td>0.000000</td>\n",
       "      <td>0.000000</td>\n",
       "    </tr>\n",
       "    <tr>\n",
       "      <th>50%</th>\n",
       "      <td>504.500000</td>\n",
       "      <td>13.703125</td>\n",
       "      <td>57.000000</td>\n",
       "      <td>1.500000</td>\n",
       "      <td>1698.000000</td>\n",
       "      <td>5.101562</td>\n",
       "      <td>0.010000</td>\n",
       "      <td>0.000000</td>\n",
       "      <td>0.000000</td>\n",
       "    </tr>\n",
       "    <tr>\n",
       "      <th>75%</th>\n",
       "      <td>1065.250000</td>\n",
       "      <td>22.500000</td>\n",
       "      <td>74.000000</td>\n",
       "      <td>2.300000</td>\n",
       "      <td>2000.000000</td>\n",
       "      <td>14.796875</td>\n",
       "      <td>0.930000</td>\n",
       "      <td>0.000000</td>\n",
       "      <td>0.000000</td>\n",
       "    </tr>\n",
       "    <tr>\n",
       "      <th>max</th>\n",
       "      <td>3556.000000</td>\n",
       "      <td>39.406250</td>\n",
       "      <td>98.000000</td>\n",
       "      <td>7.400000</td>\n",
       "      <td>2000.000000</td>\n",
       "      <td>27.203125</td>\n",
       "      <td>3.520000</td>\n",
       "      <td>35.000000</td>\n",
       "      <td>8.800000</td>\n",
       "    </tr>\n",
       "  </tbody>\n",
       "</table>\n",
       "</div>"
      ],
      "text/plain": [
       "       rented_bike_count  temperature(°c)  humidity(%)  wind_speed_(m/s)  \\\n",
       "count        8760.000000      8760.000000  8760.000000       8760.000000   \n",
       "mean          704.602055              inf    58.226256          1.724909   \n",
       "std           644.997468        11.945312    20.362413          1.036300   \n",
       "min             0.000000       -17.796875     0.000000          0.000000   \n",
       "25%           191.000000         3.500000    42.000000          0.900000   \n",
       "50%           504.500000        13.703125    57.000000          1.500000   \n",
       "75%          1065.250000        22.500000    74.000000          2.300000   \n",
       "max          3556.000000        39.406250    98.000000          7.400000   \n",
       "\n",
       "       visibility_(10m)  dew_point_temperature(°c)  solar_radiation_(mj/m2)  \\\n",
       "count       8760.000000                8760.000000              8760.000000   \n",
       "mean        1436.825799                   4.074219                 0.569111   \n",
       "std          608.298712                  13.054688                 0.868746   \n",
       "min           27.000000                 -30.593750                 0.000000   \n",
       "25%          940.000000                  -4.699219                 0.000000   \n",
       "50%         1698.000000                   5.101562                 0.010000   \n",
       "75%         2000.000000                  14.796875                 0.930000   \n",
       "max         2000.000000                  27.203125                 3.520000   \n",
       "\n",
       "       rainfall(mm)  snowfall_(cm)  \n",
       "count   8760.000000    8760.000000  \n",
       "mean       0.148687       0.075068  \n",
       "std        1.128193       0.436746  \n",
       "min        0.000000       0.000000  \n",
       "25%        0.000000       0.000000  \n",
       "50%        0.000000       0.000000  \n",
       "75%        0.000000       0.000000  \n",
       "max       35.000000       8.800000  "
      ]
     },
     "execution_count": 27,
     "metadata": {},
     "output_type": "execute_result"
    }
   ],
   "source": [
    "df_seoulbike_treated.describe()"
   ]
  },
  {
   "cell_type": "code",
   "execution_count": 28,
   "id": "aae5bc1c",
   "metadata": {},
   "outputs": [
    {
     "data": {
      "text/plain": [
       "(8760, 19)"
      ]
     },
     "execution_count": 28,
     "metadata": {},
     "output_type": "execute_result"
    }
   ],
   "source": [
    "df_seoulbike_treated.shape"
   ]
  },
  {
   "cell_type": "code",
   "execution_count": 29,
   "id": "b8cea26f",
   "metadata": {},
   "outputs": [
    {
     "data": {
      "text/html": [
       "<div>\n",
       "<style scoped>\n",
       "    .dataframe tbody tr th:only-of-type {\n",
       "        vertical-align: middle;\n",
       "    }\n",
       "\n",
       "    .dataframe tbody tr th {\n",
       "        vertical-align: top;\n",
       "    }\n",
       "\n",
       "    .dataframe thead th {\n",
       "        text-align: right;\n",
       "    }\n",
       "</style>\n",
       "<table border=\"1\" class=\"dataframe\">\n",
       "  <thead>\n",
       "    <tr style=\"text-align: right;\">\n",
       "      <th></th>\n",
       "      <th>hour</th>\n",
       "      <th>seasons</th>\n",
       "      <th>holiday</th>\n",
       "      <th>functioning_day</th>\n",
       "      <th>day_of_week</th>\n",
       "      <th>year</th>\n",
       "      <th>month</th>\n",
       "      <th>week_of_year</th>\n",
       "      <th>month_name</th>\n",
       "    </tr>\n",
       "  </thead>\n",
       "  <tbody>\n",
       "    <tr>\n",
       "      <th>0</th>\n",
       "      <td>0</td>\n",
       "      <td>Winter</td>\n",
       "      <td>0</td>\n",
       "      <td>1</td>\n",
       "      <td>Friday</td>\n",
       "      <td>2017</td>\n",
       "      <td>12</td>\n",
       "      <td>48</td>\n",
       "      <td>Dec</td>\n",
       "    </tr>\n",
       "    <tr>\n",
       "      <th>1</th>\n",
       "      <td>1</td>\n",
       "      <td>Winter</td>\n",
       "      <td>0</td>\n",
       "      <td>1</td>\n",
       "      <td>Friday</td>\n",
       "      <td>2017</td>\n",
       "      <td>12</td>\n",
       "      <td>48</td>\n",
       "      <td>Dec</td>\n",
       "    </tr>\n",
       "    <tr>\n",
       "      <th>2</th>\n",
       "      <td>2</td>\n",
       "      <td>Winter</td>\n",
       "      <td>0</td>\n",
       "      <td>1</td>\n",
       "      <td>Friday</td>\n",
       "      <td>2017</td>\n",
       "      <td>12</td>\n",
       "      <td>48</td>\n",
       "      <td>Dec</td>\n",
       "    </tr>\n",
       "    <tr>\n",
       "      <th>3</th>\n",
       "      <td>3</td>\n",
       "      <td>Winter</td>\n",
       "      <td>0</td>\n",
       "      <td>1</td>\n",
       "      <td>Friday</td>\n",
       "      <td>2017</td>\n",
       "      <td>12</td>\n",
       "      <td>48</td>\n",
       "      <td>Dec</td>\n",
       "    </tr>\n",
       "    <tr>\n",
       "      <th>4</th>\n",
       "      <td>4</td>\n",
       "      <td>Winter</td>\n",
       "      <td>0</td>\n",
       "      <td>1</td>\n",
       "      <td>Friday</td>\n",
       "      <td>2017</td>\n",
       "      <td>12</td>\n",
       "      <td>48</td>\n",
       "      <td>Dec</td>\n",
       "    </tr>\n",
       "    <tr>\n",
       "      <th>...</th>\n",
       "      <td>...</td>\n",
       "      <td>...</td>\n",
       "      <td>...</td>\n",
       "      <td>...</td>\n",
       "      <td>...</td>\n",
       "      <td>...</td>\n",
       "      <td>...</td>\n",
       "      <td>...</td>\n",
       "      <td>...</td>\n",
       "    </tr>\n",
       "    <tr>\n",
       "      <th>8755</th>\n",
       "      <td>19</td>\n",
       "      <td>Autumn</td>\n",
       "      <td>0</td>\n",
       "      <td>1</td>\n",
       "      <td>Friday</td>\n",
       "      <td>2018</td>\n",
       "      <td>11</td>\n",
       "      <td>48</td>\n",
       "      <td>Nov</td>\n",
       "    </tr>\n",
       "    <tr>\n",
       "      <th>8756</th>\n",
       "      <td>20</td>\n",
       "      <td>Autumn</td>\n",
       "      <td>0</td>\n",
       "      <td>1</td>\n",
       "      <td>Friday</td>\n",
       "      <td>2018</td>\n",
       "      <td>11</td>\n",
       "      <td>48</td>\n",
       "      <td>Nov</td>\n",
       "    </tr>\n",
       "    <tr>\n",
       "      <th>8757</th>\n",
       "      <td>21</td>\n",
       "      <td>Autumn</td>\n",
       "      <td>0</td>\n",
       "      <td>1</td>\n",
       "      <td>Friday</td>\n",
       "      <td>2018</td>\n",
       "      <td>11</td>\n",
       "      <td>48</td>\n",
       "      <td>Nov</td>\n",
       "    </tr>\n",
       "    <tr>\n",
       "      <th>8758</th>\n",
       "      <td>22</td>\n",
       "      <td>Autumn</td>\n",
       "      <td>0</td>\n",
       "      <td>1</td>\n",
       "      <td>Friday</td>\n",
       "      <td>2018</td>\n",
       "      <td>11</td>\n",
       "      <td>48</td>\n",
       "      <td>Nov</td>\n",
       "    </tr>\n",
       "    <tr>\n",
       "      <th>8759</th>\n",
       "      <td>23</td>\n",
       "      <td>Autumn</td>\n",
       "      <td>0</td>\n",
       "      <td>1</td>\n",
       "      <td>Friday</td>\n",
       "      <td>2018</td>\n",
       "      <td>11</td>\n",
       "      <td>48</td>\n",
       "      <td>Nov</td>\n",
       "    </tr>\n",
       "  </tbody>\n",
       "</table>\n",
       "<p>8760 rows × 9 columns</p>\n",
       "</div>"
      ],
      "text/plain": [
       "     hour seasons holiday functioning_day day_of_week  year month  \\\n",
       "0       0  Winter       0               1      Friday  2017    12   \n",
       "1       1  Winter       0               1      Friday  2017    12   \n",
       "2       2  Winter       0               1      Friday  2017    12   \n",
       "3       3  Winter       0               1      Friday  2017    12   \n",
       "4       4  Winter       0               1      Friday  2017    12   \n",
       "...   ...     ...     ...             ...         ...   ...   ...   \n",
       "8755   19  Autumn       0               1      Friday  2018    11   \n",
       "8756   20  Autumn       0               1      Friday  2018    11   \n",
       "8757   21  Autumn       0               1      Friday  2018    11   \n",
       "8758   22  Autumn       0               1      Friday  2018    11   \n",
       "8759   23  Autumn       0               1      Friday  2018    11   \n",
       "\n",
       "     week_of_year month_name  \n",
       "0              48        Dec  \n",
       "1              48        Dec  \n",
       "2              48        Dec  \n",
       "3              48        Dec  \n",
       "4              48        Dec  \n",
       "...           ...        ...  \n",
       "8755           48        Nov  \n",
       "8756           48        Nov  \n",
       "8757           48        Nov  \n",
       "8758           48        Nov  \n",
       "8759           48        Nov  \n",
       "\n",
       "[8760 rows x 9 columns]"
      ]
     },
     "execution_count": 29,
     "metadata": {},
     "output_type": "execute_result"
    }
   ],
   "source": [
    "df_categorical_columns = df_seoulbike_treated.select_dtypes(include = \"category\")\n",
    "df_categorical_columns "
   ]
  },
  {
   "cell_type": "code",
   "execution_count": 30,
   "id": "a71b85c1",
   "metadata": {},
   "outputs": [],
   "source": [
    "categorical_columns = df_categorical_columns.columns"
   ]
  },
  {
   "cell_type": "code",
   "execution_count": 31,
   "id": "af57f18e",
   "metadata": {},
   "outputs": [
    {
     "data": {
      "text/plain": [
       "Index(['hour', 'seasons', 'holiday', 'functioning_day', 'day_of_week', 'year',\n",
       "       'month', 'week_of_year', 'month_name'],\n",
       "      dtype='object')"
      ]
     },
     "execution_count": 31,
     "metadata": {},
     "output_type": "execute_result"
    }
   ],
   "source": [
    "categorical_columns"
   ]
  },
  {
   "cell_type": "code",
   "execution_count": 32,
   "id": "dc1f05bc",
   "metadata": {},
   "outputs": [
    {
     "data": {
      "text/html": [
       "<div>\n",
       "<style scoped>\n",
       "    .dataframe tbody tr th:only-of-type {\n",
       "        vertical-align: middle;\n",
       "    }\n",
       "\n",
       "    .dataframe tbody tr th {\n",
       "        vertical-align: top;\n",
       "    }\n",
       "\n",
       "    .dataframe thead th {\n",
       "        text-align: right;\n",
       "    }\n",
       "</style>\n",
       "<table border=\"1\" class=\"dataframe\">\n",
       "  <thead>\n",
       "    <tr style=\"text-align: right;\">\n",
       "      <th></th>\n",
       "      <th>date</th>\n",
       "      <th>rented_bike_count</th>\n",
       "      <th>hour</th>\n",
       "      <th>temperature(°c)</th>\n",
       "      <th>humidity(%)</th>\n",
       "      <th>wind_speed_(m/s)</th>\n",
       "      <th>visibility_(10m)</th>\n",
       "      <th>dew_point_temperature(°c)</th>\n",
       "      <th>solar_radiation_(mj/m2)</th>\n",
       "      <th>rainfall(mm)</th>\n",
       "      <th>snowfall_(cm)</th>\n",
       "      <th>seasons</th>\n",
       "      <th>holiday</th>\n",
       "      <th>functioning_day</th>\n",
       "      <th>day_of_week</th>\n",
       "      <th>year</th>\n",
       "      <th>month</th>\n",
       "      <th>week_of_year</th>\n",
       "      <th>month_name</th>\n",
       "    </tr>\n",
       "  </thead>\n",
       "  <tbody>\n",
       "    <tr>\n",
       "      <th>0</th>\n",
       "      <td>2017-12-01</td>\n",
       "      <td>254</td>\n",
       "      <td>0</td>\n",
       "      <td>-5.199219</td>\n",
       "      <td>37</td>\n",
       "      <td>2.2</td>\n",
       "      <td>2000</td>\n",
       "      <td>-17.593750</td>\n",
       "      <td>0.0</td>\n",
       "      <td>0.0</td>\n",
       "      <td>0.0</td>\n",
       "      <td>Winter</td>\n",
       "      <td>0</td>\n",
       "      <td>1</td>\n",
       "      <td>Friday</td>\n",
       "      <td>2017</td>\n",
       "      <td>12</td>\n",
       "      <td>48</td>\n",
       "      <td>Dec</td>\n",
       "    </tr>\n",
       "    <tr>\n",
       "      <th>1</th>\n",
       "      <td>2017-12-01</td>\n",
       "      <td>204</td>\n",
       "      <td>1</td>\n",
       "      <td>-5.500000</td>\n",
       "      <td>38</td>\n",
       "      <td>0.8</td>\n",
       "      <td>2000</td>\n",
       "      <td>-17.593750</td>\n",
       "      <td>0.0</td>\n",
       "      <td>0.0</td>\n",
       "      <td>0.0</td>\n",
       "      <td>Winter</td>\n",
       "      <td>0</td>\n",
       "      <td>1</td>\n",
       "      <td>Friday</td>\n",
       "      <td>2017</td>\n",
       "      <td>12</td>\n",
       "      <td>48</td>\n",
       "      <td>Dec</td>\n",
       "    </tr>\n",
       "    <tr>\n",
       "      <th>2</th>\n",
       "      <td>2017-12-01</td>\n",
       "      <td>173</td>\n",
       "      <td>2</td>\n",
       "      <td>-6.000000</td>\n",
       "      <td>39</td>\n",
       "      <td>1.0</td>\n",
       "      <td>2000</td>\n",
       "      <td>-17.703125</td>\n",
       "      <td>0.0</td>\n",
       "      <td>0.0</td>\n",
       "      <td>0.0</td>\n",
       "      <td>Winter</td>\n",
       "      <td>0</td>\n",
       "      <td>1</td>\n",
       "      <td>Friday</td>\n",
       "      <td>2017</td>\n",
       "      <td>12</td>\n",
       "      <td>48</td>\n",
       "      <td>Dec</td>\n",
       "    </tr>\n",
       "    <tr>\n",
       "      <th>3</th>\n",
       "      <td>2017-12-01</td>\n",
       "      <td>107</td>\n",
       "      <td>3</td>\n",
       "      <td>-6.199219</td>\n",
       "      <td>40</td>\n",
       "      <td>0.9</td>\n",
       "      <td>2000</td>\n",
       "      <td>-17.593750</td>\n",
       "      <td>0.0</td>\n",
       "      <td>0.0</td>\n",
       "      <td>0.0</td>\n",
       "      <td>Winter</td>\n",
       "      <td>0</td>\n",
       "      <td>1</td>\n",
       "      <td>Friday</td>\n",
       "      <td>2017</td>\n",
       "      <td>12</td>\n",
       "      <td>48</td>\n",
       "      <td>Dec</td>\n",
       "    </tr>\n",
       "    <tr>\n",
       "      <th>4</th>\n",
       "      <td>2017-12-01</td>\n",
       "      <td>78</td>\n",
       "      <td>4</td>\n",
       "      <td>-6.000000</td>\n",
       "      <td>36</td>\n",
       "      <td>2.3</td>\n",
       "      <td>2000</td>\n",
       "      <td>-18.593750</td>\n",
       "      <td>0.0</td>\n",
       "      <td>0.0</td>\n",
       "      <td>0.0</td>\n",
       "      <td>Winter</td>\n",
       "      <td>0</td>\n",
       "      <td>1</td>\n",
       "      <td>Friday</td>\n",
       "      <td>2017</td>\n",
       "      <td>12</td>\n",
       "      <td>48</td>\n",
       "      <td>Dec</td>\n",
       "    </tr>\n",
       "    <tr>\n",
       "      <th>...</th>\n",
       "      <td>...</td>\n",
       "      <td>...</td>\n",
       "      <td>...</td>\n",
       "      <td>...</td>\n",
       "      <td>...</td>\n",
       "      <td>...</td>\n",
       "      <td>...</td>\n",
       "      <td>...</td>\n",
       "      <td>...</td>\n",
       "      <td>...</td>\n",
       "      <td>...</td>\n",
       "      <td>...</td>\n",
       "      <td>...</td>\n",
       "      <td>...</td>\n",
       "      <td>...</td>\n",
       "      <td>...</td>\n",
       "      <td>...</td>\n",
       "      <td>...</td>\n",
       "      <td>...</td>\n",
       "    </tr>\n",
       "    <tr>\n",
       "      <th>8755</th>\n",
       "      <td>2018-11-30</td>\n",
       "      <td>1003</td>\n",
       "      <td>19</td>\n",
       "      <td>4.199219</td>\n",
       "      <td>34</td>\n",
       "      <td>2.6</td>\n",
       "      <td>1894</td>\n",
       "      <td>-10.296875</td>\n",
       "      <td>0.0</td>\n",
       "      <td>0.0</td>\n",
       "      <td>0.0</td>\n",
       "      <td>Autumn</td>\n",
       "      <td>0</td>\n",
       "      <td>1</td>\n",
       "      <td>Friday</td>\n",
       "      <td>2018</td>\n",
       "      <td>11</td>\n",
       "      <td>48</td>\n",
       "      <td>Nov</td>\n",
       "    </tr>\n",
       "    <tr>\n",
       "      <th>8756</th>\n",
       "      <td>2018-11-30</td>\n",
       "      <td>764</td>\n",
       "      <td>20</td>\n",
       "      <td>3.400391</td>\n",
       "      <td>37</td>\n",
       "      <td>2.3</td>\n",
       "      <td>2000</td>\n",
       "      <td>-9.898438</td>\n",
       "      <td>0.0</td>\n",
       "      <td>0.0</td>\n",
       "      <td>0.0</td>\n",
       "      <td>Autumn</td>\n",
       "      <td>0</td>\n",
       "      <td>1</td>\n",
       "      <td>Friday</td>\n",
       "      <td>2018</td>\n",
       "      <td>11</td>\n",
       "      <td>48</td>\n",
       "      <td>Nov</td>\n",
       "    </tr>\n",
       "    <tr>\n",
       "      <th>8757</th>\n",
       "      <td>2018-11-30</td>\n",
       "      <td>694</td>\n",
       "      <td>21</td>\n",
       "      <td>2.599609</td>\n",
       "      <td>39</td>\n",
       "      <td>0.3</td>\n",
       "      <td>1968</td>\n",
       "      <td>-9.898438</td>\n",
       "      <td>0.0</td>\n",
       "      <td>0.0</td>\n",
       "      <td>0.0</td>\n",
       "      <td>Autumn</td>\n",
       "      <td>0</td>\n",
       "      <td>1</td>\n",
       "      <td>Friday</td>\n",
       "      <td>2018</td>\n",
       "      <td>11</td>\n",
       "      <td>48</td>\n",
       "      <td>Nov</td>\n",
       "    </tr>\n",
       "    <tr>\n",
       "      <th>8758</th>\n",
       "      <td>2018-11-30</td>\n",
       "      <td>712</td>\n",
       "      <td>22</td>\n",
       "      <td>2.099609</td>\n",
       "      <td>41</td>\n",
       "      <td>1.0</td>\n",
       "      <td>1859</td>\n",
       "      <td>-9.796875</td>\n",
       "      <td>0.0</td>\n",
       "      <td>0.0</td>\n",
       "      <td>0.0</td>\n",
       "      <td>Autumn</td>\n",
       "      <td>0</td>\n",
       "      <td>1</td>\n",
       "      <td>Friday</td>\n",
       "      <td>2018</td>\n",
       "      <td>11</td>\n",
       "      <td>48</td>\n",
       "      <td>Nov</td>\n",
       "    </tr>\n",
       "    <tr>\n",
       "      <th>8759</th>\n",
       "      <td>2018-11-30</td>\n",
       "      <td>584</td>\n",
       "      <td>23</td>\n",
       "      <td>1.900391</td>\n",
       "      <td>43</td>\n",
       "      <td>1.3</td>\n",
       "      <td>1909</td>\n",
       "      <td>-9.296875</td>\n",
       "      <td>0.0</td>\n",
       "      <td>0.0</td>\n",
       "      <td>0.0</td>\n",
       "      <td>Autumn</td>\n",
       "      <td>0</td>\n",
       "      <td>1</td>\n",
       "      <td>Friday</td>\n",
       "      <td>2018</td>\n",
       "      <td>11</td>\n",
       "      <td>48</td>\n",
       "      <td>Nov</td>\n",
       "    </tr>\n",
       "  </tbody>\n",
       "</table>\n",
       "<p>8760 rows × 19 columns</p>\n",
       "</div>"
      ],
      "text/plain": [
       "           date  rented_bike_count hour  temperature(°c)  humidity(%)  \\\n",
       "0    2017-12-01                254    0        -5.199219           37   \n",
       "1    2017-12-01                204    1        -5.500000           38   \n",
       "2    2017-12-01                173    2        -6.000000           39   \n",
       "3    2017-12-01                107    3        -6.199219           40   \n",
       "4    2017-12-01                 78    4        -6.000000           36   \n",
       "...         ...                ...  ...              ...          ...   \n",
       "8755 2018-11-30               1003   19         4.199219           34   \n",
       "8756 2018-11-30                764   20         3.400391           37   \n",
       "8757 2018-11-30                694   21         2.599609           39   \n",
       "8758 2018-11-30                712   22         2.099609           41   \n",
       "8759 2018-11-30                584   23         1.900391           43   \n",
       "\n",
       "      wind_speed_(m/s)  visibility_(10m)  dew_point_temperature(°c)  \\\n",
       "0                  2.2              2000                 -17.593750   \n",
       "1                  0.8              2000                 -17.593750   \n",
       "2                  1.0              2000                 -17.703125   \n",
       "3                  0.9              2000                 -17.593750   \n",
       "4                  2.3              2000                 -18.593750   \n",
       "...                ...               ...                        ...   \n",
       "8755               2.6              1894                 -10.296875   \n",
       "8756               2.3              2000                  -9.898438   \n",
       "8757               0.3              1968                  -9.898438   \n",
       "8758               1.0              1859                  -9.796875   \n",
       "8759               1.3              1909                  -9.296875   \n",
       "\n",
       "      solar_radiation_(mj/m2)  rainfall(mm)  snowfall_(cm) seasons holiday  \\\n",
       "0                         0.0           0.0            0.0  Winter       0   \n",
       "1                         0.0           0.0            0.0  Winter       0   \n",
       "2                         0.0           0.0            0.0  Winter       0   \n",
       "3                         0.0           0.0            0.0  Winter       0   \n",
       "4                         0.0           0.0            0.0  Winter       0   \n",
       "...                       ...           ...            ...     ...     ...   \n",
       "8755                      0.0           0.0            0.0  Autumn       0   \n",
       "8756                      0.0           0.0            0.0  Autumn       0   \n",
       "8757                      0.0           0.0            0.0  Autumn       0   \n",
       "8758                      0.0           0.0            0.0  Autumn       0   \n",
       "8759                      0.0           0.0            0.0  Autumn       0   \n",
       "\n",
       "     functioning_day day_of_week  year month week_of_year month_name  \n",
       "0                  1      Friday  2017    12           48        Dec  \n",
       "1                  1      Friday  2017    12           48        Dec  \n",
       "2                  1      Friday  2017    12           48        Dec  \n",
       "3                  1      Friday  2017    12           48        Dec  \n",
       "4                  1      Friday  2017    12           48        Dec  \n",
       "...              ...         ...   ...   ...          ...        ...  \n",
       "8755               1      Friday  2018    11           48        Nov  \n",
       "8756               1      Friday  2018    11           48        Nov  \n",
       "8757               1      Friday  2018    11           48        Nov  \n",
       "8758               1      Friday  2018    11           48        Nov  \n",
       "8759               1      Friday  2018    11           48        Nov  \n",
       "\n",
       "[8760 rows x 19 columns]"
      ]
     },
     "execution_count": 32,
     "metadata": {},
     "output_type": "execute_result"
    }
   ],
   "source": [
    "df_seoulbike_treated"
   ]
  },
  {
   "cell_type": "code",
   "execution_count": 33,
   "id": "b30c4fc6",
   "metadata": {},
   "outputs": [
    {
     "data": {
      "text/plain": [
       "[2017, 2018]\n",
       "Categories (2, int64): [2017, 2018]"
      ]
     },
     "execution_count": 33,
     "metadata": {},
     "output_type": "execute_result"
    }
   ],
   "source": [
    "df_seoulbike_treated['year'].unique()"
   ]
  },
  {
   "cell_type": "code",
   "execution_count": 34,
   "id": "0bedad81",
   "metadata": {},
   "outputs": [],
   "source": [
    "df_seoulbike_treated = df_seoulbike_treated.drop([\"date\"],axis=1, inplace=False)"
   ]
  },
  {
   "cell_type": "code",
   "execution_count": 35,
   "id": "f97acf2a",
   "metadata": {},
   "outputs": [
    {
     "name": "stdout",
     "output_type": "stream",
     "text": [
      "<class 'pandas.core.frame.DataFrame'>\n",
      "RangeIndex: 8760 entries, 0 to 8759\n",
      "Data columns (total 18 columns):\n",
      " #   Column                     Non-Null Count  Dtype   \n",
      "---  ------                     --------------  -----   \n",
      " 0   rented_bike_count          8760 non-null   int64   \n",
      " 1   hour                       8760 non-null   category\n",
      " 2   temperature(°c)            8760 non-null   float16 \n",
      " 3   humidity(%)                8760 non-null   int64   \n",
      " 4   wind_speed_(m/s)           8760 non-null   float64 \n",
      " 5   visibility_(10m)           8760 non-null   int64   \n",
      " 6   dew_point_temperature(°c)  8760 non-null   float16 \n",
      " 7   solar_radiation_(mj/m2)    8760 non-null   float64 \n",
      " 8   rainfall(mm)               8760 non-null   float64 \n",
      " 9   snowfall_(cm)              8760 non-null   float64 \n",
      " 10  seasons                    8760 non-null   category\n",
      " 11  holiday                    8760 non-null   category\n",
      " 12  functioning_day            8760 non-null   category\n",
      " 13  day_of_week                8760 non-null   category\n",
      " 14  year                       8760 non-null   category\n",
      " 15  month                      8760 non-null   category\n",
      " 16  week_of_year               8760 non-null   category\n",
      " 17  month_name                 8760 non-null   category\n",
      "dtypes: category(9), float16(2), float64(4), int64(3)\n",
      "memory usage: 595.3 KB\n"
     ]
    }
   ],
   "source": [
    "df_seoulbike_treated.info()"
   ]
  },
  {
   "cell_type": "code",
   "execution_count": 36,
   "id": "f09e4279",
   "metadata": {},
   "outputs": [
    {
     "data": {
      "text/html": [
       "<div>\n",
       "<style scoped>\n",
       "    .dataframe tbody tr th:only-of-type {\n",
       "        vertical-align: middle;\n",
       "    }\n",
       "\n",
       "    .dataframe tbody tr th {\n",
       "        vertical-align: top;\n",
       "    }\n",
       "\n",
       "    .dataframe thead th {\n",
       "        text-align: right;\n",
       "    }\n",
       "</style>\n",
       "<table border=\"1\" class=\"dataframe\">\n",
       "  <thead>\n",
       "    <tr style=\"text-align: right;\">\n",
       "      <th></th>\n",
       "      <th>rented_bike_count</th>\n",
       "      <th>hour</th>\n",
       "      <th>temperature(°c)</th>\n",
       "      <th>humidity(%)</th>\n",
       "      <th>wind_speed_(m/s)</th>\n",
       "      <th>visibility_(10m)</th>\n",
       "      <th>dew_point_temperature(°c)</th>\n",
       "      <th>solar_radiation_(mj/m2)</th>\n",
       "      <th>rainfall(mm)</th>\n",
       "      <th>snowfall_(cm)</th>\n",
       "      <th>seasons</th>\n",
       "      <th>holiday</th>\n",
       "      <th>functioning_day</th>\n",
       "      <th>day_of_week</th>\n",
       "      <th>year</th>\n",
       "      <th>month</th>\n",
       "      <th>week_of_year</th>\n",
       "      <th>month_name</th>\n",
       "    </tr>\n",
       "  </thead>\n",
       "  <tbody>\n",
       "    <tr>\n",
       "      <th>0</th>\n",
       "      <td>254</td>\n",
       "      <td>0</td>\n",
       "      <td>-5.199219</td>\n",
       "      <td>37</td>\n",
       "      <td>2.2</td>\n",
       "      <td>2000</td>\n",
       "      <td>-17.593750</td>\n",
       "      <td>0.0</td>\n",
       "      <td>0.0</td>\n",
       "      <td>0.0</td>\n",
       "      <td>Winter</td>\n",
       "      <td>0</td>\n",
       "      <td>1</td>\n",
       "      <td>Friday</td>\n",
       "      <td>2017</td>\n",
       "      <td>12</td>\n",
       "      <td>48</td>\n",
       "      <td>Dec</td>\n",
       "    </tr>\n",
       "    <tr>\n",
       "      <th>1</th>\n",
       "      <td>204</td>\n",
       "      <td>1</td>\n",
       "      <td>-5.500000</td>\n",
       "      <td>38</td>\n",
       "      <td>0.8</td>\n",
       "      <td>2000</td>\n",
       "      <td>-17.593750</td>\n",
       "      <td>0.0</td>\n",
       "      <td>0.0</td>\n",
       "      <td>0.0</td>\n",
       "      <td>Winter</td>\n",
       "      <td>0</td>\n",
       "      <td>1</td>\n",
       "      <td>Friday</td>\n",
       "      <td>2017</td>\n",
       "      <td>12</td>\n",
       "      <td>48</td>\n",
       "      <td>Dec</td>\n",
       "    </tr>\n",
       "    <tr>\n",
       "      <th>2</th>\n",
       "      <td>173</td>\n",
       "      <td>2</td>\n",
       "      <td>-6.000000</td>\n",
       "      <td>39</td>\n",
       "      <td>1.0</td>\n",
       "      <td>2000</td>\n",
       "      <td>-17.703125</td>\n",
       "      <td>0.0</td>\n",
       "      <td>0.0</td>\n",
       "      <td>0.0</td>\n",
       "      <td>Winter</td>\n",
       "      <td>0</td>\n",
       "      <td>1</td>\n",
       "      <td>Friday</td>\n",
       "      <td>2017</td>\n",
       "      <td>12</td>\n",
       "      <td>48</td>\n",
       "      <td>Dec</td>\n",
       "    </tr>\n",
       "    <tr>\n",
       "      <th>3</th>\n",
       "      <td>107</td>\n",
       "      <td>3</td>\n",
       "      <td>-6.199219</td>\n",
       "      <td>40</td>\n",
       "      <td>0.9</td>\n",
       "      <td>2000</td>\n",
       "      <td>-17.593750</td>\n",
       "      <td>0.0</td>\n",
       "      <td>0.0</td>\n",
       "      <td>0.0</td>\n",
       "      <td>Winter</td>\n",
       "      <td>0</td>\n",
       "      <td>1</td>\n",
       "      <td>Friday</td>\n",
       "      <td>2017</td>\n",
       "      <td>12</td>\n",
       "      <td>48</td>\n",
       "      <td>Dec</td>\n",
       "    </tr>\n",
       "    <tr>\n",
       "      <th>4</th>\n",
       "      <td>78</td>\n",
       "      <td>4</td>\n",
       "      <td>-6.000000</td>\n",
       "      <td>36</td>\n",
       "      <td>2.3</td>\n",
       "      <td>2000</td>\n",
       "      <td>-18.593750</td>\n",
       "      <td>0.0</td>\n",
       "      <td>0.0</td>\n",
       "      <td>0.0</td>\n",
       "      <td>Winter</td>\n",
       "      <td>0</td>\n",
       "      <td>1</td>\n",
       "      <td>Friday</td>\n",
       "      <td>2017</td>\n",
       "      <td>12</td>\n",
       "      <td>48</td>\n",
       "      <td>Dec</td>\n",
       "    </tr>\n",
       "    <tr>\n",
       "      <th>5</th>\n",
       "      <td>100</td>\n",
       "      <td>5</td>\n",
       "      <td>-6.398438</td>\n",
       "      <td>37</td>\n",
       "      <td>1.5</td>\n",
       "      <td>2000</td>\n",
       "      <td>-18.703125</td>\n",
       "      <td>0.0</td>\n",
       "      <td>0.0</td>\n",
       "      <td>0.0</td>\n",
       "      <td>Winter</td>\n",
       "      <td>0</td>\n",
       "      <td>1</td>\n",
       "      <td>Friday</td>\n",
       "      <td>2017</td>\n",
       "      <td>12</td>\n",
       "      <td>48</td>\n",
       "      <td>Dec</td>\n",
       "    </tr>\n",
       "    <tr>\n",
       "      <th>6</th>\n",
       "      <td>181</td>\n",
       "      <td>6</td>\n",
       "      <td>-6.601562</td>\n",
       "      <td>35</td>\n",
       "      <td>1.3</td>\n",
       "      <td>2000</td>\n",
       "      <td>-19.500000</td>\n",
       "      <td>0.0</td>\n",
       "      <td>0.0</td>\n",
       "      <td>0.0</td>\n",
       "      <td>Winter</td>\n",
       "      <td>0</td>\n",
       "      <td>1</td>\n",
       "      <td>Friday</td>\n",
       "      <td>2017</td>\n",
       "      <td>12</td>\n",
       "      <td>48</td>\n",
       "      <td>Dec</td>\n",
       "    </tr>\n",
       "  </tbody>\n",
       "</table>\n",
       "</div>"
      ],
      "text/plain": [
       "   rented_bike_count hour  temperature(°c)  humidity(%)  wind_speed_(m/s)  \\\n",
       "0                254    0        -5.199219           37               2.2   \n",
       "1                204    1        -5.500000           38               0.8   \n",
       "2                173    2        -6.000000           39               1.0   \n",
       "3                107    3        -6.199219           40               0.9   \n",
       "4                 78    4        -6.000000           36               2.3   \n",
       "5                100    5        -6.398438           37               1.5   \n",
       "6                181    6        -6.601562           35               1.3   \n",
       "\n",
       "   visibility_(10m)  dew_point_temperature(°c)  solar_radiation_(mj/m2)  \\\n",
       "0              2000                 -17.593750                      0.0   \n",
       "1              2000                 -17.593750                      0.0   \n",
       "2              2000                 -17.703125                      0.0   \n",
       "3              2000                 -17.593750                      0.0   \n",
       "4              2000                 -18.593750                      0.0   \n",
       "5              2000                 -18.703125                      0.0   \n",
       "6              2000                 -19.500000                      0.0   \n",
       "\n",
       "   rainfall(mm)  snowfall_(cm) seasons holiday functioning_day day_of_week  \\\n",
       "0           0.0            0.0  Winter       0               1      Friday   \n",
       "1           0.0            0.0  Winter       0               1      Friday   \n",
       "2           0.0            0.0  Winter       0               1      Friday   \n",
       "3           0.0            0.0  Winter       0               1      Friday   \n",
       "4           0.0            0.0  Winter       0               1      Friday   \n",
       "5           0.0            0.0  Winter       0               1      Friday   \n",
       "6           0.0            0.0  Winter       0               1      Friday   \n",
       "\n",
       "   year month week_of_year month_name  \n",
       "0  2017    12           48        Dec  \n",
       "1  2017    12           48        Dec  \n",
       "2  2017    12           48        Dec  \n",
       "3  2017    12           48        Dec  \n",
       "4  2017    12           48        Dec  \n",
       "5  2017    12           48        Dec  \n",
       "6  2017    12           48        Dec  "
      ]
     },
     "execution_count": 36,
     "metadata": {},
     "output_type": "execute_result"
    }
   ],
   "source": [
    "df_seoulbike_treated.head(7)"
   ]
  },
  {
   "cell_type": "code",
   "execution_count": 37,
   "id": "1380a43a",
   "metadata": {},
   "outputs": [
    {
     "data": {
      "text/html": [
       "<div>\n",
       "<style scoped>\n",
       "    .dataframe tbody tr th:only-of-type {\n",
       "        vertical-align: middle;\n",
       "    }\n",
       "\n",
       "    .dataframe tbody tr th {\n",
       "        vertical-align: top;\n",
       "    }\n",
       "\n",
       "    .dataframe thead th {\n",
       "        text-align: right;\n",
       "    }\n",
       "</style>\n",
       "<table border=\"1\" class=\"dataframe\">\n",
       "  <thead>\n",
       "    <tr style=\"text-align: right;\">\n",
       "      <th></th>\n",
       "      <th>rented_bike_count</th>\n",
       "      <th>temperature(°c)</th>\n",
       "      <th>humidity(%)</th>\n",
       "      <th>wind_speed_(m/s)</th>\n",
       "      <th>visibility_(10m)</th>\n",
       "      <th>dew_point_temperature(°c)</th>\n",
       "      <th>solar_radiation_(mj/m2)</th>\n",
       "      <th>rainfall(mm)</th>\n",
       "      <th>snowfall_(cm)</th>\n",
       "    </tr>\n",
       "  </thead>\n",
       "  <tbody>\n",
       "    <tr>\n",
       "      <th>count</th>\n",
       "      <td>8760.000000</td>\n",
       "      <td>8760.000000</td>\n",
       "      <td>8760.000000</td>\n",
       "      <td>8760.000000</td>\n",
       "      <td>8760.000000</td>\n",
       "      <td>8760.000000</td>\n",
       "      <td>8760.000000</td>\n",
       "      <td>8760.000000</td>\n",
       "      <td>8760.000000</td>\n",
       "    </tr>\n",
       "    <tr>\n",
       "      <th>mean</th>\n",
       "      <td>704.602055</td>\n",
       "      <td>inf</td>\n",
       "      <td>58.226256</td>\n",
       "      <td>1.724909</td>\n",
       "      <td>1436.825799</td>\n",
       "      <td>4.074219</td>\n",
       "      <td>0.569111</td>\n",
       "      <td>0.148687</td>\n",
       "      <td>0.075068</td>\n",
       "    </tr>\n",
       "    <tr>\n",
       "      <th>std</th>\n",
       "      <td>644.997468</td>\n",
       "      <td>11.945312</td>\n",
       "      <td>20.362413</td>\n",
       "      <td>1.036300</td>\n",
       "      <td>608.298712</td>\n",
       "      <td>13.054688</td>\n",
       "      <td>0.868746</td>\n",
       "      <td>1.128193</td>\n",
       "      <td>0.436746</td>\n",
       "    </tr>\n",
       "    <tr>\n",
       "      <th>min</th>\n",
       "      <td>0.000000</td>\n",
       "      <td>-17.796875</td>\n",
       "      <td>0.000000</td>\n",
       "      <td>0.000000</td>\n",
       "      <td>27.000000</td>\n",
       "      <td>-30.593750</td>\n",
       "      <td>0.000000</td>\n",
       "      <td>0.000000</td>\n",
       "      <td>0.000000</td>\n",
       "    </tr>\n",
       "    <tr>\n",
       "      <th>25%</th>\n",
       "      <td>191.000000</td>\n",
       "      <td>3.500000</td>\n",
       "      <td>42.000000</td>\n",
       "      <td>0.900000</td>\n",
       "      <td>940.000000</td>\n",
       "      <td>-4.699219</td>\n",
       "      <td>0.000000</td>\n",
       "      <td>0.000000</td>\n",
       "      <td>0.000000</td>\n",
       "    </tr>\n",
       "    <tr>\n",
       "      <th>50%</th>\n",
       "      <td>504.500000</td>\n",
       "      <td>13.703125</td>\n",
       "      <td>57.000000</td>\n",
       "      <td>1.500000</td>\n",
       "      <td>1698.000000</td>\n",
       "      <td>5.101562</td>\n",
       "      <td>0.010000</td>\n",
       "      <td>0.000000</td>\n",
       "      <td>0.000000</td>\n",
       "    </tr>\n",
       "    <tr>\n",
       "      <th>75%</th>\n",
       "      <td>1065.250000</td>\n",
       "      <td>22.500000</td>\n",
       "      <td>74.000000</td>\n",
       "      <td>2.300000</td>\n",
       "      <td>2000.000000</td>\n",
       "      <td>14.796875</td>\n",
       "      <td>0.930000</td>\n",
       "      <td>0.000000</td>\n",
       "      <td>0.000000</td>\n",
       "    </tr>\n",
       "    <tr>\n",
       "      <th>max</th>\n",
       "      <td>3556.000000</td>\n",
       "      <td>39.406250</td>\n",
       "      <td>98.000000</td>\n",
       "      <td>7.400000</td>\n",
       "      <td>2000.000000</td>\n",
       "      <td>27.203125</td>\n",
       "      <td>3.520000</td>\n",
       "      <td>35.000000</td>\n",
       "      <td>8.800000</td>\n",
       "    </tr>\n",
       "  </tbody>\n",
       "</table>\n",
       "</div>"
      ],
      "text/plain": [
       "       rented_bike_count  temperature(°c)  humidity(%)  wind_speed_(m/s)  \\\n",
       "count        8760.000000      8760.000000  8760.000000       8760.000000   \n",
       "mean          704.602055              inf    58.226256          1.724909   \n",
       "std           644.997468        11.945312    20.362413          1.036300   \n",
       "min             0.000000       -17.796875     0.000000          0.000000   \n",
       "25%           191.000000         3.500000    42.000000          0.900000   \n",
       "50%           504.500000        13.703125    57.000000          1.500000   \n",
       "75%          1065.250000        22.500000    74.000000          2.300000   \n",
       "max          3556.000000        39.406250    98.000000          7.400000   \n",
       "\n",
       "       visibility_(10m)  dew_point_temperature(°c)  solar_radiation_(mj/m2)  \\\n",
       "count       8760.000000                8760.000000              8760.000000   \n",
       "mean        1436.825799                   4.074219                 0.569111   \n",
       "std          608.298712                  13.054688                 0.868746   \n",
       "min           27.000000                 -30.593750                 0.000000   \n",
       "25%          940.000000                  -4.699219                 0.000000   \n",
       "50%         1698.000000                   5.101562                 0.010000   \n",
       "75%         2000.000000                  14.796875                 0.930000   \n",
       "max         2000.000000                  27.203125                 3.520000   \n",
       "\n",
       "       rainfall(mm)  snowfall_(cm)  \n",
       "count   8760.000000    8760.000000  \n",
       "mean       0.148687       0.075068  \n",
       "std        1.128193       0.436746  \n",
       "min        0.000000       0.000000  \n",
       "25%        0.000000       0.000000  \n",
       "50%        0.000000       0.000000  \n",
       "75%        0.000000       0.000000  \n",
       "max       35.000000       8.800000  "
      ]
     },
     "execution_count": 37,
     "metadata": {},
     "output_type": "execute_result"
    }
   ],
   "source": [
    "df_seoulbike_treated.describe()"
   ]
  },
  {
   "cell_type": "code",
   "execution_count": 38,
   "id": "6979d7c5",
   "metadata": {},
   "outputs": [
    {
     "data": {
      "text/plain": [
       "0       False\n",
       "1       False\n",
       "2       False\n",
       "3       False\n",
       "4       False\n",
       "        ...  \n",
       "8755    False\n",
       "8756    False\n",
       "8757    False\n",
       "8758    False\n",
       "8759    False\n",
       "Name: year, Length: 8760, dtype: bool"
      ]
     },
     "execution_count": 38,
     "metadata": {},
     "output_type": "execute_result"
    }
   ],
   "source": [
    "df_seoulbike_treated['year']=='2017'"
   ]
  },
  {
   "cell_type": "code",
   "execution_count": 39,
   "id": "9e794bdf",
   "metadata": {},
   "outputs": [
    {
     "data": {
      "text/plain": [
       "['Dec', 'Jan', 'Feb', 'Mar', 'Apr', ..., 'Jul', 'Aug', 'Sep', 'Oct', 'Nov']\n",
       "Length: 12\n",
       "Categories (12, object): ['Dec', 'Jan', 'Feb', 'Mar', ..., 'Aug', 'Sep', 'Oct', 'Nov']"
      ]
     },
     "execution_count": 39,
     "metadata": {},
     "output_type": "execute_result"
    }
   ],
   "source": [
    "df_seoulbike_treated['month_name'].unique()"
   ]
  },
  {
   "cell_type": "code",
   "execution_count": 40,
   "id": "4301fd47",
   "metadata": {},
   "outputs": [
    {
     "data": {
      "image/png": "[encoded data removed]",
      "text/plain": [
       "<Figure size 1080x576 with 1 Axes>"
      ]
     },
     "metadata": {
      "needs_background": "light"
     },
     "output_type": "display_data"
    }
   ],
   "source": [
    "fig,ax=plt.subplots(figsize=(15,8))\n",
    "sns.set_style('white')\n",
    "#Bar plot for seasonwise monthly distribution of counts\n",
    "sns.barplot(x='month_name',y='rented_bike_count',data=df_seoulbike_treated[['month_name','rented_bike_count','year']],hue='year',order=['Jan', 'Feb', 'Mar', 'Apr','May','Jun','Jul', 'Aug', 'Sep', 'Oct', 'Nov','Dec'],ax=ax)\n",
    "ax.set_title('Seasonwise monthly distribution of counts')\n",
    "plt.show()"
   ]
  },
  {
   "cell_type": "code",
   "execution_count": 41,
   "id": "7569f778",
   "metadata": {},
   "outputs": [
    {
     "data": {
      "image/png": "[encoded data removed]",
      "text/plain": [
       "<Figure size 1080x576 with 1 Axes>"
      ]
     },
     "metadata": {},
     "output_type": "display_data"
    }
   ],
   "source": [
    "fig,ax=plt.subplots(figsize=(15,8))\n",
    "sns.set_style('white')\n",
    "#Bar plot for seasonwise monthly distribution of counts\n",
    "sns.barplot(x='month_name',y='rented_bike_count',data=df_seoulbike_treated[['month_name','rented_bike_count','seasons']],hue='seasons',order=['Jan', 'Feb', 'Mar', 'Apr','May','Jun','Jul', 'Aug', 'Sep', 'Oct', 'Nov','Dec'],ax=ax)\n",
    "ax.set_title('Seasonwise monthly distribution of counts')\n",
    "plt.show()"
   ]
  },
  {
   "cell_type": "markdown",
   "id": "07bee860",
   "metadata": {},
   "source": [
    "### Detecting Outliers"
   ]
  },
  {
   "cell_type": "code",
   "execution_count": 42,
   "id": "609d2af7",
   "metadata": {},
   "outputs": [
    {
     "data": {
      "image/png": "[encoded data removed]",
      "text/plain": [
       "<Figure size 1440x1440 with 8 Axes>"
      ]
     },
     "metadata": {},
     "output_type": "display_data"
    }
   ],
   "source": [
    "#First let's build a histogram to each numerical feature in our dataset.\n",
    "\n",
    "featuare =[\"temperature(°c)\",\"humidity(%)\",\"wind_speed_(m/s)\",\n",
    "     \"visibility_(10m)\", \"dew_point_temperature(°c)\",\n",
    "     \"solar_radiation_(mj/m2)\",\"rainfall(mm)\",\"snowfall_(cm)\"\n",
    "    ]\n",
    "    \n",
    "\n",
    "# Creating a figure and subplots for each feature\n",
    "fig, axes = plt.subplots(nrows=4, ncols=2, figsize=(20, 20))  \n",
    "\n",
    "# Iterating over each feature\n",
    "for i, attribute in enumerate(featuare):  \n",
    "    row, col = divmod(i, 2)\n",
    "    axes[row, col].hist(df_seoulbike_treated[attribute], bins=30, color=\"blue\", alpha=0.7)\n",
    "    axes[row, col].set_title(attribute)\n",
    "    \n",
    "# Adjusting label and titles\n",
    "for ax in axes.flat:\n",
    "    ax.set(xlabel=\"Value\", ylabel=\"Frequency\")\n",
    "\n",
    "# Oculte os rótulos do eixo x e y nos subplots superiores e à direita\n",
    "#for ax in axes.flat:\n",
    "#    ax.label_outer()\n",
    "\n",
    "# Showing the chart\n",
    "plt.show()"
   ]
  },
  {
   "cell_type": "code",
   "execution_count": 98,
   "id": "44d7176c",
   "metadata": {},
   "outputs": [],
   "source": [
    "#Desvio padrão\n",
    "temp_media,temp_std = df_seoulbike_treated[\"temperature(°c)\"].mean(),df_seoulbike_treated[\"temperature(°c)\"].std()\n",
    "cut_off = temp_std*3\n",
    "lower, upper = temp_media-cut_off,temp_media+cut_off\n",
    "idx = np.where((df_seoulbike_treated[\"temperature(°c)\"]<lower)|(df_seoulbike_treated[\"temperature(°c)\"]>upper))\n"
   ]
  },
  {
   "cell_type": "code",
   "execution_count": 101,
   "id": "81bd27f8",
   "metadata": {},
   "outputs": [
    {
     "name": "stdout",
     "output_type": "stream",
     "text": [
      "inf\n",
      "11.945\n",
      " Indexes to exclude (array([   0,    1,    2, ..., 8757, 8758, 8759], dtype=int64),), the length of idx is 8760.\n"
     ]
    }
   ],
   "source": [
    "#checking the values\n",
    "print(temp_media)\n",
    "print(temp_std)\n",
    "print(f\" Indexes to exclude {idx}, the length of idx is {len(idx[0])}.\" )"
   ]
  },
  {
   "cell_type": "code",
   "execution_count": 103,
   "id": "0130f01c",
   "metadata": {},
   "outputs": [],
   "source": [
    "# we have a problem here.. the media if infinite. We have to cast the number as float64so solve it.\n",
    "\n",
    "\n",
    "df_seoulbike_treated[\"temperature(°c)\"] = df_seoulbike_treated[\"temperature(°c)\"].astype(\"float64\")"
   ]
  },
  {
   "cell_type": "code",
   "execution_count": 104,
   "id": "3749ede1",
   "metadata": {},
   "outputs": [
    {
     "name": "stdout",
     "output_type": "stream",
     "text": [
      "12.882921791947595\n",
      "11.94488062956912\n",
      " Indexes to exclude (array([], dtype=int64),), the length of idx is 0.\n"
     ]
    }
   ],
   "source": [
    "#now lets to it again\n",
    "#Desvio padrão\n",
    "temp_media,temp_std = df_seoulbike_treated[\"temperature(°c)\"].mean(),df_seoulbike_treated[\"temperature(°c)\"].std()\n",
    "cut_off = temp_std*3\n",
    "lower, upper = temp_media-cut_off,temp_media+cut_off\n",
    "idx = np.where((df_seoulbike_treated[\"temperature(°c)\"]<lower)|(df_seoulbike_treated[\"temperature(°c)\"]>upper))\n",
    "#checking the values\n",
    "print(temp_media)\n",
    "print(temp_std)\n",
    "print(f\" Indexes to exclude {idx}, the length of idx is {len(idx[0])}.\" )\n"
   ]
  },
  {
   "cell_type": "markdown",
   "id": "79df9331",
   "metadata": {},
   "source": [
    "#Veja o array ficou zerado... \n",
    "\n",
    "Relação com o seu Cálculo:\n",
    "O seu cálculo do cut_off usando temp_std * 3 é uma aproximação semelhante ao método dos outliers extremos.\n",
    "Ele define uma faixa de valores em torno da média (ou mediana) que é considerada “normal”.\n",
    "Valores fora dessa faixa são considerados outliers."
   ]
  },
  {
   "cell_type": "code",
   "execution_count": null,
   "id": "f6ad2a97",
   "metadata": {},
   "outputs": [],
   "source": [
    "Ok neste caso vou calcular por 1,5 aproximado do desvio leve the Tukey\n",
    "\n",
    "Sim, você está correto! A substituição do fator de multiplicação de 3 por 1,5 é uma aproximação dos outliers leves (ou mild outliers) de Tukey. Vamos entender melhor:\n",
    "\n",
    "Outliers Leves (Mild Outliers):\n",
    "Os outliers leves são valores que estão moderadamente distantes dos quartis (Q1 e Q3) em uma distribuição.\n",
    "O método dos limites de Tukey define os limites inferior e superior para detecção de outliers leves como:\n",
    "Limite Inferior: Q1 - 1,5 * IQR\n",
    "Limite Superior: Q3 + 1,5 * IQR\n",
    "Valores fora dessa faixa são considerados outliers leves.\n",
    "Relação com o seu Cálculo:\n",
    "Ao usar temp_std * 1,5, você está aplicando uma abordagem semelhante aos outliers leves de Tukey.\n",
    "Essa escolha é mais conservadora do que o uso de 3 desvios padrão, pois considera menos valores como outliers.\n",
    "Contexto e Ajuste:\n",
    "A escolha do fator de multiplicação depende do contexto dos seus dados e da sensibilidade à detecção de outliers.\n",
    "Se você deseja ser mais rigoroso na identificação de outliers, pode usar 3 desvios padrão (como você fez inicialmente).\n",
    "Se preferir uma abordagem mais suave, 1,5 desvio padrão é uma opção adequada.\n",
    "Portanto, ajustar o fator de multiplicação para 1,5 é uma maneira válida de aproximar os outliers leves de Tukey. Escolha o valor que melhor se alinha com seus objetivos de análise"
   ]
  },
  {
   "cell_type": "code",
   "execution_count": 110,
   "id": "3ef3522f",
   "metadata": {},
   "outputs": [
    {
     "name": "stdout",
     "output_type": "stream",
     "text": [
      "12.882921791947595\n",
      "11.94488062956912\n",
      " Indexes to exclude (array([   0,    1,    2, ..., 6373, 6375, 6376], dtype=int64),), the length of idx is 1125.\n"
     ]
    }
   ],
   "source": [
    "#now lets to it again with 1,5\n",
    "#Desvio padrão\n",
    "temp_media,temp_std = df_seoulbike_treated[\"temperature(°c)\"].mean(),df_seoulbike_treated[\"temperature(°c)\"].std()\n",
    "cut_off = temp_std*1.5\n",
    "lower, upper = temp_media-cut_off,temp_media+cut_off\n",
    "idx = np.where((df_seoulbike_treated[\"temperature(°c)\"]<lower)|(df_seoulbike_treated[\"temperature(°c)\"]>upper))\n",
    "#checking the values\n",
    "print(temp_media)\n",
    "print(temp_std)\n",
    "print(f\" Indexes to exclude {idx}, the length of idx is {len(idx[0])}.\" )\n"
   ]
  },
  {
   "cell_type": "markdown",
   "id": "8160af26",
   "metadata": {},
   "source": [
    "Ok, este foi um cálculo aproximado do método de Tukey, mas vou fazer agora  o método real e ver a diferença. Assim serei mais precisa.\n",
    "O cálculo que você usou, multiplicando o desvio padrão por um fator (como 3), é uma abordagem comum para detectar outliers. No entanto, ele não é especificamente chamado de “método de desvio padrão”. Vamos esclarecer:\n",
    "\n",
    "Desvio Padrão:\n",
    "O desvio padrão é uma medida de dispersão que indica o quanto os valores de um conjunto de dados se afastam da média.\n",
    "Ele não é usado diretamente para detectar outliers, mas é uma ferramenta importante para entender a variabilidade dos dados.\n",
    "Método de Tukey:\n",
    "O método de Tukey, desenvolvido por John Tukey, é uma abordagem mais geral para detectar outliers.\n",
    "Ele usa os quartis (Q1 e Q3) e o IQR (intervalo interquartil) para definir limites para identificar valores incomuns.\n",
    "Os limites inferior e superior são calculados como:\n",
    "Limite Inferior: Q1 - 1,5 * IQR\n",
    "Limite Superior: Q3 + 1,5 * IQR\n",
    "Valores fora desses limites são considerados outliers.\n",
    "Relação com o seu Cálculo:\n",
    "O seu cálculo usando o desvio padrão multiplicado por 3 é uma aproximação dos limites de Tukey.\n",
    "Embora não seja exatamente o mesmo método, ele segue uma lógica semelhante para identificar valores extremos.\n",
    "Portanto, o que você fez não está errado, mas é importante entender que existem diferentes abordagens para detectar outliers. O método de Tukey é mais robusto e leva em consideração a variabilidade dos dados. Se você deseja uma detecção mais precisa, considere usar os limites de Tukey. 🚀 1: https://www.ermontoro.com/post/teste-rápido-de-tukey 2: https://statologos.com/prueba-de-tukey-diferencia-significativa-honesta/ 3: https://www.infoescola.com/estatistica/teste-de-comparacao-de-medias-teste-de-tukey/ 4: https://edisciplinas.usp.br/pluginfile.php/4434614/mod_resource/content/0/aula6.pdf"
   ]
  },
  {
   "cell_type": "code",
   "execution_count": null,
   "id": "89cf81b7",
   "metadata": {},
   "outputs": [],
   "source": []
  },
  {
   "cell_type": "markdown",
   "id": "c88982c3",
   "metadata": {},
   "source": [
    "## Tukey"
   ]
  },
  {
   "cell_type": "markdown",
   "id": "9a45b444",
   "metadata": {},
   "source": [
    "### Calculating the Mild Outliers"
   ]
  },
  {
   "cell_type": "code",
   "execution_count": 111,
   "id": "62d57a95",
   "metadata": {},
   "outputs": [
    {
     "data": {
      "text/plain": [
       "count    8760.000000\n",
       "mean       12.882922\n",
       "std        11.944881\n",
       "min       -17.796875\n",
       "25%         3.500000\n",
       "50%        13.703125\n",
       "75%        22.500000\n",
       "max        39.406250\n",
       "Name: temperature(°c), dtype: float64"
      ]
     },
     "execution_count": 111,
     "metadata": {},
     "output_type": "execute_result"
    }
   ],
   "source": [
    "df_seoulbike_treated[\"temperature(°c)\"].describe()"
   ]
  },
  {
   "cell_type": "code",
   "execution_count": 114,
   "id": "cac01aaa",
   "metadata": {},
   "outputs": [
    {
     "name": "stdout",
     "output_type": "stream",
     "text": [
      "The first Quantile of Temperature is 3.5\n",
      "The Thrid Quantile of Temperature is 22.5\n"
     ]
    }
   ],
   "source": [
    "temp_Q1 = df_seoulbike_treated[\"temperature(°c)\"].quantile(0.25)\n",
    "temp_Q3 = df_seoulbike_treated[\"temperature(°c)\"].quantile(0.75)\n",
    "\n",
    "print(f\"The first Quantile of Temperature is {temp_Q1}\")\n",
    "print(f\"The Thrid Quantile of Temperature is {temp_Q3}\")"
   ]
  },
  {
   "cell_type": "code",
   "execution_count": 115,
   "id": "57f6b116",
   "metadata": {},
   "outputs": [
    {
     "data": {
      "text/plain": [
       "19.0"
      ]
     },
     "execution_count": 115,
     "metadata": {},
     "output_type": "execute_result"
    }
   ],
   "source": [
    "temp_IQR =temp_Q3-temp_Q1\n",
    "temp_IQR"
   ]
  },
  {
   "cell_type": "code",
   "execution_count": 116,
   "id": "2b40846d",
   "metadata": {},
   "outputs": [
    {
     "name": "stdout",
     "output_type": "stream",
     "text": [
      "The Temperature Mild Lower Bound is -25.0\n",
      "The Temperature Mild Upper Bound is 51.0\n"
     ]
    }
   ],
   "source": [
    "#Calculating the Mild Outliers\n",
    "\n",
    "temp_lower_bound = temp_Q1-(1.5 * temp_IQR)\n",
    "temp_upper_bound = temp_Q3+(1.5 * temp_IQR)\n",
    "print(f\"The Temperature Mild Lower Bound is {temp_lower_bound}\")\n",
    "print(f\"The Temperature Mild Upper Bound is {temp_upper_bound}\")"
   ]
  },
  {
   "cell_type": "code",
   "execution_count": 117,
   "id": "b70bca50",
   "metadata": {},
   "outputs": [
    {
     "name": "stdout",
     "output_type": "stream",
     "text": [
      " Indexes to exclude (array([], dtype=int64),), the length of idx is 0.\n"
     ]
    }
   ],
   "source": [
    "#Nowlet's find the real outliers\n",
    "\n",
    "idxIQMild = np.where((df_seoulbike_treated[\"temperature(°c)\"]<temp_lower_bound)|(df_seoulbike_treated[\"temperature(°c)\"]>temp_upper_bound))\n",
    "print(f\" Indexes to exclude {idxIQMild}, the length of idx is {len(idxIQMild[0])}.\" )"
   ]
  },
  {
   "cell_type": "code",
   "execution_count": 118,
   "id": "3503c21f",
   "metadata": {
    "scrolled": true
   },
   "outputs": [
    {
     "data": {
      "image/png": "[encoded data removed]",
      "text/plain": [
       "<Figure size 1080x576 with 1 Axes>"
      ]
     },
     "metadata": {},
     "output_type": "display_data"
    }
   ],
   "source": [
    "#Hun that means that we dont have outliers here, Let's see it in detail: \n",
    "\n",
    "celsius = []\n",
    "for mensure in float_type:\n",
    "    if '(°c)' in mensure:\n",
    "        celsius.append(mensure)\n",
    "fig,ax=plt.subplots(figsize=(15,8))\n",
    "#Box plot for xxx _outliers\n",
    "sns.boxplot(data=df_seoulbike_treated[celsius])\n",
    "ax.set_title('Temoerature Outliers')\n",
    "plt.show()"
   ]
  },
  {
   "cell_type": "code",
   "execution_count": 120,
   "id": "4b5c0af8",
   "metadata": {},
   "outputs": [
    {
     "data": {
      "image/png": "[encoded data removed]",
      "text/plain": [
       "<Figure size 1080x576 with 1 Axes>"
      ]
     },
     "metadata": {},
     "output_type": "display_data"
    }
   ],
   "source": [
    "#OK good lets check the humidty\n",
    "\n",
    "fig,ax=plt.subplots(figsize=(15,8))\n",
    "#Box plot for xxx _outliers\n",
    "sns.boxplot(data=df_seoulbike_treated['humidity(%)'])\n",
    "ax.set_title('Humidity Outliers')\n",
    "plt.show()"
   ]
  },
  {
   "cell_type": "code",
   "execution_count": 121,
   "id": "7750a31f",
   "metadata": {},
   "outputs": [
    {
     "data": {
      "image/png": "[encoded data removed]",
      "text/plain": [
       "<Figure size 1080x576 with 1 Axes>"
      ]
     },
     "metadata": {},
     "output_type": "display_data"
    }
   ],
   "source": [
    "#Wind Speed\n",
    "fig,ax=plt.subplots(figsize=(15,8))\n",
    "#Box plot for xxx _outliers\n",
    "sns.boxplot(data=df_seoulbike_treated['wind_speed_(m/s)'])\n",
    "ax.set_title('Wind Speed Outliers')\n",
    "plt.show()"
   ]
  },
  {
   "cell_type": "code",
   "execution_count": null,
   "id": "ef45d16d",
   "metadata": {},
   "outputs": [],
   "source": [
    "#wow we have a lot of outliers here. Let's identify them:\n",
    "\n"
   ]
  },
  {
   "cell_type": "code",
   "execution_count": null,
   "id": "8655fff5",
   "metadata": {},
   "outputs": [],
   "source": [
    "df_seoulbike_treated['wind_speed_(m/s)'].describe()"
   ]
  },
  {
   "cell_type": "code",
   "execution_count": null,
   "id": "b066f677",
   "metadata": {},
   "outputs": [],
   "source": [
    "wind_speed_Q1 = df_seoulbike_treated['wind_speed_(m/s)'].quantile(0.25)\n",
    "wind_speed_Q3 = df_seoulbike_treated['wind_speed_(m/s)'].quantile(0.75)\n",
    "\n",
    "print(f\"The first Quantile of Wind_Speed is {wind_speed_Q1}\")\n",
    "print(f\"The Thrid Quantile of Wind_Speed is {wind_speed_Q3}\")"
   ]
  },
  {
   "cell_type": "code",
   "execution_count": null,
   "id": "e4679b87",
   "metadata": {},
   "outputs": [],
   "source": [
    "wind_speed_IQR = wind_speed_Q3-wind_speed_Q1\n",
    "wind_speed_IQR"
   ]
  },
  {
   "cell_type": "markdown",
   "id": "ba6b006e",
   "metadata": {},
   "source": [
    "### Calculating the Mild Outliers"
   ]
  },
  {
   "cell_type": "code",
   "execution_count": null,
   "id": "a20c317a",
   "metadata": {},
   "outputs": [],
   "source": [
    "#Calculating the Mild Outliers\n",
    "\n",
    "mild_lower_bound = wind_speed_Q1-(1.5 * wind_speed_IQR)\n",
    "mild_upper_bound = wind_speed_Q3+(1.5 * wind_speed_IQR)\n",
    "print(f\"The Mild Lower Bound is {mild_lower_bound}\")\n",
    "print(f\"The Mild Upper Bound is {mild_upper_bound}\")"
   ]
  },
  {
   "cell_type": "markdown",
   "id": "5d8fdcb3",
   "metadata": {},
   "source": [
    "### Calculating the Extreme Outlier\n"
   ]
  },
  {
   "cell_type": "code",
   "execution_count": null,
   "id": "0779d0a7",
   "metadata": {},
   "outputs": [],
   "source": [
    "extreme_lower_bound = wind_speed_Q1-(3 * wind_speed_IQR)\n",
    "extreme_upper_bound = wind_speed_Q3+(3 * wind_speed_IQR)\n",
    "print(f\"The Extreme Lower Bound is {extreme_lower_bound}\")\n",
    "print(f\"The Extreme Upper Bound is {extreme_upper_bound}\")"
   ]
  },
  {
   "cell_type": "code",
   "execution_count": null,
   "id": "269e9a67",
   "metadata": {},
   "outputs": [],
   "source": [
    "outliers_lied_upper = df_seoulbike_treated['wind_speed_(m/s)']>mild_upper_bound"
   ]
  },
  {
   "cell_type": "code",
   "execution_count": null,
   "id": "7ff84951",
   "metadata": {},
   "outputs": [],
   "source": [
    "outliers_lied_upper"
   ]
  },
  {
   "cell_type": "code",
   "execution_count": null,
   "id": "7ab780cd",
   "metadata": {},
   "outputs": [],
   "source": [
    "#Now let's determine the number of outlier thar are lie outside of the mild_upper_bound\n",
    "\n",
    "number_of_outliers_lied_upper=(df_seoulbike_treated['wind_speed_(m/s)']>mild_upper_bound).sum()\n",
    "number_of_outliers_lied_upper"
   ]
  },
  {
   "cell_type": "code",
   "execution_count": null,
   "id": "52f314a8",
   "metadata": {},
   "outputs": [],
   "source": [
    "#Calculating the percentage of wind_speed lied over the Mild Upper Bound\n",
    "(df_seoulbike_treated['wind_speed_(m/s)']>mild_upper_bound).mean()*100"
   ]
  },
  {
   "cell_type": "code",
   "execution_count": null,
   "id": "a51b6c2c",
   "metadata": {
    "scrolled": false
   },
   "outputs": [],
   "source": [
    "#So now we'll identify which ones they are.\n",
    "outliers= df_seoulbike_treated[df_seoulbike_treated['wind_speed_(m/s)']>mild_upper_bound]\n",
    "outliers"
   ]
  },
  {
   "cell_type": "code",
   "execution_count": null,
   "id": "87b4578d",
   "metadata": {},
   "outputs": [],
   "source": [
    "outliers.describe()"
   ]
  },
  {
   "cell_type": "code",
   "execution_count": null,
   "id": "f6740f66",
   "metadata": {},
   "outputs": [],
   "source": [
    "#let's see in which season that happened\n",
    "\n",
    "fig,ax=plt.subplots(figsize=(15,8))\n",
    "sns.set_style('white')\n",
    "#Bar plot for seasonwise monthly distribution of counts\n",
    "sns.barplot(x='month_name',y='rented_bike_count',data=df_seoulbike_treated_wind_speed_lied_upper_outliers[['month_name','rented_bike_count','seasons']],hue='seasons',order=['Jan', 'Feb', 'Mar', 'Apr','May','Jun','Jul', 'Aug', 'Sep', 'Oct', 'Nov','Dec'],ax=ax)\n",
    "ax.set_title('Wind Speed Lied over Mild Upper Outliers')\n",
    "plt.show()"
   ]
  },
  {
   "cell_type": "markdown",
   "id": "c7ade2ff",
   "metadata": {},
   "source": [
    "Ok that happened during all the year\n",
    "OK I will replace the upper outliers with the mean valuers during each season"
   ]
  },
  {
   "cell_type": "markdown",
   "id": "d7e8c91f",
   "metadata": {},
   "source": [
    "#\n",
    "Para lidar com outliers em um conjunto de dados durante o treinamento de um modelo de Machine Learning, existem várias abordagens. Vou explicar algumas delas:  \n",
    "\n",
    "Substituição pela Média:\n",
    "A substituição dos valores de outliers pela média é uma opção comum. No entanto, é importante considerar que a média é sensível a outliers. Portanto, essa abordagem pode distorcer os resultados.\n",
    "Se você optar por substituir os outliers pela média da variável “velocidade do vento”, faça o seguinte:\n",
    "Calcule a média dos valores não outliers.\n",
    "Substitua os valores outliers pelo valor médio calculado.  \n",
    "Substituição pela Mediana:\n",
    "Como o valor médio é muito influenciado por outliers, recomenda-se substituir outliers pela mediana.\n",
    "A mediana é menos sensível a valores extremos e é uma medida de tendência central mais robusta.\n",
    "No seu caso, você pode calcular a mediana da variável “velocidade do vento” e substituir os outliers por esse valor.\n",
    "Outras Técnicas:\n",
    "Além da média e mediana, você também pode considerar outras técnicas, como a interpolação ou o uso de modelos preditivos para estimar os valores ausentes."
   ]
  },
  {
   "cell_type": "markdown",
   "id": "fbe20cbc",
   "metadata": {},
   "source": [
    "##Média sem Outliers:\n",
    "Para calcular a média sem os outliers, você pode seguir estas etapas em Python:\n",
    "\n",
    "Detectar Outliers:\n",
    "Use o desvio padrão para identificar os valores discrepantes em sua variável “velocidade do vento”.\n",
    "A biblioteca statistics possui funções úteis para isso.\n",
    "Calcular a Média:\n",
    "Após remover os outliers, calcule a média dos valores restantes."
   ]
  },
  {
   "cell_type": "code",
   "execution_count": null,
   "id": "148bb9b9",
   "metadata": {},
   "outputs": [],
   "source": [
    "import statistics\n",
    "\n",
    "# Calcula o desvio padrão e a média\n",
    "desvio_padrao = statistics.stdev(df_seoulbike_treated['wind_speed_(m/s)'])"
   ]
  },
  {
   "cell_type": "code",
   "execution_count": null,
   "id": "23bf4403",
   "metadata": {},
   "outputs": [],
   "source": [
    "desvio_padrao"
   ]
  },
  {
   "cell_type": "code",
   "execution_count": null,
   "id": "ebaf51b9",
   "metadata": {},
   "outputs": [],
   "source": [
    "media = statistics.mean(df_seoulbike_treated['wind_speed_(m/s)'])"
   ]
  },
  {
   "cell_type": "code",
   "execution_count": null,
   "id": "6be0f77c",
   "metadata": {},
   "outputs": [],
   "source": [
    "media"
   ]
  },
  {
   "cell_type": "code",
   "execution_count": null,
   "id": "3ff4bb72",
   "metadata": {},
   "outputs": [],
   "source": [
    "# Define um limite para identificar outliers (por exemplo, 2.3 vezes o desvio padrão)\n",
    "limite_outliers = 2.3 * desvio_padrao"
   ]
  },
  {
   "cell_type": "code",
   "execution_count": null,
   "id": "af5b3ef3",
   "metadata": {},
   "outputs": [],
   "source": [
    "# Filtra os valores que não são outliers\n",
    "velocidades_sem_outliers = [v for v in df_seoulbike_treated['wind_speed_(m/s)'] if abs(v - media) <= limite_outliers]"
   ]
  },
  {
   "cell_type": "code",
   "execution_count": null,
   "id": "a81e89a5",
   "metadata": {},
   "outputs": [],
   "source": [
    "# Calcula a média sem outliers\n",
    "media_sem_outliers = statistics.mean(velocidades_sem_outliers)\n",
    "\n",
    "print(f\"Média sem outliers: {media_sem_outliers:.2f}\")"
   ]
  },
  {
   "cell_type": "markdown",
   "id": "f412b721",
   "metadata": {},
   "source": [
    "Neste caso eu deveria substituir pela média sem outliers"
   ]
  },
  {
   "cell_type": "markdown",
   "id": "c3815b5d",
   "metadata": {},
   "source": [
    "## Mediana:\n",
    "Para calcular a mediana, você pode usar a função statistics.median():"
   ]
  },
  {
   "cell_type": "code",
   "execution_count": null,
   "id": "bbcf60cc",
   "metadata": {},
   "outputs": [],
   "source": [
    "mediana = statistics.median(velocidades_sem_outliers)\n",
    "print(f\"Mediana: {mediana:.2f}\")\n"
   ]
  },
  {
   "cell_type": "code",
   "execution_count": null,
   "id": "29b8319e",
   "metadata": {},
   "outputs": [],
   "source": [
    "#first I will replace the outliers with the Media values\n",
    "indices = outliers['wind_speed_(m/s)'].index\n"
   ]
  },
  {
   "cell_type": "code",
   "execution_count": null,
   "id": "8892853e",
   "metadata": {},
   "outputs": [],
   "source": [
    "df_seoulbike_treated.loc[indices,'wind_speed_(m/s)']=media_sem_outliers"
   ]
  },
  {
   "cell_type": "code",
   "execution_count": null,
   "id": "a90dedca",
   "metadata": {},
   "outputs": [],
   "source": [
    "#No now wwe dont have wind_speed over the mild_upper_bound\n",
    "df_seoulbike_treated[df_seoulbike_treated['wind_speed_(m/s)']>mild_upper_bound]"
   ]
  },
  {
   "cell_type": "code",
   "execution_count": null,
   "id": "6bb22401",
   "metadata": {
    "scrolled": true
   },
   "outputs": [],
   "source": [
    "df_seoulbike_treated.describe()"
   ]
  },
  {
   "cell_type": "code",
   "execution_count": null,
   "id": "f89fa970",
   "metadata": {},
   "outputs": [],
   "source": [
    "########Now I will replace the original dataset with the NAN values\n",
    "df_seoulbike_treated['wind_speed_(m/s)']=df_seoulbike_treated['wind_speed_(m/s)'].replace(df_seoulbike_treated_wind_speed_lied_upper_outliers_nan['wind_speed_(m/s)'])"
   ]
  },
  {
   "cell_type": "code",
   "execution_count": 71,
   "id": "d6d73675",
   "metadata": {},
   "outputs": [
    {
     "data": {
      "image/png": "[encoded data removed]",
      "text/plain": [
       "<Figure size 432x288 with 1 Axes>"
      ]
     },
     "metadata": {},
     "output_type": "display_data"
    }
   ],
   "source": [
    "import matplotlib.pyplot as plt\n",
    "import numpy as np\n",
    "\n",
    "# Suponha que você já tenha calculado os índices de outliers em 'idx'\n",
    "\n",
    "#not outliers\n",
    "x = df_seoulbike_treated.loc[~df_seoulbike_treated.index.isin(idx), \"temperature(°c)\"]\n",
    "y = df_seoulbike_treated.loc[~df_seoulbike_treated.index.isin(idx), \"hour\"]\n",
    "\n",
    "#outliers\n",
    "x1 = df_seoulbike_treated.loc[idx, \"temperature(°c)\"]\n",
    "y1 = df_seoulbike_treated.loc[idx, \"hour\"]\n",
    "\n",
    "fig, ax = plt.subplots()\n",
    "ax.scatter(x, y, color='blue', label=\"Not Outliers\")\n",
    "ax.scatter(x1, y1, color='red', label=\"Outliers\")  \n",
    "plt.ylabel(\"Hour\")\n",
    "plt.title(\"Scatterplot of Temperature vs. Hour\")\n",
    "plt.legend()  # Mostra a legenda com os rótulos\n",
    "plt.show()  # Não esqueça dos parênteses aqui\n"
   ]
  },
  {
   "cell_type": "code",
   "execution_count": null,
   "id": "1e2b7e54",
   "metadata": {},
   "outputs": [],
   "source": [
    "#Veja agora vai constar os NANs\n",
    "df_seoulbike_treated.info()"
   ]
  },
  {
   "cell_type": "code",
   "execution_count": null,
   "id": "dc571280",
   "metadata": {},
   "outputs": [],
   "source": [
    "msno.matrix(df_seoulbike_treated)"
   ]
  },
  {
   "cell_type": "code",
   "execution_count": null,
   "id": "81119d93",
   "metadata": {},
   "outputs": [],
   "source": [
    "df_seoulbike_treated.info()"
   ]
  },
  {
   "cell_type": "code",
   "execution_count": null,
   "id": "79e8cf42",
   "metadata": {},
   "outputs": [],
   "source": [
    "\n",
    "\n",
    "fig,ax=plt.subplots(figsize=(15,8))\n",
    "#Box plot for xxx _outliers\n",
    "sns.boxplot(data=df_seoulbike_treated['solar_radiation_(mj/m2)'])\n",
    "ax.set_title('xx_outiers')\n",
    "plt.show()"
   ]
  },
  {
   "cell_type": "code",
   "execution_count": null,
   "id": "f8a6986e",
   "metadata": {},
   "outputs": [],
   "source": [
    "\n",
    "\n",
    "\n",
    "fig,ax=plt.subplots(figsize=(15,8))\n",
    "#Box plot for xxx _outliers\n",
    "sns.boxplot(data=df_seoulbike_treated['visibility_(10m)'])\n",
    "ax.set_title('xx_outiers')\n",
    "plt.show()"
   ]
  },
  {
   "cell_type": "code",
   "execution_count": null,
   "id": "0417d36b",
   "metadata": {},
   "outputs": [],
   "source": [
    "#from sklearn.model_selection import train_test_split\n",
    "target_y = df_seoulbike_treated[\"rented_bike_count\"]\n",
    "features_x = df_seoulbike_treated.drop(\"rented_bike_count\",axis=1, inplace=False)\n",
    "train_x,test_x, train_y,test_y = train_test_split(features_x, target_y, test_size=0.2, stratify=features_x['month'].to_numpy(), shuffle = True)"
   ]
  },
  {
   "cell_type": "markdown",
   "id": "789f1ce0",
   "metadata": {},
   "source": [
    "#### The scikit-learn does not provide any support for variable selection using a forward selection approach.   We will write a custom class for that. page 108"
   ]
  },
  {
   "cell_type": "code",
   "execution_count": null,
   "id": "45b26006",
   "metadata": {},
   "outputs": [],
   "source": [
    "from sklearn.base import BaseEstimator\n",
    "from sklearn.linear_model import LinearRegression\n",
    "from sklearn.metrics import r2_score\n",
    "from scipy.sparse import csr_matrix\n",
    "from sklearn.compose import make_column_transformer\n",
    "from sklearn.preprocessing import OneHotEncoder\n",
    "\n",
    "###incluir CategoricalVaribleEncoder class from page 53 of pragmatic Machine Learning\n",
    "class CategoricalVaribleEncoder(BaseEstimator): #page 53\n",
    "    \n",
    "    def __init__(self,categorical_features):\n",
    "        self.categorical_features = categorical_features\n",
    "        self.preprocessing_transformer = make_column_transformer((OneHotEncoder(handle_unknown=\"ignore\"),\n",
    "                                                                 self.categorical_features))\n",
    "        \n",
    "    def fit(self, X, y=None):\n",
    "        self.preprocessing_transformer.fit(X)\n",
    "        return self\n",
    "        \n",
    "    def transform(self, X):\n",
    "        preprocessed_x = self.preprocessing_transformer.transform(X)\n",
    "        return csr_matrix(preprocessed_x).todense()\n",
    "\n",
    "\n",
    "\n",
    "\n",
    "\n",
    "class FowardSelectionLinearRegression(BaseEstimator): #page 108\n",
    "    \n",
    "    def __init__(self):\n",
    "        self.optimal_predictors = None\n",
    "        self.optimal_model = None\n",
    "        \n",
    "    def fit(self, X,y=None):\n",
    "        current_predictors = []\n",
    "        if not isinstance(X,pd.DataFrame):\n",
    "            X = pd.DataFrame(X)\n",
    "        remaining_predictors = list(X)\n",
    "        adjusted_r2_diff = 1\n",
    "        last_adjusted_r2 = 0\n",
    "        \n",
    "        while True:\n",
    "            best_predictor, adjusted_r2, r2 = self._get_next_best_predictor_(X=X, Y=y, current_predictors = current_predictors,\n",
    "                                                                           remaining_predictors = remaining_predictors)\n",
    "            adjusted_r2_diff = round(adjusted_r2 - last_adjusted_r2, 2)\n",
    "            if adjusted_r2_diff <= 0.00 or len(remaining_predictors) <= 0:\n",
    "                break\n",
    "                \n",
    "            current_predictors.append(best_predictor)\n",
    "            remaining_predictors.remove(best_predictor)\n",
    "            last_adjusted_r2 = adjusted_r2\n",
    "            \n",
    "        self.optimal_predictors_ = current_predictors\n",
    "        self.optimal_model_ = LinearRegression().fit(X[self.optimal_predictors_],y)\n",
    "        \n",
    "    def _adjusted_r2_score_(self, r2_val, n, k):\n",
    "        return (1-(((1-r2_val)*(n-1))/(n-k-1)))\n",
    "    \n",
    "    def _get_next_best_predictor_(self, X, Y, current_predictors=None, remaining_predictors=None):\n",
    "        max_adjusted_r2_val = 0\n",
    "        adjusted_r2_val = 0\n",
    "        best_r2_val = 0\n",
    "        r2Val = 0\n",
    "        best_predictor = None\n",
    "        n = len(X)\n",
    "        \n",
    "        for predictor in remaining_predictors:\n",
    "            lr = LinearRegression()\n",
    "            \n",
    "            predictors = []\n",
    "            predictors.extend(current_predictors)\n",
    "            predictors.append(predictor)\n",
    "            \n",
    "            lr.fit(X[predictors],Y)\n",
    "            predY = lr.predict(X[predictors])\n",
    "            r2Val = r2_score(Y,predY)\n",
    "            adjusted_r2_val = self._adjusted_r2_score_(r2Val, n,len(predictors))\n",
    "            if max_adjusted_r2_val < adjusted_r2_val:\n",
    "                best_predictor = predictor\n",
    "                max_adjusted_r2_val = adjusted_r2_val\n",
    "                best_r2_val = r2Val\n",
    "                \n",
    "        return best_predictor, max_adjusted_r2_val, best_r2_val\n",
    "    \n",
    "    def predict(self, X):\n",
    "        if not isinstance(X,pd.DataFrame):\n",
    "            X = pd.DataFrame(X)\n",
    "        X = X[self.optimal_predictors_]\n",
    "        return self.optimal_model_.predict(X)\n",
    "    "
   ]
  },
  {
   "cell_type": "code",
   "execution_count": null,
   "id": "b0c2d27b",
   "metadata": {},
   "outputs": [],
   "source": [
    "fs_lr = FowardSelectionLinearRegression()\n",
    "\n",
    "bike_seoul_pl = Pipeline(steps = [('one_hot_encoder', CategoricalVaribleEncoder(categorical_features = categorical_columns)),\n",
    "        ('scaler',StandardScaler()),\n",
    "        ('foward_selection_model',fs_lr)\n",
    "        \n",
    "    ]\n",
    ")\n",
    "    \n",
    "bike_seoul_pl.fit(train_x,train_y)\n",
    "        "
   ]
  },
  {
   "cell_type": "code",
   "execution_count": null,
   "id": "5c06b7b6",
   "metadata": {},
   "outputs": [],
   "source": [
    "## page 110 to see the best predictors\n",
    "list(df_seoulbike_treated.loc[fs_lr.optimal_predictors_])"
   ]
  },
  {
   "cell_type": "code",
   "execution_count": null,
   "id": "c69040aa",
   "metadata": {},
   "outputs": [],
   "source": [
    "len(list(df_seoulbike_treated.loc[fs_lr.optimal_predictors_]))"
   ]
  },
  {
   "cell_type": "code",
   "execution_count": null,
   "id": "502c5021",
   "metadata": {},
   "outputs": [],
   "source": [
    "df_seoulbike_treated.shape"
   ]
  },
  {
   "cell_type": "code",
   "execution_count": null,
   "id": "4b88c9b0",
   "metadata": {},
   "outputs": [],
   "source": [
    "test_bike_seoul_pl_y = bike_seoul_pl.predict(test_x)\n"
   ]
  },
  {
   "cell_type": "code",
   "execution_count": null,
   "id": "29149b11",
   "metadata": {},
   "outputs": [],
   "source": [
    "type(test_y)"
   ]
  },
  {
   "cell_type": "code",
   "execution_count": null,
   "id": "459ffc7a",
   "metadata": {},
   "outputs": [],
   "source": [
    "type(test_bike_seoul_pl_y)"
   ]
  },
  {
   "cell_type": "code",
   "execution_count": null,
   "id": "bb5154e8",
   "metadata": {},
   "outputs": [],
   "source": [
    "test_bike_seoul_pl_y_list = list(test_bike_seoul_pl_y)"
   ]
  },
  {
   "cell_type": "code",
   "execution_count": null,
   "id": "a6ebd234",
   "metadata": {},
   "outputs": [],
   "source": [
    "len(test_bike_seoul_pl_y_list)"
   ]
  },
  {
   "cell_type": "code",
   "execution_count": null,
   "id": "08f7658a",
   "metadata": {},
   "outputs": [],
   "source": [
    "len(list(test_y))"
   ]
  },
  {
   "cell_type": "code",
   "execution_count": null,
   "id": "97fb0bc5",
   "metadata": {},
   "outputs": [],
   "source": [
    "r_2 = r2_score(list(test_y), test_bike_seoul_pl_y_list)"
   ]
  },
  {
   "cell_type": "code",
   "execution_count": null,
   "id": "7e416dbe",
   "metadata": {},
   "outputs": [],
   "source": [
    "r_2"
   ]
  },
  {
   "cell_type": "code",
   "execution_count": null,
   "id": "12efe944",
   "metadata": {},
   "outputs": [],
   "source": [
    "test_bike_seoul_pl_y.max(axis=0)"
   ]
  },
  {
   "cell_type": "code",
   "execution_count": null,
   "id": "aa076ff3",
   "metadata": {},
   "outputs": [],
   "source": [
    "test_bike_seoul_pl_y.min(axis=0)"
   ]
  },
  {
   "cell_type": "code",
   "execution_count": null,
   "id": "f8a4283c",
   "metadata": {},
   "outputs": [],
   "source": [
    "import matplotlib.pyplot as plt\n",
    "import numpy as np\n",
    "from sklearn import datasets, linear_model\n",
    "from sklearn.metrics import mean_squared_error, r2_score\n",
    "\n",
    "# The coefficients\n",
    "#print(\"Coefficients: \\n\", regr.coef_)\n",
    "# The mean squared error\n",
    "print(\"Mean squared error: %.2f\" % mean_squared_error(list(test_y), test_bike_seoul_pl_y_list))\n",
    "# The coefficient of determination: 1 is perfect prediction\n",
    "print(\"Coefficient of determination: %.2f\" % r2_score(list(test_y), test_bike_seoul_pl_y_list))"
   ]
  },
  {
   "cell_type": "code",
   "execution_count": null,
   "id": "0448ff8d",
   "metadata": {},
   "outputs": [],
   "source": [
    "houra_zero = (test_x['hour']==0).sum()"
   ]
  },
  {
   "cell_type": "code",
   "execution_count": null,
   "id": "d89f9bc1",
   "metadata": {},
   "outputs": [],
   "source": [
    "houra_zero"
   ]
  },
  {
   "cell_type": "code",
   "execution_count": null,
   "id": "0e1f484b",
   "metadata": {},
   "outputs": [],
   "source": [
    "test_x['year'].unique()"
   ]
  },
  {
   "cell_type": "code",
   "execution_count": null,
   "id": "d1abd891",
   "metadata": {},
   "outputs": [],
   "source": [
    "test_x.columns\n"
   ]
  },
  {
   "cell_type": "code",
   "execution_count": null,
   "id": "7622b91e",
   "metadata": {},
   "outputs": [],
   "source": [
    "#muito bem, se eu apenas montar um gráfico como as horas se repentem vejam como ficaria o gráfico:"
   ]
  },
  {
   "cell_type": "code",
   "execution_count": null,
   "id": "7349e537",
   "metadata": {},
   "outputs": [],
   "source": [
    "# Plot outputs\n",
    "plt.scatter(test_x['hour'].to_numpy(), test_y, color=\"black\")\n",
    "plt.plot(test_x['hour'].to_numpy(), test_bike_seoul_pl_y, color=\"blue\", linewidth=1)\n",
    "\n",
    "#plt.xticks(())\n",
    "#plt.yticks(())\n",
    "\n",
    "plt.show()"
   ]
  },
  {
   "cell_type": "code",
   "execution_count": null,
   "id": "d6d66152",
   "metadata": {},
   "outputs": [],
   "source": [
    "#Bom para isto eu terei que voltar a unir os test_x e o text_y, assim como os valores previstos:\n",
    "\n",
    "\n",
    "# Criar um DataFrame com as previsões e os valores reais\n",
    "results_df = pd.DataFrame({'hour': test_x['hour'],\n",
    "                           'real_bike_count': test_y,\n",
    "                           'predicted_bike_count': test_bike_seoul_pl_y})\n",
    "\n",
    "# Agrupar os dados por hora e calcular a média das quantidades de bikes alugadas reais e previstas\n",
    "grouped_data = results_df.groupby('hour').agg({'real_bike_count': 'mean', 'predicted_bike_count': 'mean'}).reset_index()\n",
    "\n",
    "\n"
   ]
  },
  {
   "cell_type": "code",
   "execution_count": null,
   "id": "e61caf19",
   "metadata": {},
   "outputs": [],
   "source": [
    "grouped_data"
   ]
  },
  {
   "cell_type": "code",
   "execution_count": null,
   "id": "0626aa32",
   "metadata": {},
   "outputs": [],
   "source": [
    "\n",
    "# Agrupar os dados por hora e calcular a média das quantidades de bikes alugadas reais e previstas\n",
    "grouped_data = grouped_data.groupby('hour').agg({'real_bike_count': 'mean', 'predicted_bike_count': 'mean'}).reset_index()\n",
    "\n",
    "# Plotar o gráfico de dispersão com a média dos valores\n",
    "plt.scatter(grouped_data['hour'], grouped_data['real_bike_count'], color='black', label='Real')\n",
    "plt.scatter(grouped_data['hour'], grouped_data['predicted_bike_count'], color='blue', label='Previsto')\n",
    "\n",
    "# Plotar as linhas conectando os pontos\n",
    "plt.plot(grouped_data['hour'], grouped_data['real_bike_count'], color='black', linestyle='-', linewidth=1)\n",
    "plt.plot(grouped_data['hour'], grouped_data['predicted_bike_count'], color='blue', linestyle='-', linewidth=1)\n",
    "\n",
    "# Adicionar rótulos e título\n",
    "plt.xlabel('Hora')\n",
    "plt.ylabel('Quantidade de bikes alugadas')\n",
    "plt.title('Real versus Previsto por Hora')\n",
    "plt.legend()\n",
    "\n",
    "# Mostrar o gráfico\n",
    "plt.show()\n"
   ]
  },
  {
   "cell_type": "code",
   "execution_count": null,
   "id": "1f4eec47",
   "metadata": {
    "scrolled": true
   },
   "outputs": [],
   "source": [
    "#I really liked this chart, with it I can have a real idea about the prevision and the real bikes rented. But I wish see it by month. Lest see how it works\n",
    "\n",
    "\n",
    "# Criar um DataFrame com as previsões e os valores reais\n",
    "results_df = pd.DataFrame({'month': test_x['month'],\n",
    "                           'hour': test_x['hour'],\n",
    "                           'real_bike_count': test_y,\n",
    "                           'predicted_bike_count': test_bike_seoul_pl_y})\n",
    "\n",
    "# Criar uma figura com subplots para cada mês\n",
    "fig, axes = plt.subplots(nrows=3, ncols=4, figsize=(20, 15))  # Assumindo 12 meses, ajuste conforme necessário\n",
    "\n",
    "# Iterar sobre cada mês e plotar os dados correspondentes\n",
    "for i, month in enumerate(range(1, 13)):  # Os meses estão numerados de 1 a 12\n",
    "    ax = axes[i // 4, i % 4]  # Calcular a posição do subplot\n",
    "    month_data = results_df[results_df['month'] == month]  # Selecionar os dados para o mês atual\n",
    "    grouped_data = month_data.groupby('hour').agg({'real_bike_count': 'mean', 'predicted_bike_count': 'mean'}).reset_index()\n",
    "    \n",
    "    # Plotar os dados do mês atual\n",
    "    ax.scatter(grouped_data['hour'], grouped_data['real_bike_count'], color='black', label='Real')\n",
    "    ax.scatter(grouped_data['hour'], grouped_data['predicted_bike_count'], color='blue', label='Previsto')\n",
    "    \n",
    "    # Plotar as linhas conectando os pontos\n",
    "    ax.plot(grouped_data['hour'], grouped_data['real_bike_count'], color='black', linestyle='-', linewidth=1)\n",
    "    ax.plot(grouped_data['hour'], grouped_data['predicted_bike_count'], color='blue', linestyle='-', linewidth=1)\n",
    "    \n",
    "    # Configurar títulos e rótulos do eixo\n",
    "    ax.set_title('Mês {}'.format(month))\n",
    "    ax.set_xlabel('Hora')\n",
    "    ax.set_ylabel('Quantidade de bikes alugadas')\n",
    "    ax.legend()\n",
    "\n",
    "# Ajustar layout\n",
    "plt.tight_layout()\n",
    "\n",
    "# Mostrar os subplots\n",
    "plt.show()\n"
   ]
  },
  {
   "cell_type": "markdown",
   "id": "f0b487a7",
   "metadata": {},
   "source": [
    "TO DO: POIS É PARECE QUE ESTAMOS COM VALORES NEGATIVOS AQUI.... HUN... MAS QUE COISA... VOU TER QUE RESOLVER ISTO"
   ]
  },
  {
   "cell_type": "code",
   "execution_count": null,
   "id": "3ec72788",
   "metadata": {},
   "outputs": [],
   "source": [
    "#Para corrigir este comportamento e ver como ficaria a previsão para determinados dias do ano. Vamos incluir um coluna para os dias do ano.\n",
    "\n",
    "test_x['day_of_year'] = df_seoulbike['date'].dt.dayofyear"
   ]
  },
  {
   "cell_type": "code",
   "execution_count": null,
   "id": "217bdaad",
   "metadata": {},
   "outputs": [],
   "source": [
    "import seaborn as sns\n",
    "residuals = test_bike_seoul_pl_y- test_y\n",
    "sns.scatterplot(data = residuals)\n",
    "plt.xlabel(\"Data Instance\")\n",
    "plt.ylabel(\"Residual\")\n",
    "plt.show()\n",
    "\n"
   ]
  },
  {
   "cell_type": "markdown",
   "id": "1751b2f5",
   "metadata": {},
   "source": [
    "## Polynomial Regression"
   ]
  },
  {
   "cell_type": "code",
   "execution_count": null,
   "id": "bbeaf01c",
   "metadata": {},
   "outputs": [],
   "source": [
    "class PolynomialRegression(BaseEstimator):\n",
    "    '''\n",
    "    '''\n",
    "    def __init__(self, degree=2):\n",
    "        self.degree = degree\n",
    "        self.poly_reg_model = LinearRegression()\n",
    "        \n",
    "    def _generate_polynomial_features_(self, X):\n",
    "        '''\n",
    "        '''\n",
    "        new_columns = []\n",
    "        columns = list(X)\n",
    "        for c in columns:\n",
    "            for d in range(2, (self.degree+1)):\n",
    "                new_c = str(c)+\"^\"+str(d)\n",
    "                X[new_c]=pow(X[c],d)\n",
    "        return X\n",
    "\n",
    "    def fit(self, X, y=None):\n",
    "        '''\n",
    "        '''\n",
    "        if not isinstance(X, pd.DataFrame):\n",
    "            X = pd.DataFrame(X)\n",
    "        X = self._generate_polynomial_features_(X)\n",
    "        self.poly_reg_model.fit(X,y)\n",
    "        \n",
    "    def predict(self, X):\n",
    "        '''\n",
    "        '''\n",
    "        if not isinstance(X, pd.DataFrame):\n",
    "            X = pd.DataFrame(X)\n",
    "        X = self._generate_polynomial_features_(X)\n",
    "        return self.poly_reg_model.predict(X)\n",
    "            "
   ]
  },
  {
   "cell_type": "code",
   "execution_count": null,
   "id": "4a65b059",
   "metadata": {},
   "outputs": [],
   "source": [
    "poly_reg = PolynomialRegression(degree=11)\n",
    "poly_lr_pl = Pipeline(steps = [('one_hot_encoder', CategoricalVaribleEncoder(categorical_features = categorical_columns)),\n",
    "        ('scaler',StandardScaler()),\n",
    "        ('poly_reg',poly_reg)\n",
    "        \n",
    "    ]\n",
    ")\n",
    "\n",
    "poly_lr_pl.fit(train_x,train_y)"
   ]
  },
  {
   "cell_type": "code",
   "execution_count": null,
   "id": "fabae887",
   "metadata": {},
   "outputs": [],
   "source": [
    "predited_poly_y = poly_lr_pl.predict(test_x)"
   ]
  },
  {
   "cell_type": "code",
   "execution_count": null,
   "id": "791204e5",
   "metadata": {},
   "outputs": [],
   "source": [
    "predited_poly_y"
   ]
  },
  {
   "cell_type": "code",
   "execution_count": null,
   "id": "b4ae44d3",
   "metadata": {},
   "outputs": [],
   "source": [
    "test_y.to_numpy()"
   ]
  },
  {
   "cell_type": "code",
   "execution_count": null,
   "id": "f3af3b64",
   "metadata": {},
   "outputs": [],
   "source": [
    "r2_score(test_y.to_numpy(),predited_poly_y)"
   ]
  },
  {
   "cell_type": "code",
   "execution_count": null,
   "id": "e2a798ec",
   "metadata": {},
   "outputs": [],
   "source": [
    "train_predited_poly_y = poly_lr_pl.predict(train_x)"
   ]
  },
  {
   "cell_type": "code",
   "execution_count": null,
   "id": "17674d76",
   "metadata": {},
   "outputs": [],
   "source": [
    "r2_score(train_y.to_numpy(),train_predited_poly_y)"
   ]
  },
  {
   "cell_type": "code",
   "execution_count": null,
   "id": "562a3bdf",
   "metadata": {},
   "outputs": [],
   "source": [
    "# Plot outputs\n",
    "plt.scatter(list(test_y), predited_poly_y, color=\"black\")\n",
    "plt.plot(list(test_y), predited_poly_y, color=\"blue\", linewidth=1)\n",
    "\n",
    "plt.xticks(())\n",
    "plt.yticks(())\n",
    "\n",
    "plt.show()"
   ]
  },
  {
   "cell_type": "code",
   "execution_count": null,
   "id": "a9029214",
   "metadata": {},
   "outputs": [],
   "source": [
    "#We have a problem of overfitting here as explained in page 118"
   ]
  },
  {
   "cell_type": "markdown",
   "id": "46443eee",
   "metadata": {},
   "source": [
    "## Lasso"
   ]
  },
  {
   "cell_type": "code",
   "execution_count": null,
   "id": "1fc348e7",
   "metadata": {},
   "outputs": [],
   "source": [
    "from sklearn.linear_model import Lasso\n",
    "\n",
    "lasso_model = Lasso()\n",
    "lasso_bike_model_pl = Pipeline(steps = [('one_hot_encoder', CategoricalVaribleEncoder(categorical_features = categorical_columns)),\n",
    "        ('scaler',StandardScaler()),\n",
    "        ('lr',lasso_model)\n",
    "        \n",
    "    ]\n",
    ")\n",
    "lasso_bike_model_pl.fit(train_x,train_y)\n"
   ]
  },
  {
   "cell_type": "code",
   "execution_count": null,
   "id": "d570d1d8",
   "metadata": {},
   "outputs": [],
   "source": [
    "test_lasso_bike_y = lasso_bike_model_pl.predict(test_x)\n"
   ]
  },
  {
   "cell_type": "code",
   "execution_count": null,
   "id": "0b4a3f41",
   "metadata": {},
   "outputs": [],
   "source": [
    "test_lasso_bike_y"
   ]
  },
  {
   "cell_type": "code",
   "execution_count": null,
   "id": "6af46886",
   "metadata": {},
   "outputs": [],
   "source": [
    "test_y"
   ]
  },
  {
   "cell_type": "code",
   "execution_count": null,
   "id": "4c037e1f",
   "metadata": {},
   "outputs": [],
   "source": [
    "r2_score(test_y.to_numpy(),test_lasso_bike_y)"
   ]
  },
  {
   "cell_type": "code",
   "execution_count": null,
   "id": "52658105",
   "metadata": {},
   "outputs": [],
   "source": [
    "# Plot outputs\n",
    "plt.scatter(list(test_y), test_lasso_bike_y, color=\"black\")\n",
    "plt.plot(list(test_y), test_lasso_bike_y, color=\"blue\", linewidth=1)\n",
    "\n",
    "plt.xticks(())\n",
    "plt.yticks(())\n",
    "\n",
    "plt.show()"
   ]
  },
  {
   "cell_type": "markdown",
   "id": "b67d8971",
   "metadata": {},
   "source": [
    "## DecisionTreeRegressor"
   ]
  },
  {
   "cell_type": "code",
   "execution_count": null,
   "id": "b684a812",
   "metadata": {},
   "outputs": [],
   "source": [
    "from sklearn.tree import DecisionTreeRegressor\n",
    "\n",
    "dt_bike_reg = DecisionTreeRegressor()\n",
    "dt_bike_reg_pl = Pipeline(steps = [('one_hot_encoder', CategoricalVaribleEncoder(categorical_features = categorical_columns)),\n",
    "        ('scaler',StandardScaler()),\n",
    "        ('dt_reg',dt_bike_reg)\n",
    "        \n",
    "    ]\n",
    ")\n",
    "\n",
    "dt_bike_reg_pl.fit(train_x,train_y)"
   ]
  },
  {
   "cell_type": "code",
   "execution_count": null,
   "id": "dce57e65",
   "metadata": {},
   "outputs": [],
   "source": [
    "pip install pydotplus"
   ]
  },
  {
   "cell_type": "code",
   "execution_count": null,
   "id": "b627fae5",
   "metadata": {},
   "outputs": [],
   "source": [
    "python.exe -m pip install --upgrade pip\n"
   ]
  },
  {
   "cell_type": "code",
   "execution_count": null,
   "id": "267a3464",
   "metadata": {},
   "outputs": [],
   "source": [
    "from sklearn.tree import export_graphviz\n",
    "import pydotplus\n",
    "from IPython.display import Image\n",
    "\n",
    "dot_file = export_graphviz(dt_bike_reg,out_file = None, filled = True, rounded = True, special_characters=True)\n",
    "graph = pydotplus.graph_from_dot_data(dot_file)\n",
    "Image(graph.create_png())"
   ]
  },
  {
   "cell_type": "code",
   "execution_count": null,
   "id": "2078a826",
   "metadata": {},
   "outputs": [],
   "source": [
    "predicted_bike_dt_reg_y =dt_bike_reg_pl.predict(test_x)\n",
    "r2_score(test_y,predicted_bike_dt_reg_y)"
   ]
  },
  {
   "cell_type": "markdown",
   "id": "ef2fa6e3",
   "metadata": {},
   "source": [
    "## SVM"
   ]
  },
  {
   "cell_type": "code",
   "execution_count": null,
   "id": "99ef967e",
   "metadata": {},
   "outputs": [],
   "source": [
    "\n",
    "\n",
    "from sklearn.svm import LinearSVR\n",
    "\n",
    "bike_svm_reg = LinearSVR(1.5)\n",
    "bike_svm_reg_pl = Pipeline(steps = [('one_hot_encoder', CategoricalVaribleEncoder(categorical_features = categorical_columns)),\n",
    "        ('scaler',StandardScaler()),\n",
    "        ('SVM_reg',bike_svm_reg)\n",
    "        \n",
    "    ]\n",
    ")\n",
    "\n",
    "bike_svm_reg_pl.fit(train_x,train_y)"
   ]
  },
  {
   "cell_type": "code",
   "execution_count": null,
   "id": "5d6e3b6a",
   "metadata": {},
   "outputs": [],
   "source": [
    "predicted_bike_dt_svm_y =bike_svm_reg_pl.predict(test_x)\n",
    "r2_score(test_y.to_numpy(),predicted_bike_dt_svm_y)"
   ]
  },
  {
   "cell_type": "code",
   "execution_count": null,
   "id": "2dbcba93",
   "metadata": {},
   "outputs": [],
   "source": [
    "test_y"
   ]
  },
  {
   "cell_type": "code",
   "execution_count": null,
   "id": "3764ba6a",
   "metadata": {},
   "outputs": [],
   "source": [
    "predicted_bike_dt_svm_y"
   ]
  },
  {
   "cell_type": "code",
   "execution_count": null,
   "id": "6d9ece10",
   "metadata": {},
   "outputs": [],
   "source": [
    "# Plot outputs\n",
    "plt.scatter(test_y.to_numpy(), predicted_bike_dt_svm_y, color=\"black\")\n",
    "plt.plot(test_y.to_numpy(), predicted_bike_dt_svm_y, color=\"blue\", linewidth=1)\n",
    "\n",
    "plt.xticks(())\n",
    "plt.yticks(())\n",
    "\n",
    "plt.show()"
   ]
  },
  {
   "cell_type": "code",
   "execution_count": null,
   "id": "686a7b81",
   "metadata": {},
   "outputs": [],
   "source": [
    "from sklearn.svm import SVR\n",
    "\n",
    "bike_svm_reg_2 = SVR(kernel=\"poly\", degree=2, C=100, epsilon=0.1)\n",
    "bike_svm_reg_pl_2 = Pipeline(steps = [('one_hot_encoder', CategoricalVaribleEncoder(categorical_features = categorical_columns)),\n",
    "        ('scaler',StandardScaler()),\n",
    "        ('SVM_reg_2',bike_svm_reg_2)\n",
    "        \n",
    "    ]\n",
    ")\n",
    "\n",
    "bike_svm_reg_pl_2.fit(train_x,train_y)"
   ]
  },
  {
   "cell_type": "code",
   "execution_count": null,
   "id": "e44ffa66",
   "metadata": {},
   "outputs": [],
   "source": [
    "predicted_bike_dt_svm_y_2 =bike_svm_reg_pl_2.predict(test_x)\n",
    "r2_score(test_y.to_numpy(),predicted_bike_dt_svm_y_2)"
   ]
  },
  {
   "cell_type": "code",
   "execution_count": null,
   "id": "987a3b22",
   "metadata": {},
   "outputs": [],
   "source": [
    "# Plot outputs\n",
    "plt.scatter(test_x.to_numpy(), test_y.to_numpy(), color=\"black\")\n",
    "#plt.plot(test_y.to_numpy(), predicted_bike_dt_svm_y_2, color=\"blue\", linewidth=1)\n",
    "\n",
    "plt.xticks(())\n",
    "plt.yticks(())\n",
    "\n",
    "plt.show()"
   ]
  },
  {
   "cell_type": "code",
   "execution_count": null,
   "id": "28ae9f63",
   "metadata": {},
   "outputs": [],
   "source": [
    "from sklearn.preprocessing import PowerTransformer\n",
    "from sklearn.compose import ColumnTransformer\n",
    "columns_to_transform = ['temperature(°c)','dew_point_temperature(°c)']\n",
    "\n",
    "# Crie o ColumnTransformer para aplicar o PowerTransformer apenas às colunas selecionadas\n",
    "column_transformer = ColumnTransformer(\n",
    "    transformers=[\n",
    "        ('power_transform', PowerTransformer(method='yeo-johnson'), columns_to_transform)\n",
    "    ],\n",
    "    remainder='passthrough'  # Mantenha as outras colunas inalteradas\n",
    ")"
   ]
  },
  {
   "cell_type": "code",
   "execution_count": null,
   "id": "cf3fd2ca",
   "metadata": {},
   "outputs": [],
   "source": [
    "\n",
    "bike_svm_reg_2 = SVR(kernel=\"poly\", degree=2, C=100, epsilon=0.1)\n",
    "bike_svm_reg_pl_2 = Pipeline(steps = [('one_hot_encoder', CategoricalVaribleEncoder(categorical_features = categorical_columns)),\n",
    "        ('scaler',StandardScaler()), ('power_transformer', column_transformer),                                      \n",
    "        ('SVM_reg_2',bike_svm_reg_2)\n",
    "        \n",
    "    ]\n",
    ")\n",
    "\n",
    "bike_svm_reg_pl_2.fit(train_x,train_y)"
   ]
  },
  {
   "cell_type": "code",
   "execution_count": null,
   "id": "7dc1c64b",
   "metadata": {},
   "outputs": [],
   "source": []
  }
 ],
 "metadata": {
  "kernelspec": {
   "display_name": "Python 3",
   "language": "python",
   "name": "python3"
  },
  "language_info": {
   "codemirror_mode": {
    "name": "ipython",
    "version": 3
   },
   "file_extension": ".py",
   "mimetype": "text/x-python",
   "name": "python",
   "nbconvert_exporter": "python",
   "pygments_lexer": "ipython3",
   "version": "3.8.8"
  }
 },
 "nbformat": 4,
 "nbformat_minor": 5
}
