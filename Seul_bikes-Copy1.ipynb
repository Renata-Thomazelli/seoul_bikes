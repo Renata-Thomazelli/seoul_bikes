{
 "cells": [
  {
   "cell_type": "markdown",
   "id": "8507393d",
   "metadata": {},
   "source": [
    "## The Problem Definition"
   ]
  },
  {
   "cell_type": "code",
   "execution_count": 1,
   "id": "3c4ebaa1",
   "metadata": {},
   "outputs": [],
   "source": [
    "# importing\n",
    "import pandas as pd\n",
    "import matplotlib.pyplot as plt \n",
    "import seaborn as sns\n",
    "import chardet\n",
    "import missingno as msno\n",
    "from sklearn.model_selection import train_test_split\n",
    "from sklearn.preprocessing import StandardScaler\n",
    "from sklearn.pipeline import Pipeline"
   ]
  },
  {
   "cell_type": "code",
   "execution_count": 2,
   "id": "2d5be605",
   "metadata": {},
   "outputs": [],
   "source": [
    "# uploading data\n",
    "path = \"seoul_bike_sharing_demand\\SeoulBikeData.csv\""
   ]
  },
  {
   "cell_type": "code",
   "execution_count": 3,
   "id": "59cc8257",
   "metadata": {},
   "outputs": [],
   "source": [
    "df_seoulbike = pd.read_csv(path)"
   ]
  },
  {
   "cell_type": "code",
   "execution_count": 4,
   "id": "c3363da5",
   "metadata": {},
   "outputs": [
    {
     "data": {
      "text/html": [
       "<div>\n",
       "<style scoped>\n",
       "    .dataframe tbody tr th:only-of-type {\n",
       "        vertical-align: middle;\n",
       "    }\n",
       "\n",
       "    .dataframe tbody tr th {\n",
       "        vertical-align: top;\n",
       "    }\n",
       "\n",
       "    .dataframe thead th {\n",
       "        text-align: right;\n",
       "    }\n",
       "</style>\n",
       "<table border=\"1\" class=\"dataframe\">\n",
       "  <thead>\n",
       "    <tr style=\"text-align: right;\">\n",
       "      <th></th>\n",
       "      <th>Date</th>\n",
       "      <th>Rented Bike Count</th>\n",
       "      <th>Hour</th>\n",
       "      <th>Temperature(�C)</th>\n",
       "      <th>Humidity(%)</th>\n",
       "      <th>Wind speed (m/s)</th>\n",
       "      <th>Visibility (10m)</th>\n",
       "      <th>Dew point temperature(�C)</th>\n",
       "      <th>Solar Radiation (MJ/m2)</th>\n",
       "      <th>Rainfall(mm)</th>\n",
       "      <th>Snowfall (cm)</th>\n",
       "      <th>Seasons</th>\n",
       "      <th>Holiday</th>\n",
       "      <th>Functioning Day</th>\n",
       "    </tr>\n",
       "  </thead>\n",
       "  <tbody>\n",
       "    <tr>\n",
       "      <th>0</th>\n",
       "      <td>01/12/2017</td>\n",
       "      <td>254</td>\n",
       "      <td>0</td>\n",
       "      <td>-5.2</td>\n",
       "      <td>37</td>\n",
       "      <td>2.2</td>\n",
       "      <td>2000</td>\n",
       "      <td>-17.6</td>\n",
       "      <td>0.0</td>\n",
       "      <td>0.0</td>\n",
       "      <td>0.0</td>\n",
       "      <td>Winter</td>\n",
       "      <td>No Holiday</td>\n",
       "      <td>Yes</td>\n",
       "    </tr>\n",
       "    <tr>\n",
       "      <th>1</th>\n",
       "      <td>01/12/2017</td>\n",
       "      <td>204</td>\n",
       "      <td>1</td>\n",
       "      <td>-5.5</td>\n",
       "      <td>38</td>\n",
       "      <td>0.8</td>\n",
       "      <td>2000</td>\n",
       "      <td>-17.6</td>\n",
       "      <td>0.0</td>\n",
       "      <td>0.0</td>\n",
       "      <td>0.0</td>\n",
       "      <td>Winter</td>\n",
       "      <td>No Holiday</td>\n",
       "      <td>Yes</td>\n",
       "    </tr>\n",
       "    <tr>\n",
       "      <th>2</th>\n",
       "      <td>01/12/2017</td>\n",
       "      <td>173</td>\n",
       "      <td>2</td>\n",
       "      <td>-6.0</td>\n",
       "      <td>39</td>\n",
       "      <td>1.0</td>\n",
       "      <td>2000</td>\n",
       "      <td>-17.7</td>\n",
       "      <td>0.0</td>\n",
       "      <td>0.0</td>\n",
       "      <td>0.0</td>\n",
       "      <td>Winter</td>\n",
       "      <td>No Holiday</td>\n",
       "      <td>Yes</td>\n",
       "    </tr>\n",
       "    <tr>\n",
       "      <th>3</th>\n",
       "      <td>01/12/2017</td>\n",
       "      <td>107</td>\n",
       "      <td>3</td>\n",
       "      <td>-6.2</td>\n",
       "      <td>40</td>\n",
       "      <td>0.9</td>\n",
       "      <td>2000</td>\n",
       "      <td>-17.6</td>\n",
       "      <td>0.0</td>\n",
       "      <td>0.0</td>\n",
       "      <td>0.0</td>\n",
       "      <td>Winter</td>\n",
       "      <td>No Holiday</td>\n",
       "      <td>Yes</td>\n",
       "    </tr>\n",
       "    <tr>\n",
       "      <th>4</th>\n",
       "      <td>01/12/2017</td>\n",
       "      <td>78</td>\n",
       "      <td>4</td>\n",
       "      <td>-6.0</td>\n",
       "      <td>36</td>\n",
       "      <td>2.3</td>\n",
       "      <td>2000</td>\n",
       "      <td>-18.6</td>\n",
       "      <td>0.0</td>\n",
       "      <td>0.0</td>\n",
       "      <td>0.0</td>\n",
       "      <td>Winter</td>\n",
       "      <td>No Holiday</td>\n",
       "      <td>Yes</td>\n",
       "    </tr>\n",
       "    <tr>\n",
       "      <th>...</th>\n",
       "      <td>...</td>\n",
       "      <td>...</td>\n",
       "      <td>...</td>\n",
       "      <td>...</td>\n",
       "      <td>...</td>\n",
       "      <td>...</td>\n",
       "      <td>...</td>\n",
       "      <td>...</td>\n",
       "      <td>...</td>\n",
       "      <td>...</td>\n",
       "      <td>...</td>\n",
       "      <td>...</td>\n",
       "      <td>...</td>\n",
       "      <td>...</td>\n",
       "    </tr>\n",
       "    <tr>\n",
       "      <th>8755</th>\n",
       "      <td>30/11/2018</td>\n",
       "      <td>1003</td>\n",
       "      <td>19</td>\n",
       "      <td>4.2</td>\n",
       "      <td>34</td>\n",
       "      <td>2.6</td>\n",
       "      <td>1894</td>\n",
       "      <td>-10.3</td>\n",
       "      <td>0.0</td>\n",
       "      <td>0.0</td>\n",
       "      <td>0.0</td>\n",
       "      <td>Autumn</td>\n",
       "      <td>No Holiday</td>\n",
       "      <td>Yes</td>\n",
       "    </tr>\n",
       "    <tr>\n",
       "      <th>8756</th>\n",
       "      <td>30/11/2018</td>\n",
       "      <td>764</td>\n",
       "      <td>20</td>\n",
       "      <td>3.4</td>\n",
       "      <td>37</td>\n",
       "      <td>2.3</td>\n",
       "      <td>2000</td>\n",
       "      <td>-9.9</td>\n",
       "      <td>0.0</td>\n",
       "      <td>0.0</td>\n",
       "      <td>0.0</td>\n",
       "      <td>Autumn</td>\n",
       "      <td>No Holiday</td>\n",
       "      <td>Yes</td>\n",
       "    </tr>\n",
       "    <tr>\n",
       "      <th>8757</th>\n",
       "      <td>30/11/2018</td>\n",
       "      <td>694</td>\n",
       "      <td>21</td>\n",
       "      <td>2.6</td>\n",
       "      <td>39</td>\n",
       "      <td>0.3</td>\n",
       "      <td>1968</td>\n",
       "      <td>-9.9</td>\n",
       "      <td>0.0</td>\n",
       "      <td>0.0</td>\n",
       "      <td>0.0</td>\n",
       "      <td>Autumn</td>\n",
       "      <td>No Holiday</td>\n",
       "      <td>Yes</td>\n",
       "    </tr>\n",
       "    <tr>\n",
       "      <th>8758</th>\n",
       "      <td>30/11/2018</td>\n",
       "      <td>712</td>\n",
       "      <td>22</td>\n",
       "      <td>2.1</td>\n",
       "      <td>41</td>\n",
       "      <td>1.0</td>\n",
       "      <td>1859</td>\n",
       "      <td>-9.8</td>\n",
       "      <td>0.0</td>\n",
       "      <td>0.0</td>\n",
       "      <td>0.0</td>\n",
       "      <td>Autumn</td>\n",
       "      <td>No Holiday</td>\n",
       "      <td>Yes</td>\n",
       "    </tr>\n",
       "    <tr>\n",
       "      <th>8759</th>\n",
       "      <td>30/11/2018</td>\n",
       "      <td>584</td>\n",
       "      <td>23</td>\n",
       "      <td>1.9</td>\n",
       "      <td>43</td>\n",
       "      <td>1.3</td>\n",
       "      <td>1909</td>\n",
       "      <td>-9.3</td>\n",
       "      <td>0.0</td>\n",
       "      <td>0.0</td>\n",
       "      <td>0.0</td>\n",
       "      <td>Autumn</td>\n",
       "      <td>No Holiday</td>\n",
       "      <td>Yes</td>\n",
       "    </tr>\n",
       "  </tbody>\n",
       "</table>\n",
       "<p>8760 rows × 14 columns</p>\n",
       "</div>"
      ],
      "text/plain": [
       "            Date  Rented Bike Count  Hour  Temperature(�C)  Humidity(%)  \\\n",
       "0     01/12/2017                254     0             -5.2           37   \n",
       "1     01/12/2017                204     1             -5.5           38   \n",
       "2     01/12/2017                173     2             -6.0           39   \n",
       "3     01/12/2017                107     3             -6.2           40   \n",
       "4     01/12/2017                 78     4             -6.0           36   \n",
       "...          ...                ...   ...              ...          ...   \n",
       "8755  30/11/2018               1003    19              4.2           34   \n",
       "8756  30/11/2018                764    20              3.4           37   \n",
       "8757  30/11/2018                694    21              2.6           39   \n",
       "8758  30/11/2018                712    22              2.1           41   \n",
       "8759  30/11/2018                584    23              1.9           43   \n",
       "\n",
       "      Wind speed (m/s)  Visibility (10m)  Dew point temperature(�C)  \\\n",
       "0                  2.2              2000                      -17.6   \n",
       "1                  0.8              2000                      -17.6   \n",
       "2                  1.0              2000                      -17.7   \n",
       "3                  0.9              2000                      -17.6   \n",
       "4                  2.3              2000                      -18.6   \n",
       "...                ...               ...                        ...   \n",
       "8755               2.6              1894                      -10.3   \n",
       "8756               2.3              2000                       -9.9   \n",
       "8757               0.3              1968                       -9.9   \n",
       "8758               1.0              1859                       -9.8   \n",
       "8759               1.3              1909                       -9.3   \n",
       "\n",
       "      Solar Radiation (MJ/m2)  Rainfall(mm)  Snowfall (cm) Seasons  \\\n",
       "0                         0.0           0.0            0.0  Winter   \n",
       "1                         0.0           0.0            0.0  Winter   \n",
       "2                         0.0           0.0            0.0  Winter   \n",
       "3                         0.0           0.0            0.0  Winter   \n",
       "4                         0.0           0.0            0.0  Winter   \n",
       "...                       ...           ...            ...     ...   \n",
       "8755                      0.0           0.0            0.0  Autumn   \n",
       "8756                      0.0           0.0            0.0  Autumn   \n",
       "8757                      0.0           0.0            0.0  Autumn   \n",
       "8758                      0.0           0.0            0.0  Autumn   \n",
       "8759                      0.0           0.0            0.0  Autumn   \n",
       "\n",
       "         Holiday Functioning Day  \n",
       "0     No Holiday             Yes  \n",
       "1     No Holiday             Yes  \n",
       "2     No Holiday             Yes  \n",
       "3     No Holiday             Yes  \n",
       "4     No Holiday             Yes  \n",
       "...          ...             ...  \n",
       "8755  No Holiday             Yes  \n",
       "8756  No Holiday             Yes  \n",
       "8757  No Holiday             Yes  \n",
       "8758  No Holiday             Yes  \n",
       "8759  No Holiday             Yes  \n",
       "\n",
       "[8760 rows x 14 columns]"
      ]
     },
     "execution_count": 4,
     "metadata": {},
     "output_type": "execute_result"
    }
   ],
   "source": [
    "df_seoulbike"
   ]
  },
  {
   "cell_type": "code",
   "execution_count": 5,
   "id": "7783a11e",
   "metadata": {},
   "outputs": [
    {
     "data": {
      "text/plain": [
       "Index(['Date', 'Rented Bike Count', 'Hour', 'Temperature(�C)', 'Humidity(%)',\n",
       "       'Wind speed (m/s)', 'Visibility (10m)', 'Dew point temperature(�C)',\n",
       "       'Solar Radiation (MJ/m2)', 'Rainfall(mm)', 'Snowfall (cm)', 'Seasons',\n",
       "       'Holiday', 'Functioning Day'],\n",
       "      dtype='object')"
      ]
     },
     "execution_count": 5,
     "metadata": {},
     "output_type": "execute_result"
    }
   ],
   "source": [
    "#Let's clean the varibles names to work with\n",
    "df_seoulbike.columns"
   ]
  },
  {
   "cell_type": "code",
   "execution_count": 6,
   "id": "06498a73",
   "metadata": {},
   "outputs": [
    {
     "data": {
      "text/plain": [
       "{'encoding': 'ISO-8859-9',\n",
       " 'confidence': 0.7396635956274547,\n",
       " 'language': 'Turkish'}"
      ]
     },
     "execution_count": 6,
     "metadata": {},
     "output_type": "execute_result"
    }
   ],
   "source": [
    "#Ok we have a little suprise here. The symbol �, I don't know o que that means. \n",
    "#So I had to findout what is this to work with pandas.\n",
    "#So I will use the chardet library to help me with this.\n",
    "with open(path, 'rb') as encoding:\n",
    "    r_encoding = chardet.detect(encoding.read(100000))\n",
    "r_encoding\n"
   ]
  },
  {
   "cell_type": "code",
   "execution_count": 7,
   "id": "478567ba",
   "metadata": {},
   "outputs": [],
   "source": [
    "# Good, now I will open the as a dataframe with the right encoding.\n",
    "with open (path,'r',encoding=r_encoding['encoding']) as df_seoulbike:\n",
    "    df_seoulbike= pd.read_csv(df_seoulbike)"
   ]
  },
  {
   "cell_type": "code",
   "execution_count": 8,
   "id": "996e0efe",
   "metadata": {},
   "outputs": [
    {
     "data": {
      "text/plain": [
       "Index(['Date', 'Rented Bike Count', 'Hour', 'Temperature(°C)', 'Humidity(%)',\n",
       "       'Wind speed (m/s)', 'Visibility (10m)', 'Dew point temperature(°C)',\n",
       "       'Solar Radiation (MJ/m2)', 'Rainfall(mm)', 'Snowfall (cm)', 'Seasons',\n",
       "       'Holiday', 'Functioning Day'],\n",
       "      dtype='object')"
      ]
     },
     "execution_count": 8,
     "metadata": {},
     "output_type": "execute_result"
    }
   ],
   "source": [
    "df_seoulbike.columns"
   ]
  },
  {
   "cell_type": "code",
   "execution_count": 9,
   "id": "bdf1be34",
   "metadata": {},
   "outputs": [
    {
     "data": {
      "text/plain": [
       "Index(['date', 'rented_bike_count', 'hour', 'temperature(°c)', 'humidity(%)',\n",
       "       'wind_speed_(m/s)', 'visibility_(10m)', 'dew_point_temperature(°c)',\n",
       "       'solar_radiation_(mj/m2)', 'rainfall(mm)', 'snowfall_(cm)', 'seasons',\n",
       "       'holiday', 'functioning_day'],\n",
       "      dtype='object')"
      ]
     },
     "execution_count": 9,
     "metadata": {},
     "output_type": "execute_result"
    }
   ],
   "source": [
    "#Building a function to clean the columns name:\n",
    "replacing1= {\" \":\"_\"}\n",
    "#replacing2= {\"(�C)\":\"graus_celsius\"}\n",
    "\n",
    "cols = [col.strip().lower().replace(\" \",\"_\")\n",
    "       for col in df_seoulbike.columns]\n",
    "\n",
    "df_seoulbike.columns = cols\n",
    "df_seoulbike.columns"
   ]
  },
  {
   "cell_type": "code",
   "execution_count": 10,
   "id": "2843ab78",
   "metadata": {},
   "outputs": [
    {
     "data": {
      "text/plain": [
       "(8760, 14)"
      ]
     },
     "execution_count": 10,
     "metadata": {},
     "output_type": "execute_result"
    }
   ],
   "source": [
    "initial_shape = df_seoulbike.shape\n",
    "initial_shape"
   ]
  },
  {
   "cell_type": "code",
   "execution_count": 11,
   "id": "09308453",
   "metadata": {},
   "outputs": [
    {
     "data": {
      "text/plain": [
       "date                         0\n",
       "rented_bike_count            0\n",
       "hour                         0\n",
       "temperature(°c)              0\n",
       "humidity(%)                  0\n",
       "wind_speed_(m/s)             0\n",
       "visibility_(10m)             0\n",
       "dew_point_temperature(°c)    0\n",
       "solar_radiation_(mj/m2)      0\n",
       "rainfall(mm)                 0\n",
       "snowfall_(cm)                0\n",
       "seasons                      0\n",
       "holiday                      0\n",
       "functioning_day              0\n",
       "dtype: int64"
      ]
     },
     "execution_count": 11,
     "metadata": {},
     "output_type": "execute_result"
    }
   ],
   "source": [
    "#Good, Now let's see if we have some missing values.\n",
    "# So I can do it with a isnan function\n",
    "df_seoulbike.isna().sum()"
   ]
  },
  {
   "cell_type": "code",
   "execution_count": 12,
   "id": "d75241a9",
   "metadata": {},
   "outputs": [
    {
     "data": {
      "text/plain": [
       "<AxesSubplot:>"
      ]
     },
     "execution_count": 12,
     "metadata": {},
     "output_type": "execute_result"
    },
    {
     "data": {
      "image/png": "[encoded data removed]",
      "text/plain": [
       "<Figure size 1800x720 with 2 Axes>"
      ]
     },
     "metadata": {
      "needs_background": "light"
     },
     "output_type": "display_data"
    }
   ],
   "source": [
    "#I could also check it with a missingno library\n",
    "msno.matrix(df_seoulbike)"
   ]
  },
  {
   "cell_type": "code",
   "execution_count": 13,
   "id": "c93665da",
   "metadata": {},
   "outputs": [
    {
     "name": "stdout",
     "output_type": "stream",
     "text": [
      "<class 'pandas.core.frame.DataFrame'>\n",
      "RangeIndex: 8760 entries, 0 to 8759\n",
      "Data columns (total 14 columns):\n",
      " #   Column                     Non-Null Count  Dtype  \n",
      "---  ------                     --------------  -----  \n",
      " 0   date                       8760 non-null   object \n",
      " 1   rented_bike_count          8760 non-null   int64  \n",
      " 2   hour                       8760 non-null   int64  \n",
      " 3   temperature(°c)            8760 non-null   float64\n",
      " 4   humidity(%)                8760 non-null   int64  \n",
      " 5   wind_speed_(m/s)           8760 non-null   float64\n",
      " 6   visibility_(10m)           8760 non-null   int64  \n",
      " 7   dew_point_temperature(°c)  8760 non-null   float64\n",
      " 8   solar_radiation_(mj/m2)    8760 non-null   float64\n",
      " 9   rainfall(mm)               8760 non-null   float64\n",
      " 10  snowfall_(cm)              8760 non-null   float64\n",
      " 11  seasons                    8760 non-null   object \n",
      " 12  holiday                    8760 non-null   object \n",
      " 13  functioning_day            8760 non-null   object \n",
      "dtypes: float64(6), int64(4), object(4)\n",
      "memory usage: 958.2+ KB\n"
     ]
    }
   ],
   "source": [
    "#Ok really no missing values\n",
    "#Let's ckeck the type of columns do we have\n",
    "df_seoulbike.info()\n"
   ]
  },
  {
   "cell_type": "code",
   "execution_count": 14,
   "id": "2e52578e",
   "metadata": {},
   "outputs": [
    {
     "data": {
      "text/plain": [
       "Index                           128\n",
       "date                         586920\n",
       "rented_bike_count             70080\n",
       "hour                          70080\n",
       "temperature(°c)               70080\n",
       "humidity(%)                   70080\n",
       "wind_speed_(m/s)              70080\n",
       "visibility_(10m)              70080\n",
       "dew_point_temperature(°c)     70080\n",
       "solar_radiation_(mj/m2)       70080\n",
       "rainfall(mm)                  70080\n",
       "snowfall_(cm)                 70080\n",
       "seasons                      551880\n",
       "holiday                      585624\n",
       "functioning_day              525305\n",
       "dtype: int64"
      ]
     },
     "execution_count": 14,
     "metadata": {},
     "output_type": "execute_result"
    }
   ],
   "source": [
    "#Hun I'm not sure we need use float64 in all float types. Maybe we can improve it.\n",
    "#Let's ckeck the usage of all memory.\n",
    "first_memory_usage = df_seoulbike.memory_usage(deep=True)\n",
    "first_memory_usage"
   ]
  },
  {
   "cell_type": "code",
   "execution_count": 15,
   "id": "ebb2e1ff",
   "metadata": {},
   "outputs": [
    {
     "data": {
      "text/html": [
       "<div>\n",
       "<style scoped>\n",
       "    .dataframe tbody tr th:only-of-type {\n",
       "        vertical-align: middle;\n",
       "    }\n",
       "\n",
       "    .dataframe tbody tr th {\n",
       "        vertical-align: top;\n",
       "    }\n",
       "\n",
       "    .dataframe thead th {\n",
       "        text-align: right;\n",
       "    }\n",
       "</style>\n",
       "<table border=\"1\" class=\"dataframe\">\n",
       "  <thead>\n",
       "    <tr style=\"text-align: right;\">\n",
       "      <th></th>\n",
       "      <th>date</th>\n",
       "      <th>seasons</th>\n",
       "      <th>holiday</th>\n",
       "      <th>functioning_day</th>\n",
       "    </tr>\n",
       "  </thead>\n",
       "  <tbody>\n",
       "    <tr>\n",
       "      <th>0</th>\n",
       "      <td>01/12/2017</td>\n",
       "      <td>Winter</td>\n",
       "      <td>No Holiday</td>\n",
       "      <td>Yes</td>\n",
       "    </tr>\n",
       "    <tr>\n",
       "      <th>1</th>\n",
       "      <td>01/12/2017</td>\n",
       "      <td>Winter</td>\n",
       "      <td>No Holiday</td>\n",
       "      <td>Yes</td>\n",
       "    </tr>\n",
       "    <tr>\n",
       "      <th>2</th>\n",
       "      <td>01/12/2017</td>\n",
       "      <td>Winter</td>\n",
       "      <td>No Holiday</td>\n",
       "      <td>Yes</td>\n",
       "    </tr>\n",
       "    <tr>\n",
       "      <th>3</th>\n",
       "      <td>01/12/2017</td>\n",
       "      <td>Winter</td>\n",
       "      <td>No Holiday</td>\n",
       "      <td>Yes</td>\n",
       "    </tr>\n",
       "    <tr>\n",
       "      <th>4</th>\n",
       "      <td>01/12/2017</td>\n",
       "      <td>Winter</td>\n",
       "      <td>No Holiday</td>\n",
       "      <td>Yes</td>\n",
       "    </tr>\n",
       "    <tr>\n",
       "      <th>...</th>\n",
       "      <td>...</td>\n",
       "      <td>...</td>\n",
       "      <td>...</td>\n",
       "      <td>...</td>\n",
       "    </tr>\n",
       "    <tr>\n",
       "      <th>8755</th>\n",
       "      <td>30/11/2018</td>\n",
       "      <td>Autumn</td>\n",
       "      <td>No Holiday</td>\n",
       "      <td>Yes</td>\n",
       "    </tr>\n",
       "    <tr>\n",
       "      <th>8756</th>\n",
       "      <td>30/11/2018</td>\n",
       "      <td>Autumn</td>\n",
       "      <td>No Holiday</td>\n",
       "      <td>Yes</td>\n",
       "    </tr>\n",
       "    <tr>\n",
       "      <th>8757</th>\n",
       "      <td>30/11/2018</td>\n",
       "      <td>Autumn</td>\n",
       "      <td>No Holiday</td>\n",
       "      <td>Yes</td>\n",
       "    </tr>\n",
       "    <tr>\n",
       "      <th>8758</th>\n",
       "      <td>30/11/2018</td>\n",
       "      <td>Autumn</td>\n",
       "      <td>No Holiday</td>\n",
       "      <td>Yes</td>\n",
       "    </tr>\n",
       "    <tr>\n",
       "      <th>8759</th>\n",
       "      <td>30/11/2018</td>\n",
       "      <td>Autumn</td>\n",
       "      <td>No Holiday</td>\n",
       "      <td>Yes</td>\n",
       "    </tr>\n",
       "  </tbody>\n",
       "</table>\n",
       "<p>8760 rows × 4 columns</p>\n",
       "</div>"
      ],
      "text/plain": [
       "            date seasons     holiday functioning_day\n",
       "0     01/12/2017  Winter  No Holiday             Yes\n",
       "1     01/12/2017  Winter  No Holiday             Yes\n",
       "2     01/12/2017  Winter  No Holiday             Yes\n",
       "3     01/12/2017  Winter  No Holiday             Yes\n",
       "4     01/12/2017  Winter  No Holiday             Yes\n",
       "...          ...     ...         ...             ...\n",
       "8755  30/11/2018  Autumn  No Holiday             Yes\n",
       "8756  30/11/2018  Autumn  No Holiday             Yes\n",
       "8757  30/11/2018  Autumn  No Holiday             Yes\n",
       "8758  30/11/2018  Autumn  No Holiday             Yes\n",
       "8759  30/11/2018  Autumn  No Holiday             Yes\n",
       "\n",
       "[8760 rows x 4 columns]"
      ]
     },
     "execution_count": 15,
     "metadata": {},
     "output_type": "execute_result"
    }
   ],
   "source": [
    "#Ok now I'll check the columns that are as object, to wokr with ML I need to use hot-encoded in those.\n",
    "df_seoulbike.select_dtypes(include = \"object\")"
   ]
  },
  {
   "cell_type": "code",
   "execution_count": 16,
   "id": "ba84bf24",
   "metadata": {},
   "outputs": [
    {
     "data": {
      "text/html": [
       "<div>\n",
       "<style scoped>\n",
       "    .dataframe tbody tr th:only-of-type {\n",
       "        vertical-align: middle;\n",
       "    }\n",
       "\n",
       "    .dataframe tbody tr th {\n",
       "        vertical-align: top;\n",
       "    }\n",
       "\n",
       "    .dataframe thead th {\n",
       "        text-align: right;\n",
       "    }\n",
       "</style>\n",
       "<table border=\"1\" class=\"dataframe\">\n",
       "  <thead>\n",
       "    <tr style=\"text-align: right;\">\n",
       "      <th></th>\n",
       "    </tr>\n",
       "  </thead>\n",
       "  <tbody>\n",
       "    <tr>\n",
       "      <th>0</th>\n",
       "    </tr>\n",
       "    <tr>\n",
       "      <th>1</th>\n",
       "    </tr>\n",
       "    <tr>\n",
       "      <th>2</th>\n",
       "    </tr>\n",
       "    <tr>\n",
       "      <th>3</th>\n",
       "    </tr>\n",
       "    <tr>\n",
       "      <th>4</th>\n",
       "    </tr>\n",
       "    <tr>\n",
       "      <th>...</th>\n",
       "    </tr>\n",
       "    <tr>\n",
       "      <th>8755</th>\n",
       "    </tr>\n",
       "    <tr>\n",
       "      <th>8756</th>\n",
       "    </tr>\n",
       "    <tr>\n",
       "      <th>8757</th>\n",
       "    </tr>\n",
       "    <tr>\n",
       "      <th>8758</th>\n",
       "    </tr>\n",
       "    <tr>\n",
       "      <th>8759</th>\n",
       "    </tr>\n",
       "  </tbody>\n",
       "</table>\n",
       "<p>8760 rows × 0 columns</p>\n",
       "</div>"
      ],
      "text/plain": [
       "Empty DataFrame\n",
       "Columns: []\n",
       "Index: [0, 1, 2, 3, 4, 5, 6, 7, 8, 9, 10, 11, 12, 13, 14, 15, 16, 17, 18, 19, 20, 21, 22, 23, 24, 25, 26, 27, 28, 29, 30, 31, 32, 33, 34, 35, 36, 37, 38, 39, 40, 41, 42, 43, 44, 45, 46, 47, 48, 49, 50, 51, 52, 53, 54, 55, 56, 57, 58, 59, 60, 61, 62, 63, 64, 65, 66, 67, 68, 69, 70, 71, 72, 73, 74, 75, 76, 77, 78, 79, 80, 81, 82, 83, 84, 85, 86, 87, 88, 89, 90, 91, 92, 93, 94, 95, 96, 97, 98, 99, ...]\n",
       "\n",
       "[8760 rows x 0 columns]"
      ]
     },
     "execution_count": 16,
     "metadata": {},
     "output_type": "execute_result"
    }
   ],
   "source": [
    "df_seoulbike.select_dtypes(include = \"category\")"
   ]
  },
  {
   "cell_type": "code",
   "execution_count": 17,
   "id": "d736f148",
   "metadata": {},
   "outputs": [],
   "source": [
    "\n",
    "\n",
    "class Treating_data:\n",
    "    '''\n",
    "    A class to trate the data. \n",
    "    Changing the data type, creating new date columns information and changing the new columns date type.\n",
    "    '''\n",
    "    \n",
    "    def __init__(self, df_bike):\n",
    "        '''\n",
    "        \n",
    "        '''\n",
    "        self.df_bike = df_bike\n",
    "        self.changing_type(self.df_bike)\n",
    "        self.creating_date_info(self.df_bike)\n",
    "        self.changing_type_after_date_info(self.df_bike)\n",
    "\n",
    "\n",
    "    def changing_type(self,df_seoulbike):\n",
    "        '''\n",
    "        \n",
    "        '''\n",
    "        for coluna in df_seoulbike.columns:\n",
    "            if \"temperature\" in coluna:\n",
    "                df_seoulbike[coluna] = df_seoulbike[coluna].astype(\"float16\")\n",
    "            elif \"date\" in coluna:\n",
    "                df_seoulbike[coluna] = pd.to_datetime(arg=df_seoulbike[coluna],format= \"%d/%m/%Y\")\n",
    "            elif coluna in ['seasons','holiday','functioning_day']:\n",
    "                df_seoulbike[coluna] = df_seoulbike[coluna].astype(\"category\")\n",
    "        return  df_seoulbike\n",
    "\n",
    "\n",
    "    def creating_date_info(self,df_seoulbike):\n",
    "        '''\n",
    "        \n",
    "        '''\n",
    "        df_seoulbike['day_of_week'] =df_seoulbike['date'].dt.day_name() \n",
    "        df_seoulbike['year'] = df_seoulbike['date'].dt.year\n",
    "        df_seoulbike['month'] = df_seoulbike['date'].dt.month\n",
    "        #df_seoulbike['day_of_year'] = df_seoulbike['date'].dt.dayofyear\n",
    "        df_seoulbike['week_of_year'] = df_seoulbike['date'].dt.isocalendar().week\n",
    "        #df_seoulbike['month_name'] = df_seoulbike['date'].dt.month_name()\n",
    "        #df_seoulbike['period_day'] = df_seoulbike['date'].dt.strftime('%a')\n",
    "        df_seoulbike['month_name'] = df_seoulbike['date'].dt.strftime('%b')\n",
    "        return  df_seoulbike\n",
    "\n",
    "    def changing_type_after_date_info(self,df_seoulbike):\n",
    "        '''\n",
    "        \n",
    "        '''\n",
    "        for coluna in df_seoulbike.columns:\n",
    "            if coluna in ['day_of_week','month_name']:\n",
    "                df_seoulbike[coluna] = df_seoulbike[coluna].astype(\"category\")\n",
    "        return  df_seoulbike\n"
   ]
  },
  {
   "cell_type": "code",
   "execution_count": 18,
   "id": "a50b4b49",
   "metadata": {},
   "outputs": [],
   "source": [
    "df_seoulbike = Treating_data(df_seoulbike)"
   ]
  },
  {
   "cell_type": "code",
   "execution_count": 19,
   "id": "3b86c133",
   "metadata": {},
   "outputs": [
    {
     "data": {
      "text/html": [
       "<div>\n",
       "<style scoped>\n",
       "    .dataframe tbody tr th:only-of-type {\n",
       "        vertical-align: middle;\n",
       "    }\n",
       "\n",
       "    .dataframe tbody tr th {\n",
       "        vertical-align: top;\n",
       "    }\n",
       "\n",
       "    .dataframe thead th {\n",
       "        text-align: right;\n",
       "    }\n",
       "</style>\n",
       "<table border=\"1\" class=\"dataframe\">\n",
       "  <thead>\n",
       "    <tr style=\"text-align: right;\">\n",
       "      <th></th>\n",
       "      <th>date</th>\n",
       "      <th>rented_bike_count</th>\n",
       "      <th>hour</th>\n",
       "      <th>temperature(°c)</th>\n",
       "      <th>humidity(%)</th>\n",
       "      <th>wind_speed_(m/s)</th>\n",
       "      <th>visibility_(10m)</th>\n",
       "      <th>dew_point_temperature(°c)</th>\n",
       "      <th>solar_radiation_(mj/m2)</th>\n",
       "      <th>rainfall(mm)</th>\n",
       "      <th>snowfall_(cm)</th>\n",
       "      <th>seasons</th>\n",
       "      <th>holiday</th>\n",
       "      <th>functioning_day</th>\n",
       "      <th>day_of_week</th>\n",
       "      <th>year</th>\n",
       "      <th>month</th>\n",
       "      <th>week_of_year</th>\n",
       "      <th>month_name</th>\n",
       "    </tr>\n",
       "  </thead>\n",
       "  <tbody>\n",
       "    <tr>\n",
       "      <th>0</th>\n",
       "      <td>2017-12-01</td>\n",
       "      <td>254</td>\n",
       "      <td>0</td>\n",
       "      <td>-5.199219</td>\n",
       "      <td>37</td>\n",
       "      <td>2.2</td>\n",
       "      <td>2000</td>\n",
       "      <td>-17.593750</td>\n",
       "      <td>0.0</td>\n",
       "      <td>0.0</td>\n",
       "      <td>0.0</td>\n",
       "      <td>Winter</td>\n",
       "      <td>No Holiday</td>\n",
       "      <td>Yes</td>\n",
       "      <td>Friday</td>\n",
       "      <td>2017</td>\n",
       "      <td>12</td>\n",
       "      <td>48</td>\n",
       "      <td>Dec</td>\n",
       "    </tr>\n",
       "    <tr>\n",
       "      <th>1</th>\n",
       "      <td>2017-12-01</td>\n",
       "      <td>204</td>\n",
       "      <td>1</td>\n",
       "      <td>-5.500000</td>\n",
       "      <td>38</td>\n",
       "      <td>0.8</td>\n",
       "      <td>2000</td>\n",
       "      <td>-17.593750</td>\n",
       "      <td>0.0</td>\n",
       "      <td>0.0</td>\n",
       "      <td>0.0</td>\n",
       "      <td>Winter</td>\n",
       "      <td>No Holiday</td>\n",
       "      <td>Yes</td>\n",
       "      <td>Friday</td>\n",
       "      <td>2017</td>\n",
       "      <td>12</td>\n",
       "      <td>48</td>\n",
       "      <td>Dec</td>\n",
       "    </tr>\n",
       "    <tr>\n",
       "      <th>2</th>\n",
       "      <td>2017-12-01</td>\n",
       "      <td>173</td>\n",
       "      <td>2</td>\n",
       "      <td>-6.000000</td>\n",
       "      <td>39</td>\n",
       "      <td>1.0</td>\n",
       "      <td>2000</td>\n",
       "      <td>-17.703125</td>\n",
       "      <td>0.0</td>\n",
       "      <td>0.0</td>\n",
       "      <td>0.0</td>\n",
       "      <td>Winter</td>\n",
       "      <td>No Holiday</td>\n",
       "      <td>Yes</td>\n",
       "      <td>Friday</td>\n",
       "      <td>2017</td>\n",
       "      <td>12</td>\n",
       "      <td>48</td>\n",
       "      <td>Dec</td>\n",
       "    </tr>\n",
       "    <tr>\n",
       "      <th>3</th>\n",
       "      <td>2017-12-01</td>\n",
       "      <td>107</td>\n",
       "      <td>3</td>\n",
       "      <td>-6.199219</td>\n",
       "      <td>40</td>\n",
       "      <td>0.9</td>\n",
       "      <td>2000</td>\n",
       "      <td>-17.593750</td>\n",
       "      <td>0.0</td>\n",
       "      <td>0.0</td>\n",
       "      <td>0.0</td>\n",
       "      <td>Winter</td>\n",
       "      <td>No Holiday</td>\n",
       "      <td>Yes</td>\n",
       "      <td>Friday</td>\n",
       "      <td>2017</td>\n",
       "      <td>12</td>\n",
       "      <td>48</td>\n",
       "      <td>Dec</td>\n",
       "    </tr>\n",
       "    <tr>\n",
       "      <th>4</th>\n",
       "      <td>2017-12-01</td>\n",
       "      <td>78</td>\n",
       "      <td>4</td>\n",
       "      <td>-6.000000</td>\n",
       "      <td>36</td>\n",
       "      <td>2.3</td>\n",
       "      <td>2000</td>\n",
       "      <td>-18.593750</td>\n",
       "      <td>0.0</td>\n",
       "      <td>0.0</td>\n",
       "      <td>0.0</td>\n",
       "      <td>Winter</td>\n",
       "      <td>No Holiday</td>\n",
       "      <td>Yes</td>\n",
       "      <td>Friday</td>\n",
       "      <td>2017</td>\n",
       "      <td>12</td>\n",
       "      <td>48</td>\n",
       "      <td>Dec</td>\n",
       "    </tr>\n",
       "    <tr>\n",
       "      <th>...</th>\n",
       "      <td>...</td>\n",
       "      <td>...</td>\n",
       "      <td>...</td>\n",
       "      <td>...</td>\n",
       "      <td>...</td>\n",
       "      <td>...</td>\n",
       "      <td>...</td>\n",
       "      <td>...</td>\n",
       "      <td>...</td>\n",
       "      <td>...</td>\n",
       "      <td>...</td>\n",
       "      <td>...</td>\n",
       "      <td>...</td>\n",
       "      <td>...</td>\n",
       "      <td>...</td>\n",
       "      <td>...</td>\n",
       "      <td>...</td>\n",
       "      <td>...</td>\n",
       "      <td>...</td>\n",
       "    </tr>\n",
       "    <tr>\n",
       "      <th>8755</th>\n",
       "      <td>2018-11-30</td>\n",
       "      <td>1003</td>\n",
       "      <td>19</td>\n",
       "      <td>4.199219</td>\n",
       "      <td>34</td>\n",
       "      <td>2.6</td>\n",
       "      <td>1894</td>\n",
       "      <td>-10.296875</td>\n",
       "      <td>0.0</td>\n",
       "      <td>0.0</td>\n",
       "      <td>0.0</td>\n",
       "      <td>Autumn</td>\n",
       "      <td>No Holiday</td>\n",
       "      <td>Yes</td>\n",
       "      <td>Friday</td>\n",
       "      <td>2018</td>\n",
       "      <td>11</td>\n",
       "      <td>48</td>\n",
       "      <td>Nov</td>\n",
       "    </tr>\n",
       "    <tr>\n",
       "      <th>8756</th>\n",
       "      <td>2018-11-30</td>\n",
       "      <td>764</td>\n",
       "      <td>20</td>\n",
       "      <td>3.400391</td>\n",
       "      <td>37</td>\n",
       "      <td>2.3</td>\n",
       "      <td>2000</td>\n",
       "      <td>-9.898438</td>\n",
       "      <td>0.0</td>\n",
       "      <td>0.0</td>\n",
       "      <td>0.0</td>\n",
       "      <td>Autumn</td>\n",
       "      <td>No Holiday</td>\n",
       "      <td>Yes</td>\n",
       "      <td>Friday</td>\n",
       "      <td>2018</td>\n",
       "      <td>11</td>\n",
       "      <td>48</td>\n",
       "      <td>Nov</td>\n",
       "    </tr>\n",
       "    <tr>\n",
       "      <th>8757</th>\n",
       "      <td>2018-11-30</td>\n",
       "      <td>694</td>\n",
       "      <td>21</td>\n",
       "      <td>2.599609</td>\n",
       "      <td>39</td>\n",
       "      <td>0.3</td>\n",
       "      <td>1968</td>\n",
       "      <td>-9.898438</td>\n",
       "      <td>0.0</td>\n",
       "      <td>0.0</td>\n",
       "      <td>0.0</td>\n",
       "      <td>Autumn</td>\n",
       "      <td>No Holiday</td>\n",
       "      <td>Yes</td>\n",
       "      <td>Friday</td>\n",
       "      <td>2018</td>\n",
       "      <td>11</td>\n",
       "      <td>48</td>\n",
       "      <td>Nov</td>\n",
       "    </tr>\n",
       "    <tr>\n",
       "      <th>8758</th>\n",
       "      <td>2018-11-30</td>\n",
       "      <td>712</td>\n",
       "      <td>22</td>\n",
       "      <td>2.099609</td>\n",
       "      <td>41</td>\n",
       "      <td>1.0</td>\n",
       "      <td>1859</td>\n",
       "      <td>-9.796875</td>\n",
       "      <td>0.0</td>\n",
       "      <td>0.0</td>\n",
       "      <td>0.0</td>\n",
       "      <td>Autumn</td>\n",
       "      <td>No Holiday</td>\n",
       "      <td>Yes</td>\n",
       "      <td>Friday</td>\n",
       "      <td>2018</td>\n",
       "      <td>11</td>\n",
       "      <td>48</td>\n",
       "      <td>Nov</td>\n",
       "    </tr>\n",
       "    <tr>\n",
       "      <th>8759</th>\n",
       "      <td>2018-11-30</td>\n",
       "      <td>584</td>\n",
       "      <td>23</td>\n",
       "      <td>1.900391</td>\n",
       "      <td>43</td>\n",
       "      <td>1.3</td>\n",
       "      <td>1909</td>\n",
       "      <td>-9.296875</td>\n",
       "      <td>0.0</td>\n",
       "      <td>0.0</td>\n",
       "      <td>0.0</td>\n",
       "      <td>Autumn</td>\n",
       "      <td>No Holiday</td>\n",
       "      <td>Yes</td>\n",
       "      <td>Friday</td>\n",
       "      <td>2018</td>\n",
       "      <td>11</td>\n",
       "      <td>48</td>\n",
       "      <td>Nov</td>\n",
       "    </tr>\n",
       "  </tbody>\n",
       "</table>\n",
       "<p>8760 rows × 19 columns</p>\n",
       "</div>"
      ],
      "text/plain": [
       "           date  rented_bike_count  hour  temperature(°c)  humidity(%)  \\\n",
       "0    2017-12-01                254     0        -5.199219           37   \n",
       "1    2017-12-01                204     1        -5.500000           38   \n",
       "2    2017-12-01                173     2        -6.000000           39   \n",
       "3    2017-12-01                107     3        -6.199219           40   \n",
       "4    2017-12-01                 78     4        -6.000000           36   \n",
       "...         ...                ...   ...              ...          ...   \n",
       "8755 2018-11-30               1003    19         4.199219           34   \n",
       "8756 2018-11-30                764    20         3.400391           37   \n",
       "8757 2018-11-30                694    21         2.599609           39   \n",
       "8758 2018-11-30                712    22         2.099609           41   \n",
       "8759 2018-11-30                584    23         1.900391           43   \n",
       "\n",
       "      wind_speed_(m/s)  visibility_(10m)  dew_point_temperature(°c)  \\\n",
       "0                  2.2              2000                 -17.593750   \n",
       "1                  0.8              2000                 -17.593750   \n",
       "2                  1.0              2000                 -17.703125   \n",
       "3                  0.9              2000                 -17.593750   \n",
       "4                  2.3              2000                 -18.593750   \n",
       "...                ...               ...                        ...   \n",
       "8755               2.6              1894                 -10.296875   \n",
       "8756               2.3              2000                  -9.898438   \n",
       "8757               0.3              1968                  -9.898438   \n",
       "8758               1.0              1859                  -9.796875   \n",
       "8759               1.3              1909                  -9.296875   \n",
       "\n",
       "      solar_radiation_(mj/m2)  rainfall(mm)  snowfall_(cm) seasons  \\\n",
       "0                         0.0           0.0            0.0  Winter   \n",
       "1                         0.0           0.0            0.0  Winter   \n",
       "2                         0.0           0.0            0.0  Winter   \n",
       "3                         0.0           0.0            0.0  Winter   \n",
       "4                         0.0           0.0            0.0  Winter   \n",
       "...                       ...           ...            ...     ...   \n",
       "8755                      0.0           0.0            0.0  Autumn   \n",
       "8756                      0.0           0.0            0.0  Autumn   \n",
       "8757                      0.0           0.0            0.0  Autumn   \n",
       "8758                      0.0           0.0            0.0  Autumn   \n",
       "8759                      0.0           0.0            0.0  Autumn   \n",
       "\n",
       "         holiday functioning_day day_of_week  year  month  week_of_year  \\\n",
       "0     No Holiday             Yes      Friday  2017     12            48   \n",
       "1     No Holiday             Yes      Friday  2017     12            48   \n",
       "2     No Holiday             Yes      Friday  2017     12            48   \n",
       "3     No Holiday             Yes      Friday  2017     12            48   \n",
       "4     No Holiday             Yes      Friday  2017     12            48   \n",
       "...          ...             ...         ...   ...    ...           ...   \n",
       "8755  No Holiday             Yes      Friday  2018     11            48   \n",
       "8756  No Holiday             Yes      Friday  2018     11            48   \n",
       "8757  No Holiday             Yes      Friday  2018     11            48   \n",
       "8758  No Holiday             Yes      Friday  2018     11            48   \n",
       "8759  No Holiday             Yes      Friday  2018     11            48   \n",
       "\n",
       "     month_name  \n",
       "0           Dec  \n",
       "1           Dec  \n",
       "2           Dec  \n",
       "3           Dec  \n",
       "4           Dec  \n",
       "...         ...  \n",
       "8755        Nov  \n",
       "8756        Nov  \n",
       "8757        Nov  \n",
       "8758        Nov  \n",
       "8759        Nov  \n",
       "\n",
       "[8760 rows x 19 columns]"
      ]
     },
     "execution_count": 19,
     "metadata": {},
     "output_type": "execute_result"
    }
   ],
   "source": [
    "df_seoulbike.df_bike"
   ]
  },
  {
   "cell_type": "code",
   "execution_count": 20,
   "id": "3a89acd3",
   "metadata": {},
   "outputs": [],
   "source": [
    "df_seoulbike_treated = df_seoulbike.df_bike"
   ]
  },
  {
   "cell_type": "code",
   "execution_count": 21,
   "id": "ebaa285a",
   "metadata": {},
   "outputs": [
    {
     "name": "stdout",
     "output_type": "stream",
     "text": [
      "<class 'pandas.core.frame.DataFrame'>\n",
      "RangeIndex: 8760 entries, 0 to 8759\n",
      "Data columns (total 19 columns):\n",
      " #   Column                     Non-Null Count  Dtype         \n",
      "---  ------                     --------------  -----         \n",
      " 0   date                       8760 non-null   datetime64[ns]\n",
      " 1   rented_bike_count          8760 non-null   int64         \n",
      " 2   hour                       8760 non-null   int64         \n",
      " 3   temperature(°c)            8760 non-null   float16       \n",
      " 4   humidity(%)                8760 non-null   int64         \n",
      " 5   wind_speed_(m/s)           8760 non-null   float64       \n",
      " 6   visibility_(10m)           8760 non-null   int64         \n",
      " 7   dew_point_temperature(°c)  8760 non-null   float16       \n",
      " 8   solar_radiation_(mj/m2)    8760 non-null   float64       \n",
      " 9   rainfall(mm)               8760 non-null   float64       \n",
      " 10  snowfall_(cm)              8760 non-null   float64       \n",
      " 11  seasons                    8760 non-null   category      \n",
      " 12  holiday                    8760 non-null   category      \n",
      " 13  functioning_day            8760 non-null   category      \n",
      " 14  day_of_week                8760 non-null   category      \n",
      " 15  year                       8760 non-null   int64         \n",
      " 16  month                      8760 non-null   int64         \n",
      " 17  week_of_year               8760 non-null   UInt32        \n",
      " 18  month_name                 8760 non-null   category      \n",
      "dtypes: UInt32(1), category(5), datetime64[ns](1), float16(2), float64(4), int64(6)\n",
      "memory usage: 873.9 KB\n"
     ]
    }
   ],
   "source": [
    "df_seoulbike_treated.info()"
   ]
  },
  {
   "cell_type": "code",
   "execution_count": 22,
   "id": "aae5bc1c",
   "metadata": {},
   "outputs": [
    {
     "data": {
      "text/plain": [
       "(8760, 19)"
      ]
     },
     "execution_count": 22,
     "metadata": {},
     "output_type": "execute_result"
    }
   ],
   "source": [
    "df_seoulbike_treated.shape"
   ]
  },
  {
   "cell_type": "markdown",
   "id": "d1dff4ab",
   "metadata": {},
   "source": [
    "1-tratar o enconding  \n",
    "2-ver o shape  \n",
    "2-limpar os nomes das colunas  \n",
    "3-ver se tem NAN  \n",
    "4-ver memory usage  \n",
    "5-add information about date  \n",
    "5-transformar os tipos de colunas float16 para temperature, to_datetime para data e ecategory para asutras d tipo objeto  \n",
    "6-build the time and wheater analises  \n"
   ]
  },
  {
   "cell_type": "code",
   "execution_count": 23,
   "id": "b8cea26f",
   "metadata": {},
   "outputs": [
    {
     "data": {
      "text/html": [
       "<div>\n",
       "<style scoped>\n",
       "    .dataframe tbody tr th:only-of-type {\n",
       "        vertical-align: middle;\n",
       "    }\n",
       "\n",
       "    .dataframe tbody tr th {\n",
       "        vertical-align: top;\n",
       "    }\n",
       "\n",
       "    .dataframe thead th {\n",
       "        text-align: right;\n",
       "    }\n",
       "</style>\n",
       "<table border=\"1\" class=\"dataframe\">\n",
       "  <thead>\n",
       "    <tr style=\"text-align: right;\">\n",
       "      <th></th>\n",
       "      <th>seasons</th>\n",
       "      <th>holiday</th>\n",
       "      <th>functioning_day</th>\n",
       "      <th>day_of_week</th>\n",
       "      <th>month_name</th>\n",
       "    </tr>\n",
       "  </thead>\n",
       "  <tbody>\n",
       "    <tr>\n",
       "      <th>0</th>\n",
       "      <td>Winter</td>\n",
       "      <td>No Holiday</td>\n",
       "      <td>Yes</td>\n",
       "      <td>Friday</td>\n",
       "      <td>Dec</td>\n",
       "    </tr>\n",
       "    <tr>\n",
       "      <th>1</th>\n",
       "      <td>Winter</td>\n",
       "      <td>No Holiday</td>\n",
       "      <td>Yes</td>\n",
       "      <td>Friday</td>\n",
       "      <td>Dec</td>\n",
       "    </tr>\n",
       "    <tr>\n",
       "      <th>2</th>\n",
       "      <td>Winter</td>\n",
       "      <td>No Holiday</td>\n",
       "      <td>Yes</td>\n",
       "      <td>Friday</td>\n",
       "      <td>Dec</td>\n",
       "    </tr>\n",
       "    <tr>\n",
       "      <th>3</th>\n",
       "      <td>Winter</td>\n",
       "      <td>No Holiday</td>\n",
       "      <td>Yes</td>\n",
       "      <td>Friday</td>\n",
       "      <td>Dec</td>\n",
       "    </tr>\n",
       "    <tr>\n",
       "      <th>4</th>\n",
       "      <td>Winter</td>\n",
       "      <td>No Holiday</td>\n",
       "      <td>Yes</td>\n",
       "      <td>Friday</td>\n",
       "      <td>Dec</td>\n",
       "    </tr>\n",
       "    <tr>\n",
       "      <th>...</th>\n",
       "      <td>...</td>\n",
       "      <td>...</td>\n",
       "      <td>...</td>\n",
       "      <td>...</td>\n",
       "      <td>...</td>\n",
       "    </tr>\n",
       "    <tr>\n",
       "      <th>8755</th>\n",
       "      <td>Autumn</td>\n",
       "      <td>No Holiday</td>\n",
       "      <td>Yes</td>\n",
       "      <td>Friday</td>\n",
       "      <td>Nov</td>\n",
       "    </tr>\n",
       "    <tr>\n",
       "      <th>8756</th>\n",
       "      <td>Autumn</td>\n",
       "      <td>No Holiday</td>\n",
       "      <td>Yes</td>\n",
       "      <td>Friday</td>\n",
       "      <td>Nov</td>\n",
       "    </tr>\n",
       "    <tr>\n",
       "      <th>8757</th>\n",
       "      <td>Autumn</td>\n",
       "      <td>No Holiday</td>\n",
       "      <td>Yes</td>\n",
       "      <td>Friday</td>\n",
       "      <td>Nov</td>\n",
       "    </tr>\n",
       "    <tr>\n",
       "      <th>8758</th>\n",
       "      <td>Autumn</td>\n",
       "      <td>No Holiday</td>\n",
       "      <td>Yes</td>\n",
       "      <td>Friday</td>\n",
       "      <td>Nov</td>\n",
       "    </tr>\n",
       "    <tr>\n",
       "      <th>8759</th>\n",
       "      <td>Autumn</td>\n",
       "      <td>No Holiday</td>\n",
       "      <td>Yes</td>\n",
       "      <td>Friday</td>\n",
       "      <td>Nov</td>\n",
       "    </tr>\n",
       "  </tbody>\n",
       "</table>\n",
       "<p>8760 rows × 5 columns</p>\n",
       "</div>"
      ],
      "text/plain": [
       "     seasons     holiday functioning_day day_of_week month_name\n",
       "0     Winter  No Holiday             Yes      Friday        Dec\n",
       "1     Winter  No Holiday             Yes      Friday        Dec\n",
       "2     Winter  No Holiday             Yes      Friday        Dec\n",
       "3     Winter  No Holiday             Yes      Friday        Dec\n",
       "4     Winter  No Holiday             Yes      Friday        Dec\n",
       "...      ...         ...             ...         ...        ...\n",
       "8755  Autumn  No Holiday             Yes      Friday        Nov\n",
       "8756  Autumn  No Holiday             Yes      Friday        Nov\n",
       "8757  Autumn  No Holiday             Yes      Friday        Nov\n",
       "8758  Autumn  No Holiday             Yes      Friday        Nov\n",
       "8759  Autumn  No Holiday             Yes      Friday        Nov\n",
       "\n",
       "[8760 rows x 5 columns]"
      ]
     },
     "execution_count": 23,
     "metadata": {},
     "output_type": "execute_result"
    }
   ],
   "source": [
    "df_categorical_columns = df_seoulbike_treated.select_dtypes(include = \"category\")\n",
    "df_categorical_columns "
   ]
  },
  {
   "cell_type": "code",
   "execution_count": 24,
   "id": "0fff9e84",
   "metadata": {},
   "outputs": [
    {
     "data": {
      "text/plain": [
       "['hour', 'week_of_year', 'month']"
      ]
     },
     "execution_count": 24,
     "metadata": {},
     "output_type": "execute_result"
    }
   ],
   "source": [
    "categorical_number = [\"hour\",'week_of_year','month']\n",
    "categorical_as_number = []\n",
    "for c in categorical_number:\n",
    "    if c in df_seoulbike_treated.columns:\n",
    "        categorical_as_number.append(c)\n",
    "    \n",
    "\n",
    "categorical_as_number"
   ]
  },
  {
   "cell_type": "code",
   "execution_count": 25,
   "id": "29c64a02",
   "metadata": {},
   "outputs": [
    {
     "data": {
      "text/plain": [
       "['seasons',\n",
       " 'holiday',\n",
       " 'functioning_day',\n",
       " 'day_of_week',\n",
       " 'month_name',\n",
       " 'hour',\n",
       " 'week_of_year',\n",
       " 'month']"
      ]
     },
     "execution_count": 25,
     "metadata": {},
     "output_type": "execute_result"
    }
   ],
   "source": [
    "categorical_columns = df_categorical_columns.columns\n",
    "categorical_columns= categorical_columns.to_list()+categorical_as_number\n",
    "categorical_columns"
   ]
  },
  {
   "cell_type": "code",
   "execution_count": 26,
   "id": "b327066f",
   "metadata": {},
   "outputs": [],
   "source": [
    "especial_day = ['holiday','functioning_day']\n",
    "column_to_transf_tobi = []\n",
    "for e in especial_day:\n",
    "    if e in df_seoulbike_treated.columns:\n",
    "        categorical_columns.remove(e)\n",
    "\n"
   ]
  },
  {
   "cell_type": "code",
   "execution_count": 27,
   "id": "a71b85c1",
   "metadata": {},
   "outputs": [
    {
     "data": {
      "text/plain": [
       "['seasons', 'day_of_week', 'month_name', 'hour', 'week_of_year', 'month']"
      ]
     },
     "execution_count": 27,
     "metadata": {},
     "output_type": "execute_result"
    }
   ],
   "source": [
    "categorical_columns"
   ]
  },
  {
   "cell_type": "code",
   "execution_count": 28,
   "id": "af57f18e",
   "metadata": {},
   "outputs": [
    {
     "data": {
      "text/plain": [
       "['seasons', 'day_of_week', 'month_name', 'hour', 'week_of_year', 'month']"
      ]
     },
     "execution_count": 28,
     "metadata": {},
     "output_type": "execute_result"
    }
   ],
   "source": [
    "categorical_columns"
   ]
  },
  {
   "cell_type": "code",
   "execution_count": 29,
   "id": "dc1f05bc",
   "metadata": {},
   "outputs": [
    {
     "data": {
      "text/html": [
       "<div>\n",
       "<style scoped>\n",
       "    .dataframe tbody tr th:only-of-type {\n",
       "        vertical-align: middle;\n",
       "    }\n",
       "\n",
       "    .dataframe tbody tr th {\n",
       "        vertical-align: top;\n",
       "    }\n",
       "\n",
       "    .dataframe thead th {\n",
       "        text-align: right;\n",
       "    }\n",
       "</style>\n",
       "<table border=\"1\" class=\"dataframe\">\n",
       "  <thead>\n",
       "    <tr style=\"text-align: right;\">\n",
       "      <th></th>\n",
       "      <th>date</th>\n",
       "      <th>rented_bike_count</th>\n",
       "      <th>hour</th>\n",
       "      <th>temperature(°c)</th>\n",
       "      <th>humidity(%)</th>\n",
       "      <th>wind_speed_(m/s)</th>\n",
       "      <th>visibility_(10m)</th>\n",
       "      <th>dew_point_temperature(°c)</th>\n",
       "      <th>solar_radiation_(mj/m2)</th>\n",
       "      <th>rainfall(mm)</th>\n",
       "      <th>snowfall_(cm)</th>\n",
       "      <th>seasons</th>\n",
       "      <th>holiday</th>\n",
       "      <th>functioning_day</th>\n",
       "      <th>day_of_week</th>\n",
       "      <th>year</th>\n",
       "      <th>month</th>\n",
       "      <th>week_of_year</th>\n",
       "      <th>month_name</th>\n",
       "    </tr>\n",
       "  </thead>\n",
       "  <tbody>\n",
       "    <tr>\n",
       "      <th>0</th>\n",
       "      <td>2017-12-01</td>\n",
       "      <td>254</td>\n",
       "      <td>0</td>\n",
       "      <td>-5.199219</td>\n",
       "      <td>37</td>\n",
       "      <td>2.2</td>\n",
       "      <td>2000</td>\n",
       "      <td>-17.593750</td>\n",
       "      <td>0.0</td>\n",
       "      <td>0.0</td>\n",
       "      <td>0.0</td>\n",
       "      <td>Winter</td>\n",
       "      <td>No Holiday</td>\n",
       "      <td>Yes</td>\n",
       "      <td>Friday</td>\n",
       "      <td>2017</td>\n",
       "      <td>12</td>\n",
       "      <td>48</td>\n",
       "      <td>Dec</td>\n",
       "    </tr>\n",
       "    <tr>\n",
       "      <th>1</th>\n",
       "      <td>2017-12-01</td>\n",
       "      <td>204</td>\n",
       "      <td>1</td>\n",
       "      <td>-5.500000</td>\n",
       "      <td>38</td>\n",
       "      <td>0.8</td>\n",
       "      <td>2000</td>\n",
       "      <td>-17.593750</td>\n",
       "      <td>0.0</td>\n",
       "      <td>0.0</td>\n",
       "      <td>0.0</td>\n",
       "      <td>Winter</td>\n",
       "      <td>No Holiday</td>\n",
       "      <td>Yes</td>\n",
       "      <td>Friday</td>\n",
       "      <td>2017</td>\n",
       "      <td>12</td>\n",
       "      <td>48</td>\n",
       "      <td>Dec</td>\n",
       "    </tr>\n",
       "    <tr>\n",
       "      <th>2</th>\n",
       "      <td>2017-12-01</td>\n",
       "      <td>173</td>\n",
       "      <td>2</td>\n",
       "      <td>-6.000000</td>\n",
       "      <td>39</td>\n",
       "      <td>1.0</td>\n",
       "      <td>2000</td>\n",
       "      <td>-17.703125</td>\n",
       "      <td>0.0</td>\n",
       "      <td>0.0</td>\n",
       "      <td>0.0</td>\n",
       "      <td>Winter</td>\n",
       "      <td>No Holiday</td>\n",
       "      <td>Yes</td>\n",
       "      <td>Friday</td>\n",
       "      <td>2017</td>\n",
       "      <td>12</td>\n",
       "      <td>48</td>\n",
       "      <td>Dec</td>\n",
       "    </tr>\n",
       "    <tr>\n",
       "      <th>3</th>\n",
       "      <td>2017-12-01</td>\n",
       "      <td>107</td>\n",
       "      <td>3</td>\n",
       "      <td>-6.199219</td>\n",
       "      <td>40</td>\n",
       "      <td>0.9</td>\n",
       "      <td>2000</td>\n",
       "      <td>-17.593750</td>\n",
       "      <td>0.0</td>\n",
       "      <td>0.0</td>\n",
       "      <td>0.0</td>\n",
       "      <td>Winter</td>\n",
       "      <td>No Holiday</td>\n",
       "      <td>Yes</td>\n",
       "      <td>Friday</td>\n",
       "      <td>2017</td>\n",
       "      <td>12</td>\n",
       "      <td>48</td>\n",
       "      <td>Dec</td>\n",
       "    </tr>\n",
       "    <tr>\n",
       "      <th>4</th>\n",
       "      <td>2017-12-01</td>\n",
       "      <td>78</td>\n",
       "      <td>4</td>\n",
       "      <td>-6.000000</td>\n",
       "      <td>36</td>\n",
       "      <td>2.3</td>\n",
       "      <td>2000</td>\n",
       "      <td>-18.593750</td>\n",
       "      <td>0.0</td>\n",
       "      <td>0.0</td>\n",
       "      <td>0.0</td>\n",
       "      <td>Winter</td>\n",
       "      <td>No Holiday</td>\n",
       "      <td>Yes</td>\n",
       "      <td>Friday</td>\n",
       "      <td>2017</td>\n",
       "      <td>12</td>\n",
       "      <td>48</td>\n",
       "      <td>Dec</td>\n",
       "    </tr>\n",
       "    <tr>\n",
       "      <th>...</th>\n",
       "      <td>...</td>\n",
       "      <td>...</td>\n",
       "      <td>...</td>\n",
       "      <td>...</td>\n",
       "      <td>...</td>\n",
       "      <td>...</td>\n",
       "      <td>...</td>\n",
       "      <td>...</td>\n",
       "      <td>...</td>\n",
       "      <td>...</td>\n",
       "      <td>...</td>\n",
       "      <td>...</td>\n",
       "      <td>...</td>\n",
       "      <td>...</td>\n",
       "      <td>...</td>\n",
       "      <td>...</td>\n",
       "      <td>...</td>\n",
       "      <td>...</td>\n",
       "      <td>...</td>\n",
       "    </tr>\n",
       "    <tr>\n",
       "      <th>8755</th>\n",
       "      <td>2018-11-30</td>\n",
       "      <td>1003</td>\n",
       "      <td>19</td>\n",
       "      <td>4.199219</td>\n",
       "      <td>34</td>\n",
       "      <td>2.6</td>\n",
       "      <td>1894</td>\n",
       "      <td>-10.296875</td>\n",
       "      <td>0.0</td>\n",
       "      <td>0.0</td>\n",
       "      <td>0.0</td>\n",
       "      <td>Autumn</td>\n",
       "      <td>No Holiday</td>\n",
       "      <td>Yes</td>\n",
       "      <td>Friday</td>\n",
       "      <td>2018</td>\n",
       "      <td>11</td>\n",
       "      <td>48</td>\n",
       "      <td>Nov</td>\n",
       "    </tr>\n",
       "    <tr>\n",
       "      <th>8756</th>\n",
       "      <td>2018-11-30</td>\n",
       "      <td>764</td>\n",
       "      <td>20</td>\n",
       "      <td>3.400391</td>\n",
       "      <td>37</td>\n",
       "      <td>2.3</td>\n",
       "      <td>2000</td>\n",
       "      <td>-9.898438</td>\n",
       "      <td>0.0</td>\n",
       "      <td>0.0</td>\n",
       "      <td>0.0</td>\n",
       "      <td>Autumn</td>\n",
       "      <td>No Holiday</td>\n",
       "      <td>Yes</td>\n",
       "      <td>Friday</td>\n",
       "      <td>2018</td>\n",
       "      <td>11</td>\n",
       "      <td>48</td>\n",
       "      <td>Nov</td>\n",
       "    </tr>\n",
       "    <tr>\n",
       "      <th>8757</th>\n",
       "      <td>2018-11-30</td>\n",
       "      <td>694</td>\n",
       "      <td>21</td>\n",
       "      <td>2.599609</td>\n",
       "      <td>39</td>\n",
       "      <td>0.3</td>\n",
       "      <td>1968</td>\n",
       "      <td>-9.898438</td>\n",
       "      <td>0.0</td>\n",
       "      <td>0.0</td>\n",
       "      <td>0.0</td>\n",
       "      <td>Autumn</td>\n",
       "      <td>No Holiday</td>\n",
       "      <td>Yes</td>\n",
       "      <td>Friday</td>\n",
       "      <td>2018</td>\n",
       "      <td>11</td>\n",
       "      <td>48</td>\n",
       "      <td>Nov</td>\n",
       "    </tr>\n",
       "    <tr>\n",
       "      <th>8758</th>\n",
       "      <td>2018-11-30</td>\n",
       "      <td>712</td>\n",
       "      <td>22</td>\n",
       "      <td>2.099609</td>\n",
       "      <td>41</td>\n",
       "      <td>1.0</td>\n",
       "      <td>1859</td>\n",
       "      <td>-9.796875</td>\n",
       "      <td>0.0</td>\n",
       "      <td>0.0</td>\n",
       "      <td>0.0</td>\n",
       "      <td>Autumn</td>\n",
       "      <td>No Holiday</td>\n",
       "      <td>Yes</td>\n",
       "      <td>Friday</td>\n",
       "      <td>2018</td>\n",
       "      <td>11</td>\n",
       "      <td>48</td>\n",
       "      <td>Nov</td>\n",
       "    </tr>\n",
       "    <tr>\n",
       "      <th>8759</th>\n",
       "      <td>2018-11-30</td>\n",
       "      <td>584</td>\n",
       "      <td>23</td>\n",
       "      <td>1.900391</td>\n",
       "      <td>43</td>\n",
       "      <td>1.3</td>\n",
       "      <td>1909</td>\n",
       "      <td>-9.296875</td>\n",
       "      <td>0.0</td>\n",
       "      <td>0.0</td>\n",
       "      <td>0.0</td>\n",
       "      <td>Autumn</td>\n",
       "      <td>No Holiday</td>\n",
       "      <td>Yes</td>\n",
       "      <td>Friday</td>\n",
       "      <td>2018</td>\n",
       "      <td>11</td>\n",
       "      <td>48</td>\n",
       "      <td>Nov</td>\n",
       "    </tr>\n",
       "  </tbody>\n",
       "</table>\n",
       "<p>8760 rows × 19 columns</p>\n",
       "</div>"
      ],
      "text/plain": [
       "           date  rented_bike_count  hour  temperature(°c)  humidity(%)  \\\n",
       "0    2017-12-01                254     0        -5.199219           37   \n",
       "1    2017-12-01                204     1        -5.500000           38   \n",
       "2    2017-12-01                173     2        -6.000000           39   \n",
       "3    2017-12-01                107     3        -6.199219           40   \n",
       "4    2017-12-01                 78     4        -6.000000           36   \n",
       "...         ...                ...   ...              ...          ...   \n",
       "8755 2018-11-30               1003    19         4.199219           34   \n",
       "8756 2018-11-30                764    20         3.400391           37   \n",
       "8757 2018-11-30                694    21         2.599609           39   \n",
       "8758 2018-11-30                712    22         2.099609           41   \n",
       "8759 2018-11-30                584    23         1.900391           43   \n",
       "\n",
       "      wind_speed_(m/s)  visibility_(10m)  dew_point_temperature(°c)  \\\n",
       "0                  2.2              2000                 -17.593750   \n",
       "1                  0.8              2000                 -17.593750   \n",
       "2                  1.0              2000                 -17.703125   \n",
       "3                  0.9              2000                 -17.593750   \n",
       "4                  2.3              2000                 -18.593750   \n",
       "...                ...               ...                        ...   \n",
       "8755               2.6              1894                 -10.296875   \n",
       "8756               2.3              2000                  -9.898438   \n",
       "8757               0.3              1968                  -9.898438   \n",
       "8758               1.0              1859                  -9.796875   \n",
       "8759               1.3              1909                  -9.296875   \n",
       "\n",
       "      solar_radiation_(mj/m2)  rainfall(mm)  snowfall_(cm) seasons  \\\n",
       "0                         0.0           0.0            0.0  Winter   \n",
       "1                         0.0           0.0            0.0  Winter   \n",
       "2                         0.0           0.0            0.0  Winter   \n",
       "3                         0.0           0.0            0.0  Winter   \n",
       "4                         0.0           0.0            0.0  Winter   \n",
       "...                       ...           ...            ...     ...   \n",
       "8755                      0.0           0.0            0.0  Autumn   \n",
       "8756                      0.0           0.0            0.0  Autumn   \n",
       "8757                      0.0           0.0            0.0  Autumn   \n",
       "8758                      0.0           0.0            0.0  Autumn   \n",
       "8759                      0.0           0.0            0.0  Autumn   \n",
       "\n",
       "         holiday functioning_day day_of_week  year  month  week_of_year  \\\n",
       "0     No Holiday             Yes      Friday  2017     12            48   \n",
       "1     No Holiday             Yes      Friday  2017     12            48   \n",
       "2     No Holiday             Yes      Friday  2017     12            48   \n",
       "3     No Holiday             Yes      Friday  2017     12            48   \n",
       "4     No Holiday             Yes      Friday  2017     12            48   \n",
       "...          ...             ...         ...   ...    ...           ...   \n",
       "8755  No Holiday             Yes      Friday  2018     11            48   \n",
       "8756  No Holiday             Yes      Friday  2018     11            48   \n",
       "8757  No Holiday             Yes      Friday  2018     11            48   \n",
       "8758  No Holiday             Yes      Friday  2018     11            48   \n",
       "8759  No Holiday             Yes      Friday  2018     11            48   \n",
       "\n",
       "     month_name  \n",
       "0           Dec  \n",
       "1           Dec  \n",
       "2           Dec  \n",
       "3           Dec  \n",
       "4           Dec  \n",
       "...         ...  \n",
       "8755        Nov  \n",
       "8756        Nov  \n",
       "8757        Nov  \n",
       "8758        Nov  \n",
       "8759        Nov  \n",
       "\n",
       "[8760 rows x 19 columns]"
      ]
     },
     "execution_count": 29,
     "metadata": {},
     "output_type": "execute_result"
    }
   ],
   "source": [
    "df_seoulbike_treated"
   ]
  },
  {
   "cell_type": "code",
   "execution_count": 30,
   "id": "ad9f27b6",
   "metadata": {},
   "outputs": [
    {
     "data": {
      "text/plain": [
       "<AxesSubplot:xlabel='year', ylabel='rented_bike_count'>"
      ]
     },
     "execution_count": 30,
     "metadata": {},
     "output_type": "execute_result"
    },
    {
     "data": {
      "image/png": "[encoded data removed]",
      "text/plain": [
       "<Figure size 432x288 with 1 Axes>"
      ]
     },
     "metadata": {
      "needs_background": "light"
     },
     "output_type": "display_data"
    }
   ],
   "source": [
    "#FAZER No PBI Let's analyse the information about data that we have\n",
    "year_bikes = df_seoulbike_treated.query(\"month_name == 'Dec'\")\n",
    "sns.lineplot(data=year_bikes, x=\"year\", y=\"rented_bike_count\")"
   ]
  },
  {
   "cell_type": "code",
   "execution_count": 31,
   "id": "0bedad81",
   "metadata": {},
   "outputs": [],
   "source": [
    "df_seoulbike_treated = df_seoulbike_treated.drop([\"date\",\"year\"],axis=1, inplace=False)"
   ]
  },
  {
   "cell_type": "code",
   "execution_count": 32,
   "id": "32ebcfa2",
   "metadata": {},
   "outputs": [
    {
     "data": {
      "text/plain": [
       "['No Holiday', 'Holiday']\n",
       "Categories (2, object): ['No Holiday', 'Holiday']"
      ]
     },
     "execution_count": 32,
     "metadata": {},
     "output_type": "execute_result"
    }
   ],
   "source": [
    "df_seoulbike_treated[\"holiday\"].unique()"
   ]
  },
  {
   "cell_type": "code",
   "execution_count": 33,
   "id": "0149387f",
   "metadata": {},
   "outputs": [
    {
     "data": {
      "text/plain": [
       "['Yes', 'No']\n",
       "Categories (2, object): ['Yes', 'No']"
      ]
     },
     "execution_count": 33,
     "metadata": {},
     "output_type": "execute_result"
    }
   ],
   "source": [
    "df_seoulbike_treated[\"functioning_day\"].unique()"
   ]
  },
  {
   "cell_type": "code",
   "execution_count": 34,
   "id": "9bb8cf5a",
   "metadata": {},
   "outputs": [],
   "source": [
    "df_seoulbike_treated[\"holiday\"] = df_seoulbike_treated[\"holiday\"].map({\"No Holiday\":0,\"Holiday\":1})\n",
    "df_seoulbike_treated[\"functioning_day\"] = df_seoulbike_treated[\"functioning_day\"].map({\"No\" : 0, \"Yes\":1})"
   ]
  },
  {
   "cell_type": "code",
   "execution_count": 35,
   "id": "4589fa66",
   "metadata": {},
   "outputs": [
    {
     "data": {
      "text/plain": [
       "array([2000, 1928, 1996, ...,  220,  524, 1688], dtype=int64)"
      ]
     },
     "execution_count": 35,
     "metadata": {},
     "output_type": "execute_result"
    }
   ],
   "source": [
    "df_seoulbike_treated[\"visibility_(10m)\"].unique()"
   ]
  },
  {
   "cell_type": "code",
   "execution_count": 36,
   "id": "f97acf2a",
   "metadata": {},
   "outputs": [
    {
     "name": "stdout",
     "output_type": "stream",
     "text": [
      "<class 'pandas.core.frame.DataFrame'>\n",
      "RangeIndex: 8760 entries, 0 to 8759\n",
      "Data columns (total 17 columns):\n",
      " #   Column                     Non-Null Count  Dtype   \n",
      "---  ------                     --------------  -----   \n",
      " 0   rented_bike_count          8760 non-null   int64   \n",
      " 1   hour                       8760 non-null   int64   \n",
      " 2   temperature(°c)            8760 non-null   float16 \n",
      " 3   humidity(%)                8760 non-null   int64   \n",
      " 4   wind_speed_(m/s)           8760 non-null   float64 \n",
      " 5   visibility_(10m)           8760 non-null   int64   \n",
      " 6   dew_point_temperature(°c)  8760 non-null   float16 \n",
      " 7   solar_radiation_(mj/m2)    8760 non-null   float64 \n",
      " 8   rainfall(mm)               8760 non-null   float64 \n",
      " 9   snowfall_(cm)              8760 non-null   float64 \n",
      " 10  seasons                    8760 non-null   category\n",
      " 11  holiday                    8760 non-null   category\n",
      " 12  functioning_day            8760 non-null   category\n",
      " 13  day_of_week                8760 non-null   category\n",
      " 14  month                      8760 non-null   int64   \n",
      " 15  week_of_year               8760 non-null   UInt32  \n",
      " 16  month_name                 8760 non-null   category\n",
      "dtypes: UInt32(1), category(5), float16(2), float64(4), int64(5)\n",
      "memory usage: 737.0 KB\n"
     ]
    }
   ],
   "source": [
    "df_seoulbike_treated.info()"
   ]
  },
  {
   "cell_type": "code",
   "execution_count": 37,
   "id": "f09e4279",
   "metadata": {},
   "outputs": [
    {
     "data": {
      "text/html": [
       "<div>\n",
       "<style scoped>\n",
       "    .dataframe tbody tr th:only-of-type {\n",
       "        vertical-align: middle;\n",
       "    }\n",
       "\n",
       "    .dataframe tbody tr th {\n",
       "        vertical-align: top;\n",
       "    }\n",
       "\n",
       "    .dataframe thead th {\n",
       "        text-align: right;\n",
       "    }\n",
       "</style>\n",
       "<table border=\"1\" class=\"dataframe\">\n",
       "  <thead>\n",
       "    <tr style=\"text-align: right;\">\n",
       "      <th></th>\n",
       "      <th>rented_bike_count</th>\n",
       "      <th>hour</th>\n",
       "      <th>temperature(°c)</th>\n",
       "      <th>humidity(%)</th>\n",
       "      <th>wind_speed_(m/s)</th>\n",
       "      <th>visibility_(10m)</th>\n",
       "      <th>dew_point_temperature(°c)</th>\n",
       "      <th>solar_radiation_(mj/m2)</th>\n",
       "      <th>rainfall(mm)</th>\n",
       "      <th>snowfall_(cm)</th>\n",
       "      <th>seasons</th>\n",
       "      <th>holiday</th>\n",
       "      <th>functioning_day</th>\n",
       "      <th>day_of_week</th>\n",
       "      <th>month</th>\n",
       "      <th>week_of_year</th>\n",
       "      <th>month_name</th>\n",
       "    </tr>\n",
       "  </thead>\n",
       "  <tbody>\n",
       "    <tr>\n",
       "      <th>0</th>\n",
       "      <td>254</td>\n",
       "      <td>0</td>\n",
       "      <td>-5.199219</td>\n",
       "      <td>37</td>\n",
       "      <td>2.2</td>\n",
       "      <td>2000</td>\n",
       "      <td>-17.593750</td>\n",
       "      <td>0.0</td>\n",
       "      <td>0.0</td>\n",
       "      <td>0.0</td>\n",
       "      <td>Winter</td>\n",
       "      <td>0</td>\n",
       "      <td>1</td>\n",
       "      <td>Friday</td>\n",
       "      <td>12</td>\n",
       "      <td>48</td>\n",
       "      <td>Dec</td>\n",
       "    </tr>\n",
       "    <tr>\n",
       "      <th>1</th>\n",
       "      <td>204</td>\n",
       "      <td>1</td>\n",
       "      <td>-5.500000</td>\n",
       "      <td>38</td>\n",
       "      <td>0.8</td>\n",
       "      <td>2000</td>\n",
       "      <td>-17.593750</td>\n",
       "      <td>0.0</td>\n",
       "      <td>0.0</td>\n",
       "      <td>0.0</td>\n",
       "      <td>Winter</td>\n",
       "      <td>0</td>\n",
       "      <td>1</td>\n",
       "      <td>Friday</td>\n",
       "      <td>12</td>\n",
       "      <td>48</td>\n",
       "      <td>Dec</td>\n",
       "    </tr>\n",
       "    <tr>\n",
       "      <th>2</th>\n",
       "      <td>173</td>\n",
       "      <td>2</td>\n",
       "      <td>-6.000000</td>\n",
       "      <td>39</td>\n",
       "      <td>1.0</td>\n",
       "      <td>2000</td>\n",
       "      <td>-17.703125</td>\n",
       "      <td>0.0</td>\n",
       "      <td>0.0</td>\n",
       "      <td>0.0</td>\n",
       "      <td>Winter</td>\n",
       "      <td>0</td>\n",
       "      <td>1</td>\n",
       "      <td>Friday</td>\n",
       "      <td>12</td>\n",
       "      <td>48</td>\n",
       "      <td>Dec</td>\n",
       "    </tr>\n",
       "    <tr>\n",
       "      <th>3</th>\n",
       "      <td>107</td>\n",
       "      <td>3</td>\n",
       "      <td>-6.199219</td>\n",
       "      <td>40</td>\n",
       "      <td>0.9</td>\n",
       "      <td>2000</td>\n",
       "      <td>-17.593750</td>\n",
       "      <td>0.0</td>\n",
       "      <td>0.0</td>\n",
       "      <td>0.0</td>\n",
       "      <td>Winter</td>\n",
       "      <td>0</td>\n",
       "      <td>1</td>\n",
       "      <td>Friday</td>\n",
       "      <td>12</td>\n",
       "      <td>48</td>\n",
       "      <td>Dec</td>\n",
       "    </tr>\n",
       "    <tr>\n",
       "      <th>4</th>\n",
       "      <td>78</td>\n",
       "      <td>4</td>\n",
       "      <td>-6.000000</td>\n",
       "      <td>36</td>\n",
       "      <td>2.3</td>\n",
       "      <td>2000</td>\n",
       "      <td>-18.593750</td>\n",
       "      <td>0.0</td>\n",
       "      <td>0.0</td>\n",
       "      <td>0.0</td>\n",
       "      <td>Winter</td>\n",
       "      <td>0</td>\n",
       "      <td>1</td>\n",
       "      <td>Friday</td>\n",
       "      <td>12</td>\n",
       "      <td>48</td>\n",
       "      <td>Dec</td>\n",
       "    </tr>\n",
       "    <tr>\n",
       "      <th>5</th>\n",
       "      <td>100</td>\n",
       "      <td>5</td>\n",
       "      <td>-6.398438</td>\n",
       "      <td>37</td>\n",
       "      <td>1.5</td>\n",
       "      <td>2000</td>\n",
       "      <td>-18.703125</td>\n",
       "      <td>0.0</td>\n",
       "      <td>0.0</td>\n",
       "      <td>0.0</td>\n",
       "      <td>Winter</td>\n",
       "      <td>0</td>\n",
       "      <td>1</td>\n",
       "      <td>Friday</td>\n",
       "      <td>12</td>\n",
       "      <td>48</td>\n",
       "      <td>Dec</td>\n",
       "    </tr>\n",
       "    <tr>\n",
       "      <th>6</th>\n",
       "      <td>181</td>\n",
       "      <td>6</td>\n",
       "      <td>-6.601562</td>\n",
       "      <td>35</td>\n",
       "      <td>1.3</td>\n",
       "      <td>2000</td>\n",
       "      <td>-19.500000</td>\n",
       "      <td>0.0</td>\n",
       "      <td>0.0</td>\n",
       "      <td>0.0</td>\n",
       "      <td>Winter</td>\n",
       "      <td>0</td>\n",
       "      <td>1</td>\n",
       "      <td>Friday</td>\n",
       "      <td>12</td>\n",
       "      <td>48</td>\n",
       "      <td>Dec</td>\n",
       "    </tr>\n",
       "  </tbody>\n",
       "</table>\n",
       "</div>"
      ],
      "text/plain": [
       "   rented_bike_count  hour  temperature(°c)  humidity(%)  wind_speed_(m/s)  \\\n",
       "0                254     0        -5.199219           37               2.2   \n",
       "1                204     1        -5.500000           38               0.8   \n",
       "2                173     2        -6.000000           39               1.0   \n",
       "3                107     3        -6.199219           40               0.9   \n",
       "4                 78     4        -6.000000           36               2.3   \n",
       "5                100     5        -6.398438           37               1.5   \n",
       "6                181     6        -6.601562           35               1.3   \n",
       "\n",
       "   visibility_(10m)  dew_point_temperature(°c)  solar_radiation_(mj/m2)  \\\n",
       "0              2000                 -17.593750                      0.0   \n",
       "1              2000                 -17.593750                      0.0   \n",
       "2              2000                 -17.703125                      0.0   \n",
       "3              2000                 -17.593750                      0.0   \n",
       "4              2000                 -18.593750                      0.0   \n",
       "5              2000                 -18.703125                      0.0   \n",
       "6              2000                 -19.500000                      0.0   \n",
       "\n",
       "   rainfall(mm)  snowfall_(cm) seasons holiday functioning_day day_of_week  \\\n",
       "0           0.0            0.0  Winter       0               1      Friday   \n",
       "1           0.0            0.0  Winter       0               1      Friday   \n",
       "2           0.0            0.0  Winter       0               1      Friday   \n",
       "3           0.0            0.0  Winter       0               1      Friday   \n",
       "4           0.0            0.0  Winter       0               1      Friday   \n",
       "5           0.0            0.0  Winter       0               1      Friday   \n",
       "6           0.0            0.0  Winter       0               1      Friday   \n",
       "\n",
       "   month  week_of_year month_name  \n",
       "0     12            48        Dec  \n",
       "1     12            48        Dec  \n",
       "2     12            48        Dec  \n",
       "3     12            48        Dec  \n",
       "4     12            48        Dec  \n",
       "5     12            48        Dec  \n",
       "6     12            48        Dec  "
      ]
     },
     "execution_count": 37,
     "metadata": {},
     "output_type": "execute_result"
    }
   ],
   "source": [
    "df_seoulbike_treated.head(7)"
   ]
  },
  {
   "cell_type": "code",
   "execution_count": 38,
   "id": "0417d36b",
   "metadata": {},
   "outputs": [],
   "source": [
    "#from sklearn.model_selection import train_test_split\n",
    "target_y = df_seoulbike_treated[\"rented_bike_count\"]\n",
    "features_x = df_seoulbike_treated.drop(\"rented_bike_count\",axis=1, inplace=False)\n",
    "train_x,test_x, train_y,test_y = train_test_split(features_x, target_y, test_size=0.2, stratify=features_x['month'].to_numpy(), shuffle = True)"
   ]
  },
  {
   "cell_type": "markdown",
   "id": "789f1ce0",
   "metadata": {},
   "source": [
    "#### The scikit-learn does not provide any support for variable selection using a forward selection approach.   We will write a custom class for that. page 108"
   ]
  },
  {
   "cell_type": "code",
   "execution_count": 39,
   "id": "45b26006",
   "metadata": {},
   "outputs": [],
   "source": [
    "from sklearn.base import BaseEstimator\n",
    "from sklearn.linear_model import LinearRegression\n",
    "from sklearn.metrics import r2_score\n",
    "from scipy.sparse import csr_matrix\n",
    "from sklearn.compose import make_column_transformer\n",
    "from sklearn.preprocessing import OneHotEncoder\n",
    "\n",
    "###incluir CategoricalVaribleEncoder class from page 53 of pragmatic Machine Learning\n",
    "class CategoricalVaribleEncoder(BaseEstimator): #page 53\n",
    "    \n",
    "    def __init__(self,categorical_features):\n",
    "        self.categorical_features = categorical_features\n",
    "        self.preprocessing_transformer = make_column_transformer((OneHotEncoder(handle_unknown=\"ignore\"),\n",
    "                                                                 self.categorical_features))\n",
    "        \n",
    "    def fit(self, X, y=None):\n",
    "        self.preprocessing_transformer.fit(X)\n",
    "        return self\n",
    "        \n",
    "    def transform(self, X):\n",
    "        preprocessed_x = self.preprocessing_transformer.transform(X)\n",
    "        return csr_matrix(preprocessed_x).todense()\n",
    "\n",
    "\n",
    "\n",
    "\n",
    "\n",
    "class FowardSelectionLinearRegression(BaseEstimator): #page 108\n",
    "    \n",
    "    def __init__(self):\n",
    "        self.optimal_predictors = None\n",
    "        self.optimal_model = None\n",
    "        \n",
    "    def fit(self, X,y=None):\n",
    "        current_predictors = []\n",
    "        if not isinstance(X,pd.DataFrame):\n",
    "            X = pd.DataFrame(X)\n",
    "        remaining_predictors = list(X)\n",
    "        adjusted_r2_diff = 1\n",
    "        last_adjusted_r2 = 0\n",
    "        \n",
    "        while True:\n",
    "            best_predictor, adjusted_r2, r2 = self._get_next_best_predictor_(X=X, Y=y, current_predictors = current_predictors,\n",
    "                                                                           remaining_predictors = remaining_predictors)\n",
    "            adjusted_r2_diff = round(adjusted_r2 - last_adjusted_r2, 2)\n",
    "            if adjusted_r2_diff <= 0.00 or len(remaining_predictors) <= 0:\n",
    "                break\n",
    "                \n",
    "            current_predictors.append(best_predictor)\n",
    "            remaining_predictors.remove(best_predictor)\n",
    "            last_adjusted_r2 = adjusted_r2\n",
    "            \n",
    "        self.optimal_predictors_ = current_predictors\n",
    "        self.optimal_model_ = LinearRegression().fit(X[self.optimal_predictors_],y)\n",
    "        \n",
    "    def _adjusted_r2_score_(self, r2_val, n, k):\n",
    "        return (1-(((1-r2_val)*(n-1))/(n-k-1)))\n",
    "    \n",
    "    def _get_next_best_predictor_(self, X, Y, current_predictors=None, remaining_predictors=None):\n",
    "        max_adjusted_r2_val = 0\n",
    "        adjusted_r2_val = 0\n",
    "        best_r2_val = 0\n",
    "        r2Val = 0\n",
    "        best_predictor = None\n",
    "        n = len(X)\n",
    "        \n",
    "        for predictor in remaining_predictors:\n",
    "            lr = LinearRegression()\n",
    "            \n",
    "            predictors = []\n",
    "            predictors.extend(current_predictors)\n",
    "            predictors.append(predictor)\n",
    "            \n",
    "            lr.fit(X[predictors],Y)\n",
    "            predY = lr.predict(X[predictors])\n",
    "            r2Val = r2_score(Y,predY)\n",
    "            adjusted_r2_val = self._adjusted_r2_score_(r2Val, n,len(predictors))\n",
    "            if max_adjusted_r2_val < adjusted_r2_val:\n",
    "                best_predictor = predictor\n",
    "                max_adjusted_r2_val = adjusted_r2_val\n",
    "                best_r2_val = r2Val\n",
    "                \n",
    "        return best_predictor, max_adjusted_r2_val, best_r2_val\n",
    "    \n",
    "    def predict(self, X):\n",
    "        if not isinstance(X,pd.DataFrame):\n",
    "            X = pd.DataFrame(X)\n",
    "        X = X[self.optimal_predictors_]\n",
    "        return self.optimal_model_.predict(X)\n",
    "    "
   ]
  },
  {
   "cell_type": "code",
   "execution_count": 40,
   "id": "b0c2d27b",
   "metadata": {},
   "outputs": [
    {
     "data": {
      "text/plain": [
       "Pipeline(steps=[('one_hot_encoder',\n",
       "                 CategoricalVaribleEncoder(categorical_features=['seasons',\n",
       "                                                                 'day_of_week',\n",
       "                                                                 'month_name',\n",
       "                                                                 'hour',\n",
       "                                                                 'week_of_year',\n",
       "                                                                 'month'])),\n",
       "                ('scaler', StandardScaler()),\n",
       "                ('foward_selection_model', FowardSelectionLinearRegression())])"
      ]
     },
     "execution_count": 40,
     "metadata": {},
     "output_type": "execute_result"
    }
   ],
   "source": [
    "fs_lr = FowardSelectionLinearRegression()\n",
    "\n",
    "bike_seoul_pl = Pipeline(steps = [('one_hot_encoder', CategoricalVaribleEncoder(categorical_features = categorical_columns)),\n",
    "        ('scaler',StandardScaler()),\n",
    "        ('foward_selection_model',fs_lr)\n",
    "        \n",
    "    ]\n",
    ")\n",
    "    \n",
    "bike_seoul_pl.fit(train_x,train_y)\n",
    "        "
   ]
  },
  {
   "cell_type": "code",
   "execution_count": 41,
   "id": "5c06b7b6",
   "metadata": {},
   "outputs": [
    {
     "data": {
      "text/plain": [
       "['rented_bike_count',\n",
       " 'hour',\n",
       " 'temperature(°c)',\n",
       " 'humidity(%)',\n",
       " 'wind_speed_(m/s)',\n",
       " 'visibility_(10m)',\n",
       " 'dew_point_temperature(°c)',\n",
       " 'solar_radiation_(mj/m2)',\n",
       " 'rainfall(mm)',\n",
       " 'snowfall_(cm)',\n",
       " 'seasons',\n",
       " 'holiday',\n",
       " 'functioning_day',\n",
       " 'day_of_week',\n",
       " 'month',\n",
       " 'week_of_year',\n",
       " 'month_name']"
      ]
     },
     "execution_count": 41,
     "metadata": {},
     "output_type": "execute_result"
    }
   ],
   "source": [
    "## page 110 to see the best predictors\n",
    "list(df_seoulbike_treated.loc[fs_lr.optimal_predictors_])"
   ]
  },
  {
   "cell_type": "code",
   "execution_count": 42,
   "id": "c69040aa",
   "metadata": {},
   "outputs": [
    {
     "data": {
      "text/plain": [
       "17"
      ]
     },
     "execution_count": 42,
     "metadata": {},
     "output_type": "execute_result"
    }
   ],
   "source": [
    "len(list(df_seoulbike_treated.loc[fs_lr.optimal_predictors_]))"
   ]
  },
  {
   "cell_type": "code",
   "execution_count": 43,
   "id": "502c5021",
   "metadata": {},
   "outputs": [
    {
     "data": {
      "text/plain": [
       "(8760, 17)"
      ]
     },
     "execution_count": 43,
     "metadata": {},
     "output_type": "execute_result"
    }
   ],
   "source": [
    "df_seoulbike_treated.shape"
   ]
  },
  {
   "cell_type": "code",
   "execution_count": 44,
   "id": "4b88c9b0",
   "metadata": {},
   "outputs": [],
   "source": [
    "test_bike_seoul_pl_y = bike_seoul_pl.predict(test_x)\n"
   ]
  },
  {
   "cell_type": "code",
   "execution_count": 45,
   "id": "29149b11",
   "metadata": {},
   "outputs": [
    {
     "data": {
      "text/plain": [
       "pandas.core.series.Series"
      ]
     },
     "execution_count": 45,
     "metadata": {},
     "output_type": "execute_result"
    }
   ],
   "source": [
    "type(test_y)"
   ]
  },
  {
   "cell_type": "code",
   "execution_count": 46,
   "id": "459ffc7a",
   "metadata": {},
   "outputs": [
    {
     "data": {
      "text/plain": [
       "numpy.ndarray"
      ]
     },
     "execution_count": 46,
     "metadata": {},
     "output_type": "execute_result"
    }
   ],
   "source": [
    "type(test_bike_seoul_pl_y)"
   ]
  },
  {
   "cell_type": "code",
   "execution_count": 47,
   "id": "bb5154e8",
   "metadata": {},
   "outputs": [],
   "source": [
    "test_bike_seoul_pl_y_list = list(test_bike_seoul_pl_y)"
   ]
  },
  {
   "cell_type": "code",
   "execution_count": 48,
   "id": "a6ebd234",
   "metadata": {},
   "outputs": [
    {
     "data": {
      "text/plain": [
       "1752"
      ]
     },
     "execution_count": 48,
     "metadata": {},
     "output_type": "execute_result"
    }
   ],
   "source": [
    "len(test_bike_seoul_pl_y_list)"
   ]
  },
  {
   "cell_type": "code",
   "execution_count": 49,
   "id": "08f7658a",
   "metadata": {},
   "outputs": [
    {
     "data": {
      "text/plain": [
       "1752"
      ]
     },
     "execution_count": 49,
     "metadata": {},
     "output_type": "execute_result"
    }
   ],
   "source": [
    "len(list(test_y))"
   ]
  },
  {
   "cell_type": "code",
   "execution_count": 50,
   "id": "97fb0bc5",
   "metadata": {},
   "outputs": [],
   "source": [
    "r_2 = r2_score(list(test_y), test_bike_seoul_pl_y_list)"
   ]
  },
  {
   "cell_type": "code",
   "execution_count": 51,
   "id": "7e416dbe",
   "metadata": {},
   "outputs": [
    {
     "data": {
      "text/plain": [
       "0.49778047342208354"
      ]
     },
     "execution_count": 51,
     "metadata": {},
     "output_type": "execute_result"
    }
   ],
   "source": [
    "r_2"
   ]
  },
  {
   "cell_type": "code",
   "execution_count": 52,
   "id": "f8a4283c",
   "metadata": {},
   "outputs": [
    {
     "name": "stdout",
     "output_type": "stream",
     "text": [
      "Mean squared error: 210096.54\n",
      "Coefficient of determination: 0.50\n"
     ]
    }
   ],
   "source": [
    "import matplotlib.pyplot as plt\n",
    "import numpy as np\n",
    "from sklearn import datasets, linear_model\n",
    "from sklearn.metrics import mean_squared_error, r2_score\n",
    "\n",
    "# The coefficients\n",
    "#print(\"Coefficients: \\n\", regr.coef_)\n",
    "# The mean squared error\n",
    "print(\"Mean squared error: %.2f\" % mean_squared_error(list(test_y), test_bike_seoul_pl_y_list))\n",
    "# The coefficient of determination: 1 is perfect prediction\n",
    "print(\"Coefficient of determination: %.2f\" % r2_score(list(test_y), test_bike_seoul_pl_y_list))"
   ]
  },
  {
   "cell_type": "code",
   "execution_count": 53,
   "id": "7349e537",
   "metadata": {},
   "outputs": [
    {
     "data": {
      "image/png": "[encoded data removed]",
      "text/plain": [
       "<Figure size 432x288 with 1 Axes>"
      ]
     },
     "metadata": {},
     "output_type": "display_data"
    }
   ],
   "source": [
    "# Plot outputs\n",
    "plt.scatter(list(test_y), test_bike_seoul_pl_y_list, color=\"black\")\n",
    "plt.plot(list(test_y), test_bike_seoul_pl_y_list, color=\"blue\", linewidth=1)\n",
    "\n",
    "plt.xticks(())\n",
    "plt.yticks(())\n",
    "\n",
    "plt.show()"
   ]
  },
  {
   "cell_type": "code",
   "execution_count": 75,
   "id": "217bdaad",
   "metadata": {},
   "outputs": [
    {
     "data": {
      "image/png": "[encoded data removed]",
      "text/plain": [
       "<Figure size 432x288 with 1 Axes>"
      ]
     },
     "metadata": {
      "needs_background": "light"
     },
     "output_type": "display_data"
    }
   ],
   "source": [
    "import seaborn as sns\n",
    "residuals = test_bike_seoul_pl_y- test_y\n",
    "sns.scatterplot(data = residuals)\n",
    "plt.xlabel(\"Data Instance\")\n",
    "plt.ylabel(\"Residual\")\n",
    "plt.show()\n",
    "\n"
   ]
  },
  {
   "cell_type": "markdown",
   "id": "1751b2f5",
   "metadata": {},
   "source": [
    "## Polynomial Regression"
   ]
  },
  {
   "cell_type": "code",
   "execution_count": 55,
   "id": "bbeaf01c",
   "metadata": {},
   "outputs": [],
   "source": [
    "class PolynomialRegression(BaseEstimator):\n",
    "    '''\n",
    "    '''\n",
    "    def __init__(self, degree=2):\n",
    "        self.degree = degree\n",
    "        self.poly_reg_model = LinearRegression()\n",
    "        \n",
    "    def _generate_polynomial_features_(self, X):\n",
    "        '''\n",
    "        '''\n",
    "        new_columns = []\n",
    "        columns = list(X)\n",
    "        for c in columns:\n",
    "            for d in range(2, (self.degree+1)):\n",
    "                new_c = str(c)+\"^\"+str(d)\n",
    "                X[new_c]=pow(X[c],d)\n",
    "        return X\n",
    "\n",
    "    def fit(self, X, y=None):\n",
    "        '''\n",
    "        '''\n",
    "        if not isinstance(X, pd.DataFrame):\n",
    "            X = pd.DataFrame(X)\n",
    "        X = self._generate_polynomial_features_(X)\n",
    "        self.poly_reg_model.fit(X,y)\n",
    "        \n",
    "    def predict(self, X):\n",
    "        '''\n",
    "        '''\n",
    "        if not isinstance(X, pd.DataFrame):\n",
    "            X = pd.DataFrame(X)\n",
    "        X = self._generate_polynomial_features_(X)\n",
    "        return self.poly_reg_model.predict(X)\n",
    "            "
   ]
  },
  {
   "cell_type": "code",
   "execution_count": 56,
   "id": "4a65b059",
   "metadata": {},
   "outputs": [
    {
     "data": {
      "text/plain": [
       "Pipeline(steps=[('one_hot_encoder',\n",
       "                 CategoricalVaribleEncoder(categorical_features=['seasons',\n",
       "                                                                 'day_of_week',\n",
       "                                                                 'month_name',\n",
       "                                                                 'hour',\n",
       "                                                                 'week_of_year',\n",
       "                                                                 'month'])),\n",
       "                ('scaler', StandardScaler()),\n",
       "                ('poly_reg', PolynomialRegression(degree=11))])"
      ]
     },
     "execution_count": 56,
     "metadata": {},
     "output_type": "execute_result"
    }
   ],
   "source": [
    "poly_reg = PolynomialRegression(degree=11)\n",
    "poly_lr_pl = Pipeline(steps = [('one_hot_encoder', CategoricalVaribleEncoder(categorical_features = categorical_columns)),\n",
    "        ('scaler',StandardScaler()),\n",
    "        ('poly_reg',poly_reg)\n",
    "        \n",
    "    ]\n",
    ")\n",
    "\n",
    "poly_lr_pl.fit(train_x,train_y)"
   ]
  },
  {
   "cell_type": "code",
   "execution_count": 57,
   "id": "fabae887",
   "metadata": {},
   "outputs": [],
   "source": [
    "predited_poly_y = poly_lr_pl.predict(test_x)"
   ]
  },
  {
   "cell_type": "code",
   "execution_count": 58,
   "id": "791204e5",
   "metadata": {},
   "outputs": [
    {
     "data": {
      "text/plain": [
       "array([1402.,   18., 1270., ...,  162.,  888.,  440.])"
      ]
     },
     "execution_count": 58,
     "metadata": {},
     "output_type": "execute_result"
    }
   ],
   "source": [
    "predited_poly_y"
   ]
  },
  {
   "cell_type": "code",
   "execution_count": 59,
   "id": "b4ae44d3",
   "metadata": {},
   "outputs": [
    {
     "data": {
      "text/plain": [
       "array([1820,   82, 1131, ...,  326,  985,  511], dtype=int64)"
      ]
     },
     "execution_count": 59,
     "metadata": {},
     "output_type": "execute_result"
    }
   ],
   "source": [
    "test_y.to_numpy()"
   ]
  },
  {
   "cell_type": "code",
   "execution_count": 60,
   "id": "f3af3b64",
   "metadata": {},
   "outputs": [
    {
     "data": {
      "text/plain": [
       "0.5482078828825916"
      ]
     },
     "execution_count": 60,
     "metadata": {},
     "output_type": "execute_result"
    }
   ],
   "source": [
    "r2_score(test_y.to_numpy(),predited_poly_y)"
   ]
  },
  {
   "cell_type": "code",
   "execution_count": 61,
   "id": "e2a798ec",
   "metadata": {},
   "outputs": [],
   "source": [
    "train_predited_poly_y = poly_lr_pl.predict(train_x)"
   ]
  },
  {
   "cell_type": "code",
   "execution_count": 62,
   "id": "17674d76",
   "metadata": {},
   "outputs": [
    {
     "data": {
      "text/plain": [
       "0.5941522606406878"
      ]
     },
     "execution_count": 62,
     "metadata": {},
     "output_type": "execute_result"
    }
   ],
   "source": [
    "r2_score(train_y.to_numpy(),train_predited_poly_y)"
   ]
  },
  {
   "cell_type": "code",
   "execution_count": 65,
   "id": "6a0a48d8",
   "metadata": {},
   "outputs": [
    {
     "data": {
      "image/png": "[encoded data removed]",
      "text/plain": [
       "<Figure size 432x288 with 1 Axes>"
      ]
     },
     "metadata": {},
     "output_type": "display_data"
    }
   ],
   "source": [
    "# Plot outputs\n",
    "plt.scatter(list(test_y), predited_poly_y, color=\"black\")\n",
    "plt.plot(list(test_y), predited_poly_y, color=\"blue\", linewidth=1)\n",
    "\n",
    "plt.xticks(())\n",
    "plt.yticks(())\n",
    "\n",
    "plt.show()"
   ]
  },
  {
   "cell_type": "code",
   "execution_count": 63,
   "id": "a9029214",
   "metadata": {},
   "outputs": [],
   "source": [
    "#We have a problem of overfitting here as explained in page 118"
   ]
  },
  {
   "cell_type": "markdown",
   "id": "c1716791",
   "metadata": {},
   "source": [
    "## Lasso"
   ]
  },
  {
   "cell_type": "code",
   "execution_count": 66,
   "id": "1fc348e7",
   "metadata": {},
   "outputs": [
    {
     "data": {
      "text/plain": [
       "Pipeline(steps=[('one_hot_encoder',\n",
       "                 CategoricalVaribleEncoder(categorical_features=['seasons',\n",
       "                                                                 'day_of_week',\n",
       "                                                                 'month_name',\n",
       "                                                                 'hour',\n",
       "                                                                 'week_of_year',\n",
       "                                                                 'month'])),\n",
       "                ('scaler', StandardScaler()), ('lr', Lasso())])"
      ]
     },
     "execution_count": 66,
     "metadata": {},
     "output_type": "execute_result"
    }
   ],
   "source": [
    "from sklearn.linear_model import Lasso\n",
    "\n",
    "lasso_model = Lasso()\n",
    "lasso_bike_model_pl = Pipeline(steps = [('one_hot_encoder', CategoricalVaribleEncoder(categorical_features = categorical_columns)),\n",
    "        ('scaler',StandardScaler()),\n",
    "        ('lr',lasso_model)\n",
    "        \n",
    "    ]\n",
    ")\n",
    "lasso_bike_model_pl.fit(train_x,train_y)\n"
   ]
  },
  {
   "cell_type": "code",
   "execution_count": 67,
   "id": "d570d1d8",
   "metadata": {},
   "outputs": [],
   "source": [
    "test_lasso_bike_y = lasso_bike_model_pl.predict(test_x)\n"
   ]
  },
  {
   "cell_type": "code",
   "execution_count": 68,
   "id": "0b4a3f41",
   "metadata": {},
   "outputs": [
    {
     "data": {
      "text/plain": [
       "array([1376.48418051,   40.56482333, 1242.67706164, ...,  152.79379068,\n",
       "        926.01966783,  466.35072108])"
      ]
     },
     "execution_count": 68,
     "metadata": {},
     "output_type": "execute_result"
    }
   ],
   "source": [
    "test_lasso_bike_y"
   ]
  },
  {
   "cell_type": "code",
   "execution_count": 69,
   "id": "6af46886",
   "metadata": {},
   "outputs": [
    {
     "data": {
      "text/plain": [
       "6789    1820\n",
       "1584      82\n",
       "6687    1131\n",
       "1751      91\n",
       "5806    1552\n",
       "        ... \n",
       "7245       0\n",
       "5394    2884\n",
       "1809     326\n",
       "5625     985\n",
       "5762     511\n",
       "Name: rented_bike_count, Length: 1752, dtype: int64"
      ]
     },
     "execution_count": 69,
     "metadata": {},
     "output_type": "execute_result"
    }
   ],
   "source": [
    "test_y"
   ]
  },
  {
   "cell_type": "code",
   "execution_count": 70,
   "id": "4c037e1f",
   "metadata": {},
   "outputs": [
    {
     "data": {
      "text/plain": [
       "0.5540613227812808"
      ]
     },
     "execution_count": 70,
     "metadata": {},
     "output_type": "execute_result"
    }
   ],
   "source": [
    "r2_score(test_y.to_numpy(),test_lasso_bike_y)"
   ]
  },
  {
   "cell_type": "code",
   "execution_count": 73,
   "id": "03143f7b",
   "metadata": {},
   "outputs": [
    {
     "data": {
      "image/png": "[encoded data removed]",
      "text/plain": [
       "<Figure size 432x288 with 1 Axes>"
      ]
     },
     "metadata": {},
     "output_type": "display_data"
    }
   ],
   "source": [
    "# Plot outputs\n",
    "plt.scatter(list(test_y), test_lasso_bike_y, color=\"black\")\n",
    "plt.plot(list(test_y), test_lasso_bike_y, color=\"blue\", linewidth=1)\n",
    "\n",
    "plt.xticks(())\n",
    "plt.yticks(())\n",
    "\n",
    "plt.show()"
   ]
  },
  {
   "cell_type": "markdown",
   "id": "790726c1",
   "metadata": {},
   "source": [
    "## DecisionTreeRegressor"
   ]
  },
  {
   "cell_type": "code",
   "execution_count": 71,
   "id": "b684a812",
   "metadata": {},
   "outputs": [
    {
     "data": {
      "text/plain": [
       "Pipeline(steps=[('one_hot_encoder',\n",
       "                 CategoricalVaribleEncoder(categorical_features=['seasons',\n",
       "                                                                 'day_of_week',\n",
       "                                                                 'month_name',\n",
       "                                                                 'hour',\n",
       "                                                                 'week_of_year',\n",
       "                                                                 'month'])),\n",
       "                ('scaler', StandardScaler()),\n",
       "                ('dt_reg', DecisionTreeRegressor())])"
      ]
     },
     "execution_count": 71,
     "metadata": {},
     "output_type": "execute_result"
    }
   ],
   "source": [
    "from sklearn.tree import DecisionTreeRegressor\n",
    "\n",
    "dt_bike_reg = DecisionTreeRegressor()\n",
    "dt_bike_reg_pl = Pipeline(steps = [('one_hot_encoder', CategoricalVaribleEncoder(categorical_features = categorical_columns)),\n",
    "        ('scaler',StandardScaler()),\n",
    "        ('dt_reg',dt_bike_reg)\n",
    "        \n",
    "    ]\n",
    ")\n",
    "\n",
    "dt_bike_reg_pl.fit(train_x,train_y)"
   ]
  },
  {
   "cell_type": "code",
   "execution_count": null,
   "id": "dce57e65",
   "metadata": {},
   "outputs": [],
   "source": [
    "pip install pydotplus"
   ]
  },
  {
   "cell_type": "code",
   "execution_count": null,
   "id": "b627fae5",
   "metadata": {},
   "outputs": [],
   "source": [
    "python.exe -m pip install --upgrade pip\n"
   ]
  },
  {
   "cell_type": "code",
   "execution_count": null,
   "id": "267a3464",
   "metadata": {},
   "outputs": [],
   "source": [
    "from sklearn.tree import export_graphviz\n",
    "import pydotplus\n",
    "from IPython.display import Image\n",
    "\n",
    "dot_file = export_graphviz(dt_bike_reg,out_file = None, filled = True, rounded = True, special_characters=True)\n",
    "graph = pydotplus.graph_from_dot_data(dot_file)\n",
    "Image(graph.create_png())"
   ]
  },
  {
   "cell_type": "code",
   "execution_count": 72,
   "id": "2078a826",
   "metadata": {},
   "outputs": [
    {
     "data": {
      "text/plain": [
       "0.41002204463616665"
      ]
     },
     "execution_count": 72,
     "metadata": {},
     "output_type": "execute_result"
    }
   ],
   "source": [
    "predicted_bike_dt_reg_y =dt_bike_reg_pl.predict(test_x)\n",
    "r2_score(test_y,predicted_bike_dt_reg_y)"
   ]
  },
  {
   "cell_type": "markdown",
   "id": "1d722c26",
   "metadata": {},
   "source": [
    "## SVM"
   ]
  },
  {
   "cell_type": "code",
   "execution_count": 76,
   "id": "6182faf8",
   "metadata": {},
   "outputs": [
    {
     "name": "stderr",
     "output_type": "stream",
     "text": [
      "C:\\Users\\recal\\anaconda3\\lib\\site-packages\\sklearn\\utils\\validation.py:70: FutureWarning: Pass epsilon=1.5 as keyword args. From version 1.0 (renaming of 0.25) passing these as positional arguments will result in an error\n",
      "  warnings.warn(f\"Pass {args_msg} as keyword args. From version \"\n"
     ]
    },
    {
     "data": {
      "text/plain": [
       "Pipeline(steps=[('one_hot_encoder',\n",
       "                 CategoricalVaribleEncoder(categorical_features=['seasons',\n",
       "                                                                 'day_of_week',\n",
       "                                                                 'month_name',\n",
       "                                                                 'hour',\n",
       "                                                                 'week_of_year',\n",
       "                                                                 'month'])),\n",
       "                ('scaler', StandardScaler()),\n",
       "                ('SVM_reg', LinearSVR(epsilon=1.5))])"
      ]
     },
     "execution_count": 76,
     "metadata": {},
     "output_type": "execute_result"
    }
   ],
   "source": [
    "\n",
    "\n",
    "from sklearn.svm import LinearSVR\n",
    "\n",
    "bike_svm_reg = LinearSVR(1.5)\n",
    "bike_svm_reg_pl = Pipeline(steps = [('one_hot_encoder', CategoricalVaribleEncoder(categorical_features = categorical_columns)),\n",
    "        ('scaler',StandardScaler()),\n",
    "        ('SVM_reg',bike_svm_reg)\n",
    "        \n",
    "    ]\n",
    ")\n",
    "\n",
    "bike_svm_reg_pl.fit(train_x,train_y)"
   ]
  },
  {
   "cell_type": "code",
   "execution_count": 81,
   "id": "c8c8af1a",
   "metadata": {},
   "outputs": [
    {
     "data": {
      "text/plain": [
       "0.5193661174294222"
      ]
     },
     "execution_count": 81,
     "metadata": {},
     "output_type": "execute_result"
    }
   ],
   "source": [
    "predicted_bike_dt_svm_y =bike_svm_reg_pl.predict(test_x)\n",
    "r2_score(test_y.to_numpy(),predicted_bike_dt_svm_y)"
   ]
  },
  {
   "cell_type": "code",
   "execution_count": 82,
   "id": "55e8938c",
   "metadata": {},
   "outputs": [
    {
     "data": {
      "text/plain": [
       "6789    1820\n",
       "1584      82\n",
       "6687    1131\n",
       "1751      91\n",
       "5806    1552\n",
       "        ... \n",
       "7245       0\n",
       "5394    2884\n",
       "1809     326\n",
       "5625     985\n",
       "5762     511\n",
       "Name: rented_bike_count, Length: 1752, dtype: int64"
      ]
     },
     "execution_count": 82,
     "metadata": {},
     "output_type": "execute_result"
    }
   ],
   "source": [
    "test_y"
   ]
  },
  {
   "cell_type": "code",
   "execution_count": 83,
   "id": "e31e2f03",
   "metadata": {},
   "outputs": [
    {
     "data": {
      "text/plain": [
       "array([1125.41636464,   80.19909993, 1120.48843893, ...,  223.48012515,\n",
       "        881.29861307,  412.20884279])"
      ]
     },
     "execution_count": 83,
     "metadata": {},
     "output_type": "execute_result"
    }
   ],
   "source": [
    "predicted_bike_dt_svm_y"
   ]
  },
  {
   "cell_type": "code",
   "execution_count": 85,
   "id": "b7681ca6",
   "metadata": {},
   "outputs": [
    {
     "data": {
      "image/png": "[encoded data removed]",
      "text/plain": [
       "<Figure size 432x288 with 1 Axes>"
      ]
     },
     "metadata": {},
     "output_type": "display_data"
    }
   ],
   "source": [
    "# Plot outputs\n",
    "plt.scatter(test_y.to_numpy(), predicted_bike_dt_svm_y, color=\"black\")\n",
    "plt.plot(test_y.to_numpy(), predicted_bike_dt_svm_y, color=\"blue\", linewidth=1)\n",
    "\n",
    "plt.xticks(())\n",
    "plt.yticks(())\n",
    "\n",
    "plt.show()"
   ]
  },
  {
   "cell_type": "code",
   "execution_count": 87,
   "id": "b730e075",
   "metadata": {},
   "outputs": [
    {
     "data": {
      "text/plain": [
       "Pipeline(steps=[('one_hot_encoder',\n",
       "                 CategoricalVaribleEncoder(categorical_features=['seasons',\n",
       "                                                                 'day_of_week',\n",
       "                                                                 'month_name',\n",
       "                                                                 'hour',\n",
       "                                                                 'week_of_year',\n",
       "                                                                 'month'])),\n",
       "                ('scaler', StandardScaler()),\n",
       "                ('SVM_reg_2', SVR(C=100, degree=2, kernel='poly'))])"
      ]
     },
     "execution_count": 87,
     "metadata": {},
     "output_type": "execute_result"
    }
   ],
   "source": [
    "from sklearn.svm import SVR\n",
    "\n",
    "bike_svm_reg_2 = SVR(kernel=\"poly\", degree=2, C=100, epsilon=0.1)\n",
    "bike_svm_reg_pl_2 = Pipeline(steps = [('one_hot_encoder', CategoricalVaribleEncoder(categorical_features = categorical_columns)),\n",
    "        ('scaler',StandardScaler()),\n",
    "        ('SVM_reg_2',bike_svm_reg_2)\n",
    "        \n",
    "    ]\n",
    ")\n",
    "\n",
    "bike_svm_reg_pl_2.fit(train_x,train_y)"
   ]
  },
  {
   "cell_type": "code",
   "execution_count": 88,
   "id": "2a568f89",
   "metadata": {},
   "outputs": [
    {
     "data": {
      "text/plain": [
       "0.6539372199290595"
      ]
     },
     "execution_count": 88,
     "metadata": {},
     "output_type": "execute_result"
    }
   ],
   "source": [
    "predicted_bike_dt_svm_y_2 =bike_svm_reg_pl_2.predict(test_x)\n",
    "r2_score(test_y.to_numpy(),predicted_bike_dt_svm_y_2)"
   ]
  },
  {
   "cell_type": "code",
   "execution_count": 90,
   "id": "0ab665b9",
   "metadata": {},
   "outputs": [
    {
     "data": {
      "image/png": "[encoded data removed]",
      "text/plain": [
       "<Figure size 432x288 with 1 Axes>"
      ]
     },
     "metadata": {},
     "output_type": "display_data"
    }
   ],
   "source": [
    "# Plot outputs\n",
    "plt.scatter(test_y.to_numpy(), predicted_bike_dt_svm_y_2, color=\"black\")\n",
    "#plt.plot(test_y.to_numpy(), predicted_bike_dt_svm_y_2, color=\"blue\", linewidth=1)\n",
    "\n",
    "plt.xticks(())\n",
    "plt.yticks(())\n",
    "\n",
    "plt.show()"
   ]
  },
  {
   "cell_type": "code",
   "execution_count": null,
   "id": "0baf60b7",
   "metadata": {},
   "outputs": [],
   "source": [
    "# Code source: Jaques Grobler\n",
    "# License: BSD 3 clause\n",
    "\n",
    "import matplotlib.pyplot as plt\n",
    "import numpy as np\n",
    "\n",
    "from sklearn import datasets, linear_model\n",
    "from sklearn.metrics import mean_squared_error, r2_score\n",
    "\n",
    "# Load the diabetes dataset\n",
    "diabetes_X, diabetes_y = datasets.load_diabetes(return_X_y=True)\n",
    "\n",
    "# Use only one feature\n",
    "diabetes_X = diabetes_X[:, np.newaxis, 2]\n",
    "\n",
    "# Split the data into training/testing sets\n",
    "diabetes_X_train = diabetes_X[:-20]\n",
    "diabetes_X_test = diabetes_X[-20:]\n",
    "\n",
    "# Split the targets into training/testing sets\n",
    "diabetes_y_train = diabetes_y[:-20]\n",
    "diabetes_y_test = diabetes_y[-20:]\n",
    "\n",
    "# Create linear regression object\n",
    "regr = linear_model.LinearRegression()\n",
    "\n",
    "# Train the model using the training sets\n",
    "regr.fit(diabetes_X_train, diabetes_y_train)\n",
    "\n",
    "# Make predictions using the testing set\n",
    "diabetes_y_pred = regr.predict(diabetes_X_test)\n",
    "\n",
    "# The coefficients\n",
    "print(\"Coefficients: \\n\", regr.coef_)\n",
    "# The mean squared error\n",
    "print(\"Mean squared error: %.2f\" % mean_squared_error(diabetes_y_test, diabetes_y_pred))\n",
    "# The coefficient of determination: 1 is perfect prediction\n",
    "print(\"Coefficient of determination: %.2f\" % r2_score(diabetes_y_test, diabetes_y_pred))\n",
    "\n",
    "# Plot outputs\n",
    "plt.scatter(diabetes_X_test, diabetes_y_test, color=\"black\")\n",
    "plt.plot(diabetes_X_test, diabetes_y_pred, color=\"blue\", linewidth=3)\n",
    "\n",
    "plt.xticks(())\n",
    "plt.yticks(())\n",
    "\n",
    "plt.show()"
   ]
  },
  {
   "cell_type": "code",
   "execution_count": null,
   "id": "422c2510",
   "metadata": {},
   "outputs": [],
   "source": []
  },
  {
   "cell_type": "markdown",
   "id": "969c3279",
   "metadata": {},
   "source": [
    "#### To do not affect the accuracy and also to not increase the complexity of our model unnecessary,we will chose the best features to work with.  \n",
    "#### Building the Adjusted R2\n",
    " but the model R2 does not improve that much. It indicates the fact that some features may be irrelevant and are not influencing the determination of target variable value. Those can be excluded while building the final model. Adjusted R2"
   ]
  },
  {
   "cell_type": "code",
   "execution_count": null,
   "id": "a350b3d8",
   "metadata": {},
   "outputs": [],
   "source": []
  }
 ],
 "metadata": {
  "kernelspec": {
   "display_name": "Python 3",
   "language": "python",
   "name": "python3"
  },
  "language_info": {
   "codemirror_mode": {
    "name": "ipython",
    "version": 3
   },
   "file_extension": ".py",
   "mimetype": "text/x-python",
   "name": "python",
   "nbconvert_exporter": "python",
   "pygments_lexer": "ipython3",
   "version": "3.8.8"
  }
 },
 "nbformat": 4,
 "nbformat_minor": 5
}
